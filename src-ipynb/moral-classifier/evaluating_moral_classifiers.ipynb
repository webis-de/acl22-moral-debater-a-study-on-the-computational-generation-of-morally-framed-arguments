{
 "cells": [
  {
   "cell_type": "code",
   "execution_count": 1,
   "id": "38a0f2e6",
   "metadata": {},
   "outputs": [],
   "source": [
    "import pandas as pd\n",
    "import json\n",
    "import glob\n",
    "import numpy as np\n",
    "\n",
    "pd.set_option('display.max_colwidth', None)\n",
    "\n",
    "import os\n",
    "os.environ['SPACY_WARNING_IGNORE']='W108'"
   ]
  },
  {
   "cell_type": "code",
   "execution_count": 2,
   "id": "14d7e0ff-211a-4943-bf59-39422936d649",
   "metadata": {},
   "outputs": [],
   "source": [
    "data_path = '../../../moral-debater-data/'"
   ]
  },
  {
   "cell_type": "code",
   "execution_count": 3,
   "id": "dd56a0a6",
   "metadata": {},
   "outputs": [],
   "source": [
    "all_files = glob.glob(data_path + '/repos/dagstuhl_morality/dagstuhl-corpus-v2/dagstuhl-15512-argquality-corpus-unannotated/*.csv')\n",
    "li = []\n",
    "for filename in all_files:\n",
    "    df = pd.read_csv(filename, index_col=None, header=0, sep='\\t')\n",
    "    li.append(df)\n",
    "\n",
    "args_df = pd.concat(li, axis=0, ignore_index=True)"
   ]
  },
  {
   "cell_type": "code",
   "execution_count": 4,
   "id": "478ff394",
   "metadata": {},
   "outputs": [
    {
     "data": {
      "text/html": [
       "<div>\n",
       "<style scoped>\n",
       "    .dataframe tbody tr th:only-of-type {\n",
       "        vertical-align: middle;\n",
       "    }\n",
       "\n",
       "    .dataframe tbody tr th {\n",
       "        vertical-align: top;\n",
       "    }\n",
       "\n",
       "    .dataframe thead th {\n",
       "        text-align: right;\n",
       "    }\n",
       "</style>\n",
       "<table border=\"1\" class=\"dataframe\">\n",
       "  <thead>\n",
       "    <tr style=\"text-align: right;\">\n",
       "      <th></th>\n",
       "      <th>#id</th>\n",
       "      <th>rank</th>\n",
       "      <th>argument</th>\n",
       "    </tr>\n",
       "  </thead>\n",
       "  <tbody>\n",
       "    <tr>\n",
       "      <th>0</th>\n",
       "      <td>30529</td>\n",
       "      <td>0.00590</td>\n",
       "      <td>How can anyone say that Gay Marriage is Wrong. It is a personal choice that is made from personal beliefs so who are we to say that gay couples do not have the right to enjoy all of the benefits that straight couples do?</td>\n",
       "    </tr>\n",
       "    <tr>\n",
       "      <th>1</th>\n",
       "      <td>33506</td>\n",
       "      <td>0.00468</td>\n",
       "      <td>First of all, gays have the fundamental right of equal happiness. Second of all, they are still part of society. Third of all, the government would have a better image if we allow the third gender to have the equal right of marriage. Also, it only proves that racism, sexism and hatred is non existent.</td>\n",
       "    </tr>\n",
       "    <tr>\n",
       "      <th>2</th>\n",
       "      <td>46238</td>\n",
       "      <td>0.00429</td>\n",
       "      <td>Gay marriage bans, along with other laws, are only in place because of the religious right that seems to be infecting this country. The UNITED States of America can only remain united if laws are created with all men and women in mind. To have a law that favors one religion, or lack thereof, over another is the bane of freedom. Secular law is the only law that works. &lt;br/&gt; Leviticus 20:13: \"If a man lies with mankind as he does with womankind, they are both commiting an abomination, they shall be put to death, their blood is on their own hands.\" &lt;br/&gt; There's a loving god, eh?</td>\n",
       "    </tr>\n",
       "    <tr>\n",
       "      <th>3</th>\n",
       "      <td>530</td>\n",
       "      <td>0.00476</td>\n",
       "      <td>EVERYONE, regardless of sexual orientation, has the right to be miserable. I say let gay people know the joys of divorce, splitting of assets, custody, alimony, child support, the whole nine yards! In fact, make civil unions illegal; it makes it too easy to \"walk away\" from a relationship and encourages roomates to be \"couples\" to help a buddy out with benefits.Civil Unions, gone, Gay marraige, IN!</td>\n",
       "    </tr>\n",
       "    <tr>\n",
       "      <th>4</th>\n",
       "      <td>541</td>\n",
       "      <td>0.33118</td>\n",
       "      <td>The \"who gives a crap\" button was your browser's back button. No one said you had to read this or vote on this or post a comment. It always baffles me to see people take the time to post a comment to say they don't care and everyone should stop talking about it. And another thing... people who post comments like mine make me sick.</td>\n",
       "    </tr>\n",
       "  </tbody>\n",
       "</table>\n",
       "</div>"
      ],
      "text/plain": [
       "     #id     rank  \\\n",
       "0  30529  0.00590   \n",
       "1  33506  0.00468   \n",
       "2  46238  0.00429   \n",
       "3    530  0.00476   \n",
       "4    541  0.33118   \n",
       "\n",
       "                                                                                                                                                                                                                                                                                                                                                                                                                                                                                                                                                                                                  argument  \n",
       "0                                                                                                                                                                                                                                                                                                                                                                             How can anyone say that Gay Marriage is Wrong. It is a personal choice that is made from personal beliefs so who are we to say that gay couples do not have the right to enjoy all of the benefits that straight couples do?  \n",
       "1                                                                                                                                                                                                                                                                                           First of all, gays have the fundamental right of equal happiness. Second of all, they are still part of society. Third of all, the government would have a better image if we allow the third gender to have the equal right of marriage. Also, it only proves that racism, sexism and hatred is non existent.  \n",
       "2  Gay marriage bans, along with other laws, are only in place because of the religious right that seems to be infecting this country. The UNITED States of America can only remain united if laws are created with all men and women in mind. To have a law that favors one religion, or lack thereof, over another is the bane of freedom. Secular law is the only law that works. <br/> Leviticus 20:13: \"If a man lies with mankind as he does with womankind, they are both commiting an abomination, they shall be put to death, their blood is on their own hands.\" <br/> There's a loving god, eh?  \n",
       "3                                                                                                                                                                                        EVERYONE, regardless of sexual orientation, has the right to be miserable. I say let gay people know the joys of divorce, splitting of assets, custody, alimony, child support, the whole nine yards! In fact, make civil unions illegal; it makes it too easy to \"walk away\" from a relationship and encourages roomates to be \"couples\" to help a buddy out with benefits.Civil Unions, gone, Gay marraige, IN!  \n",
       "4                                                                                                                                                                                                                                                             The \"who gives a crap\" button was your browser's back button. No one said you had to read this or vote on this or post a comment. It always baffles me to see people take the time to post a comment to say they don't care and everyone should stop talking about it. And another thing... people who post comments like mine make me sick.  "
      ]
     },
     "execution_count": 4,
     "metadata": {},
     "output_type": "execute_result"
    }
   ],
   "source": [
    "args_df.head()"
   ]
  },
  {
   "cell_type": "code",
   "execution_count": 5,
   "id": "d83fd0a6",
   "metadata": {},
   "outputs": [],
   "source": [
    "moral_labels_1 = pd.read_csv(data_path + '/repos/dagstuhl_morality/dagstuhl_morality_1.csv', sep=';')\n",
    "moral_labels_2 = pd.read_csv(data_path + '/repos/dagstuhl_morality/dagstuhl_morality_2.csv', sep=';')"
   ]
  },
  {
   "cell_type": "code",
   "execution_count": 6,
   "id": "f0efb87a",
   "metadata": {},
   "outputs": [],
   "source": [
    "moral_labels = moral_labels_1.merge(moral_labels_2, left_on='#id', right_on='#id', suffixes=('', '_2'))\n",
    "moral_labels = moral_labels.merge(args_df, left_on='#id', right_on='#id')"
   ]
  },
  {
   "cell_type": "code",
   "execution_count": 7,
   "id": "cefde14e",
   "metadata": {},
   "outputs": [
    {
     "data": {
      "text/html": [
       "<div>\n",
       "<style scoped>\n",
       "    .dataframe tbody tr th:only-of-type {\n",
       "        vertical-align: middle;\n",
       "    }\n",
       "\n",
       "    .dataframe tbody tr th {\n",
       "        vertical-align: top;\n",
       "    }\n",
       "\n",
       "    .dataframe thead th {\n",
       "        text-align: right;\n",
       "    }\n",
       "</style>\n",
       "<table border=\"1\" class=\"dataframe\">\n",
       "  <thead>\n",
       "    <tr style=\"text-align: right;\">\n",
       "      <th></th>\n",
       "      <th>#id</th>\n",
       "      <th>moral</th>\n",
       "      <th>MF1</th>\n",
       "      <th>Confidence1</th>\n",
       "      <th>MF2</th>\n",
       "      <th>Confidence2</th>\n",
       "      <th>MF3</th>\n",
       "      <th>Confidence3</th>\n",
       "      <th>moral_2</th>\n",
       "      <th>MF1_2</th>\n",
       "      <th>Confidence1_2</th>\n",
       "      <th>MF2_2</th>\n",
       "      <th>Confidence2_2</th>\n",
       "      <th>rank</th>\n",
       "      <th>argument</th>\n",
       "    </tr>\n",
       "  </thead>\n",
       "  <tbody>\n",
       "    <tr>\n",
       "      <th>0</th>\n",
       "      <td>arg219206</td>\n",
       "      <td>y</td>\n",
       "      <td>care</td>\n",
       "      <td>6.0</td>\n",
       "      <td>purity</td>\n",
       "      <td>8.0</td>\n",
       "      <td>NaN</td>\n",
       "      <td>NaN</td>\n",
       "      <td>y</td>\n",
       "      <td>care</td>\n",
       "      <td>7.0</td>\n",
       "      <td>NaN</td>\n",
       "      <td>NaN</td>\n",
       "      <td>0.00558</td>\n",
       "      <td>Americans spend billions on bottled water every year. Banning their sale would greatly hurt an already struggling economy. In addition to the actual sale of water bottles, the plastics that they are made out of, and the advertising on both the bottles and packaging are also big business. In addition to this, compostable waters bottle are also coming onto the market, these can be used instead of plastics to eliminate that detriment. Moreover, bottled water not only has a cleaner safety record than municipal water, but it easier to trace when a potential health risk does occur. &lt;br/&gt; (http://www.friendsjournal.org/bottled-water) (http://www.cdc.gov/healthywater/drinking/bottled/)</td>\n",
       "    </tr>\n",
       "    <tr>\n",
       "      <th>1</th>\n",
       "      <td>arg219225</td>\n",
       "      <td>y</td>\n",
       "      <td>loyalty</td>\n",
       "      <td>6.0</td>\n",
       "      <td>NaN</td>\n",
       "      <td>NaN</td>\n",
       "      <td>NaN</td>\n",
       "      <td>NaN</td>\n",
       "      <td>y</td>\n",
       "      <td>purity</td>\n",
       "      <td>1.0</td>\n",
       "      <td>NaN</td>\n",
       "      <td>NaN</td>\n",
       "      <td>0.00536</td>\n",
       "      <td>Banning plastic bottled water would be a huge mistake in this very moment. More than a million people in the United States purchase bottled water every day which is helping the economy com out of this recession we are in. maybe not in a big way but every kid of help counts! Bottled water also only makes less then 1&amp;#xof; the worlds wastes and can be recycled! According to the National Association for PET Container resources, PET water bottles are no the most recycled container in curb side programs by weight and by number! &lt;br/&gt; http://www.nestlewaterscorporate.com/bottled_water_things_to_know/Video/index.html?@videoList.featured=31101711001</td>\n",
       "    </tr>\n",
       "    <tr>\n",
       "      <th>2</th>\n",
       "      <td>arg219242</td>\n",
       "      <td>y</td>\n",
       "      <td>loyalty</td>\n",
       "      <td>2.0</td>\n",
       "      <td>NaN</td>\n",
       "      <td>NaN</td>\n",
       "      <td>NaN</td>\n",
       "      <td>NaN</td>\n",
       "      <td>n</td>\n",
       "      <td>NaN</td>\n",
       "      <td>8.0</td>\n",
       "      <td>NaN</td>\n",
       "      <td>NaN</td>\n",
       "      <td>0.15209</td>\n",
       "      <td>We will be able to ban water bottles until we get out of this recession!</td>\n",
       "    </tr>\n",
       "    <tr>\n",
       "      <th>3</th>\n",
       "      <td>arg219244</td>\n",
       "      <td>y</td>\n",
       "      <td>care</td>\n",
       "      <td>3.0</td>\n",
       "      <td>NaN</td>\n",
       "      <td>NaN</td>\n",
       "      <td>NaN</td>\n",
       "      <td>NaN</td>\n",
       "      <td>y</td>\n",
       "      <td>purity</td>\n",
       "      <td>3.0</td>\n",
       "      <td>NaN</td>\n",
       "      <td>NaN</td>\n",
       "      <td>0.00740</td>\n",
       "      <td>Western Europe consumes almost 50% of the world's bottled water. Many claim that this is due to European culture, since the continent has had very polluted waters due to agriculture and industry dating back to the Industrial Revolution. The water bottles they buy help us.</td>\n",
       "    </tr>\n",
       "    <tr>\n",
       "      <th>4</th>\n",
       "      <td>arg219245</td>\n",
       "      <td>n</td>\n",
       "      <td>NaN</td>\n",
       "      <td>NaN</td>\n",
       "      <td>NaN</td>\n",
       "      <td>NaN</td>\n",
       "      <td>NaN</td>\n",
       "      <td>NaN</td>\n",
       "      <td>n</td>\n",
       "      <td>NaN</td>\n",
       "      <td>9.0</td>\n",
       "      <td>NaN</td>\n",
       "      <td>NaN</td>\n",
       "      <td>0.00577</td>\n",
       "      <td>U.S. alone grew by over 13%. According to research and consulting done by the Beverage Marketing Corporation, the global bottled water industry has exploded to over $35 billion. Americans alone paid $7.7 billion for bottled water in 2002. In 2001, for example globally bottled water companies produced over 130,000 million liters of water. This produced roughly 35,000 million dollars in revenue for the world's thousands of bottled water companies in 2001.</td>\n",
       "    </tr>\n",
       "  </tbody>\n",
       "</table>\n",
       "</div>"
      ],
      "text/plain": [
       "         #id moral      MF1  Confidence1     MF2  Confidence2  MF3  \\\n",
       "0  arg219206     y     care          6.0  purity          8.0  NaN   \n",
       "1  arg219225     y  loyalty          6.0     NaN          NaN  NaN   \n",
       "2  arg219242     y  loyalty          2.0     NaN          NaN  NaN   \n",
       "3  arg219244     y     care          3.0     NaN          NaN  NaN   \n",
       "4  arg219245     n      NaN          NaN     NaN          NaN  NaN   \n",
       "\n",
       "   Confidence3 moral_2   MF1_2  Confidence1_2 MF2_2  Confidence2_2     rank  \\\n",
       "0          NaN       y    care            7.0   NaN            NaN  0.00558   \n",
       "1          NaN       y  purity            1.0   NaN            NaN  0.00536   \n",
       "2          NaN       n     NaN            8.0   NaN            NaN  0.15209   \n",
       "3          NaN       y  purity            3.0   NaN            NaN  0.00740   \n",
       "4          NaN       n     NaN            9.0   NaN            NaN  0.00577   \n",
       "\n",
       "                                                                                                                                                                                                                                                                                                                                                                                                                                                                                                                                                                                                                                                                                                         argument  \n",
       "0  Americans spend billions on bottled water every year. Banning their sale would greatly hurt an already struggling economy. In addition to the actual sale of water bottles, the plastics that they are made out of, and the advertising on both the bottles and packaging are also big business. In addition to this, compostable waters bottle are also coming onto the market, these can be used instead of plastics to eliminate that detriment. Moreover, bottled water not only has a cleaner safety record than municipal water, but it easier to trace when a potential health risk does occur. <br/> (http://www.friendsjournal.org/bottled-water) (http://www.cdc.gov/healthywater/drinking/bottled/)  \n",
       "1                                       Banning plastic bottled water would be a huge mistake in this very moment. More than a million people in the United States purchase bottled water every day which is helping the economy com out of this recession we are in. maybe not in a big way but every kid of help counts! Bottled water also only makes less then 1&#xof; the worlds wastes and can be recycled! According to the National Association for PET Container resources, PET water bottles are no the most recycled container in curb side programs by weight and by number! <br/> http://www.nestlewaterscorporate.com/bottled_water_things_to_know/Video/index.html?@videoList.featured=31101711001  \n",
       "2                                                                                                                                                                                                                                                                                                                                                                                                                                                                                                                                                                                                                                        We will be able to ban water bottles until we get out of this recession!  \n",
       "3                                                                                                                                                                                                                                                                                                                                                                                                                                Western Europe consumes almost 50% of the world's bottled water. Many claim that this is due to European culture, since the continent has had very polluted waters due to agriculture and industry dating back to the Industrial Revolution. The water bottles they buy help us.  \n",
       "4                                                                                                                                                                                                                                       U.S. alone grew by over 13%. According to research and consulting done by the Beverage Marketing Corporation, the global bottled water industry has exploded to over $35 billion. Americans alone paid $7.7 billion for bottled water in 2002. In 2001, for example globally bottled water companies produced over 130,000 million liters of water. This produced roughly 35,000 million dollars in revenue for the world's thousands of bottled water companies in 2001.  "
      ]
     },
     "execution_count": 7,
     "metadata": {},
     "output_type": "execute_result"
    }
   ],
   "source": [
    "moral_labels.head()"
   ]
  },
  {
   "cell_type": "code",
   "execution_count": 8,
   "id": "94f81797",
   "metadata": {},
   "outputs": [],
   "source": [
    "argument_morals = []\n",
    "for row_id, row in moral_labels.iterrows():\n",
    "    morals = list(set([m for m in row if m in ['care', 'fairness', 'loyalty', 'authority', 'purity']]))\n",
    "    argument_morals.append((row['#id'], row['argument'], morals))"
   ]
  },
  {
   "cell_type": "code",
   "execution_count": 9,
   "id": "1491f2be",
   "metadata": {},
   "outputs": [],
   "source": [
    "final_df = pd.DataFrame(argument_morals, columns=['id', 'argument', 'morals'])"
   ]
  },
  {
   "cell_type": "code",
   "execution_count": 10,
   "id": "a8124175",
   "metadata": {},
   "outputs": [
    {
     "data": {
      "text/html": [
       "<div>\n",
       "<style scoped>\n",
       "    .dataframe tbody tr th:only-of-type {\n",
       "        vertical-align: middle;\n",
       "    }\n",
       "\n",
       "    .dataframe tbody tr th {\n",
       "        vertical-align: top;\n",
       "    }\n",
       "\n",
       "    .dataframe thead th {\n",
       "        text-align: right;\n",
       "    }\n",
       "</style>\n",
       "<table border=\"1\" class=\"dataframe\">\n",
       "  <thead>\n",
       "    <tr style=\"text-align: right;\">\n",
       "      <th></th>\n",
       "      <th>id</th>\n",
       "      <th>argument</th>\n",
       "      <th>morals</th>\n",
       "    </tr>\n",
       "  </thead>\n",
       "  <tbody>\n",
       "    <tr>\n",
       "      <th>0</th>\n",
       "      <td>arg219206</td>\n",
       "      <td>Americans spend billions on bottled water every year. Banning their sale would greatly hurt an already struggling economy. In addition to the actual sale of water bottles, the plastics that they are made out of, and the advertising on both the bottles and packaging are also big business. In addition to this, compostable waters bottle are also coming onto the market, these can be used instead of plastics to eliminate that detriment. Moreover, bottled water not only has a cleaner safety record than municipal water, but it easier to trace when a potential health risk does occur. &lt;br/&gt; (http://www.friendsjournal.org/bottled-water) (http://www.cdc.gov/healthywater/drinking/bottled/)</td>\n",
       "      <td>[care, purity]</td>\n",
       "    </tr>\n",
       "    <tr>\n",
       "      <th>1</th>\n",
       "      <td>arg219225</td>\n",
       "      <td>Banning plastic bottled water would be a huge mistake in this very moment. More than a million people in the United States purchase bottled water every day which is helping the economy com out of this recession we are in. maybe not in a big way but every kid of help counts! Bottled water also only makes less then 1&amp;#xof; the worlds wastes and can be recycled! According to the National Association for PET Container resources, PET water bottles are no the most recycled container in curb side programs by weight and by number! &lt;br/&gt; http://www.nestlewaterscorporate.com/bottled_water_things_to_know/Video/index.html?@videoList.featured=31101711001</td>\n",
       "      <td>[loyalty, purity]</td>\n",
       "    </tr>\n",
       "    <tr>\n",
       "      <th>2</th>\n",
       "      <td>arg219242</td>\n",
       "      <td>We will be able to ban water bottles until we get out of this recession!</td>\n",
       "      <td>[loyalty]</td>\n",
       "    </tr>\n",
       "    <tr>\n",
       "      <th>3</th>\n",
       "      <td>arg219244</td>\n",
       "      <td>Western Europe consumes almost 50% of the world's bottled water. Many claim that this is due to European culture, since the continent has had very polluted waters due to agriculture and industry dating back to the Industrial Revolution. The water bottles they buy help us.</td>\n",
       "      <td>[care, purity]</td>\n",
       "    </tr>\n",
       "    <tr>\n",
       "      <th>4</th>\n",
       "      <td>arg219245</td>\n",
       "      <td>U.S. alone grew by over 13%. According to research and consulting done by the Beverage Marketing Corporation, the global bottled water industry has exploded to over $35 billion. Americans alone paid $7.7 billion for bottled water in 2002. In 2001, for example globally bottled water companies produced over 130,000 million liters of water. This produced roughly 35,000 million dollars in revenue for the world's thousands of bottled water companies in 2001.</td>\n",
       "      <td>[]</td>\n",
       "    </tr>\n",
       "  </tbody>\n",
       "</table>\n",
       "</div>"
      ],
      "text/plain": [
       "          id  \\\n",
       "0  arg219206   \n",
       "1  arg219225   \n",
       "2  arg219242   \n",
       "3  arg219244   \n",
       "4  arg219245   \n",
       "\n",
       "                                                                                                                                                                                                                                                                                                                                                                                                                                                                                                                                                                                                                                                                                                         argument  \\\n",
       "0  Americans spend billions on bottled water every year. Banning their sale would greatly hurt an already struggling economy. In addition to the actual sale of water bottles, the plastics that they are made out of, and the advertising on both the bottles and packaging are also big business. In addition to this, compostable waters bottle are also coming onto the market, these can be used instead of plastics to eliminate that detriment. Moreover, bottled water not only has a cleaner safety record than municipal water, but it easier to trace when a potential health risk does occur. <br/> (http://www.friendsjournal.org/bottled-water) (http://www.cdc.gov/healthywater/drinking/bottled/)   \n",
       "1                                       Banning plastic bottled water would be a huge mistake in this very moment. More than a million people in the United States purchase bottled water every day which is helping the economy com out of this recession we are in. maybe not in a big way but every kid of help counts! Bottled water also only makes less then 1&#xof; the worlds wastes and can be recycled! According to the National Association for PET Container resources, PET water bottles are no the most recycled container in curb side programs by weight and by number! <br/> http://www.nestlewaterscorporate.com/bottled_water_things_to_know/Video/index.html?@videoList.featured=31101711001   \n",
       "2                                                                                                                                                                                                                                                                                                                                                                                                                                                                                                                                                                                                                                        We will be able to ban water bottles until we get out of this recession!   \n",
       "3                                                                                                                                                                                                                                                                                                                                                                                                                                Western Europe consumes almost 50% of the world's bottled water. Many claim that this is due to European culture, since the continent has had very polluted waters due to agriculture and industry dating back to the Industrial Revolution. The water bottles they buy help us.   \n",
       "4                                                                                                                                                                                                                                       U.S. alone grew by over 13%. According to research and consulting done by the Beverage Marketing Corporation, the global bottled water industry has exploded to over $35 billion. Americans alone paid $7.7 billion for bottled water in 2002. In 2001, for example globally bottled water companies produced over 130,000 million liters of water. This produced roughly 35,000 million dollars in revenue for the world's thousands of bottled water companies in 2001.   \n",
       "\n",
       "              morals  \n",
       "0     [care, purity]  \n",
       "1  [loyalty, purity]  \n",
       "2          [loyalty]  \n",
       "3     [care, purity]  \n",
       "4                 []  "
      ]
     },
     "execution_count": 10,
     "metadata": {},
     "output_type": "execute_result"
    }
   ],
   "source": [
    "final_df.head()"
   ]
  },
  {
   "cell_type": "code",
   "execution_count": 11,
   "id": "34e2de0d",
   "metadata": {},
   "outputs": [
    {
     "data": {
      "text/plain": [
       "220"
      ]
     },
     "execution_count": 11,
     "metadata": {},
     "output_type": "execute_result"
    }
   ],
   "source": [
    "len(final_df)"
   ]
  },
  {
   "cell_type": "code",
   "execution_count": 12,
   "id": "5cddc1ff",
   "metadata": {},
   "outputs": [
    {
     "data": {
      "text/plain": [
       "169"
      ]
     },
     "execution_count": 12,
     "metadata": {},
     "output_type": "execute_result"
    }
   ],
   "source": [
    "len(final_df[final_df.morals.str.len() > 0])"
   ]
  },
  {
   "cell_type": "code",
   "execution_count": 13,
   "id": "ed5738b1",
   "metadata": {},
   "outputs": [],
   "source": [
    "moral_df = final_df[final_df.morals.str.len() > 0]"
   ]
  },
  {
   "cell_type": "code",
   "execution_count": 14,
   "id": "359d0caa",
   "metadata": {},
   "outputs": [],
   "source": [
    "test_data = []\n",
    "for row_idx, row in moral_df.iterrows():\n",
    "    for moral in row['morals']:\n",
    "        test_data.append((moral, row['argument']))\n",
    "        \n",
    "test_df = pd.DataFrame(test_data, columns=['label', 'full_sentence'])\n",
    "test_df.to_csv(data_path + '/repos/dagstuhl_morality/test_data.csv', index=False)"
   ]
  },
  {
   "cell_type": "markdown",
   "id": "5e6c549f",
   "metadata": {},
   "source": [
    "### Moral Preds on dagsthul morality:"
   ]
  },
  {
   "cell_type": "code",
   "execution_count": 12,
   "id": "ca7278c1-a5fb-412b-8fd5-787bde0ac515",
   "metadata": {},
   "outputs": [],
   "source": [
    "moral_df = final_df"
   ]
  },
  {
   "cell_type": "code",
   "execution_count": 13,
   "id": "de4836a7",
   "metadata": {},
   "outputs": [],
   "source": [
    "%load_ext autoreload"
   ]
  },
  {
   "cell_type": "code",
   "execution_count": 14,
   "id": "ccc1014b",
   "metadata": {},
   "outputs": [
    {
     "name": "stderr",
     "output_type": "stream",
     "text": [
      "[nltk_data] Downloading package wordnet to /mnt/ceph/storage/data-\n",
      "[nltk_data]     tmp/2021/sile2804/nltk_data...\n",
      "[nltk_data]   Package wordnet is already up-to-date!\n"
     ]
    }
   ],
   "source": [
    "%autoreload\n",
    "\n",
    "import os\n",
    "import sys\n",
    "import math\n",
    "\n",
    "sys.path.insert(0, \"../../src-py\")\n",
    "\n",
    "from moral_debater.classifier import bert_moral_classification\n",
    "from evaluation import *\n",
    "from sklearn.metrics import f1_score\n",
    "from tabulate import tabulate"
   ]
  },
  {
   "cell_type": "code",
   "execution_count": 15,
   "id": "18cd6232",
   "metadata": {},
   "outputs": [],
   "source": [
    "def eval_f1score(moral_df, pred_clm, print_results=True):\n",
    "    avg_f1 = 0\n",
    "    f1_scores = []\n",
    "    for moral in ['authority', 'care', 'fairness', 'loyalty', 'purity']:\n",
    "        gt = [1 if moral in x else 0 for x in moral_df.morals]\n",
    "        pred = [1 if moral in x else 0 for x in moral_df[pred_clm]]\n",
    "        score = round(f1_score(gt, pred), 3)\n",
    "        avg_f1+=score\n",
    "        f1_scores.append(score)\n",
    "        if print_results:\n",
    "            print('F1 score for {} is {}'.format(moral, score))\n",
    "\n",
    "    if print_results:\n",
    "        print('Average F1 score {}'.format(round(avg_f1/5, 3)))\n",
    "    \n",
    "    f1_scores.append(round(avg_f1/5, 3))\n",
    "    \n",
    "    return f1_scores"
   ]
  },
  {
   "cell_type": "code",
   "execution_count": 16,
   "id": "9fee0be7",
   "metadata": {
    "scrolled": true,
    "tags": []
   },
   "outputs": [],
   "source": [
    "moral_df['twitter_mbert_preds'] = bert_moral_classification.get_arg_morals_mbert(moral_df.argument, data_path + '/twitter_model')"
   ]
  },
  {
   "cell_type": "code",
   "execution_count": 17,
   "id": "47ecec04",
   "metadata": {
    "scrolled": true,
    "tags": []
   },
   "outputs": [],
   "source": [
    "moral_df['moral_freq_preds'] = bert_moral_classification.moralstrength_lexicon(moral_df.argument)"
   ]
  },
  {
   "cell_type": "code",
   "execution_count": 19,
   "id": "82692d08",
   "metadata": {
    "scrolled": true,
    "tags": []
   },
   "outputs": [],
   "source": [
    "for i in range(0,5):\n",
    "    moral_df['reddit_preds_{}'.format(i)] = bert_moral_classification.get_arg_morals(moral_df.argument, optional_model_path=data_path + '/reddit_models/reddit_model_{}'.format(i))\n",
    "\n",
    "    moral_df['reddit_preds_5'] = bert_moral_classification.get_arg_morals(moral_df.argument, optional_model_path=data_path + '/reddit_models/reddit_model/50k')"
   ]
  },
  {
   "cell_type": "code",
   "execution_count": 30,
   "id": "7a783878-ba4a-451b-be8f-50f4b806e4eb",
   "metadata": {},
   "outputs": [
    {
     "name": "stderr",
     "output_type": "stream",
     "text": [
      "/usr/local/lib/python3.6/dist-packages/ipykernel_launcher.py:2: SettingWithCopyWarning: \n",
      "A value is trying to be set on a copy of a slice from a DataFrame.\n",
      "Try using .loc[row_indexer,col_indexer] = value instead\n",
      "\n",
      "See the caveats in the documentation: https://pandas.pydata.org/pandas-docs/stable/user_guide/indexing.html#returning-a-view-versus-a-copy\n",
      "  \n"
     ]
    }
   ],
   "source": [
    "for i in range(0,3):\n",
    "    moral_df['reddit_preds_100k_{}'.format(i)] = bert_moral_classification.get_arg_morals(moral_df.argument, model_path='/workspace/ceph_data/moral-based-argumentation/bert-emfd-moral-frames/reddit_model_100k_{}'.format(i))"
   ]
  },
  {
   "cell_type": "code",
   "execution_count": 20,
   "id": "2bbdba7f",
   "metadata": {
    "scrolled": true,
    "tags": []
   },
   "outputs": [
    {
     "data": {
      "text/html": [
       "<div>\n",
       "<style scoped>\n",
       "    .dataframe tbody tr th:only-of-type {\n",
       "        vertical-align: middle;\n",
       "    }\n",
       "\n",
       "    .dataframe tbody tr th {\n",
       "        vertical-align: top;\n",
       "    }\n",
       "\n",
       "    .dataframe thead th {\n",
       "        text-align: right;\n",
       "    }\n",
       "</style>\n",
       "<table border=\"1\" class=\"dataframe\">\n",
       "  <thead>\n",
       "    <tr style=\"text-align: right;\">\n",
       "      <th></th>\n",
       "      <th>id</th>\n",
       "      <th>argument</th>\n",
       "      <th>morals</th>\n",
       "      <th>twitter_mbert_preds</th>\n",
       "      <th>moral_freq_preds</th>\n",
       "      <th>reddit_preds_0</th>\n",
       "      <th>reddit_preds_5</th>\n",
       "      <th>reddit_preds_1</th>\n",
       "      <th>reddit_preds_2</th>\n",
       "      <th>reddit_preds_3</th>\n",
       "      <th>reddit_preds_4</th>\n",
       "    </tr>\n",
       "  </thead>\n",
       "  <tbody>\n",
       "    <tr>\n",
       "      <th>0</th>\n",
       "      <td>arg219206</td>\n",
       "      <td>Americans spend billions on bottled water every year. Banning their sale would greatly hurt an already struggling economy. In addition to the actual sale of water bottles, the plastics that they are made out of, and the advertising on both the bottles and packaging are also big business. In addition to this, compostable waters bottle are also coming onto the market, these can be used instead of plastics to eliminate that detriment. Moreover, bottled water not only has a cleaner safety record than municipal water, but it easier to trace when a potential health risk does occur. &lt;br/&gt; (http://www.friendsjournal.org/bottled-water) (http://www.cdc.gov/healthywater/drinking/bottled/)</td>\n",
       "      <td>[care, purity]</td>\n",
       "      <td>[]</td>\n",
       "      <td>[fairness, loyalty, authority]</td>\n",
       "      <td>{care, fairness, purity, authority}</td>\n",
       "      <td>{care, authority}</td>\n",
       "      <td>{care}</td>\n",
       "      <td>{care}</td>\n",
       "      <td>{care, loyalty}</td>\n",
       "      <td>{care, authority}</td>\n",
       "    </tr>\n",
       "    <tr>\n",
       "      <th>1</th>\n",
       "      <td>arg219225</td>\n",
       "      <td>Banning plastic bottled water would be a huge mistake in this very moment. More than a million people in the United States purchase bottled water every day which is helping the economy com out of this recession we are in. maybe not in a big way but every kid of help counts! Bottled water also only makes less then 1&amp;#xof; the worlds wastes and can be recycled! According to the National Association for PET Container resources, PET water bottles are no the most recycled container in curb side programs by weight and by number! &lt;br/&gt; http://www.nestlewaterscorporate.com/bottled_water_things_to_know/Video/index.html?@videoList.featured=31101711001</td>\n",
       "      <td>[loyalty, purity]</td>\n",
       "      <td>[]</td>\n",
       "      <td>[care, fairness, loyalty, authority, purity]</td>\n",
       "      <td>{fairness, purity, authority}</td>\n",
       "      <td>{care}</td>\n",
       "      <td>{care, fairness, purity, authority}</td>\n",
       "      <td>{care}</td>\n",
       "      <td>{fairness, loyalty}</td>\n",
       "      <td>{fairness, authority}</td>\n",
       "    </tr>\n",
       "    <tr>\n",
       "      <th>2</th>\n",
       "      <td>arg219242</td>\n",
       "      <td>We will be able to ban water bottles until we get out of this recession!</td>\n",
       "      <td>[loyalty]</td>\n",
       "      <td>[]</td>\n",
       "      <td>[care, fairness, loyalty, authority, purity]</td>\n",
       "      <td>{authority}</td>\n",
       "      <td>{authority}</td>\n",
       "      <td>{authority}</td>\n",
       "      <td>{authority}</td>\n",
       "      <td>{authority}</td>\n",
       "      <td>{authority}</td>\n",
       "    </tr>\n",
       "    <tr>\n",
       "      <th>3</th>\n",
       "      <td>arg219244</td>\n",
       "      <td>Western Europe consumes almost 50% of the world's bottled water. Many claim that this is due to European culture, since the continent has had very polluted waters due to agriculture and industry dating back to the Industrial Revolution. The water bottles they buy help us.</td>\n",
       "      <td>[care, purity]</td>\n",
       "      <td>[]</td>\n",
       "      <td>[care, fairness, loyalty, authority, purity]</td>\n",
       "      <td>{loyalty, purity}</td>\n",
       "      <td>{care, purity}</td>\n",
       "      <td>{purity}</td>\n",
       "      <td>{care, purity}</td>\n",
       "      <td>{loyalty, purity}</td>\n",
       "      <td>{purity}</td>\n",
       "    </tr>\n",
       "    <tr>\n",
       "      <th>4</th>\n",
       "      <td>arg219245</td>\n",
       "      <td>U.S. alone grew by over 13%. According to research and consulting done by the Beverage Marketing Corporation, the global bottled water industry has exploded to over $35 billion. Americans alone paid $7.7 billion for bottled water in 2002. In 2001, for example globally bottled water companies produced over 130,000 million liters of water. This produced roughly 35,000 million dollars in revenue for the world's thousands of bottled water companies in 2001.</td>\n",
       "      <td>[]</td>\n",
       "      <td>[]</td>\n",
       "      <td>[care, fairness, loyalty, authority, purity]</td>\n",
       "      <td>{loyalty, authority}</td>\n",
       "      <td>{care}</td>\n",
       "      <td>{loyalty, purity}</td>\n",
       "      <td>{care, fairness}</td>\n",
       "      <td>{loyalty, purity}</td>\n",
       "      <td>{care, loyalty, authority}</td>\n",
       "    </tr>\n",
       "  </tbody>\n",
       "</table>\n",
       "</div>"
      ],
      "text/plain": [
       "          id  \\\n",
       "0  arg219206   \n",
       "1  arg219225   \n",
       "2  arg219242   \n",
       "3  arg219244   \n",
       "4  arg219245   \n",
       "\n",
       "                                                                                                                                                                                                                                                                                                                                                                                                                                                                                                                                                                                                                                                                                                         argument  \\\n",
       "0  Americans spend billions on bottled water every year. Banning their sale would greatly hurt an already struggling economy. In addition to the actual sale of water bottles, the plastics that they are made out of, and the advertising on both the bottles and packaging are also big business. In addition to this, compostable waters bottle are also coming onto the market, these can be used instead of plastics to eliminate that detriment. Moreover, bottled water not only has a cleaner safety record than municipal water, but it easier to trace when a potential health risk does occur. <br/> (http://www.friendsjournal.org/bottled-water) (http://www.cdc.gov/healthywater/drinking/bottled/)   \n",
       "1                                       Banning plastic bottled water would be a huge mistake in this very moment. More than a million people in the United States purchase bottled water every day which is helping the economy com out of this recession we are in. maybe not in a big way but every kid of help counts! Bottled water also only makes less then 1&#xof; the worlds wastes and can be recycled! According to the National Association for PET Container resources, PET water bottles are no the most recycled container in curb side programs by weight and by number! <br/> http://www.nestlewaterscorporate.com/bottled_water_things_to_know/Video/index.html?@videoList.featured=31101711001   \n",
       "2                                                                                                                                                                                                                                                                                                                                                                                                                                                                                                                                                                                                                                        We will be able to ban water bottles until we get out of this recession!   \n",
       "3                                                                                                                                                                                                                                                                                                                                                                                                                                Western Europe consumes almost 50% of the world's bottled water. Many claim that this is due to European culture, since the continent has had very polluted waters due to agriculture and industry dating back to the Industrial Revolution. The water bottles they buy help us.   \n",
       "4                                                                                                                                                                                                                                       U.S. alone grew by over 13%. According to research and consulting done by the Beverage Marketing Corporation, the global bottled water industry has exploded to over $35 billion. Americans alone paid $7.7 billion for bottled water in 2002. In 2001, for example globally bottled water companies produced over 130,000 million liters of water. This produced roughly 35,000 million dollars in revenue for the world's thousands of bottled water companies in 2001.   \n",
       "\n",
       "              morals twitter_mbert_preds  \\\n",
       "0     [care, purity]                  []   \n",
       "1  [loyalty, purity]                  []   \n",
       "2          [loyalty]                  []   \n",
       "3     [care, purity]                  []   \n",
       "4                 []                  []   \n",
       "\n",
       "                               moral_freq_preds  \\\n",
       "0                [fairness, loyalty, authority]   \n",
       "1  [care, fairness, loyalty, authority, purity]   \n",
       "2  [care, fairness, loyalty, authority, purity]   \n",
       "3  [care, fairness, loyalty, authority, purity]   \n",
       "4  [care, fairness, loyalty, authority, purity]   \n",
       "\n",
       "                        reddit_preds_0     reddit_preds_5  \\\n",
       "0  {care, fairness, purity, authority}  {care, authority}   \n",
       "1        {fairness, purity, authority}             {care}   \n",
       "2                          {authority}        {authority}   \n",
       "3                    {loyalty, purity}     {care, purity}   \n",
       "4                 {loyalty, authority}             {care}   \n",
       "\n",
       "                        reddit_preds_1    reddit_preds_2       reddit_preds_3  \\\n",
       "0                               {care}            {care}      {care, loyalty}   \n",
       "1  {care, fairness, purity, authority}            {care}  {fairness, loyalty}   \n",
       "2                          {authority}       {authority}          {authority}   \n",
       "3                             {purity}    {care, purity}    {loyalty, purity}   \n",
       "4                    {loyalty, purity}  {care, fairness}    {loyalty, purity}   \n",
       "\n",
       "               reddit_preds_4  \n",
       "0           {care, authority}  \n",
       "1       {fairness, authority}  \n",
       "2                 {authority}  \n",
       "3                    {purity}  \n",
       "4  {care, loyalty, authority}  "
      ]
     },
     "execution_count": 20,
     "metadata": {},
     "output_type": "execute_result"
    }
   ],
   "source": [
    "moral_df.head(n=5)"
   ]
  },
  {
   "cell_type": "code",
   "execution_count": 21,
   "id": "3cf39b30-8550-47d8-9a6a-7623e98e4f08",
   "metadata": {},
   "outputs": [],
   "source": [
    "moral_df.to_pickle(data_path + '/moral_classifiers_preds.pkl')"
   ]
  },
  {
   "cell_type": "markdown",
   "id": "c6d297ab",
   "metadata": {},
   "source": [
    "### Evaluate Approaches:"
   ]
  },
  {
   "cell_type": "code",
   "execution_count": 23,
   "id": "43cf3214-93bb-4773-be77-5db4f3532076",
   "metadata": {},
   "outputs": [],
   "source": [
    "moral_df = pd.read_pickle(data_path + '/moral_classifiers_preds.pkl')"
   ]
  },
  {
   "cell_type": "code",
   "execution_count": 25,
   "id": "14f9d8db-5aac-4be3-8d32-c02b7f7019de",
   "metadata": {},
   "outputs": [
    {
     "name": "stdout",
     "output_type": "stream",
     "text": [
      "F1 score for authority is 0.143\n",
      "F1 score for care is 0.497\n",
      "F1 score for fairness is 0.4\n",
      "F1 score for loyalty is 0.16\n",
      "F1 score for purity is 0.208\n",
      "Average F1 score 0.282\n"
     ]
    }
   ],
   "source": [
    "twitter_scores = eval_f1score(moral_df, pred_clm='twitter_mbert_preds')"
   ]
  },
  {
   "cell_type": "code",
   "execution_count": 27,
   "id": "3a288f11-cb80-4462-8bf0-9525c5917942",
   "metadata": {},
   "outputs": [
    {
     "name": "stdout",
     "output_type": "stream",
     "text": [
      "F1 score for authority is 0.232\n",
      "F1 score for care is 0.601\n",
      "F1 score for fairness is 0.125\n",
      "F1 score for loyalty is 0.167\n",
      "F1 score for purity is 0.268\n",
      "Average F1 score 0.279\n"
     ]
    }
   ],
   "source": [
    "freq_scores = eval_f1score(moral_df, pred_clm='moral_freq_preds')"
   ]
  },
  {
   "cell_type": "code",
   "execution_count": 28,
   "id": "32515d22",
   "metadata": {
    "scrolled": true,
    "tags": []
   },
   "outputs": [
    {
     "name": "stdout",
     "output_type": "stream",
     "text": [
      "------\n",
      "fold 0:\n",
      "F1 score for authority is 0.296\n",
      "F1 score for care is 0.392\n",
      "F1 score for fairness is 0.406\n",
      "F1 score for loyalty is 0.187\n",
      "F1 score for purity is 0.468\n",
      "Average F1 score 0.35\n",
      "------\n",
      "fold 1:\n",
      "F1 score for authority is 0.322\n",
      "F1 score for care is 0.503\n",
      "F1 score for fairness is 0.353\n",
      "F1 score for loyalty is 0.308\n",
      "F1 score for purity is 0.449\n",
      "Average F1 score 0.387\n",
      "------\n",
      "fold 2:\n",
      "F1 score for authority is 0.397\n",
      "F1 score for care is 0.606\n",
      "F1 score for fairness is 0.286\n",
      "F1 score for loyalty is 0.36\n",
      "F1 score for purity is 0.471\n",
      "Average F1 score 0.424\n",
      "------\n",
      "fold 3:\n",
      "F1 score for authority is 0.411\n",
      "F1 score for care is 0.573\n",
      "F1 score for fairness is 0.426\n",
      "F1 score for loyalty is 0.233\n",
      "F1 score for purity is 0.493\n",
      "Average F1 score 0.427\n",
      "------\n",
      "fold 4:\n",
      "F1 score for authority is 0.293\n",
      "F1 score for care is 0.457\n",
      "F1 score for fairness is 0.346\n",
      "F1 score for loyalty is 0.27\n",
      "F1 score for purity is 0.456\n",
      "Average F1 score 0.364\n",
      "------\n",
      "fold 5:\n",
      "F1 score for authority is 0.333\n",
      "F1 score for care is 0.62\n",
      "F1 score for fairness is 0.387\n",
      "F1 score for loyalty is 0.314\n",
      "F1 score for purity is 0.441\n",
      "Average F1 score 0.419\n"
     ]
    }
   ],
   "source": [
    "folds_scores = [['twitter'] + twitter_scores, ['freq'] + freq_scores]\n",
    "for i in range(0,6):\n",
    "    print('------')\n",
    "    print('fold {}:'.format(i))\n",
    "    folds_scores.append([i] + eval_f1score(moral_df, pred_clm='reddit_preds_{}'.format(i)))"
   ]
  },
  {
   "cell_type": "code",
   "execution_count": 29,
   "id": "39e14193-36e5-4674-9ff8-df670cf7bfa1",
   "metadata": {},
   "outputs": [],
   "source": [
    "scores = np.array(folds_scores)[2:, 1:].astype(float)\n",
    "mean_folds = [round(x,2) for x in np.mean(scores, axis=0)]"
   ]
  },
  {
   "cell_type": "code",
   "execution_count": 30,
   "id": "671027e5-a01c-45c4-97f2-75e5e8fbf538",
   "metadata": {},
   "outputs": [],
   "source": [
    "folds_scores.append(['avg'] + mean_folds)"
   ]
  },
  {
   "cell_type": "code",
   "execution_count": 31,
   "id": "75463a44-10c7-4f71-84a3-2b4a43d0d1c3",
   "metadata": {},
   "outputs": [
    {
     "name": "stdout",
     "output_type": "stream",
     "text": [
      "fold       authority    care    fairness    loyalty    purity    avg\n",
      "-------  -----------  ------  ----------  ---------  --------  -----\n",
      "twitter        0.143   0.497       0.4        0.16      0.208  0.282\n",
      "freq           0.232   0.601       0.125      0.167     0.268  0.279\n",
      "0              0.296   0.392       0.406      0.187     0.468  0.35\n",
      "1              0.322   0.503       0.353      0.308     0.449  0.387\n",
      "2              0.397   0.606       0.286      0.36      0.471  0.424\n",
      "3              0.411   0.573       0.426      0.233     0.493  0.427\n",
      "4              0.293   0.457       0.346      0.27      0.456  0.364\n",
      "5              0.333   0.62        0.387      0.314     0.441  0.419\n",
      "avg            0.34    0.53        0.37       0.28      0.46   0.4\n"
     ]
    }
   ],
   "source": [
    "print(tabulate(folds_scores, headers=('fold', 'authority', 'care', 'fairness', 'loyalty', 'purity', 'avg')))"
   ]
  },
  {
   "cell_type": "markdown",
   "id": "0bcdedf3",
   "metadata": {},
   "source": [
    "#### Significance Testing:"
   ]
  },
  {
   "cell_type": "code",
   "execution_count": 32,
   "id": "f96133f6",
   "metadata": {},
   "outputs": [],
   "source": [
    "dfs = np.array_split(moral_df, 5)"
   ]
  },
  {
   "cell_type": "code",
   "execution_count": 39,
   "id": "b7d51ec1",
   "metadata": {
    "scrolled": true,
    "tags": []
   },
   "outputs": [],
   "source": [
    "twitter_mbert_scores = [eval_f1score(df, 'twitter_mbert_preds', print_results = False) for df in dfs]\n",
    "#mc_mbert_scores = [eval_f1score(df, 'mc_mbert_preds', print_results = False) for df in dfs]\n",
    "#mc_scores = [eval_f1score(df, 'mc_preds', print_results = False) for df in dfs]\n",
    "freq_scores = [eval_f1score(df, 'reddit_preds_5', print_results = False) for df in dfs]"
   ]
  },
  {
   "cell_type": "code",
   "execution_count": 101,
   "id": "693f8966",
   "metadata": {},
   "outputs": [
    {
     "name": "stdout",
     "output_type": "stream",
     "text": [
      "authority significancy is True\n",
      "care significancy is False\n",
      "fairness significancy is False\n",
      "loyalty significancy is True\n",
      "purity significancy is True\n"
     ]
    }
   ],
   "source": [
    "for i, moral in enumerate(['authority', 'care', 'fairness', 'loyalty', 'purity']):\n",
    "    s1 = np.array(twitter_mbert_scores)[:,i]\n",
    "    s2 = np.array(mc_scores)[:,1]\n",
    "    #print(s1)\n",
    "    #print(s2)\n",
    "    print('{} significancy is {}'.format(moral, check_sig(s2, s1)))"
   ]
  },
  {
   "cell_type": "code",
   "execution_count": 102,
   "id": "e9596735",
   "metadata": {},
   "outputs": [
    {
     "name": "stdout",
     "output_type": "stream",
     "text": [
      "authority significancy is True\n",
      "care significancy is False\n",
      "fairness significancy is False\n",
      "loyalty significancy is True\n",
      "purity significancy is True\n"
     ]
    }
   ],
   "source": [
    "for i, moral in enumerate(['authority', 'care', 'fairness', 'loyalty', 'purity']):\n",
    "    s1 = np.array(twitter_mbert_scores)[:,i]\n",
    "    s2 = np.array(mc_mbert_scores)[:,1]\n",
    "    #print(s1)\n",
    "    #print(s2)\n",
    "    print('{} significancy is {}'.format(moral, check_sig(s2, s1)))"
   ]
  },
  {
   "cell_type": "code",
   "execution_count": 110,
   "id": "2203ed1a",
   "metadata": {},
   "outputs": [
    {
     "name": "stdout",
     "output_type": "stream",
     "text": [
      "authority significancy is True\n",
      "care significancy is False\n",
      "fairness significancy is True\n",
      "loyalty significancy is True\n",
      "purity significancy is True\n"
     ]
    }
   ],
   "source": [
    "for i, moral in enumerate(['authority', 'care', 'fairness', 'loyalty', 'purity']):\n",
    "    s1 = np.array(emfd_scores)[:,i]\n",
    "    s2 = np.array(mc_scores)[:,1]\n",
    "    #print(s1)\n",
    "    #print(s2)\n",
    "    print('{} significancy is {}'.format(moral, check_sig(s2, s1)))"
   ]
  },
  {
   "cell_type": "markdown",
   "id": "ec6ea00e",
   "metadata": {},
   "source": [
    "------------"
   ]
  }
 ],
 "metadata": {
  "kernelspec": {
   "display_name": "Python 3",
   "language": "python",
   "name": "python3"
  },
  "language_info": {
   "codemirror_mode": {
    "name": "ipython",
    "version": 3
   },
   "file_extension": ".py",
   "mimetype": "text/x-python",
   "name": "python",
   "nbconvert_exporter": "python",
   "pygments_lexer": "ipython3",
   "version": "3.6.9"
  }
 },
 "nbformat": 4,
 "nbformat_minor": 5
}
