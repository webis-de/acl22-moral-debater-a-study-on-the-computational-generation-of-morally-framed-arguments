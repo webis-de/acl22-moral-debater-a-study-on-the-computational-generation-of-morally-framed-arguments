{
 "cells": [
  {
   "cell_type": "code",
   "execution_count": 1,
   "id": "0e30f6b4-e4a2-4691-8181-554950b3bfa6",
   "metadata": {},
   "outputs": [],
   "source": [
    "import os\n",
    "import sys\n",
    "import glob\n",
    "import pickle\n",
    "\n",
    "os.environ['CUDA_VISIBLE_DEVICES'] = '4'\n",
    "\n",
    "sys.path.insert(0, '../src-py/')"
   ]
  },
  {
   "cell_type": "code",
   "execution_count": 2,
   "id": "30948fe0-abaa-4415-b22d-732184707ae4",
   "metadata": {},
   "outputs": [],
   "source": [
    "import bert_moral_classification\n",
    "import utils\n",
    "import json\n",
    "import traceback\n",
    "import pandas as pd\n",
    "\n",
    "import numpy as np\n",
    "from numpy import cov\n",
    "from matplotlib import pyplot as plt\n",
    "from scipy.stats import pearsonr\n",
    "from scipy.stats import spearmanr"
   ]
  },
  {
   "cell_type": "code",
   "execution_count": 3,
   "id": "75920460-144e-4fb5-98f4-56354b9acc58",
   "metadata": {},
   "outputs": [],
   "source": [
    "df = pd.read_json('/workspace/ceph_data/moral-based-argumentation/editorials-18/corpus-webis-editorial-quality-18/corpus-webis-editorial-quality-18.json')"
   ]
  },
  {
   "cell_type": "code",
   "execution_count": 74,
   "id": "d279538a-3c40-4177-a69d-a2fa4398599a",
   "metadata": {
    "scrolled": true,
    "tags": []
   },
   "outputs": [
    {
     "data": {
      "text/html": [
       "<div>\n",
       "<style scoped>\n",
       "    .dataframe tbody tr th:only-of-type {\n",
       "        vertical-align: middle;\n",
       "    }\n",
       "\n",
       "    .dataframe tbody tr th {\n",
       "        vertical-align: top;\n",
       "    }\n",
       "\n",
       "    .dataframe thead th {\n",
       "        text-align: right;\n",
       "    }\n",
       "</style>\n",
       "<table border=\"1\" class=\"dataframe\">\n",
       "  <thead>\n",
       "    <tr style=\"text-align: right;\">\n",
       "      <th></th>\n",
       "      <th>annotator_id</th>\n",
       "      <th>article_id</th>\n",
       "      <th>political_typology</th>\n",
       "      <th>effect</th>\n",
       "      <th>explanation</th>\n",
       "      <th>article_index</th>\n",
       "      <th>change</th>\n",
       "      <th>empower</th>\n",
       "      <th>date_created</th>\n",
       "      <th>political_pole</th>\n",
       "      <th>effect_abstracted</th>\n",
       "      <th>batch</th>\n",
       "      <th>intensity</th>\n",
       "      <th>article_paras</th>\n",
       "      <th>article_morals</th>\n",
       "      <th>article_moral_counts</th>\n",
       "    </tr>\n",
       "  </thead>\n",
       "  <tbody>\n",
       "    <tr>\n",
       "      <th>0</th>\n",
       "      <td>C03</td>\n",
       "      <td>1638699.txt</td>\n",
       "      <td>Country First Conservatives</td>\n",
       "      <td>5</td>\n",
       "      <td>I have made public resolutions that failed and...</td>\n",
       "      <td>0</td>\n",
       "      <td>None</td>\n",
       "      <td>YES</td>\n",
       "      <td>2018-05-04 18:34:14.588362+02</td>\n",
       "      <td>conservative</td>\n",
       "      <td>3</td>\n",
       "      <td>batch1</td>\n",
       "      <td>strong</td>\n",
       "      <td>[No matter how you look at it, the new year is...</td>\n",
       "      <td>[{authority, purity}, {loyalty, authority}, {a...</td>\n",
       "      <td>{'authority': 1.0, 'purity': 0.5, 'loyalty': 0...</td>\n",
       "    </tr>\n",
       "    <tr>\n",
       "      <th>1</th>\n",
       "      <td>C03</td>\n",
       "      <td>1640113.txt</td>\n",
       "      <td>Country First Conservatives</td>\n",
       "      <td>5</td>\n",
       "      <td>This is one of those that I wouldn’t argue bec...</td>\n",
       "      <td>1</td>\n",
       "      <td>None</td>\n",
       "      <td>NO</td>\n",
       "      <td>2018-05-04 18:34:14.588362+02</td>\n",
       "      <td>conservative</td>\n",
       "      <td>3</td>\n",
       "      <td>batch1</td>\n",
       "      <td>strong</td>\n",
       "      <td>[It was nice to hear Alberto Gonzales tell the...</td>\n",
       "      <td>[{authority, fairness}, {}, {authority}, {auth...</td>\n",
       "      <td>{'authority': 0.75, 'fairness': 0.5}</td>\n",
       "    </tr>\n",
       "    <tr>\n",
       "      <th>2</th>\n",
       "      <td>C03</td>\n",
       "      <td>1640630.txt</td>\n",
       "      <td>Country First Conservatives</td>\n",
       "      <td>3</td>\n",
       "      <td>River restoration is nice, I suppose.</td>\n",
       "      <td>2</td>\n",
       "      <td>None</td>\n",
       "      <td>None</td>\n",
       "      <td>2018-05-04 18:34:14.588362+02</td>\n",
       "      <td>conservative</td>\n",
       "      <td>2</td>\n",
       "      <td>batch1</td>\n",
       "      <td>none</td>\n",
       "      <td>[In 1998, with great expectations and after ye...</td>\n",
       "      <td>[{care, authority}, {care, authority}, {care, ...</td>\n",
       "      <td>{'care': 0.625, 'authority': 0.75}</td>\n",
       "    </tr>\n",
       "    <tr>\n",
       "      <th>3</th>\n",
       "      <td>C03</td>\n",
       "      <td>1640915.txt</td>\n",
       "      <td>Country First Conservatives</td>\n",
       "      <td>2</td>\n",
       "      <td>I feel like we should be helping the poor, but...</td>\n",
       "      <td>3</td>\n",
       "      <td>None</td>\n",
       "      <td>None</td>\n",
       "      <td>2018-05-04 18:34:14.588362+02</td>\n",
       "      <td>conservative</td>\n",
       "      <td>1</td>\n",
       "      <td>batch1</td>\n",
       "      <td>moderate</td>\n",
       "      <td>[Kofi Annan has two problems -- the Bush admin...</td>\n",
       "      <td>[{fairness}, {authority}, {care, authority}, {...</td>\n",
       "      <td>{'fairness': 0.3333333333333333, 'authority': ...</td>\n",
       "    </tr>\n",
       "    <tr>\n",
       "      <th>4</th>\n",
       "      <td>L07</td>\n",
       "      <td>1638699.txt</td>\n",
       "      <td>Disaffected Democrats</td>\n",
       "      <td>4</td>\n",
       "      <td>I genuinely believe that people need to be act...</td>\n",
       "      <td>0</td>\n",
       "      <td>None</td>\n",
       "      <td>None</td>\n",
       "      <td>2018-05-04 20:24:51.224554+02</td>\n",
       "      <td>liberal</td>\n",
       "      <td>3</td>\n",
       "      <td>batch1</td>\n",
       "      <td>moderate</td>\n",
       "      <td>[No matter how you look at it, the new year is...</td>\n",
       "      <td>[{authority, purity}, {loyalty, authority}, {a...</td>\n",
       "      <td>{'authority': 1.0, 'purity': 0.5, 'loyalty': 0...</td>\n",
       "    </tr>\n",
       "  </tbody>\n",
       "</table>\n",
       "</div>"
      ],
      "text/plain": [
       "  annotator_id   article_id           political_typology  effect  \\\n",
       "0          C03  1638699.txt  Country First Conservatives       5   \n",
       "1          C03  1640113.txt  Country First Conservatives       5   \n",
       "2          C03  1640630.txt  Country First Conservatives       3   \n",
       "3          C03  1640915.txt  Country First Conservatives       2   \n",
       "4          L07  1638699.txt        Disaffected Democrats       4   \n",
       "\n",
       "                                         explanation  article_index change  \\\n",
       "0  I have made public resolutions that failed and...              0   None   \n",
       "1  This is one of those that I wouldn’t argue bec...              1   None   \n",
       "2              River restoration is nice, I suppose.              2   None   \n",
       "3  I feel like we should be helping the poor, but...              3   None   \n",
       "4  I genuinely believe that people need to be act...              0   None   \n",
       "\n",
       "  empower                   date_created political_pole  effect_abstracted  \\\n",
       "0     YES  2018-05-04 18:34:14.588362+02   conservative                  3   \n",
       "1      NO  2018-05-04 18:34:14.588362+02   conservative                  3   \n",
       "2    None  2018-05-04 18:34:14.588362+02   conservative                  2   \n",
       "3    None  2018-05-04 18:34:14.588362+02   conservative                  1   \n",
       "4    None  2018-05-04 20:24:51.224554+02        liberal                  3   \n",
       "\n",
       "    batch intensity                                      article_paras  \\\n",
       "0  batch1    strong  [No matter how you look at it, the new year is...   \n",
       "1  batch1    strong  [It was nice to hear Alberto Gonzales tell the...   \n",
       "2  batch1      none  [In 1998, with great expectations and after ye...   \n",
       "3  batch1  moderate  [Kofi Annan has two problems -- the Bush admin...   \n",
       "4  batch1  moderate  [No matter how you look at it, the new year is...   \n",
       "\n",
       "                                      article_morals  \\\n",
       "0  [{authority, purity}, {loyalty, authority}, {a...   \n",
       "1  [{authority, fairness}, {}, {authority}, {auth...   \n",
       "2  [{care, authority}, {care, authority}, {care, ...   \n",
       "3  [{fairness}, {authority}, {care, authority}, {...   \n",
       "4  [{authority, purity}, {loyalty, authority}, {a...   \n",
       "\n",
       "                                article_moral_counts  \n",
       "0  {'authority': 1.0, 'purity': 0.5, 'loyalty': 0...  \n",
       "1               {'authority': 0.75, 'fairness': 0.5}  \n",
       "2                 {'care': 0.625, 'authority': 0.75}  \n",
       "3  {'fairness': 0.3333333333333333, 'authority': ...  \n",
       "4  {'authority': 1.0, 'purity': 0.5, 'loyalty': 0...  "
      ]
     },
     "execution_count": 74,
     "metadata": {},
     "output_type": "execute_result"
    }
   ],
   "source": [
    "df.head()"
   ]
  },
  {
   "cell_type": "code",
   "execution_count": 45,
   "id": "a3a53aff-676b-4293-b782-0ced5797a59c",
   "metadata": {},
   "outputs": [],
   "source": [
    "def load_txts(path = '/workspace/ceph_data/moral-based-argumentation/editorials-18/elbaff_editorials_18/corpus/*'):\n",
    "    docs = {}\n",
    "    for f in glob.glob(path):\n",
    "        docs[f.split('/')[-1]] = open(f, encoding='utf-8').read()\n",
    "    return docs"
   ]
  },
  {
   "cell_type": "code",
   "execution_count": 47,
   "id": "e50011b2-3b37-4855-a0d1-8e9aecb35748",
   "metadata": {},
   "outputs": [],
   "source": [
    "#editorials_txts = load_txts()"
   ]
  },
  {
   "cell_type": "code",
   "execution_count": 7,
   "id": "de41df88-ab47-40f2-afb8-c42283b628e7",
   "metadata": {},
   "outputs": [],
   "source": [
    "df['article_paras'] = df.article_id.apply(lambda x: editorials_txts[x].split('\\n'))"
   ]
  },
  {
   "cell_type": "code",
   "execution_count": null,
   "id": "4ac278fc-eafc-44cf-85a6-73443b2214dc",
   "metadata": {},
   "outputs": [],
   "source": [
    "df['article_morals'] = df.article_paras.apply(lambda paras: bert_moral_classification.get_arg_morals(paras))"
   ]
  },
  {
   "cell_type": "code",
   "execution_count": 164,
   "id": "f6e24972-7452-4af8-8ce4-3591c7838972",
   "metadata": {},
   "outputs": [],
   "source": [
    "df.to_pickle('/workspace/ceph_data/moral-based-argumentation/editorials-18/elbaff_editorials_18/editorials_with_morals.pkl')"
   ]
  },
  {
   "cell_type": "markdown",
   "id": "c0b0724d-ca10-4e2e-a2be-3cf754bf1743",
   "metadata": {},
   "source": [
    "-------------"
   ]
  },
  {
   "cell_type": "markdown",
   "id": "f4485a37-9017-4142-8226-953f9675fbaf",
   "metadata": {},
   "source": [
    "1: Strongly Challenging\n",
    "\n",
    "2: Somewhat Challenging\n",
    "\n",
    "3: No Effect\n",
    "\n",
    "4: Somewhat Reinforcing\n",
    "\n",
    "5: Strongly Reinforcing"
   ]
  },
  {
   "cell_type": "code",
   "execution_count": 4,
   "id": "7836a761-0e63-49a9-af1d-4bf806049350",
   "metadata": {},
   "outputs": [],
   "source": [
    "def compute_moral_load(para_morals):\n",
    "    all_morals = [moral for morals in para_morals for moral in morals]\n",
    "    moral_counts = dict(Counter(all_morals))\n",
    "    moral_perc = {x[0]: x[1]/len(para_morals) for x in moral_counts.items()}\n",
    "    \n",
    "    return moral_perc"
   ]
  },
  {
   "cell_type": "code",
   "execution_count": 5,
   "id": "ba4e1ad6-d7d7-455e-ada3-1be7f15a4d92",
   "metadata": {},
   "outputs": [],
   "source": [
    "def disply_correlations(morals, target):\n",
    "    variables = np.array([x + [y] for x, y in zip(morals, target)])\n",
    "    corr, p = spearmanr(variables[:,0], variables[:,5])\n",
    "    print(\"CARE: Corr is  {} and P-value: {}\".format(round(corr, 3), round(p, 3)))\n",
    "    corr, p = spearmanr(variables[:,1], variables[:,5])\n",
    "    print(\"FAIRNESS: Corr is  {} and P-value: {}\".format(round(corr, 3), round(p, 3)))\n",
    "    corr, p = spearmanr(variables[:,2], variables[:,5])\n",
    "    print(\"AUTHORITY: Corr is {} and P-value: {}\".format(round(corr, 3), round(p, 3)))\n",
    "    corr, p = spearmanr(variables[:,3], variables[:,5])\n",
    "    print(\"LOYALTY: Corr is  {} and P-value: {}\".format(round(corr, 3), round(p, 3)))\n",
    "    corr, p = spearmanr(variables[:,4], variables[:,5])\n",
    "    print(\"PURITY: Corr is  {} and P-value: {}\".format(round(corr, 3), round(p, 3)))"
   ]
  },
  {
   "cell_type": "code",
   "execution_count": 6,
   "id": "3823c8ee-1e09-412f-bea8-7e4244c48898",
   "metadata": {},
   "outputs": [],
   "source": [
    "df = pd.read_pickle('/workspace/ceph_data/moral-based-argumentation/editorials-18/elbaff_editorials_18/editorials_with_morals.pkl')"
   ]
  },
  {
   "cell_type": "code",
   "execution_count": 7,
   "id": "bcfe26e3-6ba1-49ec-8519-6222f508930b",
   "metadata": {},
   "outputs": [],
   "source": [
    "from collections import Counter"
   ]
  },
  {
   "cell_type": "code",
   "execution_count": 8,
   "id": "58eb3345-2687-456c-badb-d746b949d65d",
   "metadata": {},
   "outputs": [],
   "source": [
    "df['article_moral_counts'] = df.article_morals.apply(lambda x: compute_moral_load(x))"
   ]
  },
  {
   "cell_type": "code",
   "execution_count": 17,
   "id": "82463f0d-ee76-49a2-b295-18232f475203",
   "metadata": {},
   "outputs": [],
   "source": [
    "int_map = {\n",
    "    'strong':2,\n",
    "    'moderate':1,\n",
    "    'none':0\n",
    "}"
   ]
  },
  {
   "cell_type": "markdown",
   "id": "2f7f72b4-56cd-4d05-bf47-96785d91e11e",
   "metadata": {},
   "source": [
    "#### Effect on Conservatives:"
   ]
  },
  {
   "cell_type": "code",
   "execution_count": 18,
   "id": "359b9055-a82f-453b-9dc6-314df882986d",
   "metadata": {},
   "outputs": [],
   "source": [
    "cons_effect = df[(df.political_pole == 'conservative')]['intensity'].tolist()\n",
    "cons_effect = [int_map[x] for x in cons_effect]\n",
    "cons_morals = df[(df.political_pole == 'conservative')]['article_moral_counts'].tolist()\n",
    "cons_morals = [[d[m] if m in d else 0 for m in ['care', 'fairness', 'authority', 'loyalty', 'purity']] for d in cons_morals]"
   ]
  },
  {
   "cell_type": "code",
   "execution_count": 9,
   "id": "f3feaed0-403c-41d9-a60b-9d467dcbcc4e",
   "metadata": {},
   "outputs": [],
   "source": [
    "# cons_effect = df[(df.political_pole == 'conservative') & (df.effect.isin([1, 2, 3]))]['effect'].tolist()\n",
    "# cons_effect = [1 if x in [1, 2] else 0  for x in cons_effect]\n",
    "# cons_morals = df[(df.political_pole == 'conservative') & (df.effect.isin([1, 2, 3]))]['article_moral_counts'].tolist()\n",
    "# cons_morals = [[d[m] if m in d else 0 for m in ['care', 'fairness', 'authority', 'loyalty', 'purity']] for d in cons_morals]"
   ]
  },
  {
   "cell_type": "code",
   "execution_count": 20,
   "id": "e0d7d509-cb18-4dfc-a2db-01f89d3e0bbd",
   "metadata": {},
   "outputs": [
    {
     "name": "stdout",
     "output_type": "stream",
     "text": [
      "CARE: Corr is  0.052 and P-value: 0.005\n",
      "FAIRNESS: Corr is  0.003 and P-value: 0.873\n",
      "AUTHORITY: Corr is -0.008 and P-value: 0.654\n",
      "LOYALTY: Corr is  0.008 and P-value: 0.66\n",
      "PURITY: Corr is  0.004 and P-value: 0.837\n"
     ]
    }
   ],
   "source": [
    "disply_correlations(cons_morals, cons_effect)"
   ]
  },
  {
   "cell_type": "markdown",
   "id": "b1e33727-5c82-4745-b80a-51857276eafa",
   "metadata": {},
   "source": [
    "#### Effect on Liberals:"
   ]
  },
  {
   "cell_type": "code",
   "execution_count": 14,
   "id": "37356c23-3e8d-4ca5-8e84-e1ce6ffa71e1",
   "metadata": {},
   "outputs": [
    {
     "data": {
      "text/plain": [
       "2660"
      ]
     },
     "execution_count": 14,
     "metadata": {},
     "output_type": "execute_result"
    }
   ],
   "source": [
    "len(lib_effect)"
   ]
  },
  {
   "cell_type": "code",
   "execution_count": 12,
   "id": "169570eb-bc18-4aff-9bbe-74d3b4ac685c",
   "metadata": {},
   "outputs": [],
   "source": [
    "lib_effect = df[(df.political_pole == 'liberal') & (df.effect.isin([3, 4, 5]))]['effect'].tolist()\n",
    "lib_effect = [1 if x in [4, 5] else 0  for x in lib_effect]\n",
    "lib_morals = df[(df.political_pole == 'liberal') & (df.effect.isin([3, 4, 5]))]['article_moral_counts'].tolist()\n",
    "lib_morals = [[d[m] if m in d else 0 for m in ['care', 'fairness', 'authority', 'loyalty', 'purity']] for d in lib_morals]"
   ]
  },
  {
   "cell_type": "code",
   "execution_count": 13,
   "id": "904b5298-9ed0-4826-996b-f82d642945de",
   "metadata": {},
   "outputs": [
    {
     "name": "stdout",
     "output_type": "stream",
     "text": [
      "CARE: Corr is  0.055 and P-value: 0.005\n",
      "FAIRNESS: Corr is  0.026 and P-value: 0.184\n",
      "AUTHORITY: Corr is -0.02 and P-value: 0.299\n",
      "LOYALTY: Corr is  -0.017 and P-value: 0.373\n",
      "PURITY: Corr is  -0.024 and P-value: 0.213\n"
     ]
    }
   ],
   "source": [
    "disply_correlations(lib_morals, lib_effect)"
   ]
  },
  {
   "cell_type": "markdown",
   "id": "5cf37cae-32f1-4b83-b69c-709aec786cf7",
   "metadata": {},
   "source": [
    "-------------"
   ]
  },
  {
   "cell_type": "markdown",
   "id": "49f8ba45-096d-4e3c-90f8-09178b985de6",
   "metadata": {},
   "source": [
    "### Correlation between morals and Changing the stance:"
   ]
  },
  {
   "cell_type": "code",
   "execution_count": 60,
   "id": "22300818-8b3d-4ab3-be0f-729b1bf6deb6",
   "metadata": {},
   "outputs": [],
   "source": [
    "changed_df = df[(df.change=='YES') | (df.change=='NO')].copy()\n",
    "changed_df['change'] = changed_df.change.apply(lambda x: 1 if x=='YES' else 0)"
   ]
  },
  {
   "cell_type": "code",
   "execution_count": 61,
   "id": "ffceb5e0-4df2-48de-a93d-e1b880f4b1e6",
   "metadata": {},
   "outputs": [
    {
     "data": {
      "text/plain": [
       "0    5932\n",
       "1      68\n",
       "Name: change, dtype: int64"
      ]
     },
     "execution_count": 61,
     "metadata": {},
     "output_type": "execute_result"
    }
   ],
   "source": [
    "changed_df.change.value_counts()"
   ]
  },
  {
   "cell_type": "code",
   "execution_count": 62,
   "id": "f599b934-0022-4663-b7c2-ea051ae988b7",
   "metadata": {},
   "outputs": [
    {
     "data": {
      "text/plain": [
       "liberal         3000\n",
       "conservative    3000\n",
       "Name: political_pole, dtype: int64"
      ]
     },
     "execution_count": 62,
     "metadata": {},
     "output_type": "execute_result"
    }
   ],
   "source": [
    "changed_df.political_pole.value_counts()"
   ]
  },
  {
   "cell_type": "markdown",
   "id": "12f59e7f-4931-447d-ab54-fcaa3786a7c2",
   "metadata": {},
   "source": [
    "#### On Conservatives:"
   ]
  },
  {
   "cell_type": "code",
   "execution_count": 63,
   "id": "3bdca52b-7ae5-492c-9927-a9a8ec27faad",
   "metadata": {},
   "outputs": [],
   "source": [
    "changed = changed_df[(changed_df.political_pole == 'conservative')]['change'].tolist()\n",
    "cons_morals = changed_df[(changed_df.political_pole == 'conservative')]['article_moral_counts'].tolist()\n",
    "cons_morals = [[d[m] if m in d else 0 for m in ['care', 'fairness', 'authority', 'loyalty', 'purity']] for d in cons_morals]"
   ]
  },
  {
   "cell_type": "code",
   "execution_count": 64,
   "id": "4cb711e2-ecd4-4cfe-8c48-617f2e543b26",
   "metadata": {},
   "outputs": [
    {
     "name": "stdout",
     "output_type": "stream",
     "text": [
      "CARE: Corr is  0.049 and P-value: 0.008\n",
      "FAIRNESS: Corr is  -0.038 and P-value: 0.038\n",
      "AUTHORITY: Corr is -0.021 and P-value: 0.24\n",
      "LOYALTY: Corr is  -0.012 and P-value: 0.525\n",
      "PURITY: Corr is  0.03 and P-value: 0.105\n"
     ]
    }
   ],
   "source": [
    "disply_correlations(cons_morals, changed)"
   ]
  },
  {
   "cell_type": "markdown",
   "id": "1200df57-55a7-4f81-acf6-ca577b440280",
   "metadata": {},
   "source": [
    "#### On Liberals:"
   ]
  },
  {
   "cell_type": "code",
   "execution_count": 65,
   "id": "5acd270d-5ea7-4a00-9a01-2c0faa2f3d25",
   "metadata": {},
   "outputs": [],
   "source": [
    "changed = changed_df[(changed_df.political_pole == 'liberal')]['change'].tolist()\n",
    "lib_morals = changed_df[(changed_df.political_pole == 'liberal')]['article_moral_counts'].tolist()\n",
    "lib_morals = [[d[m] if m in d else 0 for m in ['care', 'fairness', 'authority', 'loyalty', 'purity']] for d in lib_morals]"
   ]
  },
  {
   "cell_type": "code",
   "execution_count": 66,
   "id": "528ab74d-3d73-421d-bf3d-b1849d7b8ab7",
   "metadata": {},
   "outputs": [
    {
     "name": "stdout",
     "output_type": "stream",
     "text": [
      "CARE: Corr is  0.008 and P-value: 0.656\n",
      "FAIRNESS: Corr is  -0.019 and P-value: 0.305\n",
      "AUTHORITY: Corr is -0.014 and P-value: 0.437\n",
      "LOYALTY: Corr is  -0.03 and P-value: 0.104\n",
      "PURITY: Corr is  -0.017 and P-value: 0.362\n"
     ]
    }
   ],
   "source": [
    "disply_correlations(lib_morals, changed)"
   ]
  },
  {
   "cell_type": "markdown",
   "id": "13fced4b-1717-44d6-a96c-2ef7a84866a2",
   "metadata": {},
   "source": [
    "---------------"
   ]
  },
  {
   "cell_type": "markdown",
   "id": "94ca2a0d-c050-4170-8247-6c0a7f7a1099",
   "metadata": {},
   "source": [
    "### Correlation between morals and Empowering the stance:"
   ]
  },
  {
   "cell_type": "code",
   "execution_count": 67,
   "id": "7524d2e3-19c4-41ad-9b43-4b08f18b9e48",
   "metadata": {},
   "outputs": [],
   "source": [
    "empower_df = df[(df.empower=='YES') | (df.empower=='NO')].copy()\n",
    "empower_df['empower'] = empower_df.empower.apply(lambda x: 1 if x=='YES' else 0)"
   ]
  },
  {
   "cell_type": "code",
   "execution_count": 68,
   "id": "e48d39c2-454d-4b52-8bb8-2693a7e5f258",
   "metadata": {},
   "outputs": [
    {
     "data": {
      "text/plain": [
       "0    5030\n",
       "1     970\n",
       "Name: empower, dtype: int64"
      ]
     },
     "execution_count": 68,
     "metadata": {},
     "output_type": "execute_result"
    }
   ],
   "source": [
    "empower_df.empower.value_counts()"
   ]
  },
  {
   "cell_type": "code",
   "execution_count": 69,
   "id": "aecce8e4-712f-4b44-af4b-e779ccb43e4a",
   "metadata": {},
   "outputs": [
    {
     "data": {
      "text/plain": [
       "liberal         3000\n",
       "conservative    3000\n",
       "Name: political_pole, dtype: int64"
      ]
     },
     "execution_count": 69,
     "metadata": {},
     "output_type": "execute_result"
    }
   ],
   "source": [
    "empower_df.political_pole.value_counts()"
   ]
  },
  {
   "cell_type": "markdown",
   "id": "d48d2e47-65a1-4534-8b72-ded5bcb88794",
   "metadata": {},
   "source": [
    "#### On Conservatives:"
   ]
  },
  {
   "cell_type": "code",
   "execution_count": 70,
   "id": "4e6b5ecb-ffee-4c33-878e-e4564f768e71",
   "metadata": {},
   "outputs": [],
   "source": [
    "empower = empower_df[(empower_df.political_pole == 'conservative')]['empower'].tolist()\n",
    "cons_morals = empower_df[(empower_df.political_pole == 'conservative')]['article_moral_counts'].tolist()\n",
    "cons_morals = [[d[m] if m in d else 0 for m in ['care', 'fairness', 'authority', 'loyalty', 'purity']] for d in cons_morals]"
   ]
  },
  {
   "cell_type": "code",
   "execution_count": 71,
   "id": "7e6c9918-3cc8-449c-8c92-bfcfe04bab43",
   "metadata": {},
   "outputs": [
    {
     "name": "stdout",
     "output_type": "stream",
     "text": [
      "CARE: Corr is  0.01 and P-value: 0.591\n",
      "FAIRNESS: Corr is  0.027 and P-value: 0.139\n",
      "AUTHORITY: Corr is 0.01 and P-value: 0.586\n",
      "LOYALTY: Corr is  0.031 and P-value: 0.086\n",
      "PURITY: Corr is  0.017 and P-value: 0.34\n"
     ]
    }
   ],
   "source": [
    "disply_correlations(cons_morals, empower)"
   ]
  },
  {
   "cell_type": "markdown",
   "id": "3a67aef8-ee5e-4dd7-a665-46dfa1436e5c",
   "metadata": {},
   "source": [
    "#### On Liberals:"
   ]
  },
  {
   "cell_type": "code",
   "execution_count": 72,
   "id": "df49308b-25a3-45a1-b9f3-fbcd22b43fa7",
   "metadata": {},
   "outputs": [],
   "source": [
    "empower = empower_df[(empower_df.political_pole == 'liberal')]['empower'].tolist()\n",
    "liberal_morals = empower_df[(empower_df.political_pole == 'liberal')]['article_moral_counts'].tolist()\n",
    "liberal_morals = [[d[m] if m in d else 0 for m in ['care', 'fairness', 'authority', 'loyalty', 'purity']] for d in liberal_morals]"
   ]
  },
  {
   "cell_type": "code",
   "execution_count": 73,
   "id": "d06aba1e-f73c-4bb7-84e3-46a7910f3150",
   "metadata": {},
   "outputs": [
    {
     "name": "stdout",
     "output_type": "stream",
     "text": [
      "CARE: Corr is  0.003 and P-value: 0.853\n",
      "FAIRNESS: Corr is  0.045 and P-value: 0.014\n",
      "AUTHORITY: Corr is -0.01 and P-value: 0.602\n",
      "LOYALTY: Corr is  -0.001 and P-value: 0.977\n",
      "PURITY: Corr is  -0.014 and P-value: 0.455\n"
     ]
    }
   ],
   "source": [
    "disply_correlations(liberal_morals, empower)"
   ]
  },
  {
   "cell_type": "code",
   "execution_count": null,
   "id": "216ffdff-4905-48d7-8c95-7b3ffe2b390b",
   "metadata": {},
   "outputs": [],
   "source": []
  }
 ],
 "metadata": {
  "kernelspec": {
   "display_name": "Python 3",
   "language": "python",
   "name": "python3"
  },
  "language_info": {
   "codemirror_mode": {
    "name": "ipython",
    "version": 3
   },
   "file_extension": ".py",
   "mimetype": "text/x-python",
   "name": "python",
   "nbconvert_exporter": "python",
   "pygments_lexer": "ipython3",
   "version": "3.6.9"
  }
 },
 "nbformat": 4,
 "nbformat_minor": 5
}
