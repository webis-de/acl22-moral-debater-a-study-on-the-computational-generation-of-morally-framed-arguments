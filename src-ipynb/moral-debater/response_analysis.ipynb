{
 "cells": [
  {
   "cell_type": "code",
   "execution_count": 1,
   "id": "100ddbb8-7cb0-4604-a402-ee7899ff8638",
   "metadata": {},
   "outputs": [],
   "source": [
    "import json\n",
    "from matplotlib import pyplot as plt\n",
    "import pandas as pd\n",
    "import numpy as np\n",
    "\n",
    "pd.set_option('display.max_columns', None)  \n",
    "pd.set_option('display.max_rows', None)  "
   ]
  },
  {
   "cell_type": "code",
   "execution_count": 2,
   "id": "fba68881-b4d3-4fc4-8a4b-c378e6b69a90",
   "metadata": {},
   "outputs": [],
   "source": [
    "data_fold_path = '../../../computational-moral-foundations/moral-based-argumentation/data/'"
   ]
  },
  {
   "cell_type": "code",
   "execution_count": 3,
   "id": "e9a54ecb-89be-4ec3-8b31-a25eb7732afd",
   "metadata": {},
   "outputs": [
    {
     "name": "stdout",
     "output_type": "stream",
     "text": [
      "gedi-new-preds.csv\n",
      "\u001b[0m\u001b[01;34mmanual-evaluations\u001b[0m/\n",
      "\u001b[01;34mmoral-survey\u001b[0m/\n",
      "moral_narratives_via_classifier_for_selected_5_big_issues_v1.csv\n",
      "moral_narratives_via_classifier_for_selected_5_big_issues_v2.csv\n",
      "moral_narratives_via_classifier_for_top_20_big_issues.pkl\n",
      "moral_narratives_via_concepts_for_selected_5_big_issues_v1.csv\n",
      "moral_narratives_via_concepts_for_selected_5_big_issues_v2.csv\n",
      "sample-of-automatic-moral-tagging.csv\n",
      "top_20_big_issues_narratives.csv\n",
      "webis-argument-framing-merged.csv\n",
      "webis-argument-moral-frames.csv\n"
     ]
    }
   ],
   "source": [
    "ls ../../../computational-moral-foundations/moral-based-argumentation/data/"
   ]
  },
  {
   "cell_type": "markdown",
   "id": "5eca35a9-9f89-4d7f-9287-82f71a0e79b7",
   "metadata": {},
   "source": [
    "### Main Study Analysis:"
   ]
  },
  {
   "cell_type": "code",
   "execution_count": 4,
   "id": "6d0c92c3-c58e-404d-9c6c-6bbc589e5af5",
   "metadata": {},
   "outputs": [],
   "source": [
    "from tabulate import tabulate"
   ]
  },
  {
   "cell_type": "code",
   "execution_count": 5,
   "id": "f83ed446-7af0-463f-bed3-94a10c41864d",
   "metadata": {},
   "outputs": [],
   "source": [
    "def maj_rank(ranks):\n",
    "    max_rank = max(set(ranks), key=ranks.count)\n",
    "    print(ranks)\n",
    "    if ranks.count(max_rank) <= int(len(ranks)/2):\n",
    "        print('returning -1')\n",
    "        return -1\n",
    "    else:\n",
    "        return max_rank\n",
    "\n",
    "def avg_rank(ranks):\n",
    "    return np.mean(ranks)\n",
    "\n",
    "def argument_ranks(df, aggregate=False):\n",
    "    \n",
    "    data = []\n",
    "    for arg_type in ['binding', 'individual', 'general']:\n",
    "        arg_type_df = df[df['arg-type'] == arg_type]\n",
    "        \n",
    "        if aggregate:\n",
    "            ranks =  arg_type_df.groupby(['topic', 'arg_stance']).agg({\n",
    "                'rank': lambda x: maj_rank(list(x))})['rank'].tolist()\n",
    "        else:\n",
    "            ranks = arg_type_df['rank'].tolist()\n",
    "        \n",
    "        f_rank = round(ranks.count(1) /len([x for x in ranks if x !=-1]), 2)\n",
    "        s_rank = round(ranks.count(2)/len([x for x in ranks if x !=-1]), 2)\n",
    "        l_rank = round(ranks.count(3)/len([x for x in ranks if x !=-1]), 2)\n",
    "        agreement = round((len(ranks) - ranks.count(-1))/len(ranks), 2)\n",
    "        \n",
    "        avg_rank = round(np.mean(arg_type_df['rank'].tolist()), 2)\n",
    "            \n",
    "        data.append([arg_type, f_rank, s_rank, l_rank, avg_rank, agreement])\n",
    "        \n",
    "    print(tabulate(data, headers=['rank-1', 'rank-2', 'rank-3', 'avg-rank', 'agreement']))\n",
    "        \n",
    "def reformat_data(responses_df):\n",
    "    arg_map = {\n",
    "        'argument-1': 'binding',\n",
    "        'argument-2': 'individual',\n",
    "        'argument-3': 'general'\n",
    "    }\n",
    "\n",
    "    reformated_data = []\n",
    "    for i, row in responses_df.iterrows():\n",
    "        for topic in topics:\n",
    "            if row['Username'] in users_ideology_map:\n",
    "                topic_name = topic.replace('[', '').replace('pro-', '').replace('con-', '').replace(']', '')\n",
    "                user_stance_key = [key for key in row.keys() if key.startswith(\"[stance-on-{}\".format(topic_name))][0]\n",
    "\n",
    "                for arg in ['argument-1', 'argument-2', 'argument-3']:\n",
    "                    \n",
    "                    reformated_data.append([row['Username'],\n",
    "                                            users_ideology_map[row['Username']],\n",
    "                                            int(row[user_stance_key][0]),\n",
    "                                            'pro' if 'pro-' in topic else 'con',\n",
    "                                            topic_name,\n",
    "                                            arg_map[arg],\n",
    "                                            row[\"{} Rank the previous arguments according to their effectiveness: [{}]\".format(topic, arg)]\n",
    "                                        ])\n",
    "                \n",
    "    responses_df = pd.DataFrame(reformated_data, columns=['email', 'ideology', 'user_stance', 'arg_stance', 'topic', 'arg-type', 'rank'])\n",
    "\n",
    "    return responses_df\n",
    "\n",
    "def same_stance(row):\n",
    "    if row['user_stance'] == 3:\n",
    "        return 'unk'\n",
    "    \n",
    "    if row['user_stance'] > 3 and row['arg_stance']=='pro':\n",
    "        return 'same'\n",
    "    \n",
    "    if row['user_stance'] < 3 and row['arg_stance']=='con':\n",
    "        return 'same'\n",
    "    \n",
    "    if row['user_stance'] < 3 and row['arg_stance']=='pro':\n",
    "        return 'diff'\n",
    "    \n",
    "    if row['user_stance'] > 3 and row['arg_stance']=='con':\n",
    "        return 'diff' \n",
    "    \n",
    "\n",
    "def check_sig(v1s, v2s, alpha=0.05):\n",
    "    from scipy import stats\n",
    "\n",
    "    diff = list(map(lambda x1 , x2: x1 - x2, v1s, v2s))\n",
    "    is_normal = stats.shapiro(diff)[1] > alpha\n",
    "    \n",
    "    if is_normal:\n",
    "        print('Distribution is normal, so using ttest_rel')\n",
    "        ttest = stats.ttest_rel(v1s, v2s)\n",
    "        if ttest.statistic >=0:\n",
    "            if (ttest.pvalue/2) <= alpha:\n",
    "                return True\n",
    "            else:\n",
    "                return False\n",
    "        else:\n",
    "            return False\n",
    "\n",
    "    else:\n",
    "        print('Distribution is not normal, so using wilcoxon')\n",
    "        ttest = stats.wilcoxon(v1s, v2s, alternative='greater')\n",
    "        \n",
    "        if ttest.statistic >=0:\n",
    "            if (ttest.pvalue) <= alpha:\n",
    "                return True\n",
    "            else:\n",
    "                return False\n",
    "        else:\n",
    "            return False"
   ]
  },
  {
   "cell_type": "code",
   "execution_count": 6,
   "id": "6fa9f6f6-25cf-4741-85af-628515ebf34b",
   "metadata": {},
   "outputs": [],
   "source": [
    "#TODO: mask the emails...\n",
    "users_ideology_map = {\n",
    "    'mpy2@aol.com': 'Liberal',\n",
    "    'onnaday@onnaday.com': 'Liberal',\n",
    "    'mollynm@gmail.com': 'Liberal',\n",
    "    'faith.brandi@gmail.com': 'Conservative',\n",
    "    'bret.thurman0129@gmail.com': 'Conservative',\n",
    "    'mikestroup@suddenlink.net': 'Conservative'\n",
    "}"
   ]
  },
  {
   "cell_type": "code",
   "execution_count": 7,
   "id": "9d42494f-4b31-432e-90ef-c6357d738926",
   "metadata": {
    "scrolled": true,
    "tags": []
   },
   "outputs": [],
   "source": [
    "main_df = pd.read_csv(data_fold_path+'moral-survey/moral-foundation-main-study.csv')\n",
    "\n",
    "columns = main_df.columns\n",
    "topics = set([x.split(' ')[0] for x in columns[12:]])\n",
    "\n",
    "main_df = main_df.rename(columns={\n",
    "    '[stance-on-legalizing-prostitution] Stance on Legalizing Prostitution?' : '[stance-on-legalized-prostitution] Stance on Legalizing Prostitution?'\n",
    "})\n",
    "main_df = reformat_data(main_df)\n",
    "main_df['same_stance'] = main_df.apply(lambda row: same_stance(row), axis=1)"
   ]
  },
  {
   "cell_type": "code",
   "execution_count": 8,
   "id": "81c348d1-1037-47bd-a5b4-40d2952b14a7",
   "metadata": {},
   "outputs": [],
   "source": [
    "#main_df[main_df.email=='bret.thurman0129@gmail.com'].head(n=60)"
   ]
  },
  {
   "cell_type": "code",
   "execution_count": 9,
   "id": "adbc38cc-47f2-4930-a52b-11d22d958246",
   "metadata": {},
   "outputs": [
    {
     "data": {
      "text/plain": [
       "onnaday@onnaday.com           60\n",
       "faith.brandi@gmail.com        60\n",
       "bret.thurman0129@gmail.com    60\n",
       "mpy2@aol.com                  60\n",
       "mikestroup@suddenlink.net     60\n",
       "mollynm@gmail.com             60\n",
       "Name: email, dtype: int64"
      ]
     },
     "execution_count": 9,
     "metadata": {},
     "output_type": "execute_result"
    }
   ],
   "source": [
    "main_df.email.value_counts()"
   ]
  },
  {
   "cell_type": "code",
   "execution_count": 10,
   "id": "bdf5d1a0-e27d-4734-82e2-a1c460d328ab",
   "metadata": {},
   "outputs": [
    {
     "data": {
      "text/plain": [
       "Liberal         180\n",
       "Conservative    180\n",
       "Name: ideology, dtype: int64"
      ]
     },
     "execution_count": 10,
     "metadata": {},
     "output_type": "execute_result"
    }
   ],
   "source": [
    "main_df.ideology.value_counts()"
   ]
  },
  {
   "cell_type": "code",
   "execution_count": 11,
   "id": "5161d432-8300-46ba-931f-4b25768066c9",
   "metadata": {},
   "outputs": [
    {
     "data": {
      "image/png": "[encoded data removed]",
      "text/plain": [
       "<Figure size 432x288 with 1 Axes>"
      ]
     },
     "metadata": {
      "needs_background": "light"
     },
     "output_type": "display_data"
    }
   ],
   "source": [
    "lib_count = main_df[(main_df.ideology=='Liberal')].groupby(['topic', 'email']).agg({'user_stance': lambda x : list(x)[0]})['user_stance'].tolist()\n",
    "con_count = main_df[(main_df.ideology=='Conservative')].groupby(['topic', 'email']).agg({'user_stance': lambda x : list(x)[0]})['user_stance'].tolist()\n",
    "plt.hist([lib_count, con_count], label=['Liberals', 'Conservatives'])\n",
    "plt.legend()\n",
    "plt.xticks([1,2,3,4,5])\n",
    "plt.xlabel('Score')\n",
    "plt.ylabel('Number of topics')\n",
    "plt.savefig('stance_dist.pdf')  \n",
    "plt.show()"
   ]
  },
  {
   "cell_type": "markdown",
   "id": "034537a9-92e2-490c-9d70-50bfabbd73a3",
   "metadata": {},
   "source": [
    "### Annotator's agreement:"
   ]
  },
  {
   "cell_type": "code",
   "execution_count": 12,
   "id": "7ed77a5f-f272-4ad5-a084-20c7fc435df7",
   "metadata": {},
   "outputs": [],
   "source": [
    "from scipy.stats import kendalltau\n",
    "import kendall_w as kw"
   ]
  },
  {
   "cell_type": "code",
   "execution_count": 13,
   "id": "b6e4e0b7-2027-4370-8962-f8bf7c1dc1c8",
   "metadata": {},
   "outputs": [],
   "source": [
    "topics = set(main_df.topic.tolist())"
   ]
  },
  {
   "cell_type": "code",
   "execution_count": 14,
   "id": "1f64df87-80c9-4a92-9879-436898c7b2c3",
   "metadata": {},
   "outputs": [],
   "source": [
    "def compute_kendalls(main_df):\n",
    "    kw_scores = []\n",
    "    for topic in topics:\n",
    "        for stance in ['pro', 'con']:\n",
    "            instance_ranking_df = main_df[(main_df.topic==topic) & (main_df.arg_stance==stance)].groupby('email').agg({'rank': lambda x: list(x)}).reset_index()\n",
    "            instance_ranking = instance_ranking_df['rank'].tolist()\n",
    "            instance_ranking = np.array(instance_ranking).T.tolist() #invert to we have in the rows the arguments and in the columns the ranks of the annotators\n",
    "            #print(instance_ranking)\n",
    "            kw_scores.append(kw.compute_w(instance_ranking))\n",
    "\n",
    "    return round(np.mean(kw_scores), 3)"
   ]
  },
  {
   "cell_type": "code",
   "execution_count": 15,
   "id": "cdf73013-38dd-44f4-b073-9f86cbe25ac2",
   "metadata": {
    "tags": []
   },
   "outputs": [
    {
     "name": "stdout",
     "output_type": "stream",
     "text": [
      "All: 0.29\n",
      "Lib: 0.356\n",
      "Con: 0.511\n"
     ]
    }
   ],
   "source": [
    "print('All: {}'.format(compute_kendalls(main_df)))\n",
    "print('Lib: {}'.format(compute_kendalls(main_df[main_df.ideology=='Liberal'])))\n",
    "print('Con: {}'.format(compute_kendalls(main_df[main_df.ideology=='Conservative'])))"
   ]
  },
  {
   "cell_type": "markdown",
   "id": "d0ef91ac-5693-4282-a614-4b9c5e3622a6",
   "metadata": {},
   "source": [
    "#### All results:"
   ]
  },
  {
   "cell_type": "markdown",
   "id": "aac2f9ac-813f-4dbd-b0c5-be6917b6210e",
   "metadata": {},
   "source": [
    "Here we consider all users regardless of their political ideology. This mean each instance (ranking 3 arguments) was evaluated\n",
    "by six annotators."
   ]
  },
  {
   "cell_type": "markdown",
   "id": "020d4a02-377b-41ee-8f2d-394e8d3dc4e6",
   "metadata": {},
   "source": [
    "- Taking individual judgements:"
   ]
  },
  {
   "cell_type": "code",
   "execution_count": 187,
   "id": "cd6a2f7f-fc6c-4f77-93fb-715f0eba9b12",
   "metadata": {},
   "outputs": [
    {
     "name": "stdout",
     "output_type": "stream",
     "text": [
      "              rank-1    rank-2    rank-3    avg-rank    agreement\n",
      "----------  --------  --------  --------  ----------  -----------\n",
      "binding         0.24      0.32      0.44        2.2             1\n",
      "individual      0.45      0.38      0.17        1.72            1\n",
      "general         0.31      0.3       0.39        2.08            1\n"
     ]
    }
   ],
   "source": [
    "argument_ranks(main_df, aggregate=False)"
   ]
  },
  {
   "cell_type": "markdown",
   "id": "0c627297-cad9-4de2-bbb5-f03cd07bab3d",
   "metadata": {},
   "source": [
    "- Taking the majority rank from the six annotator:"
   ]
  },
  {
   "cell_type": "code",
   "execution_count": 188,
   "id": "2a807e45-e97a-4b47-ab99-4506de0c2596",
   "metadata": {
    "scrolled": true
   },
   "outputs": [
    {
     "name": "stdout",
     "output_type": "stream",
     "text": [
      "              rank-1    rank-2    rank-3    avg-rank    agreement\n",
      "----------  --------  --------  --------  ----------  -----------\n",
      "binding         0.24      0.32      0.44        2.2             1\n",
      "individual      0.45      0.38      0.17        1.72            1\n",
      "general         0.31      0.3       0.39        2.08            1\n"
     ]
    }
   ],
   "source": [
    "argument_ranks(main_df, aggregate=False)"
   ]
  },
  {
   "cell_type": "markdown",
   "id": "f7f06733-27b2-44d9-a6dd-35c5ea8b789b",
   "metadata": {},
   "source": [
    "- In general, morally framed arguments showed to be more effective than general arguments.\n",
    "- In general, arguments focusing on the individual morals, are best ranked."
   ]
  },
  {
   "cell_type": "markdown",
   "id": "dd155ea2-3099-4cfc-8bfc-71dc755a099a",
   "metadata": {},
   "source": [
    "#### A look at the liberals:"
   ]
  },
  {
   "cell_type": "code",
   "execution_count": 189,
   "id": "66781970-0f7d-4152-8851-22f639bffeef",
   "metadata": {},
   "outputs": [],
   "source": [
    "lib_df = main_df[main_df.ideology == 'Liberal']"
   ]
  },
  {
   "cell_type": "markdown",
   "id": "41174e6f-c2db-452f-a72c-86296e517f9f",
   "metadata": {},
   "source": [
    "- Results show that Liberals ranked binding-arguments more effective than the individual and general arguments (if we consdier both rank-1 and rank-2 against rank-3)."
   ]
  },
  {
   "cell_type": "code",
   "execution_count": 190,
   "id": "445bf346-e174-468e-b811-35d1d9dfd440",
   "metadata": {},
   "outputs": [
    {
     "name": "stdout",
     "output_type": "stream",
     "text": [
      "              rank-1    rank-2    rank-3    avg-rank    agreement\n",
      "----------  --------  --------  --------  ----------  -----------\n",
      "binding         0.23      0.37       0.4        2.17            1\n",
      "individual      0.4       0.4        0.2        1.8             1\n",
      "general         0.37      0.23       0.4        2.03            1\n"
     ]
    }
   ],
   "source": [
    "argument_ranks(lib_df, aggregate=False)"
   ]
  },
  {
   "cell_type": "code",
   "execution_count": 192,
   "id": "fc3f45ff-505d-4d93-9d58-29da06dfe4c0",
   "metadata": {
    "scrolled": true
   },
   "outputs": [
    {
     "name": "stdout",
     "output_type": "stream",
     "text": [
      "[2, 3, 1]\n",
      "returning -1\n",
      "[2, 1, 3]\n",
      "returning -1\n",
      "[3, 2, 3]\n",
      "[3, 2, 2]\n",
      "[3, 2, 2]\n",
      "[2, 3, 2]\n",
      "[1, 3, 2]\n",
      "returning -1\n",
      "[3, 3, 3]\n",
      "[2, 2, 3]\n",
      "[3, 2, 3]\n",
      "[1, 2, 3]\n",
      "returning -1\n",
      "[2, 3, 3]\n",
      "[2, 3, 3]\n",
      "[2, 1, 3]\n",
      "returning -1\n",
      "[2, 1, 3]\n",
      "returning -1\n",
      "[1, 1, 3]\n",
      "[1, 1, 1]\n",
      "[1, 3, 2]\n",
      "returning -1\n",
      "[1, 2, 2]\n",
      "[1, 2, 3]\n",
      "returning -1\n",
      "[1, 1, 2]\n",
      "[3, 2, 1]\n",
      "returning -1\n",
      "[1, 3, 2]\n",
      "returning -1\n",
      "[2, 3, 1]\n",
      "returning -1\n",
      "[1, 1, 1]\n",
      "[3, 2, 1]\n",
      "returning -1\n",
      "[2, 1, 1]\n",
      "[2, 2, 2]\n",
      "[3, 1, 2]\n",
      "returning -1\n",
      "[2, 3, 1]\n",
      "returning -1\n",
      "[2, 1, 1]\n",
      "[1, 1, 2]\n",
      "[1, 1, 2]\n",
      "[1, 3, 2]\n",
      "returning -1\n",
      "[1, 3, 2]\n",
      "returning -1\n",
      "[2, 2, 2]\n",
      "[2, 2, 2]\n",
      "[3, 2, 1]\n",
      "returning -1\n",
      "[3, 1, 1]\n",
      "[3, 3, 2]\n",
      "[3, 2, 3]\n",
      "[1, 3, 2]\n",
      "returning -1\n",
      "[2, 1, 1]\n",
      "[1, 1, 3]\n",
      "[2, 3, 3]\n",
      "[1, 1, 3]\n",
      "[3, 2, 3]\n",
      "[1, 1, 1]\n",
      "[1, 3, 1]\n",
      "[1, 1, 2]\n",
      "[3, 3, 2]\n",
      "[3, 2, 1]\n",
      "returning -1\n",
      "[3, 2, 1]\n",
      "returning -1\n",
      "[3, 2, 1]\n",
      "returning -1\n",
      "[3, 2, 1]\n",
      "returning -1\n",
      "[3, 3, 1]\n",
      "[3, 3, 3]\n",
      "[2, 1, 3]\n",
      "returning -1\n",
      "[2, 3, 3]\n",
      "[2, 1, 1]\n",
      "              rank-1    rank-2    rank-3    avg-rank    agreement\n",
      "----------  --------  --------  --------  ----------  -----------\n",
      "binding         0.17      0.42      0.42        2.17         0.6\n",
      "individual      0.64      0.27      0.09        1.8          0.55\n",
      "general         0.5       0         0.5         2.03         0.7\n"
     ]
    }
   ],
   "source": [
    "argument_ranks(lib_df, aggregate=True)"
   ]
  },
  {
   "cell_type": "markdown",
   "id": "a034039c-8fd3-493e-9d8f-a1aec15d83d4",
   "metadata": {},
   "source": [
    "Now lets invistigate how effectiveness differs if the annotators have the same stance or opposing stance to the provided arguments:"
   ]
  },
  {
   "cell_type": "markdown",
   "id": "1ef8cf7f-7bf8-4aa3-ac36-7b9829e2a166",
   "metadata": {},
   "source": [
    "- Liberals were decisive with their stance. They were always either pro or con, but not no-stance."
   ]
  },
  {
   "cell_type": "code",
   "execution_count": 193,
   "id": "93fd0822-38c0-4f19-917b-2fe0e1b63cf0",
   "metadata": {},
   "outputs": [
    {
     "data": {
      "text/plain": [
       "same    30\n",
       "diff    30\n",
       "Name: same_stance, dtype: int64"
      ]
     },
     "execution_count": 193,
     "metadata": {},
     "output_type": "execute_result"
    }
   ],
   "source": [
    "lib_df[lib_df['arg-type']=='binding']['same_stance'].value_counts()"
   ]
  },
  {
   "cell_type": "code",
   "execution_count": 194,
   "id": "85fc2f5e-9115-4bc6-8e0a-3012abd7b4db",
   "metadata": {
    "scrolled": true
   },
   "outputs": [
    {
     "name": "stdout",
     "output_type": "stream",
     "text": [
      "              rank-1    rank-2    rank-3    avg-rank    agreement\n",
      "----------  --------  --------  --------  ----------  -----------\n",
      "binding         0.2       0.33      0.47        2.27            1\n",
      "individual      0.37      0.43      0.2         1.83            1\n",
      "general         0.43      0.23      0.33        1.9             1\n"
     ]
    }
   ],
   "source": [
    "argument_ranks(lib_df[lib_df['same_stance']=='same'], aggregate=False)"
   ]
  },
  {
   "cell_type": "markdown",
   "id": "43f7a2b0-5c1d-4320-a72c-0baf6a70287a",
   "metadata": {},
   "source": [
    "- When arguments have different stance to the liberals, arguments focusing on their morals (individual-arguments) becamse more effective? (Weak signal)"
   ]
  },
  {
   "cell_type": "code",
   "execution_count": 195,
   "id": "41207799-c3da-478f-bd86-76bf1d983322",
   "metadata": {
    "scrolled": true
   },
   "outputs": [
    {
     "name": "stdout",
     "output_type": "stream",
     "text": [
      "              rank-1    rank-2    rank-3    avg-rank    agreement\n",
      "----------  --------  --------  --------  ----------  -----------\n",
      "binding         0.27      0.4       0.33        2.07            1\n",
      "individual      0.43      0.37      0.2         1.77            1\n",
      "general         0.3       0.23      0.47        2.17            1\n"
     ]
    }
   ],
   "source": [
    "argument_ranks(lib_df[lib_df['same_stance']=='diff'], aggregate=False)"
   ]
  },
  {
   "cell_type": "markdown",
   "id": "1bcb26ea-5748-4691-ad0f-895434ad67b8",
   "metadata": {},
   "source": [
    "#### A look at the Concervatives:"
   ]
  },
  {
   "cell_type": "code",
   "execution_count": 179,
   "id": "9688cc58-68b4-4c79-a220-f023d4471239",
   "metadata": {},
   "outputs": [],
   "source": [
    "con_df = main_df[main_df.ideology == 'Conservative']\n",
    "#con_df = con_df[con_df.user_stance != 3]"
   ]
  },
  {
   "cell_type": "markdown",
   "id": "7a51e320-d7cc-4703-aaf3-7f95ac935120",
   "metadata": {},
   "source": [
    "- Results show that Conservatives ranked individual-arguments more effective than the binding and general arguments.\n",
    "- Conservatives seem to be more affected by moral-arguments"
   ]
  },
  {
   "cell_type": "code",
   "execution_count": 182,
   "id": "9e86da11-3741-4424-b259-86bb3f1665e4",
   "metadata": {},
   "outputs": [
    {
     "name": "stdout",
     "output_type": "stream",
     "text": [
      "              rank-1    rank-2    rank-3    avg-rank    agreement\n",
      "----------  --------  --------  --------  ----------  -----------\n",
      "binding         0.25      0.27      0.48        2.23            1\n",
      "individual      0.5       0.37      0.13        1.63            1\n",
      "general         0.25      0.37      0.38        2.13            1\n"
     ]
    }
   ],
   "source": [
    "argument_ranks(con_df, aggregate=False)"
   ]
  },
  {
   "cell_type": "markdown",
   "id": "5703726b-cf2c-47f8-868c-360250fb17dc",
   "metadata": {},
   "source": [
    "Now lets invistigate how effectiveness differs if the annotators have the same stance or opposing stance to the provided arguments:"
   ]
  },
  {
   "cell_type": "code",
   "execution_count": 99,
   "id": "2349976e-a9ec-4936-822c-48372ee79269",
   "metadata": {},
   "outputs": [
    {
     "data": {
      "text/plain": [
       "same    24\n",
       "diff    24\n",
       "unk     12\n",
       "Name: same_stance, dtype: int64"
      ]
     },
     "execution_count": 99,
     "metadata": {},
     "output_type": "execute_result"
    }
   ],
   "source": [
    "con_df[con_df['arg-type']=='binding']['same_stance'].value_counts()"
   ]
  },
  {
   "cell_type": "code",
   "execution_count": 100,
   "id": "01f993c6-bc72-4086-a43a-927596235fe8",
   "metadata": {
    "tags": []
   },
   "outputs": [
    {
     "name": "stdout",
     "output_type": "stream",
     "text": [
      "              rank-1    rank-2    rank-3    avg-rank    agreement\n",
      "----------  --------  --------  --------  ----------  -----------\n",
      "binding         0.25      0.21      0.54        2.29            1\n",
      "individual      0.5       0.29      0.21        1.71            1\n",
      "general         0.25      0.5       0.25        2               1\n"
     ]
    }
   ],
   "source": [
    "argument_ranks(con_df[con_df['same_stance']=='same'], aggregate=False)"
   ]
  },
  {
   "cell_type": "code",
   "execution_count": 101,
   "id": "2119bb75-1d12-410b-8a6c-81313c6334b0",
   "metadata": {},
   "outputs": [
    {
     "name": "stdout",
     "output_type": "stream",
     "text": [
      "              rank-1    rank-2    rank-3    avg-rank    agreement\n",
      "----------  --------  --------  --------  ----------  -----------\n",
      "binding         0.17      0.21      0.62        2.46            1\n",
      "individual      0.5       0.46      0.04        1.54            1\n",
      "general         0.33      0.33      0.33        2               1\n"
     ]
    }
   ],
   "source": [
    "argument_ranks(con_df[con_df['same_stance'] == 'diff'], aggregate=False)"
   ]
  },
  {
   "cell_type": "code",
   "execution_count": 102,
   "id": "196a5e5a-4aed-46ae-9078-318bceb09f28",
   "metadata": {
    "tags": []
   },
   "outputs": [
    {
     "name": "stdout",
     "output_type": "stream",
     "text": [
      "              rank-1    rank-2    rank-3    avg-rank    agreement\n",
      "----------  --------  --------  --------  ----------  -----------\n",
      "binding         0.42      0.5       0.08        1.67            1\n",
      "individual      0.5       0.33      0.17        1.67            1\n",
      "general         0.08      0.17      0.75        2.67            1\n"
     ]
    }
   ],
   "source": [
    "argument_ranks(con_df[con_df['same_stance']=='unk'], aggregate=False)"
   ]
  },
  {
   "cell_type": "code",
   "execution_count": 107,
   "id": "b228113b-1ec7-44d0-8a28-2504c15117a8",
   "metadata": {},
   "outputs": [
    {
     "name": "stdout",
     "output_type": "stream",
     "text": [
      "              rank-1    rank-2    rank-3    avg-rank    agreement\n",
      "----------  --------  --------  --------  ----------  -----------\n",
      "binding         0.25      0.31      0.44        2.19            1\n",
      "individual      0.5       0.42      0.08        1.58            1\n",
      "general         0.25      0.28      0.47        2.22            1\n"
     ]
    }
   ],
   "source": [
    "argument_ranks(con_df[con_df['same_stance']!='same'], aggregate=False)"
   ]
  },
  {
   "cell_type": "markdown",
   "id": "0608a1a0-ebdc-4b4f-9705-ff4eadd43acc",
   "metadata": {},
   "source": [
    "-------"
   ]
  },
  {
   "cell_type": "markdown",
   "id": "245b9fb6-f288-4397-bdb6-0f88e8763261",
   "metadata": {},
   "source": [
    "### Computing confidence intervals:"
   ]
  },
  {
   "cell_type": "markdown",
   "id": "e66c5205-30e6-4895-b25e-ee488e078cd9",
   "metadata": {},
   "source": [
    "How to report on this? https://www.statology.org/how-to-report-confidence-intervals/"
   ]
  },
  {
   "cell_type": "code",
   "execution_count": 14,
   "id": "2c28a785-a38e-4667-add6-ee0a1f773d5d",
   "metadata": {},
   "outputs": [],
   "source": [
    "from statsmodels.stats.weightstats import *"
   ]
  },
  {
   "cell_type": "code",
   "execution_count": 62,
   "id": "7a4e01b5-bbda-4546-b060-aab9f4f98143",
   "metadata": {},
   "outputs": [
    {
     "name": "stdout",
     "output_type": "stream",
     "text": [
      "Indvidualizing Vs. Non-moral for All:\n",
      "Distribution is not normal, so using wilcoxon\n",
      "T-test: True\n"
     ]
    },
    {
     "data": {
      "text/html": [
       "<table class=\"simpletable\">\n",
       "<caption>Test for equality of means</caption>\n",
       "<tr>\n",
       "      <td></td>         <th>coef</th>     <th>std err</th>      <th>t</th>      <th>P>|t|</th>  <th>[0.025</th>    <th>0.975]</th>  \n",
       "</tr>\n",
       "<tr>\n",
       "  <th>subset #1</th> <td>    0.3667</td> <td>    0.102</td> <td>    3.607</td> <td> 0.000</td> <td>    0.166</td> <td>    0.567</td>\n",
       "</tr>\n",
       "</table>"
      ],
      "text/plain": [
       "<class 'statsmodels.iolib.table.SimpleTable'>"
      ]
     },
     "execution_count": 62,
     "metadata": {},
     "output_type": "execute_result"
    }
   ],
   "source": [
    "print('Indvidualizing Vs. Non-moral for All:')\n",
    "\n",
    "indi_arg_ranks = main_df[(main_df['arg-type'].isin(['individual']))]['rank'].tolist() #we average the scores of moral arguments\n",
    "nonmoral_arg_ranks = main_df[(main_df['arg-type'] == 'general')]['rank'].tolist()\n",
    "\n",
    "print('T-test:', check_sig(nonmoral_arg_ranks, indi_arg_ranks, alpha=0.05))\n",
    "cm = CompareMeans.from_data(np.array(nonmoral_arg_ranks), np.array(indi_arg_ranks))\n",
    "cm.summary(alpha=0.05)"
   ]
  },
  {
   "cell_type": "code",
   "execution_count": 70,
   "id": "e98a6866-be6d-4cf7-b4f5-c24118240162",
   "metadata": {},
   "outputs": [
    {
     "name": "stdout",
     "output_type": "stream",
     "text": [
      "Moral Vs. Non-moral for Liberals:\n",
      "Distribution is not normal, so using wilcoxon\n",
      "T-test: True\n"
     ]
    },
    {
     "data": {
      "text/html": [
       "<table class=\"simpletable\">\n",
       "<caption>Test for equality of means</caption>\n",
       "<tr>\n",
       "      <td></td>         <th>coef</th>     <th>std err</th>      <th>t</th>      <th>P>|t|</th>   <th>[0.05</th>     <th>0.95]</th>  \n",
       "</tr>\n",
       "<tr>\n",
       "  <th>subset #1</th> <td>    0.1250</td> <td>    0.085</td> <td>    1.465</td> <td> 0.144</td> <td>   -0.016</td> <td>    0.266</td>\n",
       "</tr>\n",
       "</table>"
      ],
      "text/plain": [
       "<class 'statsmodels.iolib.table.SimpleTable'>"
      ]
     },
     "execution_count": 70,
     "metadata": {},
     "output_type": "execute_result"
    }
   ],
   "source": [
    "print('Moral Vs. Non-moral for Liberals:')\n",
    "\n",
    "df = main_df[(main_df['same_stance']=='diff') & (main_df['ideology']=='Liberal')]\n",
    "\n",
    "\n",
    "avg_moral_arg_ranks = main_df[(main_df['arg-type'].isin(['binding', 'individual']))].groupby(['topic', 'arg_stance', 'email']).agg({'rank': lambda x: np.mean(x)}).reset_index()['rank'].tolist() #we average the scores of moral arguments\n",
    "nonmoral_arg_ranks = main_df[(main_df['arg-type'] == 'general')]['rank'].tolist()\n",
    "\n",
    "print('T-test:', check_sig(nonmoral_arg_ranks, avg_moral_arg_ranks, alpha=0.1))\n",
    "cm = CompareMeans.from_data(np.array(nonmoral_arg_ranks), np.array(avg_moral_arg_ranks))\n",
    "cm.summary(alpha=0.1)"
   ]
  },
  {
   "cell_type": "code",
   "execution_count": 46,
   "id": "a1e1a1eb-e5de-499c-a54b-34f317c74970",
   "metadata": {},
   "outputs": [
    {
     "name": "stdout",
     "output_type": "stream",
     "text": [
      "Moral Vs. Non-moral for All:\n",
      "Distribution is not normal, so using wilcoxon\n",
      "T-test: True\n"
     ]
    },
    {
     "data": {
      "text/html": [
       "<table class=\"simpletable\">\n",
       "<caption>Test for equality of means</caption>\n",
       "<tr>\n",
       "      <td></td>         <th>coef</th>     <th>std err</th>      <th>t</th>      <th>P>|t|</th>   <th>[0.05</th>     <th>0.95]</th>  \n",
       "</tr>\n",
       "<tr>\n",
       "  <th>subset #1</th> <td>    0.1250</td> <td>    0.085</td> <td>    1.465</td> <td> 0.144</td> <td>   -0.016</td> <td>    0.266</td>\n",
       "</tr>\n",
       "</table>"
      ],
      "text/plain": [
       "<class 'statsmodels.iolib.table.SimpleTable'>"
      ]
     },
     "execution_count": 46,
     "metadata": {},
     "output_type": "execute_result"
    }
   ],
   "source": [
    "print('Moral Vs. Non-moral for All:')\n",
    "\n",
    "avg_moral_arg_ranks = main_df[(main_df['arg-type'].isin(['binding', 'individual']))].groupby(['topic', 'arg_stance', 'email']).agg({'rank': lambda x: np.mean(x)}).reset_index()['rank'].tolist() #we average the scores of moral arguments\n",
    "nonmoral_arg_ranks = main_df[(main_df['arg-type'] == 'general')]['rank'].tolist()\n",
    "\n",
    "print('T-test:', check_sig(nonmoral_arg_ranks, avg_moral_arg_ranks, alpha=0.1))\n",
    "cm = CompareMeans.from_data(np.array(nonmoral_arg_ranks), np.array(avg_moral_arg_ranks))\n",
    "cm.summary(alpha=0.1)"
   ]
  },
  {
   "cell_type": "code",
   "execution_count": 45,
   "id": "32bd184d-3fe1-48ca-b056-303dbbeeeb2f",
   "metadata": {},
   "outputs": [
    {
     "name": "stdout",
     "output_type": "stream",
     "text": [
      "Moral Vs. Non-moral for All, considering challanging arguments:\n",
      "Distribution is not normal, so using wilcoxon\n",
      "Non-moral arguments's ranks are significantly lower than moral arguments:  False\n"
     ]
    },
    {
     "data": {
      "text/html": [
       "<table class=\"simpletable\">\n",
       "<caption>Test for equality of means</caption>\n",
       "<tr>\n",
       "      <td></td>         <th>coef</th>     <th>std err</th>      <th>t</th>      <th>P>|t|</th>   <th>[0.05</th>     <th>0.95]</th>  \n",
       "</tr>\n",
       "<tr>\n",
       "  <th>subset #1</th> <td>    0.1389</td> <td>    0.130</td> <td>    1.071</td> <td> 0.287</td> <td>   -0.076</td> <td>    0.354</td>\n",
       "</tr>\n",
       "</table>"
      ],
      "text/plain": [
       "<class 'statsmodels.iolib.table.SimpleTable'>"
      ]
     },
     "execution_count": 45,
     "metadata": {},
     "output_type": "execute_result"
    }
   ],
   "source": [
    "print('Moral Vs. Non-moral for All, considering challanging arguments:')\n",
    "\n",
    "df = main_df[main_df['same_stance']=='diff']\n",
    "\n",
    "avg_moral_arg_ranks = df[(df['arg-type'].isin(['binding', 'individual']))].groupby(['topic', 'arg_stance', 'email']).agg({'rank': lambda x: np.mean(x)}).reset_index()['rank'].tolist() #we average the scores of moral arguments\n",
    "nonmoral_arg_ranks = df[(df['arg-type'] == 'general')]['rank'].tolist()\n",
    "print('Non-moral arguments\\'s ranks are significantly lower than moral arguments: ', check_sig(nonmoral_arg_ranks, avg_moral_arg_ranks, alpha=0.1))\n",
    "cm = CompareMeans.from_data(np.array(nonmoral_arg_ranks), np.array(avg_moral_arg_ranks))\n",
    "cm.summary(alpha=0.1)"
   ]
  },
  {
   "cell_type": "code",
   "execution_count": 76,
   "id": "d7ccb81b-66aa-413c-95df-32b9c101666c",
   "metadata": {},
   "outputs": [
    {
     "name": "stdout",
     "output_type": "stream",
     "text": [
      "Moral Vs. Non-moral for Conservatives:\n",
      "Distribution is not normal, so using wilcoxon\n",
      "Non-moral arguments's ranks are significantly lower than moral arguments for Conservatives:  True\n"
     ]
    },
    {
     "data": {
      "text/html": [
       "<table class=\"simpletable\">\n",
       "<caption>Test for equality of means</caption>\n",
       "<tr>\n",
       "      <td></td>         <th>coef</th>     <th>std err</th>      <th>t</th>      <th>P>|t|</th>   <th>[0.05</th>     <th>0.95]</th>  \n",
       "</tr>\n",
       "<tr>\n",
       "  <th>subset #1</th> <td>    0.2000</td> <td>    0.114</td> <td>    1.751</td> <td> 0.082</td> <td>    0.011</td> <td>    0.389</td>\n",
       "</tr>\n",
       "</table>"
      ],
      "text/plain": [
       "<class 'statsmodels.iolib.table.SimpleTable'>"
      ]
     },
     "execution_count": 76,
     "metadata": {},
     "output_type": "execute_result"
    }
   ],
   "source": [
    "print('Moral Vs. Non-moral for Conservatives:')\n",
    "df = main_df[main_df['ideology'] == 'Conservative']\n",
    "\n",
    "avg_moral_arg_ranks = df[(df['arg-type'].isin(['binding', 'individual']))].groupby(['topic', 'arg_stance', 'email']).agg({'rank': lambda x: np.mean(x)}).reset_index()['rank'].tolist() #we average the scores of moral arguments\n",
    "nonmoral_arg_ranks = df[(df['arg-type'] == 'general')]['rank'].tolist()\n",
    "\n",
    "print('Non-moral arguments\\'s ranks are significantly lower than moral arguments for Conservatives: ', check_sig(nonmoral_arg_ranks, avg_moral_arg_ranks, alpha=0.1))\n",
    "cm = CompareMeans.from_data(np.array(nonmoral_arg_ranks), np.array(avg_moral_arg_ranks))\n",
    "cm.summary(alpha=0.1)"
   ]
  },
  {
   "cell_type": "code",
   "execution_count": 53,
   "id": "27656317-4d5a-44ce-bace-06098b034698",
   "metadata": {},
   "outputs": [
    {
     "name": "stdout",
     "output_type": "stream",
     "text": [
      "Individualizing vs. Binding for liberals:\n",
      "Distribution is not normal, so using wilcoxon\n",
      "Non-moral arguments's ranks are significantly lower than moral arguments:  True\n"
     ]
    },
    {
     "data": {
      "text/html": [
       "<table class=\"simpletable\">\n",
       "<caption>Test for equality of means</caption>\n",
       "<tr>\n",
       "      <td></td>         <th>coef</th>     <th>std err</th>      <th>t</th>      <th>P>|t|</th>   <th>[0.05</th>     <th>0.95]</th>  \n",
       "</tr>\n",
       "<tr>\n",
       "  <th>subset #1</th> <td>    0.3667</td> <td>    0.141</td> <td>    2.609</td> <td> 0.010</td> <td>    0.134</td> <td>    0.600</td>\n",
       "</tr>\n",
       "</table>"
      ],
      "text/plain": [
       "<class 'statsmodels.iolib.table.SimpleTable'>"
      ]
     },
     "execution_count": 53,
     "metadata": {},
     "output_type": "execute_result"
    }
   ],
   "source": [
    "print('Individualizing vs. Binding for liberals:')\n",
    "\n",
    "df = main_df[main_df['ideology'] == 'Liberal']\n",
    "\n",
    "binding_ranks = df[(df['arg-type'].isin(['binding']))]['rank'].tolist() #we average the scores of moral arguments\n",
    "indi_ranks = df[(df['arg-type'].isin(['individual']))]['rank'].tolist() #we average the scores of moral arguments\n",
    "\n",
    "print('Non-moral arguments\\'s ranks are significantly lower than moral arguments: ', check_sig(binding_ranks, indi_ranks, alpha=0.1))\n",
    "cm = CompareMeans.from_data(np.array(binding_ranks), np.array(indi_ranks))\n",
    "cm.summary(alpha=0.1)"
   ]
  },
  {
   "cell_type": "code",
   "execution_count": 77,
   "id": "d916058b-823b-40df-9c9e-61ec33c6c168",
   "metadata": {},
   "outputs": [
    {
     "name": "stdout",
     "output_type": "stream",
     "text": [
      "Binding vs. non-moral for Conservatives, when arguments are challanging:\n",
      "Distribution is not normal, so using wilcoxon\n",
      "Non-moral arguments's ranks are significantly lower than moral arguments:  False\n"
     ]
    },
    {
     "data": {
      "text/html": [
       "<table class=\"simpletable\">\n",
       "<caption>Test for equality of means</caption>\n",
       "<tr>\n",
       "      <td></td>         <th>coef</th>     <th>std err</th>      <th>t</th>      <th>P>|t|</th>   <th>[0.05</th>     <th>0.95]</th>  \n",
       "</tr>\n",
       "<tr>\n",
       "  <th>subset #1</th> <td>   -0.4583</td> <td>    0.233</td> <td>   -1.967</td> <td> 0.055</td> <td>   -0.849</td> <td>   -0.067</td>\n",
       "</tr>\n",
       "</table>"
      ],
      "text/plain": [
       "<class 'statsmodels.iolib.table.SimpleTable'>"
      ]
     },
     "execution_count": 77,
     "metadata": {},
     "output_type": "execute_result"
    }
   ],
   "source": [
    "print('Binding vs. non-moral for Conservatives, when arguments are challanging:')\n",
    "\n",
    "df = main_df[(main_df['ideology'] == 'Conservative') & (main_df['same_stance'] == 'diff')]\n",
    "\n",
    "binding_ranks = df[(df['arg-type'].isin(['binding']))]['rank'].tolist() #we average the scores of moral arguments\n",
    "nonmoral_ranks = df[(df['arg-type'].isin(['general']))]['rank'].tolist() #we average the scores of moral arguments\n",
    "\n",
    "print('Non-moral arguments\\'s ranks are significantly lower than moral arguments: ', check_sig(nonmoral_ranks, binding_ranks, alpha=0.1))\n",
    "cm = CompareMeans.from_data(np.array(nonmoral_ranks), np.array(binding_ranks))\n",
    "cm.summary(alpha=0.1)"
   ]
  },
  {
   "cell_type": "code",
   "execution_count": 26,
   "id": "1897d97c-c85a-4ba9-b02a-60865962164a",
   "metadata": {},
   "outputs": [
    {
     "data": {
      "text/html": [
       "<div>\n",
       "<style scoped>\n",
       "    .dataframe tbody tr th:only-of-type {\n",
       "        vertical-align: middle;\n",
       "    }\n",
       "\n",
       "    .dataframe tbody tr th {\n",
       "        vertical-align: top;\n",
       "    }\n",
       "\n",
       "    .dataframe thead th {\n",
       "        text-align: right;\n",
       "    }\n",
       "</style>\n",
       "<table border=\"1\" class=\"dataframe\">\n",
       "  <thead>\n",
       "    <tr style=\"text-align: right;\">\n",
       "      <th></th>\n",
       "      <th>email</th>\n",
       "      <th>ideology</th>\n",
       "      <th>user_stance</th>\n",
       "      <th>arg_stance</th>\n",
       "      <th>topic</th>\n",
       "      <th>arg-type</th>\n",
       "      <th>rank</th>\n",
       "      <th>same_stance</th>\n",
       "    </tr>\n",
       "  </thead>\n",
       "  <tbody>\n",
       "    <tr>\n",
       "      <th>0</th>\n",
       "      <td>onnaday@onnaday.com</td>\n",
       "      <td>Liberal</td>\n",
       "      <td>1</td>\n",
       "      <td>pro</td>\n",
       "      <td>death-penalty</td>\n",
       "      <td>binding</td>\n",
       "      <td>2</td>\n",
       "      <td>diff</td>\n",
       "    </tr>\n",
       "    <tr>\n",
       "      <th>1</th>\n",
       "      <td>onnaday@onnaday.com</td>\n",
       "      <td>Liberal</td>\n",
       "      <td>1</td>\n",
       "      <td>pro</td>\n",
       "      <td>death-penalty</td>\n",
       "      <td>individual</td>\n",
       "      <td>3</td>\n",
       "      <td>diff</td>\n",
       "    </tr>\n",
       "    <tr>\n",
       "      <th>2</th>\n",
       "      <td>onnaday@onnaday.com</td>\n",
       "      <td>Liberal</td>\n",
       "      <td>1</td>\n",
       "      <td>pro</td>\n",
       "      <td>death-penalty</td>\n",
       "      <td>general</td>\n",
       "      <td>1</td>\n",
       "      <td>diff</td>\n",
       "    </tr>\n",
       "    <tr>\n",
       "      <th>3</th>\n",
       "      <td>onnaday@onnaday.com</td>\n",
       "      <td>Liberal</td>\n",
       "      <td>1</td>\n",
       "      <td>con</td>\n",
       "      <td>death-penalty</td>\n",
       "      <td>binding</td>\n",
       "      <td>3</td>\n",
       "      <td>same</td>\n",
       "    </tr>\n",
       "    <tr>\n",
       "      <th>4</th>\n",
       "      <td>onnaday@onnaday.com</td>\n",
       "      <td>Liberal</td>\n",
       "      <td>1</td>\n",
       "      <td>con</td>\n",
       "      <td>death-penalty</td>\n",
       "      <td>individual</td>\n",
       "      <td>1</td>\n",
       "      <td>same</td>\n",
       "    </tr>\n",
       "  </tbody>\n",
       "</table>\n",
       "</div>"
      ],
      "text/plain": [
       "                 email ideology  user_stance arg_stance          topic  \\\n",
       "0  onnaday@onnaday.com  Liberal            1        pro  death-penalty   \n",
       "1  onnaday@onnaday.com  Liberal            1        pro  death-penalty   \n",
       "2  onnaday@onnaday.com  Liberal            1        pro  death-penalty   \n",
       "3  onnaday@onnaday.com  Liberal            1        con  death-penalty   \n",
       "4  onnaday@onnaday.com  Liberal            1        con  death-penalty   \n",
       "\n",
       "     arg-type  rank same_stance  \n",
       "0     binding     2        diff  \n",
       "1  individual     3        diff  \n",
       "2     general     1        diff  \n",
       "3     binding     3        same  \n",
       "4  individual     1        same  "
      ]
     },
     "execution_count": 26,
     "metadata": {},
     "output_type": "execute_result"
    }
   ],
   "source": [
    "main_df.head()"
   ]
  },
  {
   "cell_type": "markdown",
   "id": "fe8adc53-014e-455f-8d7d-d296ab023fd8",
   "metadata": {},
   "source": [
    "--------"
   ]
  },
  {
   "cell_type": "markdown",
   "id": "5997b696-e9d3-4504-91e9-01562c96d117",
   "metadata": {},
   "source": [
    "#### Follow-up quesionnaire:"
   ]
  },
  {
   "cell_type": "code",
   "execution_count": 62,
   "id": "2cf38e51-bc40-464b-b2c2-0e209057de3b",
   "metadata": {},
   "outputs": [
    {
     "name": "stdout",
     "output_type": "stream",
     "text": [
      "moral-foundation-main-study.csv  moral-foundation-part2-responses.csv\n"
     ]
    }
   ],
   "source": [
    "ls ../../../computational-moral-foundations/moral-based-argumentation/data/moral-survey"
   ]
  },
  {
   "cell_type": "code",
   "execution_count": 63,
   "id": "db4c110e-ecdc-4947-b597-4035b42b530c",
   "metadata": {},
   "outputs": [],
   "source": [
    "df = pd.read_csv(data_fold_path + 'moral-survey/moral-foundation-followup-questionnaire.csv')"
   ]
  },
  {
   "cell_type": "code",
   "execution_count": 64,
   "id": "0dda1bd4-e93e-476c-92d2-1ab9d97753e2",
   "metadata": {},
   "outputs": [
    {
     "data": {
      "text/html": [
       "<div>\n",
       "<style scoped>\n",
       "    .dataframe tbody tr th:only-of-type {\n",
       "        vertical-align: middle;\n",
       "    }\n",
       "\n",
       "    .dataframe tbody tr th {\n",
       "        vertical-align: top;\n",
       "    }\n",
       "\n",
       "    .dataframe thead th {\n",
       "        text-align: right;\n",
       "    }\n",
       "</style>\n",
       "<table border=\"1\" class=\"dataframe\">\n",
       "  <thead>\n",
       "    <tr style=\"text-align: right;\">\n",
       "      <th></th>\n",
       "      <th>Timestamp</th>\n",
       "      <th>Email Address</th>\n",
       "      <th>YOUR VIEWS: When arguments contested your stance on the topic, which of the following arguments did you see as more effective:</th>\n",
       "      <th>YOUR KNOWLEDGE: When arguments contested your stance on the topic, which of the following arguments did you see as more effective</th>\n",
       "      <th>OTHERS' VIEWS: When arguments contested your stance on the topic, which of the following arguments did you see as more effective</th>\n",
       "      <th>When arguments contested your stance on the topic, which of the above three was most important for you to judge about effectiveness:</th>\n",
       "      <th>YOUR VIEWS: When arguments had similar stance to yours, which of the following arguments did you see as more effective:</th>\n",
       "      <th>YOUR KNOWLEDGE: When arguments has similar stance to yours, which of the following arguments did you see as more effective</th>\n",
       "      <th>OTHERS' VIEWS: When arguments had similar stance to yours, which of the following arguments did you see as more effective</th>\n",
       "      <th>When arguments had similar stance to yours, which of the above three was most important for you to judge about effectiveness:</th>\n",
       "      <th>Are there are other important factors that influenced your judgment of the effectiveness:</th>\n",
       "    </tr>\n",
       "  </thead>\n",
       "  <tbody>\n",
       "    <tr>\n",
       "      <th>0</th>\n",
       "      <td>7/21/2021 22:38:42</td>\n",
       "      <td>bret.thurman0129@gmail.com</td>\n",
       "      <td>Arguments that challenged your views</td>\n",
       "      <td>Arguments that introduce views you were not fa...</td>\n",
       "      <td>Neither of those was important</td>\n",
       "      <td>Others' views</td>\n",
       "      <td>Arguments that challenged your views</td>\n",
       "      <td>Arguments that introduce views you were not fa...</td>\n",
       "      <td>Arguments you saw as particularly convincing t...</td>\n",
       "      <td>Others' views</td>\n",
       "      <td>NaN</td>\n",
       "    </tr>\n",
       "    <tr>\n",
       "      <th>1</th>\n",
       "      <td>7/21/2021 23:22:52</td>\n",
       "      <td>onnaday@onnaday.com</td>\n",
       "      <td>Neither of those was important</td>\n",
       "      <td>Arguments that introduce views you were not fa...</td>\n",
       "      <td>Arguments you saw as particularly convincing t...</td>\n",
       "      <td>Your knowledge</td>\n",
       "      <td>Arguments that matched your views</td>\n",
       "      <td>Arguments that introduce views you were not fa...</td>\n",
       "      <td>Arguments you saw as particularly convincing t...</td>\n",
       "      <td>Your knowledge</td>\n",
       "      <td>One's presentation of their views is something...</td>\n",
       "    </tr>\n",
       "    <tr>\n",
       "      <th>2</th>\n",
       "      <td>7/22/2021 1:16:07</td>\n",
       "      <td>mollynm@gmail.com</td>\n",
       "      <td>Neither of those was important</td>\n",
       "      <td>Arguments that introduce views you were not fa...</td>\n",
       "      <td>Arguments you saw as particularly convincing t...</td>\n",
       "      <td>Others' views</td>\n",
       "      <td>Arguments that matched your views</td>\n",
       "      <td>Arguments based on views you already knew about</td>\n",
       "      <td>Arguments you saw as particularly convincing t...</td>\n",
       "      <td>Your knowledge</td>\n",
       "      <td>Some other factors that influenced my judgemen...</td>\n",
       "    </tr>\n",
       "    <tr>\n",
       "      <th>3</th>\n",
       "      <td>7/22/2021 7:55:45</td>\n",
       "      <td>faith.brandi@gmail.com</td>\n",
       "      <td>Arguments that challenged your views</td>\n",
       "      <td>Arguments that introduce views you were not fa...</td>\n",
       "      <td>Arguments you saw as particularly convincing t...</td>\n",
       "      <td>Your knowledge</td>\n",
       "      <td>Arguments that matched your views</td>\n",
       "      <td>Arguments based on views you already knew about</td>\n",
       "      <td>Arguments you saw as particularly convincing t...</td>\n",
       "      <td>Your knowledge</td>\n",
       "      <td>Arguments that were free from grammatical erro...</td>\n",
       "    </tr>\n",
       "    <tr>\n",
       "      <th>4</th>\n",
       "      <td>7/23/2021 16:06:31</td>\n",
       "      <td>mikestroup@suddenlink.net</td>\n",
       "      <td>Arguments that challenged your views</td>\n",
       "      <td>Neither of those was important</td>\n",
       "      <td>Neither of those was important</td>\n",
       "      <td>Your knowledge</td>\n",
       "      <td>Neither of those was important</td>\n",
       "      <td>Arguments that introduce views you were not fa...</td>\n",
       "      <td>Neither of those was important</td>\n",
       "      <td>Your knowledge</td>\n",
       "      <td>Verifiable acts and logical arguments speak mu...</td>\n",
       "    </tr>\n",
       "    <tr>\n",
       "      <th>5</th>\n",
       "      <td>7/25/2021 0:56:09</td>\n",
       "      <td>mpy2@aol.com</td>\n",
       "      <td>Arguments that matched your views</td>\n",
       "      <td>Arguments that introduce views you were not fa...</td>\n",
       "      <td>Arguments you saw as particularly convincing t...</td>\n",
       "      <td>Your knowledge</td>\n",
       "      <td>Arguments that challenged your views</td>\n",
       "      <td>Arguments that introduce views you were not fa...</td>\n",
       "      <td>Arguments you saw as particularly convincing t...</td>\n",
       "      <td>Your knowledge</td>\n",
       "      <td>pertinent evidence and actual consequences</td>\n",
       "    </tr>\n",
       "  </tbody>\n",
       "</table>\n",
       "</div>"
      ],
      "text/plain": [
       "            Timestamp               Email Address  \\\n",
       "0  7/21/2021 22:38:42  bret.thurman0129@gmail.com   \n",
       "1  7/21/2021 23:22:52         onnaday@onnaday.com   \n",
       "2   7/22/2021 1:16:07           mollynm@gmail.com   \n",
       "3   7/22/2021 7:55:45      faith.brandi@gmail.com   \n",
       "4  7/23/2021 16:06:31   mikestroup@suddenlink.net   \n",
       "5   7/25/2021 0:56:09                mpy2@aol.com   \n",
       "\n",
       "  YOUR VIEWS: When arguments contested your stance on the topic, which of the following arguments did you see as more effective:  \\\n",
       "0               Arguments that challenged your views                                                                               \n",
       "1                     Neither of those was important                                                                               \n",
       "2                     Neither of those was important                                                                               \n",
       "3               Arguments that challenged your views                                                                               \n",
       "4               Arguments that challenged your views                                                                               \n",
       "5                  Arguments that matched your views                                                                               \n",
       "\n",
       "  YOUR KNOWLEDGE: When arguments contested your stance on the topic, which of the following arguments did you see as more effective  \\\n",
       "0  Arguments that introduce views you were not fa...                                                                                  \n",
       "1  Arguments that introduce views you were not fa...                                                                                  \n",
       "2  Arguments that introduce views you were not fa...                                                                                  \n",
       "3  Arguments that introduce views you were not fa...                                                                                  \n",
       "4                     Neither of those was important                                                                                  \n",
       "5  Arguments that introduce views you were not fa...                                                                                  \n",
       "\n",
       "  OTHERS' VIEWS: When arguments contested your stance on the topic, which of the following arguments did you see as more effective  \\\n",
       "0                     Neither of those was important                                                                                 \n",
       "1  Arguments you saw as particularly convincing t...                                                                                 \n",
       "2  Arguments you saw as particularly convincing t...                                                                                 \n",
       "3  Arguments you saw as particularly convincing t...                                                                                 \n",
       "4                     Neither of those was important                                                                                 \n",
       "5  Arguments you saw as particularly convincing t...                                                                                 \n",
       "\n",
       "  When arguments contested your stance on the topic, which of the above three was most important for you to judge about effectiveness:  \\\n",
       "0                                      Others' views                                                                                     \n",
       "1                                     Your knowledge                                                                                     \n",
       "2                                      Others' views                                                                                     \n",
       "3                                     Your knowledge                                                                                     \n",
       "4                                     Your knowledge                                                                                     \n",
       "5                                     Your knowledge                                                                                     \n",
       "\n",
       "  YOUR VIEWS: When arguments had similar stance to yours, which of the following arguments did you see as more effective:  \\\n",
       "0               Arguments that challenged your views                                                                        \n",
       "1                  Arguments that matched your views                                                                        \n",
       "2                  Arguments that matched your views                                                                        \n",
       "3                  Arguments that matched your views                                                                        \n",
       "4                     Neither of those was important                                                                        \n",
       "5               Arguments that challenged your views                                                                        \n",
       "\n",
       "  YOUR KNOWLEDGE: When arguments has similar stance to yours, which of the following arguments did you see as more effective  \\\n",
       "0  Arguments that introduce views you were not fa...                                                                           \n",
       "1  Arguments that introduce views you were not fa...                                                                           \n",
       "2    Arguments based on views you already knew about                                                                           \n",
       "3    Arguments based on views you already knew about                                                                           \n",
       "4  Arguments that introduce views you were not fa...                                                                           \n",
       "5  Arguments that introduce views you were not fa...                                                                           \n",
       "\n",
       "  OTHERS' VIEWS: When arguments had similar stance to yours, which of the following arguments did you see as more effective  \\\n",
       "0  Arguments you saw as particularly convincing t...                                                                          \n",
       "1  Arguments you saw as particularly convincing t...                                                                          \n",
       "2  Arguments you saw as particularly convincing t...                                                                          \n",
       "3  Arguments you saw as particularly convincing t...                                                                          \n",
       "4                     Neither of those was important                                                                          \n",
       "5  Arguments you saw as particularly convincing t...                                                                          \n",
       "\n",
       "  When arguments had similar stance to yours, which of the above three was most important for you to judge about effectiveness:  \\\n",
       "0                                      Others' views                                                                              \n",
       "1                                     Your knowledge                                                                              \n",
       "2                                     Your knowledge                                                                              \n",
       "3                                     Your knowledge                                                                              \n",
       "4                                     Your knowledge                                                                              \n",
       "5                                     Your knowledge                                                                              \n",
       "\n",
       "  Are there are other important factors that influenced your judgment of the effectiveness:  \n",
       "0                                                NaN                                         \n",
       "1  One's presentation of their views is something...                                         \n",
       "2  Some other factors that influenced my judgemen...                                         \n",
       "3  Arguments that were free from grammatical erro...                                         \n",
       "4  Verifiable acts and logical arguments speak mu...                                         \n",
       "5        pertinent evidence and actual consequences                                          "
      ]
     },
     "execution_count": 64,
     "metadata": {},
     "output_type": "execute_result"
    }
   ],
   "source": [
    "df.head(n=10)"
   ]
  },
  {
   "cell_type": "code",
   "execution_count": 69,
   "id": "0b34895e-8cf8-4527-a498-96a309b8289c",
   "metadata": {},
   "outputs": [],
   "source": [
    "data = []\n",
    "\n",
    "for idx, row in df.iterrows():\n",
    "    ideology = users_ideology_map[row['Email Address']]\n",
    "    for clm in df.columns.tolist()[2:-1]:\n",
    "        data.append([ideology, 'challanging' if 'contested' in clm else 'empowering', clm, row[clm]])\n",
    "\n",
    "new_df = pd.DataFrame(data, columns=['ideology', 'argument_type', 'question', 'answer_option'])"
   ]
  },
  {
   "cell_type": "code",
   "execution_count": 78,
   "id": "249b9b73-73bc-4f30-a31e-81de3f8c26de",
   "metadata": {},
   "outputs": [
    {
     "data": {
      "text/plain": [
       "Arguments that introduce views you were not familiar with                               9\n",
       "Your knowledge                                                                          9\n",
       "Arguments you saw as particularly convincing to people that rather oppose your views    8\n",
       "Neither of those was important                                                          7\n",
       "Arguments that challenged your views                                                    5\n",
       "Arguments that matched your views                                                       4\n",
       "Others' views                                                                           3\n",
       "Arguments based on views you already knew about                                         2\n",
       "Arguments you saw as particularly convincing to people that share your views            1\n",
       "Name: answer_option, dtype: int64"
      ]
     },
     "execution_count": 78,
     "metadata": {},
     "output_type": "execute_result"
    }
   ],
   "source": [
    "new_df.answer_option.value_counts()"
   ]
  },
  {
   "cell_type": "code",
   "execution_count": 79,
   "id": "72357a35-b95f-4d94-bb32-c88001cc1aa9",
   "metadata": {},
   "outputs": [],
   "source": [
    "new_df.to_csv('../../../computational-moral-foundations/moral-based-argumentation/data/moral-survey/processed_follow_up_study.csv')"
   ]
  },
  {
   "cell_type": "code",
   "execution_count": 65,
   "id": "af4f94a5-c595-4a13-a63e-4e9d507cd40c",
   "metadata": {
    "scrolled": true,
    "tags": []
   },
   "outputs": [
    {
     "name": "stdout",
     "output_type": "stream",
     "text": [
      "YOUR VIEWS: When arguments contested your stance on the topic, which of the following arguments did you see as more effective:\n",
      "{'Arguments that challenged your views': 3, 'Neither of those was important': 2, 'Arguments that matched your views': 1}\n",
      "==============\n",
      "\n"
     ]
    },
    {
     "data": {
      "image/png": "[encoded data removed]",
      "text/plain": [
       "<Figure size 432x288 with 1 Axes>"
      ]
     },
     "metadata": {},
     "output_type": "display_data"
    },
    {
     "name": "stdout",
     "output_type": "stream",
     "text": [
      "YOUR KNOWLEDGE: When arguments contested your stance on the topic, which of the following arguments did you see as more effective\n",
      "{'Arguments that introduce views you were not familiar with': 5, 'Neither of those was important': 1}\n",
      "==============\n",
      "\n"
     ]
    },
    {
     "data": {
      "image/png": "[encoded data removed]",
      "text/plain": [
       "<Figure size 432x288 with 1 Axes>"
      ]
     },
     "metadata": {},
     "output_type": "display_data"
    },
    {
     "name": "stdout",
     "output_type": "stream",
     "text": [
      "OTHERS' VIEWS: When arguments contested your stance on the topic, which of the following arguments did you see as more effective\n",
      "{'Arguments you saw as particularly convincing to people that rather oppose your views': 4, 'Neither of those was important': 2}\n",
      "==============\n",
      "\n"
     ]
    },
    {
     "data": {
      "image/png": "[encoded data removed]",
      "text/plain": [
       "<Figure size 432x288 with 1 Axes>"
      ]
     },
     "metadata": {},
     "output_type": "display_data"
    },
    {
     "name": "stdout",
     "output_type": "stream",
     "text": [
      "When arguments contested your stance on the topic, which of the above three was most important for you to judge about effectiveness:\n",
      "{'Your knowledge': 4, \"Others' views\": 2}\n",
      "==============\n",
      "\n"
     ]
    },
    {
     "data": {
      "image/png": "[encoded data removed]",
      "text/plain": [
       "<Figure size 432x288 with 1 Axes>"
      ]
     },
     "metadata": {},
     "output_type": "display_data"
    },
    {
     "name": "stdout",
     "output_type": "stream",
     "text": [
      "YOUR VIEWS: When arguments had similar stance to yours, which of the following arguments did you see as more effective:\n",
      "{'Arguments that matched your views': 3, 'Arguments that challenged your views': 2, 'Neither of those was important': 1}\n",
      "==============\n",
      "\n"
     ]
    },
    {
     "data": {
      "image/png": "[encoded data removed]",
      "text/plain": [
       "<Figure size 432x288 with 1 Axes>"
      ]
     },
     "metadata": {},
     "output_type": "display_data"
    },
    {
     "name": "stdout",
     "output_type": "stream",
     "text": [
      "YOUR KNOWLEDGE: When arguments has similar stance to yours, which of the following arguments did you see as more effective\n",
      "{'Arguments that introduce views you were not familiar with': 4, 'Arguments based on views you already knew about': 2}\n",
      "==============\n",
      "\n"
     ]
    },
    {
     "data": {
      "image/png": "[encoded data removed]",
      "text/plain": [
       "<Figure size 432x288 with 1 Axes>"
      ]
     },
     "metadata": {},
     "output_type": "display_data"
    },
    {
     "name": "stdout",
     "output_type": "stream",
     "text": [
      "OTHERS' VIEWS: When arguments had similar stance to yours, which of the following arguments did you see as more effective\n",
      "{'Arguments you saw as particularly convincing to people that rather oppose your views': 4, 'Arguments you saw as particularly convincing to people that share your views': 1, 'Neither of those was important': 1}\n",
      "==============\n",
      "\n"
     ]
    },
    {
     "data": {
      "image/png": "[encoded data removed]",
      "text/plain": [
       "<Figure size 432x288 with 1 Axes>"
      ]
     },
     "metadata": {},
     "output_type": "display_data"
    },
    {
     "name": "stdout",
     "output_type": "stream",
     "text": [
      "When arguments had similar stance to yours, which of the above three was most important for you to judge about effectiveness:\n",
      "{'Your knowledge': 5, \"Others' views\": 1}\n",
      "==============\n",
      "\n"
     ]
    },
    {
     "data": {
      "image/png": "[encoded data removed]",
      "text/plain": [
       "<Figure size 432x288 with 1 Axes>"
      ]
     },
     "metadata": {},
     "output_type": "display_data"
    }
   ],
   "source": [
    "\n",
    "for i, clm in enumerate(df.columns[2:-1]):\n",
    "    print(clm)\n",
    "    print(df[clm].value_counts().to_dict())\n",
    "    print('==============')\n",
    "    print()\n",
    "    \n",
    "    s = df[clm].value_counts().to_dict()\n",
    "    labels = s.keys()\n",
    "    values = s.values()\n",
    "    #plt.bar(labels, values, label='yo')\n",
    "    plt.pie(values, labels=labels, autopct='%1.0f%%')\n",
    "    plt.gca().axis(\"equal\")\n",
    "    #plt.legend()\n",
    "    #plt.xticks(rotation = 45) # Rotates X-Axis Ticks by 45-degrees\n",
    "    plt.title(clm[0:-1])\n",
    "    plt.savefig('followup-results-{}.pdf'.format(i))\n",
    "    plt.show()"
   ]
  },
  {
   "cell_type": "code",
   "execution_count": null,
   "id": "4b4085c9-1293-4c49-9627-930416fa4336",
   "metadata": {},
   "outputs": [],
   "source": []
  }
 ],
 "metadata": {
  "kernelspec": {
   "display_name": "Python 3",
   "language": "python",
   "name": "python3"
  },
  "language_info": {
   "codemirror_mode": {
    "name": "ipython",
    "version": 3
   },
   "file_extension": ".py",
   "mimetype": "text/x-python",
   "name": "python",
   "nbconvert_exporter": "python",
   "pygments_lexer": "ipython3",
   "version": "3.6.9"
  }
 },
 "nbformat": 4,
 "nbformat_minor": 5
}
