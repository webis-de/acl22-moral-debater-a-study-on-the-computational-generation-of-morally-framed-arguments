{
 "cells": [
  {
   "cell_type": "markdown",
   "metadata": {},
   "source": [
    "This notebook can be used to populate the cache file of the API with data, so there won't be delay when using it."
   ]
  },
  {
   "cell_type": "code",
   "execution_count": 1,
   "metadata": {},
   "outputs": [],
   "source": [
    "from moral_debater.debater.moral_debater import *"
   ]
  },
  {
   "cell_type": "code",
   "execution_count": 2,
   "metadata": {},
   "outputs": [],
   "source": [
    "mdc = MoralDebater()"
   ]
  },
  {
   "cell_type": "code",
   "execution_count": 4,
   "metadata": {},
   "outputs": [],
   "source": [
    "top_20_big_issues = [\n",
    " 'Gay Marriage',\n",
    " 'Abortion',\n",
    " 'Death Penalty',\n",
    " 'Minimum Wage',\n",
    " 'Affirmative Action',\n",
    " 'Capitalism',\n",
    " 'Global Warming',\n",
    " 'Free Trade',\n",
    " 'Border Fence',\n",
    " 'Flat Tax',\n",
    " 'Legalized Prostitution',\n",
    " 'Socialism'\n",
    "]"
   ]
  },
  {
   "cell_type": "code",
   "execution_count": 5,
   "metadata": {},
   "outputs": [],
   "source": [
    "query_size=1000"
   ]
  },
  {
   "cell_type": "code",
   "execution_count": 6,
   "metadata": {
    "scrolled": true,
    "tags": []
   },
   "outputs": [
    {
     "name": "stdout",
     "output_type": "stream",
     "text": [
      "Topic: Gay Marriage  moral_dict:  {'x': {'care', 'fairness'}}  query_size: 1000  claims_threshold: 0.8 evidence_threshold: 0.6\n"
     ]
    },
    {
     "name": "stderr",
     "output_type": "stream",
     "text": [
      "TermWikifierClient: 100%|██████████| 1/1 [00:00<00:00,  2.44it/s]"
     ]
    },
    {
     "name": "stdout",
     "output_type": "stream",
     "text": [
      "Running first query...\n"
     ]
    },
    {
     "name": "stderr",
     "output_type": "stream",
     "text": [
      "TermWikifierClient: 100%|██████████| 1/1 [00:02<00:00,  2.06s/it]\n"
     ]
    },
    {
     "name": "stdout",
     "output_type": "stream",
     "text": [
      "Running second query...\n",
      "Running third query...\n",
      "Number of retrieved arguments: 3308\n",
      "finding evidences from candidate sentences\n"
     ]
    },
    {
     "name": "stderr",
     "output_type": "stream",
     "text": [
      "EvidenceDetectionClient: 100%|██████████| 3308/3308 [03:06<00:00, 17.72it/s]\n"
     ]
    },
    {
     "name": "stdout",
     "output_type": "stream",
     "text": [
      "Number of evidences: 100\n",
      "finding claims from candidate sentences\n"
     ]
    },
    {
     "name": "stderr",
     "output_type": "stream",
     "text": [
      "ClaimDetectionClient: 100%|██████████| 3308/3308 [03:14<00:00, 16.35it/s]"
     ]
    },
    {
     "name": "stdout",
     "output_type": "stream",
     "text": [
      "Number of claims: 424\n"
     ]
    },
    {
     "name": "stderr",
     "output_type": "stream",
     "text": [
      "\n",
      "ClaimBoundariesClient:   0%|          | 0/424 [00:00<?, ?it/s]\u001b[A\n",
      "ClaimDetectionClient: 100%|██████████| 3308/3308 [03:14<00:00, 16.97it/s]\u001b[A\n",
      "ClaimBoundariesClient: 100%|██████████| 424/424 [00:00<00:00, 682.50it/s]\n"
     ]
    },
    {
     "name": "stdout",
     "output_type": "stream",
     "text": [
      "Number of retrieved claims: 424\n",
      "Number of retrieved evidences: 100\n",
      "Topic:Gay Marriage, Moral:x\n",
      "Number of claims after filtering: 103\n",
      "Number of evidences after filtering: 28\n"
     ]
    },
    {
     "name": "stderr",
     "output_type": "stream",
     "text": [
      "ProConClient: 100%|██████████| 123/123 [00:00<00:00, 190.62it/s]"
     ]
    },
    {
     "name": "stdout",
     "output_type": "stream",
     "text": [
      "02/03/2022 15:59:25, SpeechResultResponse=621f864c0dba1037b1ee0035, motionGenerationid=0, status=RUNNING, started to wait at 02/03/2022 15:59:24\n",
      "Topic: Abortion  moral_dict:  {'x': {'care', 'fairness'}}  query_size: 1000  claims_threshold: 0.8 evidence_threshold: 0.6\n"
     ]
    },
    {
     "name": "stderr",
     "output_type": "stream",
     "text": [
      "\n",
      "TermWikifierClient:   0%|          | 0/1 [00:00<?, ?it/s]\u001b[A\n",
      "TermWikifierClient: 100%|██████████| 1/1 [00:00<00:00,  3.01it/s]\u001b[A"
     ]
    },
    {
     "name": "stdout",
     "output_type": "stream",
     "text": [
      "Running first query...\n"
     ]
    },
    {
     "name": "stderr",
     "output_type": "stream",
     "text": [
      "TermWikifierClient: 100%|██████████| 1/1 [00:01<00:00,  1.54s/it]\n",
      "ProConClient: 100%|██████████| 123/123 [00:13<00:00,  8.82it/s] \n"
     ]
    },
    {
     "name": "stdout",
     "output_type": "stream",
     "text": [
      "Running second query...\n",
      "Running third query...\n",
      "Number of retrieved arguments: 2998\n",
      "finding evidences from candidate sentences\n"
     ]
    },
    {
     "name": "stderr",
     "output_type": "stream",
     "text": [
      "EvidenceDetectionClient: 100%|██████████| 2998/2998 [06:03<00:00,  8.25it/s]\n"
     ]
    },
    {
     "name": "stdout",
     "output_type": "stream",
     "text": [
      "Number of evidences: 383\n",
      "finding claims from candidate sentences\n"
     ]
    },
    {
     "name": "stderr",
     "output_type": "stream",
     "text": [
      "ClaimDetectionClient: 100%|██████████| 2998/2998 [06:19<00:00,  7.94it/s]"
     ]
    },
    {
     "name": "stdout",
     "output_type": "stream",
     "text": [
      "Number of claims: 664\n"
     ]
    },
    {
     "name": "stderr",
     "output_type": "stream",
     "text": [
      "\n",
      "ClaimBoundariesClient:   0%|          | 0/664 [00:00<?, ?it/s]\u001b[A\n",
      "ClaimBoundariesClient:  75%|███████▌  | 500/664 [00:53<00:17,  9.34it/s]\u001b[A\n",
      "ClaimDetectionClient: 100%|██████████| 2998/2998 [07:27<00:00,  6.70it/s][A\n",
      "ClaimBoundariesClient: 100%|██████████| 664/664 [01:08<00:00,  9.75it/s]\n"
     ]
    },
    {
     "name": "stdout",
     "output_type": "stream",
     "text": [
      "Number of retrieved claims: 664\n",
      "Number of retrieved evidences: 383\n",
      "Topic:Abortion, Moral:x\n",
      "Number of claims after filtering: 255\n",
      "Number of evidences after filtering: 138\n"
     ]
    },
    {
     "name": "stderr",
     "output_type": "stream",
     "text": [
      "ProConClient: 100%|██████████| 375/375 [00:06<00:00, 58.45it/s]"
     ]
    },
    {
     "name": "stdout",
     "output_type": "stream",
     "text": [
      "02/03/2022 16:16:35, SpeechResultResponse=621f8a52a659dc3453758ff4, motionGenerationid=0, status=RUNNING, started to wait at 02/03/2022 16:16:35\n",
      "02/03/2022 16:16:45, SpeechResultResponse=621f8a52a659dc3453758ff4, motionGenerationid=0, status=RUNNING, started to wait at 02/03/2022 16:16:35\n"
     ]
    },
    {
     "name": "stderr",
     "output_type": "stream",
     "text": [
      "ProConClient: 100%|██████████| 375/375 [00:18<00:00, 58.45it/s]"
     ]
    },
    {
     "name": "stdout",
     "output_type": "stream",
     "text": [
      "Topic: Death Penalty  moral_dict:  {'x': {'care', 'fairness'}}  query_size: 1000  claims_threshold: 0.8 evidence_threshold: 0.6\n"
     ]
    },
    {
     "name": "stderr",
     "output_type": "stream",
     "text": [
      "\n",
      "TermWikifierClient:   0%|          | 0/1 [00:00<?, ?it/s]\u001b[A\n",
      "TermWikifierClient: 100%|██████████| 1/1 [00:00<00:00,  2.46it/s]\u001b[A"
     ]
    },
    {
     "name": "stdout",
     "output_type": "stream",
     "text": [
      "Running first query...\n"
     ]
    },
    {
     "name": "stderr",
     "output_type": "stream",
     "text": [
      "TermWikifierClient: 100%|██████████| 1/1 [00:02<00:00,  2.28s/it]\n",
      "ProConClient: 100%|██████████| 375/375 [00:31<00:00, 11.95it/s]\n"
     ]
    },
    {
     "name": "stdout",
     "output_type": "stream",
     "text": [
      "Running second query...\n",
      "Running third query...\n",
      "Number of retrieved arguments: 2771\n",
      "finding evidences from candidate sentences\n"
     ]
    },
    {
     "name": "stderr",
     "output_type": "stream",
     "text": [
      "EvidenceDetectionClient: 100%|██████████| 2771/2771 [05:47<00:00,  7.98it/s]\n"
     ]
    },
    {
     "name": "stdout",
     "output_type": "stream",
     "text": [
      "Number of evidences: 190\n",
      "finding claims from candidate sentences\n"
     ]
    },
    {
     "name": "stderr",
     "output_type": "stream",
     "text": [
      "ClaimDetectionClient: 100%|██████████| 2771/2771 [05:47<00:00,  7.90it/s]"
     ]
    },
    {
     "name": "stdout",
     "output_type": "stream",
     "text": [
      "Number of claims: 821\n"
     ]
    },
    {
     "name": "stderr",
     "output_type": "stream",
     "text": [
      "\n",
      "ClaimBoundariesClient:   0%|          | 0/821 [00:00<?, ?it/s]\u001b[A\n",
      "ClaimBoundariesClient:  61%|██████    | 500/821 [01:04<00:41,  7.78it/s]\u001b[A\n",
      "ClaimDetectionClient: 100%|██████████| 2771/2771 [10:00<00:00,  4.62it/s][A\n",
      "ClaimBoundariesClient: 100%|██████████| 821/821 [04:12<00:00,  3.25it/s]\n"
     ]
    },
    {
     "name": "stdout",
     "output_type": "stream",
     "text": [
      "Number of retrieved claims: 821\n",
      "Number of retrieved evidences: 190\n",
      "Topic:Death Penalty, Moral:x\n",
      "Number of claims after filtering: 206\n",
      "Number of evidences after filtering: 18\n"
     ]
    },
    {
     "name": "stderr",
     "output_type": "stream",
     "text": [
      "ProConClient: 100%|██████████| 223/223 [00:03<00:00, 56.28it/s]"
     ]
    },
    {
     "name": "stdout",
     "output_type": "stream",
     "text": [
      "02/03/2022 16:33:15, SpeechResultResponse=621f8e3ba659dc3453758ffa, motionGenerationid=0, status=RUNNING, started to wait at 02/03/2022 16:33:15\n"
     ]
    },
    {
     "name": "stderr",
     "output_type": "stream",
     "text": [
      "ProConClient: 100%|██████████| 223/223 [00:15<00:00, 56.28it/s]"
     ]
    },
    {
     "name": "stdout",
     "output_type": "stream",
     "text": [
      "Topic: Minimum Wage  moral_dict:  {'x': {'care', 'fairness'}}  query_size: 1000  claims_threshold: 0.8 evidence_threshold: 0.6\n"
     ]
    },
    {
     "name": "stderr",
     "output_type": "stream",
     "text": [
      "\n",
      "TermWikifierClient:   0%|          | 0/1 [00:00<?, ?it/s]\u001b[A\n",
      "TermWikifierClient: 100%|██████████| 1/1 [00:00<00:00,  2.45it/s]\u001b[A"
     ]
    },
    {
     "name": "stdout",
     "output_type": "stream",
     "text": [
      "Running first query...\n"
     ]
    },
    {
     "name": "stderr",
     "output_type": "stream",
     "text": [
      "TermWikifierClient: 100%|██████████| 1/1 [00:02<00:00,  2.36s/it]\n",
      "ProConClient: 100%|██████████| 223/223 [00:18<00:00, 12.19it/s]\n"
     ]
    },
    {
     "name": "stdout",
     "output_type": "stream",
     "text": [
      "Running second query...\n",
      "Running third query...\n",
      "Number of retrieved arguments: 2766\n",
      "finding evidences from candidate sentences\n"
     ]
    },
    {
     "name": "stderr",
     "output_type": "stream",
     "text": [
      "EvidenceDetectionClient: 100%|██████████| 2766/2766 [05:52<00:00,  7.87it/s]"
     ]
    },
    {
     "name": "stdout",
     "output_type": "stream",
     "text": [
      "Number of evidences: 43\n",
      "finding claims from candidate sentences\n"
     ]
    },
    {
     "name": "stderr",
     "output_type": "stream",
     "text": [
      "\n",
      "ClaimDetectionClient:   0%|          | 0/2766 [00:00<?, ?it/s]\u001b[A\n",
      "ClaimDetectionClient:  18%|█▊        | 500/2766 [01:05<04:58,  7.60it/s]\u001b[A\n",
      "ClaimDetectionClient:  36%|███▌      | 1000/2766 [02:10<03:50,  7.65it/s]\u001b[A\n",
      "ClaimDetectionClient:  54%|█████▍    | 1500/2766 [03:16<02:45,  7.65it/s]\u001b[A\n",
      "ClaimDetectionClient:  72%|███████▏  | 2000/2766 [04:21<01:39,  7.67it/s]\u001b[A\n",
      "ClaimDetectionClient:  90%|█████████ | 2500/2766 [05:26<00:34,  7.67it/s]\u001b[A\n",
      "ClaimDetectionClient: 100%|██████████| 2766/2766 [06:00<00:00,  7.67it/s]\u001b[A"
     ]
    },
    {
     "name": "stdout",
     "output_type": "stream",
     "text": [
      "Number of claims: 230\n"
     ]
    },
    {
     "name": "stderr",
     "output_type": "stream",
     "text": [
      "\n",
      "\n",
      "ClaimBoundariesClient:   0%|          | 0/230 [00:00<?, ?it/s]\u001b[A\u001b[A\n",
      "\n",
      "ClaimBoundariesClient: 100%|██████████| 230/230 [06:19<00:00,  1.65s/it]\u001b[A\u001b[A\n"
     ]
    },
    {
     "name": "stdout",
     "output_type": "stream",
     "text": [
      "Number of retrieved claims: 230\n",
      "Number of retrieved evidences: 43\n",
      "Topic:Minimum Wage, Moral:x\n",
      "Number of claims after filtering: 119\n",
      "Number of evidences after filtering: 27\n"
     ]
    },
    {
     "name": "stderr",
     "output_type": "stream",
     "text": [
      "\n",
      "\n",
      "ProConClient:   0%|          | 0/146 [00:00<?, ?it/s]\u001b[A\u001b[A\n",
      "\n",
      "ProConClient: 100%|██████████| 146/146 [00:02<00:00, 48.71it/s]\u001b[A\u001b[A"
     ]
    },
    {
     "name": "stdout",
     "output_type": "stream",
     "text": [
      "02/03/2022 16:51:51, SpeechResultResponse=621f9297a659dc3453758ffd, motionGenerationid=0, status=RUNNING, started to wait at 02/03/2022 16:51:51\n"
     ]
    },
    {
     "name": "stderr",
     "output_type": "stream",
     "text": [
      "ProConClient: 100%|██████████| 146/146 [00:14<00:00,  9.84it/s]\n"
     ]
    },
    {
     "name": "stdout",
     "output_type": "stream",
     "text": [
      "Topic: Affirmative Action  moral_dict:  {'x': {'care', 'fairness'}}  query_size: 1000  claims_threshold: 0.8 evidence_threshold: 0.6\n"
     ]
    },
    {
     "name": "stderr",
     "output_type": "stream",
     "text": [
      "\n",
      "\n",
      "TermWikifierClient:   0%|          | 0/1 [00:00<?, ?it/s]\u001b[A\u001b[A\n",
      "\n",
      "TermWikifierClient: 100%|██████████| 1/1 [00:00<00:00,  2.47it/s]\u001b[A\u001b[A"
     ]
    },
    {
     "name": "stdout",
     "output_type": "stream",
     "text": [
      "Running first query...\n"
     ]
    },
    {
     "name": "stderr",
     "output_type": "stream",
     "text": [
      "TermWikifierClient: 100%|██████████| 1/1 [00:02<00:00,  2.80s/it]\n",
      "EvidenceDetectionClient: 100%|██████████| 2766/2766 [18:31<00:00,  2.49it/s]\n",
      "ClaimDetectionClient: 100%|██████████| 2766/2766 [12:38<00:00,  3.65it/s]\n"
     ]
    },
    {
     "name": "stdout",
     "output_type": "stream",
     "text": [
      "Running second query...\n",
      "Running third query...\n",
      "Number of retrieved arguments: 2936\n",
      "finding evidences from candidate sentences\n"
     ]
    },
    {
     "name": "stderr",
     "output_type": "stream",
     "text": [
      "EvidenceDetectionClient: 100%|██████████| 2936/2936 [06:20<00:00,  7.72it/s]\n"
     ]
    },
    {
     "name": "stdout",
     "output_type": "stream",
     "text": [
      "Number of evidences: 50\n",
      "finding claims from candidate sentences\n"
     ]
    },
    {
     "name": "stderr",
     "output_type": "stream",
     "text": [
      "ClaimDetectionClient: 100%|██████████| 2936/2936 [06:13<00:00,  7.81it/s]"
     ]
    },
    {
     "name": "stdout",
     "output_type": "stream",
     "text": [
      "Number of claims: 283\n"
     ]
    },
    {
     "name": "stderr",
     "output_type": "stream",
     "text": [
      "\n",
      "ClaimBoundariesClient:   0%|          | 0/283 [00:00<?, ?it/s]\u001b[A\n",
      "ClaimDetectionClient: 100%|██████████| 2936/2936 [06:50<00:00,  7.14it/s][A\n",
      "ClaimBoundariesClient: 100%|██████████| 283/283 [00:37<00:00,  7.48it/s]\n"
     ]
    },
    {
     "name": "stdout",
     "output_type": "stream",
     "text": [
      "Number of retrieved claims: 283\n",
      "Number of retrieved evidences: 50\n",
      "Topic:Affirmative Action, Moral:x\n",
      "Number of claims after filtering: 105\n",
      "Number of evidences after filtering: 11\n"
     ]
    },
    {
     "name": "stderr",
     "output_type": "stream",
     "text": [
      "ProConClient: 100%|██████████| 116/116 [00:02<00:00, 47.27it/s]"
     ]
    },
    {
     "name": "stdout",
     "output_type": "stream",
     "text": [
      "02/03/2022 17:11:45, SpeechResultResponse=621f9741a659dc3453759000, motionGenerationid=0, status=RUNNING, started to wait at 02/03/2022 17:11:45\n"
     ]
    },
    {
     "name": "stderr",
     "output_type": "stream",
     "text": [
      "ProConClient: 100%|██████████| 116/116 [00:14<00:00,  8.16it/s]\n"
     ]
    }
   ],
   "source": [
    "for topic in top_20_big_issues:\n",
    "    moral_dict = {'x': set(['care', 'fairness'])} #doesn't matter here the morals. These can be selected from the interface\n",
    "    response = mdc.collect_narratives_via_classifier(topic, moral_dict, query_size, \n",
    "                                                     'pro', 0.8, 0.6)"
   ]
  },
  {
   "cell_type": "code",
   "execution_count": null,
   "metadata": {},
   "outputs": [],
   "source": []
  }
 ],
 "metadata": {
  "kernelspec": {
   "display_name": "Python 3",
   "language": "python",
   "name": "python3"
  },
  "language_info": {
   "codemirror_mode": {
    "name": "ipython",
    "version": 3
   },
   "file_extension": ".py",
   "mimetype": "text/x-python",
   "name": "python",
   "nbconvert_exporter": "python",
   "pygments_lexer": "ipython3",
   "version": "3.6.9"
  }
 },
 "nbformat": 4,
 "nbformat_minor": 4
}
