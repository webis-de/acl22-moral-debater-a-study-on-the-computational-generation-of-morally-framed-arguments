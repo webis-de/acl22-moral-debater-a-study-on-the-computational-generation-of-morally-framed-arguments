{
 "cells": [
  {
   "cell_type": "code",
   "execution_count": 1,
   "id": "91e1e42e-6673-4355-9868-e20ce9dc09cf",
   "metadata": {},
   "outputs": [],
   "source": [
    "%load_ext autoreload"
   ]
  },
  {
   "cell_type": "code",
   "execution_count": 2,
   "id": "47b89fa5-0a61-4fda-8370-05e453eafca9",
   "metadata": {},
   "outputs": [],
   "source": [
    "import os\n",
    "import sys\n",
    "import pickle\n",
    "\n",
    "os.environ['CUDA_VISIBLE_DEVICES'] = '4'\n",
    "\n",
    "sys.path.insert(0, '../src-py/')\n",
    "sys.path.insert(0, '../../src-py/')"
   ]
  },
  {
   "cell_type": "code",
   "execution_count": 3,
   "id": "19191b0b-34e2-4ed7-b0d1-d6e3aa19ac0a",
   "metadata": {},
   "outputs": [],
   "source": [
    "%autoreload\n",
    "import utils\n",
    "import json\n",
    "from moral_debater import *\n",
    "import  moral_utils\n",
    "import pandas as pd\n",
    "\n",
    "pd.set_option('display.max_colwidth', None)"
   ]
  },
  {
   "cell_type": "markdown",
   "id": "16a2ad05-a34d-4e04-a55e-294232e20c9c",
   "metadata": {},
   "source": [
    "Given a topic:\n",
    "- Collect some thousands of sentences on it.\n",
    "- classify sentences based on morals.\n",
    "- Keep the ones that reflect the correct moral.\n",
    "- Create a narrative from them"
   ]
  },
  {
   "cell_type": "code",
   "execution_count": 4,
   "id": "a524400c-30a2-4f1d-b8ce-6832c2d82d1f",
   "metadata": {},
   "outputs": [],
   "source": [
    "mf_survey = pd.read_pickle('/workspace/ceph_data/moral-based-argumentation/moral-survey/moral-foundation-theory-responses-processed.pkl')"
   ]
  },
  {
   "cell_type": "code",
   "execution_count": 5,
   "id": "340d1451-1377-489e-8cde-c6c01c53ff3f",
   "metadata": {},
   "outputs": [],
   "source": [
    "mf_survey['binary-morals'] = mf_survey['moral-scores-normalized'].apply(lambda morals: {\n",
    "    'individual' : round(sum([x[1] for x in morals.items() if x[0] in ['care', 'fairness']])/2, 3),\n",
    "    'binding': round(sum([x[1] for x in morals.items() if x[0] in ['authority', 'loyalty', 'purity']])/3, 3)\n",
    "} )"
   ]
  },
  {
   "cell_type": "code",
   "execution_count": 6,
   "id": "6a127ac0-fb19-4348-9607-2a004505b41a",
   "metadata": {},
   "outputs": [],
   "source": [
    "morals = ['care', 'authority', 'fairness', 'loyalty', 'purity']"
   ]
  },
  {
   "cell_type": "code",
   "execution_count": 7,
   "id": "2046db5d-fe24-4b0b-878a-e5c772f96bea",
   "metadata": {},
   "outputs": [
    {
     "data": {
      "text/html": [
       "<div>\n",
       "<style scoped>\n",
       "    .dataframe tbody tr th:only-of-type {\n",
       "        vertical-align: middle;\n",
       "    }\n",
       "\n",
       "    .dataframe tbody tr th {\n",
       "        vertical-align: top;\n",
       "    }\n",
       "\n",
       "    .dataframe thead th {\n",
       "        text-align: right;\n",
       "    }\n",
       "</style>\n",
       "<table border=\"1\" class=\"dataframe\">\n",
       "  <thead>\n",
       "    <tr style=\"text-align: right;\">\n",
       "      <th></th>\n",
       "      <th>moral-scores</th>\n",
       "    </tr>\n",
       "  </thead>\n",
       "  <tbody>\n",
       "    <tr>\n",
       "      <th>0</th>\n",
       "      <td>{'care': 16, 'fairness': 27, 'loyalty': 17, 'authority': 22, 'purity': 14}</td>\n",
       "    </tr>\n",
       "    <tr>\n",
       "      <th>1</th>\n",
       "      <td>{'care': 18, 'fairness': 20, 'loyalty': 12, 'authority': 15, 'purity': 8}</td>\n",
       "    </tr>\n",
       "    <tr>\n",
       "      <th>2</th>\n",
       "      <td>{'care': 25, 'fairness': 23, 'loyalty': 13, 'authority': 12, 'purity': 10}</td>\n",
       "    </tr>\n",
       "    <tr>\n",
       "      <th>3</th>\n",
       "      <td>{'care': 20, 'fairness': 28, 'loyalty': 10, 'authority': 9, 'purity': 4}</td>\n",
       "    </tr>\n",
       "    <tr>\n",
       "      <th>4</th>\n",
       "      <td>{'care': 15, 'fairness': 20, 'loyalty': 9, 'authority': 15, 'purity': 11}</td>\n",
       "    </tr>\n",
       "    <tr>\n",
       "      <th>5</th>\n",
       "      <td>{'care': 24, 'fairness': 21, 'loyalty': 18, 'authority': 22, 'purity': 17}</td>\n",
       "    </tr>\n",
       "  </tbody>\n",
       "</table>\n",
       "</div>"
      ],
      "text/plain": [
       "                                                                 moral-scores\n",
       "0  {'care': 16, 'fairness': 27, 'loyalty': 17, 'authority': 22, 'purity': 14}\n",
       "1   {'care': 18, 'fairness': 20, 'loyalty': 12, 'authority': 15, 'purity': 8}\n",
       "2  {'care': 25, 'fairness': 23, 'loyalty': 13, 'authority': 12, 'purity': 10}\n",
       "3    {'care': 20, 'fairness': 28, 'loyalty': 10, 'authority': 9, 'purity': 4}\n",
       "4   {'care': 15, 'fairness': 20, 'loyalty': 9, 'authority': 15, 'purity': 11}\n",
       "5  {'care': 24, 'fairness': 21, 'loyalty': 18, 'authority': 22, 'purity': 17}"
      ]
     },
     "execution_count": 7,
     "metadata": {},
     "output_type": "execute_result"
    }
   ],
   "source": [
    "mf_survey[['moral-scores']].head(n=6)"
   ]
  },
  {
   "cell_type": "code",
   "execution_count": 8,
   "id": "c44105b8-68c5-45dd-a0cb-207bbd176073",
   "metadata": {},
   "outputs": [],
   "source": [
    "debater_api = DebaterApi('0abeffa5335cc942fc7c43e75d41fe33L05')\n",
    "query_size=10000"
   ]
  },
  {
   "cell_type": "code",
   "execution_count": 9,
   "id": "acf17b6f-afa2-4d28-9df0-5847656950a9",
   "metadata": {},
   "outputs": [],
   "source": [
    "selected_topics = [\n",
    "    'Gay Marriage',\n",
    "    'Capitalism',\n",
    "    'National Health Care',\n",
    "    'Homeschooling',\n",
    "    'Globalization'\n",
    "]\n",
    "\n",
    "moral_dict = {\n",
    "    'binding': set(['loyalty', 'authority', 'purity']),\n",
    "    'individual': set(['fairness', 'care'])\n",
    "}"
   ]
  },
  {
   "cell_type": "code",
   "execution_count": 10,
   "id": "444104b1-d64d-4e9d-96ed-fdebd085cf34",
   "metadata": {},
   "outputs": [],
   "source": [
    "topic_narratives = pickle.load(open('../../data/moral_narratives_via_concepts_for_selected_5_big_issues.pkl', 'rb'))\n",
    "topic_and_narratives_df1 = pd.read_csv('../../data/moral_narratives_via_concepts_for_selected_5_big_issues_v1.csv')"
   ]
  },
  {
   "cell_type": "code",
   "execution_count": 58,
   "id": "3cde93e0-436e-4cab-9eba-8f19e8438624",
   "metadata": {
    "scrolled": true,
    "tags": []
   },
   "outputs": [
    {
     "name": "stderr",
     "output_type": "stream",
     "text": [
      "TermWikifierClient: 100%|██████████| 5/5 [00:00<00:00, 11.51it/s]\n"
     ]
    },
    {
     "name": "stdout",
     "output_type": "stream",
     "text": [
      "[['Same-sex marriage'], ['Capitalism'], ['National health insurance'], ['Homeschooling'], ['Globalization']]\n",
      "Topic:Gay Marriage, Moral:binding\n"
     ]
    },
    {
     "name": "stderr",
     "output_type": "stream",
     "text": [
      "EvidenceDetectionClient: 100%|██████████| 16566/16566 [13:14<00:00, 20.85it/s]\n",
      "ClaimDetectionClient:   0%|          | 0/16566 [00:00<?, ?it/s]"
     ]
    },
    {
     "name": "stdout",
     "output_type": "stream",
     "text": [
      "Number of evidences: 130\n"
     ]
    },
    {
     "name": "stderr",
     "output_type": "stream",
     "text": [
      "ClaimDetectionClient: 100%|██████████| 16566/16566 [23:42<00:00, 11.65it/s]\n",
      "ClaimBoundariesClient:   0%|          | 0/227 [00:00<?, ?it/s]"
     ]
    },
    {
     "name": "stdout",
     "output_type": "stream",
     "text": [
      "Number of claims: 227\n"
     ]
    },
    {
     "name": "stderr",
     "output_type": "stream",
     "text": [
      "ClaimBoundariesClient: 100%|██████████| 227/227 [00:09<00:00, 22.97it/s]\n",
      "ProConClient: 100%|██████████| 349/349 [00:03<00:00, 91.69it/s]\n"
     ]
    },
    {
     "name": "stdout",
     "output_type": "stream",
     "text": [
      "Same-sex marriage\n",
      "Gay Marriage\n",
      "14/06/2021 19:01:18, SpeechResultResponse=60c7a77ea7bb4a5940f0a45f, motionGenerationid=0, status=RUNNING, started to wait at 14/06/2021 19:01:18\n",
      "14/06/2021 19:01:28, SpeechResultResponse=60c7a77ea7bb4a5940f0a45f, motionGenerationid=0, status=RUNNING, started to wait at 14/06/2021 19:01:18\n"
     ]
    },
    {
     "name": "stderr",
     "output_type": "stream",
     "text": [
      "ProConClient: 100%|██████████| 349/349 [00:03<00:00, 90.55it/s]\n"
     ]
    },
    {
     "name": "stdout",
     "output_type": "stream",
     "text": [
      "Same-sex marriage\n",
      "Gay Marriage\n",
      "14/06/2021 19:01:44, SpeechResultResponse=60c7a798a7bb4a5940f0a462, motionGenerationid=0, status=RUNNING, started to wait at 14/06/2021 19:01:44\n",
      "14/06/2021 19:01:55, SpeechResultResponse=60c7a798a7bb4a5940f0a462, motionGenerationid=0, status=RUNNING, started to wait at 14/06/2021 19:01:44\n",
      "Topic:Gay Marriage, Moral:individual\n"
     ]
    },
    {
     "name": "stderr",
     "output_type": "stream",
     "text": [
      "EvidenceDetectionClient: 100%|██████████| 6694/6694 [09:19<00:00, 11.96it/s]\n",
      "ClaimDetectionClient:   0%|          | 0/6694 [00:00<?, ?it/s]"
     ]
    },
    {
     "name": "stdout",
     "output_type": "stream",
     "text": [
      "Number of evidences: 91\n"
     ]
    },
    {
     "name": "stderr",
     "output_type": "stream",
     "text": [
      "ClaimDetectionClient: 100%|██████████| 6694/6694 [10:25<00:00, 10.70it/s]\n",
      "ClaimBoundariesClient:   0%|          | 0/108 [00:00<?, ?it/s]"
     ]
    },
    {
     "name": "stdout",
     "output_type": "stream",
     "text": [
      "Number of claims: 108\n"
     ]
    },
    {
     "name": "stderr",
     "output_type": "stream",
     "text": [
      "ClaimBoundariesClient: 100%|██████████| 108/108 [00:04<00:00, 26.31it/s]\n",
      "ProConClient: 100%|██████████| 196/196 [00:02<00:00, 93.73it/s]\n"
     ]
    },
    {
     "name": "stdout",
     "output_type": "stream",
     "text": [
      "Same-sex marriage\n",
      "Gay Marriage\n",
      "14/06/2021 19:22:27, SpeechResultResponse=60c7ac72a7bb4a5940f0a465, motionGenerationid=0, status=RUNNING, started to wait at 14/06/2021 19:22:26\n"
     ]
    },
    {
     "name": "stderr",
     "output_type": "stream",
     "text": [
      "ProConClient: 100%|██████████| 196/196 [00:02<00:00, 96.59it/s]\n"
     ]
    },
    {
     "name": "stdout",
     "output_type": "stream",
     "text": [
      "Same-sex marriage\n",
      "Gay Marriage\n",
      "14/06/2021 19:22:41, SpeechResultResponse=60c7ac80a7bb4a5940f0a468, motionGenerationid=0, status=RUNNING, started to wait at 14/06/2021 19:22:41\n"
     ]
    },
    {
     "name": "stderr",
     "output_type": "stream",
     "text": [
      "EvidenceDetectionClient: 100%|██████████| 27588/27588 [13:06<00:00, 35.07it/s]\n",
      "ClaimDetectionClient:   0%|          | 0/27588 [00:00<?, ?it/s]"
     ]
    },
    {
     "name": "stdout",
     "output_type": "stream",
     "text": [
      "Number of evidences: 609\n"
     ]
    },
    {
     "name": "stderr",
     "output_type": "stream",
     "text": [
      "ClaimDetectionClient: 100%|██████████| 27588/27588 [12:08<00:00, 37.89it/s]\n",
      "ClaimBoundariesClient:   0%|          | 0/799 [00:00<?, ?it/s]"
     ]
    },
    {
     "name": "stdout",
     "output_type": "stream",
     "text": [
      "Number of claims: 799\n"
     ]
    },
    {
     "name": "stderr",
     "output_type": "stream",
     "text": [
      "ClaimBoundariesClient: 100%|██████████| 799/799 [00:15<00:00, 50.60it/s]\n",
      "ProConClient: 100%|██████████| 1365/1365 [00:12<00:00, 105.00it/s]\n"
     ]
    },
    {
     "name": "stdout",
     "output_type": "stream",
     "text": [
      "Same-sex marriage\n",
      "Gay Marriage\n",
      "14/06/2021 19:49:16, SpeechResultResponse=60c7b2bca7bb4a5940f0a4c0, motionGenerationid=0, status=RUNNING, started to wait at 14/06/2021 19:49:16\n",
      "14/06/2021 19:49:27, SpeechResultResponse=60c7b2bca7bb4a5940f0a4c0, motionGenerationid=0, status=RUNNING, started to wait at 14/06/2021 19:49:16\n",
      "14/06/2021 19:49:37, SpeechResultResponse=60c7b2bca7bb4a5940f0a4c0, motionGenerationid=0, status=RUNNING, started to wait at 14/06/2021 19:49:16\n",
      "14/06/2021 19:49:47, SpeechResultResponse=60c7b2bca7bb4a5940f0a4c0, motionGenerationid=0, status=RUNNING, started to wait at 14/06/2021 19:49:16\n"
     ]
    },
    {
     "name": "stderr",
     "output_type": "stream",
     "text": [
      "ProConClient: 100%|██████████| 1365/1365 [00:13<00:00, 101.50it/s]\n"
     ]
    },
    {
     "name": "stdout",
     "output_type": "stream",
     "text": [
      "Same-sex marriage\n",
      "Gay Marriage\n",
      "14/06/2021 19:50:13, SpeechResultResponse=60c7b2f5e095963b762109a4, motionGenerationid=0, status=RUNNING, started to wait at 14/06/2021 19:50:13\n",
      "14/06/2021 19:50:24, SpeechResultResponse=60c7b2f5e095963b762109a4, motionGenerationid=0, status=RUNNING, started to wait at 14/06/2021 19:50:13\n",
      "14/06/2021 19:50:34, SpeechResultResponse=60c7b2f5e095963b762109a4, motionGenerationid=0, status=RUNNING, started to wait at 14/06/2021 19:50:13\n",
      "Topic:Capitalism, Moral:binding\n"
     ]
    },
    {
     "name": "stderr",
     "output_type": "stream",
     "text": [
      "EvidenceDetectionClient: 100%|██████████| 1678/1678 [00:20<00:00, 81.38it/s] \n",
      "ClaimDetectionClient:   0%|          | 0/1678 [00:00<?, ?it/s]"
     ]
    },
    {
     "name": "stdout",
     "output_type": "stream",
     "text": [
      "Number of evidences: 41\n"
     ]
    },
    {
     "name": "stderr",
     "output_type": "stream",
     "text": [
      "ClaimDetectionClient: 100%|██████████| 1678/1678 [00:57<00:00, 29.23it/s]\n",
      "ClaimBoundariesClient:   0%|          | 0/73 [00:00<?, ?it/s]"
     ]
    },
    {
     "name": "stdout",
     "output_type": "stream",
     "text": [
      "Number of claims: 73\n"
     ]
    },
    {
     "name": "stderr",
     "output_type": "stream",
     "text": [
      "ClaimBoundariesClient: 100%|██████████| 73/73 [00:00<00:00, 171.43it/s]\n",
      "ProConClient: 100%|██████████| 110/110 [00:00<00:00, 199.44it/s]\n"
     ]
    },
    {
     "name": "stdout",
     "output_type": "stream",
     "text": [
      "Capitalism\n",
      "Capitalism\n",
      "14/06/2021 19:52:56, SpeechResultResponse=60c7b398e095963b762109a9, motionGenerationid=0, status=RUNNING, started to wait at 14/06/2021 19:52:56\n"
     ]
    },
    {
     "name": "stderr",
     "output_type": "stream",
     "text": [
      "ProConClient: 100%|██████████| 110/110 [00:00<00:00, 209.45it/s]\n"
     ]
    },
    {
     "name": "stdout",
     "output_type": "stream",
     "text": [
      "Capitalism\n",
      "Capitalism\n",
      "14/06/2021 19:53:09, SpeechResultResponse=60c7b3a4a7bb4a5940f0a4c5, motionGenerationid=0, status=RUNNING, started to wait at 14/06/2021 19:53:08\n",
      "Topic:Capitalism, Moral:individual\n"
     ]
    },
    {
     "name": "stderr",
     "output_type": "stream",
     "text": [
      "EvidenceDetectionClient: 100%|██████████| 678/678 [00:11<00:00, 59.43it/s] \n",
      "ClaimDetectionClient:   0%|          | 0/678 [00:00<?, ?it/s]"
     ]
    },
    {
     "name": "stdout",
     "output_type": "stream",
     "text": [
      "Number of evidences: 37\n"
     ]
    },
    {
     "name": "stderr",
     "output_type": "stream",
     "text": [
      "ClaimDetectionClient: 100%|██████████| 678/678 [00:11<00:00, 58.90it/s] \n",
      "ClaimBoundariesClient:   0%|          | 0/63 [00:00<?, ?it/s]"
     ]
    },
    {
     "name": "stdout",
     "output_type": "stream",
     "text": [
      "Number of claims: 63\n"
     ]
    },
    {
     "name": "stderr",
     "output_type": "stream",
     "text": [
      "ClaimBoundariesClient: 100%|██████████| 63/63 [00:00<00:00, 140.73it/s]\n",
      "ProConClient: 100%|██████████| 98/98 [00:00<00:00, 146.84it/s]\n"
     ]
    },
    {
     "name": "stdout",
     "output_type": "stream",
     "text": [
      "Capitalism\n",
      "Capitalism\n",
      "14/06/2021 19:54:28, SpeechResultResponse=60c7b3f3e095963b762109ac, motionGenerationid=0, status=RUNNING, started to wait at 14/06/2021 19:54:28\n"
     ]
    },
    {
     "name": "stderr",
     "output_type": "stream",
     "text": [
      "ProConClient: 100%|██████████| 98/98 [00:00<00:00, 187.91it/s]\n"
     ]
    },
    {
     "name": "stdout",
     "output_type": "stream",
     "text": [
      "Capitalism\n",
      "Capitalism\n",
      "14/06/2021 19:54:40, SpeechResultResponse=60c7b400e095963b762109af, motionGenerationid=0, status=RUNNING, started to wait at 14/06/2021 19:54:40\n"
     ]
    },
    {
     "name": "stderr",
     "output_type": "stream",
     "text": [
      "EvidenceDetectionClient: 100%|██████████| 13311/13311 [04:50<00:00, 45.85it/s]\n",
      "ClaimDetectionClient:   0%|          | 0/13311 [00:00<?, ?it/s]"
     ]
    },
    {
     "name": "stdout",
     "output_type": "stream",
     "text": [
      "Number of evidences: 305\n"
     ]
    },
    {
     "name": "stderr",
     "output_type": "stream",
     "text": [
      "ClaimDetectionClient: 100%|██████████| 13311/13311 [05:14<00:00, 42.36it/s]\n",
      "ClaimBoundariesClient:   0%|          | 0/535 [00:00<?, ?it/s]"
     ]
    },
    {
     "name": "stdout",
     "output_type": "stream",
     "text": [
      "Number of claims: 535\n"
     ]
    },
    {
     "name": "stderr",
     "output_type": "stream",
     "text": [
      "ClaimBoundariesClient: 100%|██████████| 535/535 [00:07<00:00, 73.30it/s] \n",
      "ProConClient: 100%|██████████| 815/815 [00:07<00:00, 115.60it/s]\n"
     ]
    },
    {
     "name": "stdout",
     "output_type": "stream",
     "text": [
      "Capitalism\n",
      "Capitalism\n",
      "14/06/2021 20:05:23, SpeechResultResponse=60c7b683e095963b762109b2, motionGenerationid=0, status=RUNNING, started to wait at 14/06/2021 20:05:23\n",
      "14/06/2021 20:05:34, SpeechResultResponse=60c7b683e095963b762109b2, motionGenerationid=0, status=RUNNING, started to wait at 14/06/2021 20:05:23\n",
      "14/06/2021 20:05:44, SpeechResultResponse=60c7b683e095963b762109b2, motionGenerationid=0, status=RUNNING, started to wait at 14/06/2021 20:05:23\n"
     ]
    },
    {
     "name": "stderr",
     "output_type": "stream",
     "text": [
      "ProConClient: 100%|██████████| 815/815 [00:06<00:00, 121.04it/s]\n"
     ]
    },
    {
     "name": "stdout",
     "output_type": "stream",
     "text": [
      "Capitalism\n",
      "Capitalism\n",
      "14/06/2021 20:06:03, SpeechResultResponse=60c7b6aba7bb4a5940f0a4c8, motionGenerationid=0, status=RUNNING, started to wait at 14/06/2021 20:06:03\n",
      "14/06/2021 20:06:14, SpeechResultResponse=60c7b6aba7bb4a5940f0a4c8, motionGenerationid=0, status=RUNNING, started to wait at 14/06/2021 20:06:03\n",
      "Topic:National Health Care, Moral:binding\n"
     ]
    },
    {
     "name": "stderr",
     "output_type": "stream",
     "text": [
      "EvidenceDetectionClient: 100%|██████████| 20936/20936 [38:20<00:00,  9.10it/s]\n",
      "ClaimDetectionClient:   0%|          | 0/20936 [00:00<?, ?it/s]"
     ]
    },
    {
     "name": "stdout",
     "output_type": "stream",
     "text": [
      "Number of evidences: 70\n"
     ]
    },
    {
     "name": "stderr",
     "output_type": "stream",
     "text": [
      "ClaimDetectionClient: 100%|██████████| 20936/20936 [40:56<00:00,  8.52it/s]\n",
      "ClaimBoundariesClient:   0%|          | 0/210 [00:00<?, ?it/s]"
     ]
    },
    {
     "name": "stdout",
     "output_type": "stream",
     "text": [
      "Number of claims: 210\n"
     ]
    },
    {
     "name": "stderr",
     "output_type": "stream",
     "text": [
      "ClaimBoundariesClient: 100%|██████████| 210/210 [00:10<00:00, 20.28it/s]\n",
      "ProConClient: 100%|██████████| 280/280 [00:03<00:00, 89.38it/s]\n"
     ]
    },
    {
     "name": "stdout",
     "output_type": "stream",
     "text": [
      "National health insurance\n",
      "National Health Care\n",
      "14/06/2021 21:28:03, SpeechResultResponse=60c7c9e3a7bb4a5940f0a4cc, motionGenerationid=0, status=RUNNING, started to wait at 14/06/2021 21:28:03\n",
      "14/06/2021 21:28:14, SpeechResultResponse=60c7c9e3a7bb4a5940f0a4cc, motionGenerationid=0, status=RUNNING, started to wait at 14/06/2021 21:28:03\n"
     ]
    },
    {
     "name": "stderr",
     "output_type": "stream",
     "text": [
      "ProConClient: 100%|██████████| 280/280 [00:00<00:00, 424.41it/s]\n"
     ]
    },
    {
     "name": "stdout",
     "output_type": "stream",
     "text": [
      "National health insurance\n",
      "National Health Care\n",
      "14/06/2021 21:28:26, SpeechResultResponse=60c7c9fae095963b762109bc, motionGenerationid=0, status=RUNNING, started to wait at 14/06/2021 21:28:26\n",
      "Narrative is empty...\n",
      "Topic:National Health Care, Moral:individual\n"
     ]
    },
    {
     "name": "stderr",
     "output_type": "stream",
     "text": [
      "EvidenceDetectionClient: 100%|██████████| 20118/20118 [34:15<00:00,  9.79it/s]\n",
      "ClaimDetectionClient:   0%|          | 0/20118 [00:00<?, ?it/s]"
     ]
    },
    {
     "name": "stdout",
     "output_type": "stream",
     "text": [
      "Number of evidences: 310\n"
     ]
    },
    {
     "name": "stderr",
     "output_type": "stream",
     "text": [
      "ClaimDetectionClient: 100%|██████████| 20118/20118 [35:56<00:00,  9.33it/s]\n",
      "ClaimBoundariesClient:   0%|          | 0/410 [00:00<?, ?it/s]"
     ]
    },
    {
     "name": "stdout",
     "output_type": "stream",
     "text": [
      "Number of claims: 410\n"
     ]
    },
    {
     "name": "stderr",
     "output_type": "stream",
     "text": [
      "ClaimBoundariesClient: 100%|██████████| 410/410 [00:27<00:00, 15.01it/s]\n",
      "ProConClient: 100%|██████████| 720/720 [00:08<00:00, 83.25it/s]\n"
     ]
    },
    {
     "name": "stdout",
     "output_type": "stream",
     "text": [
      "National health insurance\n",
      "National Health Care\n",
      "14/06/2021 22:41:14, SpeechResultResponse=60c7db0aa7bb4a5940f0a501, motionGenerationid=0, status=RUNNING, started to wait at 14/06/2021 22:41:14\n",
      "14/06/2021 22:41:25, SpeechResultResponse=60c7db0aa7bb4a5940f0a501, motionGenerationid=0, status=RUNNING, started to wait at 14/06/2021 22:41:14\n",
      "14/06/2021 22:41:35, SpeechResultResponse=60c7db0aa7bb4a5940f0a501, motionGenerationid=0, status=RUNNING, started to wait at 14/06/2021 22:41:14\n"
     ]
    },
    {
     "name": "stderr",
     "output_type": "stream",
     "text": [
      "ProConClient: 100%|██████████| 720/720 [00:06<00:00, 107.74it/s]\n"
     ]
    },
    {
     "name": "stdout",
     "output_type": "stream",
     "text": [
      "National health insurance\n",
      "National Health Care\n",
      "14/06/2021 22:41:54, SpeechResultResponse=60c7db31e095963b76210a01, motionGenerationid=0, status=RUNNING, started to wait at 14/06/2021 22:41:53\n"
     ]
    },
    {
     "name": "stderr",
     "output_type": "stream",
     "text": [
      "EvidenceDetectionClient: 100%|██████████| 35668/35668 [26:37<00:00, 22.33it/s]\n"
     ]
    },
    {
     "name": "stdout",
     "output_type": "stream",
     "text": [
      "Number of evidences: 306\n"
     ]
    },
    {
     "name": "stderr",
     "output_type": "stream",
     "text": [
      "ClaimDetectionClient: 100%|██████████| 35668/35668 [29:14<00:00, 20.33it/s]\n",
      "ClaimBoundariesClient:   0%|          | 0/670 [00:00<?, ?it/s]"
     ]
    },
    {
     "name": "stdout",
     "output_type": "stream",
     "text": [
      "Number of claims: 670\n"
     ]
    },
    {
     "name": "stderr",
     "output_type": "stream",
     "text": [
      "ClaimBoundariesClient: 100%|██████████| 670/670 [00:09<00:00, 71.05it/s] \n",
      "ProConClient: 100%|██████████| 974/974 [00:07<00:00, 133.01it/s]\n"
     ]
    },
    {
     "name": "stdout",
     "output_type": "stream",
     "text": [
      "National health insurance\n",
      "National Health Care\n",
      "14/06/2021 23:40:08, SpeechResultResponse=60c7e8d8e095963b76210a19, motionGenerationid=0, status=RUNNING, started to wait at 14/06/2021 23:40:08\n",
      "14/06/2021 23:40:19, SpeechResultResponse=60c7e8d8e095963b76210a19, motionGenerationid=0, status=RUNNING, started to wait at 14/06/2021 23:40:08\n",
      "14/06/2021 23:40:29, SpeechResultResponse=60c7e8d8e095963b76210a19, motionGenerationid=0, status=RUNNING, started to wait at 14/06/2021 23:40:08\n"
     ]
    },
    {
     "name": "stderr",
     "output_type": "stream",
     "text": [
      "ProConClient: 100%|██████████| 974/974 [00:06<00:00, 143.57it/s]\n"
     ]
    },
    {
     "name": "stdout",
     "output_type": "stream",
     "text": [
      "National health insurance\n",
      "National Health Care\n",
      "14/06/2021 23:40:48, SpeechResultResponse=60c7e900a7bb4a5940f0a522, motionGenerationid=0, status=RUNNING, started to wait at 14/06/2021 23:40:48\n",
      "Topic:Homeschooling, Moral:binding\n"
     ]
    },
    {
     "name": "stderr",
     "output_type": "stream",
     "text": [
      "EvidenceDetectionClient: 100%|██████████| 109/109 [00:00<00:00, 201.78it/s]\n",
      "ClaimDetectionClient:   0%|          | 0/109 [00:00<?, ?it/s]"
     ]
    },
    {
     "name": "stdout",
     "output_type": "stream",
     "text": [
      "Number of evidences: 6\n"
     ]
    },
    {
     "name": "stderr",
     "output_type": "stream",
     "text": [
      "ClaimDetectionClient: 100%|██████████| 109/109 [00:00<00:00, 219.07it/s]\n",
      "ClaimBoundariesClient:   0%|          | 0/9 [00:00<?, ?it/s]"
     ]
    },
    {
     "name": "stdout",
     "output_type": "stream",
     "text": [
      "Number of claims: 9\n"
     ]
    },
    {
     "name": "stderr",
     "output_type": "stream",
     "text": [
      "ClaimBoundariesClient: 100%|██████████| 9/9 [00:00<00:00, 26.10it/s]\n",
      "ProConClient: 100%|██████████| 15/15 [00:00<00:00, 43.21it/s]\n"
     ]
    },
    {
     "name": "stdout",
     "output_type": "stream",
     "text": [
      "Homeschooling\n",
      "Homeschooling\n"
     ]
    },
    {
     "name": "stderr",
     "output_type": "stream",
     "text": [
      "ProConClient:   0%|          | 0/15 [00:00<?, ?it/s]"
     ]
    },
    {
     "name": "stdout",
     "output_type": "stream",
     "text": [
      "Narrative is empty...\n"
     ]
    },
    {
     "name": "stderr",
     "output_type": "stream",
     "text": [
      "ProConClient: 100%|██████████| 15/15 [00:05<00:00,  3.00it/s]\n"
     ]
    },
    {
     "name": "stdout",
     "output_type": "stream",
     "text": [
      "Homeschooling\n",
      "Homeschooling\n",
      "14/06/2021 23:42:28, SpeechResultResponse=60c7e963e095963b76210a42, motionGenerationid=0, status=RUNNING, started to wait at 14/06/2021 23:42:27\n",
      "Topic:Homeschooling, Moral:individual\n"
     ]
    },
    {
     "name": "stderr",
     "output_type": "stream",
     "text": [
      "EvidenceDetectionClient: 100%|██████████| 18/18 [00:01<00:00, 15.23it/s]\n",
      "ClaimDetectionClient:   0%|          | 0/18 [00:00<?, ?it/s]"
     ]
    },
    {
     "name": "stdout",
     "output_type": "stream",
     "text": [
      "Number of evidences: 1\n"
     ]
    },
    {
     "name": "stderr",
     "output_type": "stream",
     "text": [
      "ClaimDetectionClient: 100%|██████████| 18/18 [00:00<00:00, 55.69it/s]\n",
      "ClaimBoundariesClient:   0%|          | 0/2 [00:00<?, ?it/s]"
     ]
    },
    {
     "name": "stdout",
     "output_type": "stream",
     "text": [
      "Number of claims: 2\n"
     ]
    },
    {
     "name": "stderr",
     "output_type": "stream",
     "text": [
      "ClaimBoundariesClient: 100%|██████████| 2/2 [00:00<00:00,  6.18it/s]\n",
      "ProConClient: 100%|██████████| 3/3 [00:00<00:00,  8.61it/s]\n"
     ]
    },
    {
     "name": "stdout",
     "output_type": "stream",
     "text": [
      "Homeschooling\n",
      "Homeschooling\n"
     ]
    },
    {
     "name": "stderr",
     "output_type": "stream",
     "text": [
      "ProConClient:   0%|          | 0/3 [00:00<?, ?it/s]"
     ]
    },
    {
     "name": "stdout",
     "output_type": "stream",
     "text": [
      "Narrative is empty...\n"
     ]
    },
    {
     "name": "stderr",
     "output_type": "stream",
     "text": [
      "ProConClient: 100%|██████████| 3/3 [00:05<00:00,  1.70s/it]\n"
     ]
    },
    {
     "name": "stdout",
     "output_type": "stream",
     "text": [
      "Homeschooling\n",
      "Homeschooling\n",
      "Speech on Homeschooling  has no paragraphs...\n",
      "Narrative is empty...\n"
     ]
    },
    {
     "name": "stderr",
     "output_type": "stream",
     "text": [
      "EvidenceDetectionClient: 100%|██████████| 982/982 [00:06<00:00, 146.63it/s]\n",
      "ClaimDetectionClient:   0%|          | 0/982 [00:00<?, ?it/s]"
     ]
    },
    {
     "name": "stdout",
     "output_type": "stream",
     "text": [
      "Number of evidences: 58\n"
     ]
    },
    {
     "name": "stderr",
     "output_type": "stream",
     "text": [
      "ClaimDetectionClient: 100%|██████████| 982/982 [00:06<00:00, 146.88it/s]\n",
      "ClaimBoundariesClient:   0%|          | 0/56 [00:00<?, ?it/s]"
     ]
    },
    {
     "name": "stdout",
     "output_type": "stream",
     "text": [
      "Number of claims: 56\n"
     ]
    },
    {
     "name": "stderr",
     "output_type": "stream",
     "text": [
      "ClaimBoundariesClient: 100%|██████████| 56/56 [00:00<00:00, 153.00it/s]\n",
      "ProConClient: 100%|██████████| 113/113 [00:00<00:00, 218.35it/s]\n"
     ]
    },
    {
     "name": "stdout",
     "output_type": "stream",
     "text": [
      "Homeschooling\n",
      "Homeschooling\n",
      "14/06/2021 23:43:17, SpeechResultResponse=60c7e995a7bb4a5940f0a53d, motionGenerationid=0, status=RUNNING, started to wait at 14/06/2021 23:43:17\n"
     ]
    },
    {
     "name": "stderr",
     "output_type": "stream",
     "text": [
      "ProConClient: 100%|██████████| 113/113 [00:00<00:00, 218.07it/s]\n"
     ]
    },
    {
     "name": "stdout",
     "output_type": "stream",
     "text": [
      "Homeschooling\n",
      "Homeschooling\n",
      "14/06/2021 23:43:29, SpeechResultResponse=60c7e9a1e095963b76210a4e, motionGenerationid=0, status=RUNNING, started to wait at 14/06/2021 23:43:29\n",
      "Topic:Globalization, Moral:binding\n"
     ]
    },
    {
     "name": "stderr",
     "output_type": "stream",
     "text": [
      "EvidenceDetectionClient: 100%|██████████| 719/719 [00:42<00:00, 16.88it/s]\n",
      "ClaimDetectionClient:   0%|          | 0/719 [00:00<?, ?it/s]"
     ]
    },
    {
     "name": "stdout",
     "output_type": "stream",
     "text": [
      "Number of evidences: 18\n"
     ]
    },
    {
     "name": "stderr",
     "output_type": "stream",
     "text": [
      "ClaimDetectionClient: 100%|██████████| 719/719 [00:21<00:00, 33.22it/s]\n",
      "ClaimBoundariesClient:   0%|          | 0/30 [00:00<?, ?it/s]"
     ]
    },
    {
     "name": "stdout",
     "output_type": "stream",
     "text": [
      "Number of claims: 30\n"
     ]
    },
    {
     "name": "stderr",
     "output_type": "stream",
     "text": [
      "ClaimBoundariesClient: 100%|██████████| 30/30 [00:00<00:00, 86.39it/s]\n",
      "ProConClient: 100%|██████████| 48/48 [00:00<00:00, 148.81it/s]\n"
     ]
    },
    {
     "name": "stdout",
     "output_type": "stream",
     "text": [
      "Globalization\n",
      "Globalization\n",
      "14/06/2021 23:45:04, SpeechResultResponse=60c7ea00a7bb4a5940f0a545, motionGenerationid=0, status=RUNNING, started to wait at 14/06/2021 23:45:04\n"
     ]
    },
    {
     "name": "stderr",
     "output_type": "stream",
     "text": [
      "ProConClient: 100%|██████████| 48/48 [00:00<00:00, 149.38it/s]\n"
     ]
    },
    {
     "name": "stdout",
     "output_type": "stream",
     "text": [
      "Globalization\n",
      "Globalization\n",
      "14/06/2021 23:45:16, SpeechResultResponse=60c7ea0ca7bb4a5940f0a548, motionGenerationid=0, status=RUNNING, started to wait at 14/06/2021 23:45:16\n",
      "Topic:Globalization, Moral:individual\n"
     ]
    },
    {
     "name": "stderr",
     "output_type": "stream",
     "text": [
      "EvidenceDetectionClient: 100%|██████████| 368/368 [00:14<00:00, 25.44it/s]\n",
      "ClaimDetectionClient:   0%|          | 0/368 [00:00<?, ?it/s]"
     ]
    },
    {
     "name": "stdout",
     "output_type": "stream",
     "text": [
      "Number of evidences: 14\n"
     ]
    },
    {
     "name": "stderr",
     "output_type": "stream",
     "text": [
      "ClaimDetectionClient: 100%|██████████| 368/368 [00:11<00:00, 33.31it/s]\n",
      "ClaimBoundariesClient:   0%|          | 0/25 [00:00<?, ?it/s]"
     ]
    },
    {
     "name": "stdout",
     "output_type": "stream",
     "text": [
      "Number of claims: 25\n"
     ]
    },
    {
     "name": "stderr",
     "output_type": "stream",
     "text": [
      "ClaimBoundariesClient: 100%|██████████| 25/25 [00:00<00:00, 72.74it/s]\n",
      "ProConClient: 100%|██████████| 39/39 [00:00<00:00, 112.58it/s]\n"
     ]
    },
    {
     "name": "stdout",
     "output_type": "stream",
     "text": [
      "Globalization\n",
      "Globalization\n",
      "14/06/2021 23:46:07, SpeechResultResponse=60c7ea3ee095963b76210a51, motionGenerationid=0, status=RUNNING, started to wait at 14/06/2021 23:46:06\n"
     ]
    },
    {
     "name": "stderr",
     "output_type": "stream",
     "text": [
      "ProConClient: 100%|██████████| 39/39 [00:00<00:00, 110.73it/s]\n"
     ]
    },
    {
     "name": "stdout",
     "output_type": "stream",
     "text": [
      "Globalization\n",
      "Globalization\n",
      "14/06/2021 23:46:19, SpeechResultResponse=60c7ea4ae095963b76210a54, motionGenerationid=0, status=RUNNING, started to wait at 14/06/2021 23:46:18\n"
     ]
    },
    {
     "name": "stderr",
     "output_type": "stream",
     "text": [
      "EvidenceDetectionClient: 100%|██████████| 9573/9573 [07:21<00:00, 21.68it/s]\n",
      "ClaimDetectionClient:   0%|          | 0/9573 [00:00<?, ?it/s]"
     ]
    },
    {
     "name": "stdout",
     "output_type": "stream",
     "text": [
      "Number of evidences: 190\n"
     ]
    },
    {
     "name": "stderr",
     "output_type": "stream",
     "text": [
      "ClaimDetectionClient: 100%|██████████| 9573/9573 [04:12<00:00, 37.89it/s]\n",
      "ClaimBoundariesClient:   0%|          | 0/354 [00:00<?, ?it/s]"
     ]
    },
    {
     "name": "stdout",
     "output_type": "stream",
     "text": [
      "Number of claims: 354\n"
     ]
    },
    {
     "name": "stderr",
     "output_type": "stream",
     "text": [
      "ClaimBoundariesClient: 100%|██████████| 354/354 [00:00<00:00, 529.51it/s]\n",
      "ProConClient: 100%|██████████| 541/541 [00:07<00:00, 76.09it/s] \n"
     ]
    },
    {
     "name": "stdout",
     "output_type": "stream",
     "text": [
      "Globalization\n",
      "Globalization\n",
      "14/06/2021 23:58:23, SpeechResultResponse=60c7ed1ee095963b76210a57, motionGenerationid=0, status=RUNNING, started to wait at 14/06/2021 23:58:22\n",
      "14/06/2021 23:58:33, SpeechResultResponse=60c7ed1ee095963b76210a57, motionGenerationid=0, status=RUNNING, started to wait at 14/06/2021 23:58:22\n"
     ]
    },
    {
     "name": "stderr",
     "output_type": "stream",
     "text": [
      "ProConClient: 100%|██████████| 541/541 [00:06<00:00, 82.11it/s] \n"
     ]
    },
    {
     "name": "stdout",
     "output_type": "stream",
     "text": [
      "Globalization\n",
      "Globalization\n",
      "14/06/2021 23:58:52, SpeechResultResponse=60c7ed3be095963b76210a5b, motionGenerationid=0, status=RUNNING, started to wait at 14/06/2021 23:58:52\n",
      "14/06/2021 23:59:02, SpeechResultResponse=60c7ed3be095963b76210a5b, motionGenerationid=0, status=RUNNING, started to wait at 14/06/2021 23:58:52\n",
      "14/06/2021 23:59:13, SpeechResultResponse=60c7ed3be095963b76210a5b, motionGenerationid=0, status=RUNNING, started to wait at 14/06/2021 23:58:52\n"
     ]
    }
   ],
   "source": [
    "topic_narratives = collect_narratives_via_concepts(selected_topics, moral_dict, 10000, use_cache=True)"
   ]
  },
  {
   "cell_type": "code",
   "execution_count": 11,
   "id": "24294d9e-4783-4e48-97ff-ae4f33d93b2e",
   "metadata": {},
   "outputs": [
    {
     "data": {
      "text/plain": [
       "dict_keys(['Gay Marriage', 'Capitalism', 'National Health Care', 'Homeschooling', 'Globalization'])"
      ]
     },
     "execution_count": 11,
     "metadata": {},
     "output_type": "execute_result"
    }
   ],
   "source": [
    "topic_narratives.keys()"
   ]
  },
  {
   "cell_type": "code",
   "execution_count": 47,
   "id": "5d7e0e53-0c76-451e-adcd-170e092ba7d1",
   "metadata": {},
   "outputs": [],
   "source": [
    "pickle.dump(topic_narratives, open('../../data/moral_narratives_via_concepts_for_selected_5_big_issues.pkl', 'wb'))"
   ]
  },
  {
   "cell_type": "code",
   "execution_count": 60,
   "id": "d4c87173-5fea-406b-b545-748c9daf1a3f",
   "metadata": {},
   "outputs": [
    {
     "data": {
      "text/plain": [
       "dict_keys(['dc', 'binding_arguments', 'binding_pro_narrative', 'binding_con_narrative', 'individual_arguments', 'individual_pro_narrative', 'individual_con_narrative', 'general_arguments', 'general_pro_narrative', 'general_con_narrative'])"
      ]
     },
     "execution_count": 60,
     "metadata": {},
     "output_type": "execute_result"
    }
   ],
   "source": [
    "topic_narratives['Gay Marriage'].keys()"
   ]
  },
  {
   "cell_type": "code",
   "execution_count": 11,
   "id": "47116337-71f2-4471-ab2b-9171768f8741",
   "metadata": {
    "tags": []
   },
   "outputs": [],
   "source": [
    "topic_and_narratives_df1 = pd.DataFrame([[topic,\n",
    "                                narrative_name.split('_')[1],\n",
    "                                narrative_name.split('_')[0],\n",
    "                                str(narrative)] for topic, topic_info in topic_narratives.items() for narrative_name, narrative in topic_info.items() if 'narrative' in narrative_name],\n",
    "                                columns=['topic', 'stance', 'moral_class', 'narrative'])"
   ]
  },
  {
   "cell_type": "code",
   "execution_count": 62,
   "id": "2eab93fd-d387-4882-bfd4-f0c8769883e3",
   "metadata": {},
   "outputs": [],
   "source": [
    "topic_and_narratives_df1.to_csv('../../data/moral_narratives_via_concepts_for_selected_5_big_issues_v1.csv')"
   ]
  },
  {
   "cell_type": "code",
   "execution_count": 63,
   "id": "22335f79-c699-4b06-a304-75a1a315dd47",
   "metadata": {},
   "outputs": [],
   "source": [
    "topic_and_narratives_df2 = pd.DataFrame([[key, \n",
    "                    item['binding_con_narrative'],\n",
    "                    item['individual_con_narrative'],\n",
    "                    item['general_con_narrative'],\n",
    "                    item['binding_pro_narrative'],\n",
    "                    item['individual_pro_narrative'],\n",
    "                    item['general_pro_narrative'],] for key, item in topic_narratives.items()],\n",
    "                 columns=['topic', 'bind_con', 'ind_con', 'gen_con', 'bind_pro', 'ind_pro', 'gen_pro' ])"
   ]
  },
  {
   "cell_type": "code",
   "execution_count": 64,
   "id": "1a5febae-137a-40c6-b71e-6b0a027f331f",
   "metadata": {},
   "outputs": [],
   "source": [
    "topic_and_narratives_df2.to_csv('../../data/moral_narratives_via_concepts_for_selected_5_big_issues_v2.csv')"
   ]
  },
  {
   "cell_type": "code",
   "execution_count": 65,
   "id": "0cbb0693-3cc1-47b2-a7bd-c8ebd6202612",
   "metadata": {
    "scrolled": true,
    "tags": []
   },
   "outputs": [
    {
     "name": "stdout",
     "output_type": "stream",
     "text": [
      "Gay Marriage binding pro\n",
      "Number of Paragraphs: 7\n",
      "Number of arguments: 52\n",
      "Number of filtered-out arguments: 297\n",
      "Number of key points: 0\n",
      "Number of clusters: 4\n",
      "Clusters: ['Law', 'Community', 'LGBT rights by country or territory', 'Nation']\n",
      "====\n",
      "Gay Marriage individual pro\n",
      "Number of Paragraphs: 7\n",
      "Number of arguments: 43\n",
      "Number of filtered-out arguments: 153\n",
      "Number of key points: 0\n",
      "Number of clusters: 4\n",
      "Clusters: ['Rights', 'Discrimination', 'Gay', 'Respect']\n",
      "====\n",
      "Gay Marriage binding con\n",
      "Number of Paragraphs: 7\n",
      "Number of arguments: 70\n",
      "Number of filtered-out arguments: 279\n",
      "Number of key points: 0\n",
      "Number of clusters: 4\n",
      "Clusters: ['Wrongdoing', 'Family', 'Gay', 'Crime']\n",
      "====\n",
      "Gay Marriage individual con\n",
      "Number of Paragraphs: 7\n",
      "Number of arguments: 33\n",
      "Number of filtered-out arguments: 163\n",
      "Number of key points: 0\n",
      "Number of clusters: 4\n",
      "Clusters: ['Law', 'Man', 'Harm', 'Federal government of Nigeria']\n",
      "====\n",
      "Capitalism binding pro\n",
      "Number of Paragraphs: 7\n",
      "Number of arguments: 55\n",
      "Number of filtered-out arguments: 55\n",
      "Number of key points: 0\n",
      "Number of clusters: 4\n",
      "Clusters: ['Exploitation of labour', 'Nation', 'Ownership', 'Communism']\n",
      "====\n",
      "Capitalism individual pro\n",
      "Number of Paragraphs: 7\n",
      "Number of arguments: 49\n",
      "Number of filtered-out arguments: 49\n",
      "Number of key points: 0\n",
      "Number of clusters: 4\n",
      "Clusters: ['Exploitation of labour', 'War', 'Laborer', 'Peace']\n",
      "====\n",
      "Capitalism binding con\n",
      "Number of Paragraphs: 7\n",
      "Number of arguments: 22\n",
      "Number of filtered-out arguments: 88\n",
      "Number of key points: 0\n",
      "Number of clusters: 4\n",
      "Clusters: ['Society', 'Decade', 'Community', 'Economy']\n",
      "====\n",
      "Capitalism individual con\n",
      "Number of Paragraphs: 7\n",
      "Number of arguments: 14\n",
      "Number of filtered-out arguments: 84\n",
      "Number of key points: 0\n",
      "Number of clusters: 4\n",
      "Clusters: ['Peace', 'Democracy', 'Penny', 'Incentive']\n",
      "====\n",
      "National Health Care binding pro\n",
      "Number of Paragraphs: 7\n",
      "Number of arguments: 60\n",
      "Number of filtered-out arguments: 220\n",
      "Number of key points: 0\n",
      "Number of clusters: 4\n",
      "Clusters: ['Family', 'Choice', 'Disease', 'Mother']\n",
      "====\n",
      "National Health Care individual pro\n",
      "Number of Paragraphs: 7\n",
      "Number of arguments: 154\n",
      "Number of filtered-out arguments: 566\n",
      "Number of key points: 0\n",
      "Number of clusters: 6\n",
      "Clusters: ['Child', 'Community', 'Disability', 'Population', 'Economy', 'Patient']\n",
      "====\n",
      "National Health Care binding con\n",
      "Number of Paragraphs: 2\n",
      "Number of arguments: 3\n",
      "Number of filtered-out arguments: 277\n",
      "Number of key points: 0\n",
      "Number of clusters: 0\n",
      "Clusters: []\n",
      "====\n",
      "National Health Care individual con\n",
      "Number of Paragraphs: 4\n",
      "Number of arguments: 9\n",
      "Number of filtered-out arguments: 711\n",
      "Number of key points: 0\n",
      "Number of clusters: 4\n",
      "Clusters: ['Competition', 'Prison', 'Rights', 'Residential care']\n",
      "====\n",
      "Homeschooling binding pro\n",
      "Number of Paragraphs: 2\n",
      "Number of arguments: 2\n",
      "Number of filtered-out arguments: 13\n",
      "Number of key points: 0\n",
      "Number of clusters: 0\n",
      "Clusters: []\n",
      "====\n",
      "Homeschooling individual pro\n",
      "Number of Paragraphs: 2\n",
      "Number of arguments: 3\n",
      "Number of filtered-out arguments: 0\n",
      "Number of key points: 0\n",
      "Number of clusters: 0\n",
      "Clusters: []\n",
      "====\n",
      "Homeschooling binding con\n",
      "Number of Paragraphs: 4\n",
      "Number of arguments: 7\n",
      "Number of filtered-out arguments: 8\n",
      "Number of key points: 0\n",
      "Number of clusters: 4\n",
      "Clusters: ['Law', 'Subversion', 'Credential', 'Learning standards']\n",
      "====\n",
      "Homeschooling individual con\n",
      "All input arguments were filtered out by Rule-based filters. No argument is left for the speech.\n",
      "Input were 3 arguments. All were filtered out by our filters as follows:\n",
      "MismatchPolarityFilter: Wp4 mismatch filter -- argument polarity does not match speech polarity: 3 arguments\n",
      "\n",
      "For more details, please see dumped information for this speech generation, whose unique id is: 0_Thms_NonClusteredArgs_2021_06_14_23_42_58_6886.\n",
      "\n",
      "Globalization binding pro\n",
      "Number of Paragraphs: 6\n",
      "Number of arguments: 11\n",
      "Number of filtered-out arguments: 37\n",
      "Number of key points: 0\n",
      "Number of clusters: 4\n",
      "Clusters: ['Nation', 'Organization', 'Poverty', 'Infection']\n",
      "====\n",
      "Globalization individual pro\n",
      "Number of Paragraphs: 4\n",
      "Number of arguments: 9\n",
      "Number of filtered-out arguments: 30\n",
      "Number of key points: 0\n",
      "Number of clusters: 4\n",
      "Clusters: ['Peace', 'Welfare', 'Economic development', 'Nation']\n",
      "====\n",
      "Globalization binding con\n",
      "Number of Paragraphs: 7\n",
      "Number of arguments: 13\n",
      "Number of filtered-out arguments: 35\n",
      "Number of key points: 0\n",
      "Number of clusters: 4\n",
      "Clusters: ['Developing country', 'Homeland', 'Pollution', 'Nation']\n",
      "====\n",
      "Globalization individual con\n",
      "Number of Paragraphs: 7\n",
      "Number of arguments: 15\n",
      "Number of filtered-out arguments: 24\n",
      "Number of key points: 0\n",
      "Number of clusters: 4\n",
      "Clusters: ['Gender inequality', 'Harm', 'Surroundings', 'Society']\n",
      "====\n"
     ]
    }
   ],
   "source": [
    "for topic in topic_narratives:\n",
    "    for stance in ['pro', 'con']:\n",
    "        for m in ['binding', 'individual']:\n",
    "            print(topic, m, stance)\n",
    "            \n",
    "            analyse_speech(topic_narratives[topic]['{}_{}_narrative'.format(m,stance)])"
   ]
  },
  {
   "cell_type": "markdown",
   "id": "be4a63dc-8c95-4fcb-bddc-40b8cca4cc98",
   "metadata": {},
   "source": [
    "-------"
   ]
  },
  {
   "cell_type": "markdown",
   "id": "1a32a5f7-529e-4eb3-932e-47022f81921e",
   "metadata": {},
   "source": [
    "### Analysing narratives morals:"
   ]
  },
  {
   "cell_type": "code",
   "execution_count": 12,
   "id": "938c74f8-c4c6-4055-91fb-c3f23ecbe586",
   "metadata": {},
   "outputs": [],
   "source": [
    "topic_and_narratives_df1['narrative_paras'] = topic_and_narratives_df1.narrative.apply(lambda x: x.split('\\n\\n')[2:-1])\n",
    "topic_and_narratives_df1['narrative_paras'] = topic_and_narratives_df1.narrative_paras.apply(lambda paras:\n",
    "                                                list(zip(paras, bert_moral_classification.get_arg_morals(paras))))"
   ]
  },
  {
   "cell_type": "code",
   "execution_count": 13,
   "id": "a0980ddc-69b4-4d1b-a4ed-156326475d67",
   "metadata": {},
   "outputs": [],
   "source": [
    "topic_and_narratives_df1['narrative_morals'] = topic_and_narratives_df1.narrative_paras.apply(lambda paras: [x[1] for x in paras])"
   ]
  },
  {
   "cell_type": "code",
   "execution_count": 14,
   "id": "40e4646b-bdf0-4fba-8f10-cbfaa62a708f",
   "metadata": {},
   "outputs": [
    {
     "data": {
      "text/html": [
       "<div>\n",
       "<style scoped>\n",
       "    .dataframe tbody tr th:only-of-type {\n",
       "        vertical-align: middle;\n",
       "    }\n",
       "\n",
       "    .dataframe tbody tr th {\n",
       "        vertical-align: top;\n",
       "    }\n",
       "\n",
       "    .dataframe thead th {\n",
       "        text-align: right;\n",
       "    }\n",
       "</style>\n",
       "<table border=\"1\" class=\"dataframe\">\n",
       "  <thead>\n",
       "    <tr style=\"text-align: right;\">\n",
       "      <th></th>\n",
       "      <th>topic</th>\n",
       "      <th>stance</th>\n",
       "      <th>moral_class</th>\n",
       "      <th>narrative_morals</th>\n",
       "    </tr>\n",
       "  </thead>\n",
       "  <tbody>\n",
       "    <tr>\n",
       "      <th>0</th>\n",
       "      <td>Gay Marriage</td>\n",
       "      <td>pro</td>\n",
       "      <td>binding</td>\n",
       "      <td>[{care, fairness, authority}, {purity, fairness, authority}, {fairness, authority}, {care, authority, loyalty}]</td>\n",
       "    </tr>\n",
       "    <tr>\n",
       "      <th>1</th>\n",
       "      <td>Gay Marriage</td>\n",
       "      <td>con</td>\n",
       "      <td>binding</td>\n",
       "      <td>[{authority}, {authority}, {authority}, {authority, loyalty}]</td>\n",
       "    </tr>\n",
       "    <tr>\n",
       "      <th>2</th>\n",
       "      <td>Gay Marriage</td>\n",
       "      <td>pro</td>\n",
       "      <td>individual</td>\n",
       "      <td>[{care, authority}, {authority, loyalty}, {fairness, authority}, {fairness, authority}]</td>\n",
       "    </tr>\n",
       "    <tr>\n",
       "      <th>3</th>\n",
       "      <td>Gay Marriage</td>\n",
       "      <td>con</td>\n",
       "      <td>individual</td>\n",
       "      <td>[{fairness, authority}, {purity, fairness, authority}, {care, fairness, authority}, {authority}]</td>\n",
       "    </tr>\n",
       "    <tr>\n",
       "      <th>4</th>\n",
       "      <td>Gay Marriage</td>\n",
       "      <td>pro</td>\n",
       "      <td>general</td>\n",
       "      <td>[{fairness, authority}, {fairness, authority}, {fairness, authority}, {authority}]</td>\n",
       "    </tr>\n",
       "    <tr>\n",
       "      <th>5</th>\n",
       "      <td>Gay Marriage</td>\n",
       "      <td>con</td>\n",
       "      <td>general</td>\n",
       "      <td>[{fairness, authority, loyalty}, {purity, authority}, {fairness, authority}, {care, purity, authority}]</td>\n",
       "    </tr>\n",
       "    <tr>\n",
       "      <th>6</th>\n",
       "      <td>Capitalism</td>\n",
       "      <td>pro</td>\n",
       "      <td>binding</td>\n",
       "      <td>[{fairness, authority}, {fairness, authority}, {fairness, authority}, {fairness, authority}]</td>\n",
       "    </tr>\n",
       "    <tr>\n",
       "      <th>7</th>\n",
       "      <td>Capitalism</td>\n",
       "      <td>con</td>\n",
       "      <td>binding</td>\n",
       "      <td>[{fairness, authority}, {fairness, authority}, {authority, loyalty}, {authority}]</td>\n",
       "    </tr>\n",
       "    <tr>\n",
       "      <th>8</th>\n",
       "      <td>Capitalism</td>\n",
       "      <td>pro</td>\n",
       "      <td>individual</td>\n",
       "      <td>[{fairness, authority}, {fairness, authority}, {purity, authority}, {purity, authority}]</td>\n",
       "    </tr>\n",
       "    <tr>\n",
       "      <th>9</th>\n",
       "      <td>Capitalism</td>\n",
       "      <td>con</td>\n",
       "      <td>individual</td>\n",
       "      <td>[{care, authority}, {authority}, {fairness, authority}, {fairness, authority}]</td>\n",
       "    </tr>\n",
       "    <tr>\n",
       "      <th>10</th>\n",
       "      <td>Capitalism</td>\n",
       "      <td>pro</td>\n",
       "      <td>general</td>\n",
       "      <td>[{fairness, authority}, {fairness, authority}, {authority}, {care, authority}]</td>\n",
       "    </tr>\n",
       "    <tr>\n",
       "      <th>11</th>\n",
       "      <td>Capitalism</td>\n",
       "      <td>con</td>\n",
       "      <td>general</td>\n",
       "      <td>[{fairness, authority}, {fairness, authority}, {authority}, {authority}]</td>\n",
       "    </tr>\n",
       "    <tr>\n",
       "      <th>12</th>\n",
       "      <td>National Health Care</td>\n",
       "      <td>pro</td>\n",
       "      <td>binding</td>\n",
       "      <td>[{care, authority}, {care, authority}, {care, authority}, {care, authority}]</td>\n",
       "    </tr>\n",
       "    <tr>\n",
       "      <th>13</th>\n",
       "      <td>National Health Care</td>\n",
       "      <td>con</td>\n",
       "      <td>binding</td>\n",
       "      <td>[]</td>\n",
       "    </tr>\n",
       "    <tr>\n",
       "      <th>14</th>\n",
       "      <td>National Health Care</td>\n",
       "      <td>pro</td>\n",
       "      <td>individual</td>\n",
       "      <td>[{care, authority}, {care, authority}, {care, authority}, {care, authority}]</td>\n",
       "    </tr>\n",
       "    <tr>\n",
       "      <th>15</th>\n",
       "      <td>National Health Care</td>\n",
       "      <td>con</td>\n",
       "      <td>individual</td>\n",
       "      <td>[]</td>\n",
       "    </tr>\n",
       "    <tr>\n",
       "      <th>16</th>\n",
       "      <td>National Health Care</td>\n",
       "      <td>pro</td>\n",
       "      <td>general</td>\n",
       "      <td>[{care, authority}, {care, authority}, {care, authority}, {care, authority}]</td>\n",
       "    </tr>\n",
       "    <tr>\n",
       "      <th>17</th>\n",
       "      <td>National Health Care</td>\n",
       "      <td>con</td>\n",
       "      <td>general</td>\n",
       "      <td>[]</td>\n",
       "    </tr>\n",
       "    <tr>\n",
       "      <th>18</th>\n",
       "      <td>Homeschooling</td>\n",
       "      <td>pro</td>\n",
       "      <td>binding</td>\n",
       "      <td>[]</td>\n",
       "    </tr>\n",
       "    <tr>\n",
       "      <th>19</th>\n",
       "      <td>Homeschooling</td>\n",
       "      <td>con</td>\n",
       "      <td>binding</td>\n",
       "      <td>[{care, authority}]</td>\n",
       "    </tr>\n",
       "    <tr>\n",
       "      <th>20</th>\n",
       "      <td>Homeschooling</td>\n",
       "      <td>pro</td>\n",
       "      <td>individual</td>\n",
       "      <td>[]</td>\n",
       "    </tr>\n",
       "    <tr>\n",
       "      <th>21</th>\n",
       "      <td>Homeschooling</td>\n",
       "      <td>con</td>\n",
       "      <td>individual</td>\n",
       "      <td>[]</td>\n",
       "    </tr>\n",
       "    <tr>\n",
       "      <th>22</th>\n",
       "      <td>Homeschooling</td>\n",
       "      <td>pro</td>\n",
       "      <td>general</td>\n",
       "      <td>[{fairness, authority}, {authority}, {authority, loyalty}, {care, authority}]</td>\n",
       "    </tr>\n",
       "    <tr>\n",
       "      <th>23</th>\n",
       "      <td>Homeschooling</td>\n",
       "      <td>con</td>\n",
       "      <td>general</td>\n",
       "      <td>[{authority, loyalty}, {care, authority}, {care, authority}, {fairness, authority}]</td>\n",
       "    </tr>\n",
       "    <tr>\n",
       "      <th>24</th>\n",
       "      <td>Globalization</td>\n",
       "      <td>pro</td>\n",
       "      <td>binding</td>\n",
       "      <td>[{care, fairness, authority}, {authority, loyalty}, {fairness, authority}]</td>\n",
       "    </tr>\n",
       "    <tr>\n",
       "      <th>25</th>\n",
       "      <td>Globalization</td>\n",
       "      <td>con</td>\n",
       "      <td>binding</td>\n",
       "      <td>[{fairness, authority}, {care, authority}, {fairness, authority}, {authority, loyalty}]</td>\n",
       "    </tr>\n",
       "    <tr>\n",
       "      <th>26</th>\n",
       "      <td>Globalization</td>\n",
       "      <td>pro</td>\n",
       "      <td>individual</td>\n",
       "      <td>[{authority}]</td>\n",
       "    </tr>\n",
       "    <tr>\n",
       "      <th>27</th>\n",
       "      <td>Globalization</td>\n",
       "      <td>con</td>\n",
       "      <td>individual</td>\n",
       "      <td>[{fairness, authority, loyalty}, {purity, authority}, {fairness, authority}, {fairness, authority}]</td>\n",
       "    </tr>\n",
       "    <tr>\n",
       "      <th>28</th>\n",
       "      <td>Globalization</td>\n",
       "      <td>pro</td>\n",
       "      <td>general</td>\n",
       "      <td>[{authority}, {care, authority}, {authority, loyalty}, {authority, loyalty}]</td>\n",
       "    </tr>\n",
       "    <tr>\n",
       "      <th>29</th>\n",
       "      <td>Globalization</td>\n",
       "      <td>con</td>\n",
       "      <td>general</td>\n",
       "      <td>[{purity, authority}, {authority}, {fairness, authority}, {authority}]</td>\n",
       "    </tr>\n",
       "  </tbody>\n",
       "</table>\n",
       "</div>"
      ],
      "text/plain": [
       "                   topic stance moral_class  \\\n",
       "0           Gay Marriage    pro     binding   \n",
       "1           Gay Marriage    con     binding   \n",
       "2           Gay Marriage    pro  individual   \n",
       "3           Gay Marriage    con  individual   \n",
       "4           Gay Marriage    pro     general   \n",
       "5           Gay Marriage    con     general   \n",
       "6             Capitalism    pro     binding   \n",
       "7             Capitalism    con     binding   \n",
       "8             Capitalism    pro  individual   \n",
       "9             Capitalism    con  individual   \n",
       "10            Capitalism    pro     general   \n",
       "11            Capitalism    con     general   \n",
       "12  National Health Care    pro     binding   \n",
       "13  National Health Care    con     binding   \n",
       "14  National Health Care    pro  individual   \n",
       "15  National Health Care    con  individual   \n",
       "16  National Health Care    pro     general   \n",
       "17  National Health Care    con     general   \n",
       "18         Homeschooling    pro     binding   \n",
       "19         Homeschooling    con     binding   \n",
       "20         Homeschooling    pro  individual   \n",
       "21         Homeschooling    con  individual   \n",
       "22         Homeschooling    pro     general   \n",
       "23         Homeschooling    con     general   \n",
       "24         Globalization    pro     binding   \n",
       "25         Globalization    con     binding   \n",
       "26         Globalization    pro  individual   \n",
       "27         Globalization    con  individual   \n",
       "28         Globalization    pro     general   \n",
       "29         Globalization    con     general   \n",
       "\n",
       "                                                                                                   narrative_morals  \n",
       "0   [{care, fairness, authority}, {purity, fairness, authority}, {fairness, authority}, {care, authority, loyalty}]  \n",
       "1                                                     [{authority}, {authority}, {authority}, {authority, loyalty}]  \n",
       "2                           [{care, authority}, {authority, loyalty}, {fairness, authority}, {fairness, authority}]  \n",
       "3                  [{fairness, authority}, {purity, fairness, authority}, {care, fairness, authority}, {authority}]  \n",
       "4                                [{fairness, authority}, {fairness, authority}, {fairness, authority}, {authority}]  \n",
       "5           [{fairness, authority, loyalty}, {purity, authority}, {fairness, authority}, {care, purity, authority}]  \n",
       "6                      [{fairness, authority}, {fairness, authority}, {fairness, authority}, {fairness, authority}]  \n",
       "7                                 [{fairness, authority}, {fairness, authority}, {authority, loyalty}, {authority}]  \n",
       "8                          [{fairness, authority}, {fairness, authority}, {purity, authority}, {purity, authority}]  \n",
       "9                                    [{care, authority}, {authority}, {fairness, authority}, {fairness, authority}]  \n",
       "10                                   [{fairness, authority}, {fairness, authority}, {authority}, {care, authority}]  \n",
       "11                                         [{fairness, authority}, {fairness, authority}, {authority}, {authority}]  \n",
       "12                                     [{care, authority}, {care, authority}, {care, authority}, {care, authority}]  \n",
       "13                                                                                                               []  \n",
       "14                                     [{care, authority}, {care, authority}, {care, authority}, {care, authority}]  \n",
       "15                                                                                                               []  \n",
       "16                                     [{care, authority}, {care, authority}, {care, authority}, {care, authority}]  \n",
       "17                                                                                                               []  \n",
       "18                                                                                                               []  \n",
       "19                                                                                              [{care, authority}]  \n",
       "20                                                                                                               []  \n",
       "21                                                                                                               []  \n",
       "22                                    [{fairness, authority}, {authority}, {authority, loyalty}, {care, authority}]  \n",
       "23                              [{authority, loyalty}, {care, authority}, {care, authority}, {fairness, authority}]  \n",
       "24                                       [{care, fairness, authority}, {authority, loyalty}, {fairness, authority}]  \n",
       "25                          [{fairness, authority}, {care, authority}, {fairness, authority}, {authority, loyalty}]  \n",
       "26                                                                                                    [{authority}]  \n",
       "27              [{fairness, authority, loyalty}, {purity, authority}, {fairness, authority}, {fairness, authority}]  \n",
       "28                                     [{authority}, {care, authority}, {authority, loyalty}, {authority, loyalty}]  \n",
       "29                                           [{purity, authority}, {authority}, {fairness, authority}, {authority}]  "
      ]
     },
     "execution_count": 14,
     "metadata": {},
     "output_type": "execute_result"
    }
   ],
   "source": [
    "topic_and_narratives_df1[['topic', 'stance', 'moral_class', 'narrative_morals']].head(n=100)"
   ]
  },
  {
   "cell_type": "markdown",
   "id": "3da65c0f-e6fc-4589-b7f5-cb1fcc585081",
   "metadata": {},
   "source": [
    "### Add moral narratives to surveyed users:"
   ]
  },
  {
   "cell_type": "code",
   "execution_count": 255,
   "id": "e959e9ed-07cf-47ea-8773-b3a4fc1c2d4f",
   "metadata": {},
   "outputs": [],
   "source": [
    "topic_narratives = pickle.load(open('../../data/moral_narratives_for_selected_5_big_issues.pkl', 'rb'))"
   ]
  },
  {
   "cell_type": "code",
   "execution_count": 260,
   "id": "613cdac2-778f-4c19-908e-05936e1f4211",
   "metadata": {},
   "outputs": [],
   "source": [
    "def fill_moral_narratives(mf_survey, topic_narratives):\n",
    "    users_moral_narratives = []\n",
    "    for morals, user in zip(mf_survey['moral-scores-normalized'].tolist(), \n",
    "                            mf_survey['Email Address'].tolist()):\n",
    "        for topic, topic_item in  topic_narratives.items():\n",
    "            sorted_morals = sorted(morals.items(), key=lambda x: x[1])\n",
    "            max_moral = max(morals.items(), key=lambda x: x[1])[0]\n",
    "            min_moral = min(morals.items(), key=lambda x: x[1])[0]\n",
    "            #print(user, sorted(morals.items(), key=lambda x: -x[1]))\n",
    "            vs = [user, morals, topic]\n",
    "            if '{}_narrative'.format(max_moral) in topic_item:\n",
    "                if len(topic_item['{}_narrative'.format(max_moral)].paragraphs) < 3:\n",
    "                    print('Empty speech..', min_moral, topic)\n",
    "                    max_moral = sorted_morals[-1][0]\n",
    "                vs.append(str(topic_item['{}_narrative'.format(max_moral)]))\n",
    "            else:\n",
    "                print('No {} narrative in {}'.format(max_moral, topic))\n",
    "                vs.append('')\n",
    "\n",
    "            if '{}_narrative'.format(min_moral) in topic_item:\n",
    "                if len(topic_item['{}_narrative'.format(min_moral)].paragraphs) < 3:\n",
    "                    print('Empty speech..', min_moral, topic)\n",
    "                    min_moral = sorted_morals[1][0]\n",
    "\n",
    "                vs.append(str(topic_item['{}_narrative'.format(min_moral)]))\n",
    "            else:\n",
    "                print('No {} narrative in {}'.format(min_moral, topic))\n",
    "                vs.append('')\n",
    "\n",
    "            users_moral_narratives.append(vs)\n",
    "            \n",
    "    return users_moral_narratives\n",
    "\n",
    "def fill_binary_moral_narratives(mf_survey, topic_narratives):\n",
    "    users_moral_narratives = []\n",
    "    for morals, user in zip(mf_survey['binary-morals'].tolist(), \n",
    "                            mf_survey['Email Address'].tolist()):\n",
    "        for topic, topic_item in topic_narratives.items():\n",
    "            vs = {'user':user, 'morals': morals, 'topic': topic}\n",
    "            for stance in ['pro', 'con']:\n",
    "                for moral in ['binding', 'individual', 'general']:\n",
    "                    clm = '{}_{}_narrative'.format(moral, stance)\n",
    "                    if clm in topic_item and len(topic_item[clm].paragraphs) >= 3:\n",
    "                        vs[clm] = str(topic_item[clm])\n",
    "                    else:\n",
    "                        print('No {} narrative in {} for stance {}'.format(moral, topic, stance))\n",
    "                        vs[clm] = ''\n",
    "\n",
    "            users_moral_narratives.append(vs)\n",
    "            \n",
    "    return users_moral_narratives"
   ]
  },
  {
   "cell_type": "code",
   "execution_count": 237,
   "id": "7e8fa53b-78eb-4e84-8529-03e4cdb9efd6",
   "metadata": {},
   "outputs": [],
   "source": [
    "#users_moral_narratives_df = pd.DataFrame(users_moral_narratives, columns=['user', 'morals', 'topic', 'matching_narrative', 'unmatching_narrative'])"
   ]
  },
  {
   "cell_type": "code",
   "execution_count": 261,
   "id": "f846ab0f-5f55-4192-843d-9fdef0f16791",
   "metadata": {
    "scrolled": true,
    "tags": []
   },
   "outputs": [
    {
     "name": "stdout",
     "output_type": "stream",
     "text": [
      "No binding narrative in Capitalism is a good system for stance pro\n",
      "No individual narrative in Capitalism is a good system for stance pro\n",
      "No individual narrative in National Health Care should be legalized for stance pro\n",
      "No binding narrative in National Health Care should be legalized for stance con\n",
      "No individual narrative in National Health Care should be legalized for stance con\n",
      "No general narrative in National Health Care should be legalized for stance con\n",
      "No individual narrative in Homeschooling is a good thing for stance con\n",
      "No binding narrative in Capitalism is a good system for stance pro\n",
      "No individual narrative in Capitalism is a good system for stance pro\n",
      "No individual narrative in National Health Care should be legalized for stance pro\n",
      "No binding narrative in National Health Care should be legalized for stance con\n",
      "No individual narrative in National Health Care should be legalized for stance con\n",
      "No general narrative in National Health Care should be legalized for stance con\n",
      "No individual narrative in Homeschooling is a good thing for stance con\n",
      "No binding narrative in Capitalism is a good system for stance pro\n",
      "No individual narrative in Capitalism is a good system for stance pro\n",
      "No individual narrative in National Health Care should be legalized for stance pro\n",
      "No binding narrative in National Health Care should be legalized for stance con\n",
      "No individual narrative in National Health Care should be legalized for stance con\n",
      "No general narrative in National Health Care should be legalized for stance con\n",
      "No individual narrative in Homeschooling is a good thing for stance con\n",
      "No binding narrative in Capitalism is a good system for stance pro\n",
      "No individual narrative in Capitalism is a good system for stance pro\n",
      "No individual narrative in National Health Care should be legalized for stance pro\n",
      "No binding narrative in National Health Care should be legalized for stance con\n",
      "No individual narrative in National Health Care should be legalized for stance con\n",
      "No general narrative in National Health Care should be legalized for stance con\n",
      "No individual narrative in Homeschooling is a good thing for stance con\n",
      "No binding narrative in Capitalism is a good system for stance pro\n",
      "No individual narrative in Capitalism is a good system for stance pro\n",
      "No individual narrative in National Health Care should be legalized for stance pro\n",
      "No binding narrative in National Health Care should be legalized for stance con\n",
      "No individual narrative in National Health Care should be legalized for stance con\n",
      "No general narrative in National Health Care should be legalized for stance con\n",
      "No individual narrative in Homeschooling is a good thing for stance con\n",
      "No binding narrative in Capitalism is a good system for stance pro\n",
      "No individual narrative in Capitalism is a good system for stance pro\n",
      "No individual narrative in National Health Care should be legalized for stance pro\n",
      "No binding narrative in National Health Care should be legalized for stance con\n",
      "No individual narrative in National Health Care should be legalized for stance con\n",
      "No general narrative in National Health Care should be legalized for stance con\n",
      "No individual narrative in Homeschooling is a good thing for stance con\n"
     ]
    }
   ],
   "source": [
    "users_moral_narratives_df = pd.DataFrame(fill_binary_moral_narratives(mf_survey, topic_narratives))"
   ]
  },
  {
   "cell_type": "code",
   "execution_count": 262,
   "id": "af175deb-7e0f-48c0-810e-0db77b73e3f9",
   "metadata": {
    "scrolled": true,
    "tags": []
   },
   "outputs": [
    {
     "data": {
      "text/html": [
       "<div>\n",
       "<style scoped>\n",
       "    .dataframe tbody tr th:only-of-type {\n",
       "        vertical-align: middle;\n",
       "    }\n",
       "\n",
       "    .dataframe tbody tr th {\n",
       "        vertical-align: top;\n",
       "    }\n",
       "\n",
       "    .dataframe thead th {\n",
       "        text-align: right;\n",
       "    }\n",
       "</style>\n",
       "<table border=\"1\" class=\"dataframe\">\n",
       "  <thead>\n",
       "    <tr style=\"text-align: right;\">\n",
       "      <th></th>\n",
       "      <th>user</th>\n",
       "      <th>morals</th>\n",
       "      <th>topic</th>\n",
       "      <th>binding_pro_narrative</th>\n",
       "      <th>individual_pro_narrative</th>\n",
       "      <th>general_pro_narrative</th>\n",
       "      <th>binding_con_narrative</th>\n",
       "      <th>individual_con_narrative</th>\n",
       "      <th>general_con_narrative</th>\n",
       "    </tr>\n",
       "  </thead>\n",
       "  <tbody>\n",
       "    <tr>\n",
       "      <th>0</th>\n",
       "      <td>user-0@morals.com</td>\n",
       "      <td>{'individual': 0.224, 'binding': 0.184}</td>\n",
       "      <td>We should legalise Gay Marriage</td>\n",
       "      <td>Greetings all. The crowd has contributed 1361 arguments in support of the claim that We should legalise Gay Marriage. Following is a summary of its thoughts. \\n\\nThese are the four issues the crowd addressed: state, unconstitutional, sexual activity and majority. \\n\\nRegarding state.  State bans on same-sex marriage were unconstitutional.   California's Proposition 8 was specifically worded in order to amend the state Constitution, because same-sex marriage had been declared legal by the state Supreme Court, which had ruled that laws which outlawed same-sex marriage were unconstitutional under the state Constitution.  \\n\\nThe next issue is unconstitutional.  Arizona has recognized same-sex marriage since being forced to end enforcement of its statutory and constitutional bans on same-sex marriage by the decision of a U.S. district court on October 17, 2014.   The ban on same-sex marriages were de jure unconstitutional, which de facto legalized the same-sex marriage process.  His administration filed briefs that urged the Supreme Court to strike down same-sex marriage bans as unconstitutional ; same-sex marriage was fully legalized in 2015 after the Court ruled that a same-sex marriage ban was unconstitutional in Obergefell.  The United States Supreme Court declares state bans on same-sex marriage unconstitutional and effectively legalizes it across the United States.  \\n\\nNext, a few words about sexual activity.  Same-sex sexual activity is legal in Louisiana and same-sex marriage has been legal in the state since June 2015.   Same-sex marriage has been legal since 2006, and is equivalent to opposite-sex marriage for all purposes, including adoption.   It has been legal since 2 May 2017 in Guernsey, and since 14 June 2018 in its dependency, Alderney.  \\n\\nThe last issue mentioned was majority.  Recent polls have indicated that a majority of Californians support same-sex marriage.  They have indicated that a majority of British people support same-sex marriage, and 76% of the UK agreed that homosexuality should be accepted by society, according to a 2013 Pew Research Center poll.  A 2015 opinion poll found that a majority of Japanese support the legalisation of same-sex marriage.   A 2013 poll shows that the majority of the Irish public support same-sex marriage and adoption, 73% and 60% respectively.  \\n\\nFor all these reasons, the crowd is supporting the notion that We should legalise Gay Marriage. Thanks for tuning in.</td>\n",
       "      <td>Greetings all. The crowd has contributed 306 arguments in support of the claim that We should legalise Gay Marriage. Following is a summary of its thoughts. \\n\\nThese are the four issues the crowd addressed: bans, vote, civil and political rights and the supreme court. \\n\\nRegarding bans.  The state's constitutional ban on same-sex marriage violates the equal protection clause of the.  The case began in 2009 in the U.S. District Court for the Northern District of California, which found that banning same-sex marriage violates equal protection under the law.  Colorado's ban on gay marriage violates the equal protection and due process of the.  \\n\\nThe next issue is vote.  A plurality of voters in the state supported same-sex marriage.   Like its Scandinavian neighbours, Denmark has become one of the most socially liberal countries in the world, with recent polls indicating that a large majority of Danes support same-sex marriage and LGBT adoption.  In 2012, he joined the NAACP National Board in voting overwhelmingly in favor of supporting marriage equality. \\n\\nNext, a few words about civil and political rights.  The resolution also encouraged congregations to support legislation permitting civil same-sex marriage rights.   Same-sex marriage is a human right protected by the American Convention on Human Rights.   It is a constitutional right.   Repealing same-sex marriage rights was discriminatory and thus contrary to section 12 of the Bermuda Constitution.   The country's ban on same-sex marriage violated the International Covenant on Civil and Political Rights.  \\n\\nThe last issue mentioned was the supreme court.  Same-sex marriage in the Northern Mariana Islands was legalized by the United States Supreme Court's landmark Obergefell v. Hodges ruling on June 26, 2015, which found it unconstitutional to restrict same-sex marriage rights.   The court finds the prohibition of gay marriage unconstitutional because it denies dignity and equality of all individuals.   On 11 July 2017, the Supreme Court ruled that Chiapas' same-sex marriage ban was unconstitutional and discriminatory, legalizing same-sex marriage in the state.  Steve Bullock supports marriage equality, and praised a federal judge for striking down Montana's same-sex marriage ban in 2014, which made Montana the 34th U.S. state to legalize same-sex marriage. \\n\\nFor all these reasons, the crowd is supporting the notion that We should legalise Gay Marriage. Thanks for tuning in.</td>\n",
       "      <td>Greetings all. The crowd has contributed 1731 arguments in support of the claim that We should legalise Gay Marriage. Following is a summary of its thoughts. \\n\\nThese are the four issues the crowd addressed: constitutional court, effectiveness, majority and legalization. \\n\\nRegarding constitutional court.  The Court struck down the ban on same-sex marriage as unconstitutional.   Same-sex marriage will become legal in Austria on 1 January 2019, following a ruling issued by the country's Constitutional Court.   Sex marriage ban as unconstitutional, thus legalizing same-sex marriage in Utah.  Steve Bullock supports marriage equality, and praised a federal judge for striking down Montana's same-sex marriage ban in 2014, which made Montana the 34th U.S. state to legalize same-sex marriage. \\n\\nThe next issue is effectiveness.  -sex marriage became legally effective.   -sex it was officially legalized.   Vermont legalized same-sex marriage effective September 1, 2009.   It legalized same-sex marriage through legislation.  \\n\\nNext, a few words about majority.  More recent polls have found that a majority of Texans support same-sex marriage.   Opinion polls have found that a majority of Israelis support the legalization of same-sex marriage, as well as adoption and surrogacy rights for same-sex couples.  Recent polls have indicated that a majority of British people support same-sex marriage, and 76% of the UK agreed that homosexuality should be accepted by society, according to a 2013 Pew Research Center poll.  Like its Scandinavian neighbours, Denmark has become one of the most socially liberal countries in the world, with recent polls indicating that a large majority of Danes support same-sex marriage and LGBT adoption.  \\n\\nThe last issue mentioned was legalization. In 2012, Smith stated he supported legalizing same-sex marriage.  The Government was considering legalising same-sex marriage, stating that \"in order to protect individual freedoms, same-sex marriage should be allowed.   During his campaign, Carter reaffirmed his support for the legalization of same-sex marriage, stating, \"Marriage equality is something I believe in and have for a very, very, very long time since before I got into politics.\".   That month Attorney General Patrick Morrisey announced he would no longer fight a challenge to West Virginia's same-sex marriage ban, and thus same-sex marriage was legalized in West Virginia.  \\n\\nFor all these reasons, the crowd is supporting the notion that We should legalise Gay Marriage. Thanks for tuning in.</td>\n",
       "      <td>Greetings. The following speech is based on 1361 arguments submitted by the crowd, contesting the notion that We should legalise Gay Marriage. \\n\\nThe crowd raised four issues, explaining its views. The first will demonstrate how Kentucky's ban on same-sex marriage does not violate the Constitution. In addition, we will hear about jindal, proposition 8 and civil unions. \\n\\nRegarding constitution.  A proposed Constitutional amendment that would prohibit same sex marriages.  The same-sex marriage ban was added to the Constitution in 2008.  38% of American voters support a constitutional amendment banning same-sex marriage.   Same-sex marriage bans were constitutional.  \\n\\nThe next issue is jindal.  Jindal opposes the legalization of same-sex marriage.   Same-sex marriage is not legal in Nepal.   It is a sin.   As of today, same-sex marriage is illegal and not mentioned by any political party.   It remains illegal in many countries, and in many parts of the United States (where much research on marriage and health has been conducted.  \\n\\nNext, a few words about proposition 8.  California Proposition 8 passes a ban on same-sex marriages.   As an Assemblywoman, Walters endorsed Proposition 8, which declared same-sex marriage illegal in the state of California.  In 2004, as chairman of the RNC, Gillespie opposed same-sex marriage and supported the Republican platform plank in support of constitutional amendment banning gay marriage.  Korean-Americans, due to their Republican and Christian leanings, overwhelmingly supported California's constitutional gay marriage ban, Proposition 8.  \\n\\nThe last issue mentioned was civil unions.  Amends its constitution to allow the legislature to ban same-sex marriage, in response to a court ruling which would otherwise have allowed such marriages.   During a constitutional convention, the predominantly Democratic legislature approved an amendment that would have banned gay marriage and established civil unions.  Additional legislation in 2003 forbade the recognition of any same-sex marriages or civil unions.  On March 29, 2004, the Massachusetts legislature passed by a five-vote margin a proposed constitutional amendment that would ban same-sex marriage and provide civil unions for same-sex couples.  \\n\\nFor all these reasons, the crowd is opposing the notion that We should legalise Gay Marriage. Thanks for tuning in.</td>\n",
       "      <td>Greetings. The following speech is based on 306 arguments submitted by the crowd, contesting the notion that We should legalise Gay Marriage. \\n\\nThese are the four issues the crowd addressed: legalization, domestic partnership, violence and bans. \\n\\nRegarding legalization.  Legalising same-sex marriage would threaten opposite-sex marriages.   Morrison was an opponent of legalising same-sex marriage.   Same-sex marriage would be unconstitutional.   It would harm society or the institution of marriage.  \\n\\nThe next issue is domestic partnership.  In May 2008, the Michigan Supreme Court held that the amendment bans not only same-sex marriage and civil unions, but also public employee domestic partnership benefits such as health insurance.   This referendum, designed to ban gay marriage and restrict domestic partner benefits.   Same-sex marriage remains banned in Fiji and reports of societal discrimination and bullying are not uncommon.   Prohibitions on same-sex marriage were not discriminatory against gay people.  \\n\\nNext, a few words about violence.  Smyth claimed that to introduce same-sex marriage, would result in \"violence to the mind and spirit\" of the religiously devout and would discriminate against them.   To introduce same-sex marriage, would result in \"violence.   Homosexual marriage is wrong.   Same-sex marriage infringes upon religious liberty.   It is against nature.  \\n\\nThe last issue mentioned was bans.  Missouri became the first state to ban marriage equality.  According to the SPLC, the ADF advocates in favor of the criminalization of homosexuality, opposes equal rights for LGBT people, including marriage equality, and makes false claims about the lives of LGBT people.  Republican South Carolina Attorney General Alan Wilson announced that same day, that he would continue to defend the state's same-sex marriage ban in Bradacs.   For example, someone who is staunchly opposed to gay marriage and holds to generally conservative Christian views may support indigenous rights and education/health equity.  \\n\\nFor all these reasons, the crowd is opposing the notion that We should legalise Gay Marriage. Thanks for tuning in.</td>\n",
       "      <td>Greetings. The following speech is based on 1731 arguments submitted by the crowd, contesting the notion that We should legalise Gay Marriage. \\n\\nThese are the four issues the crowd addressed: amendments, bans, wrongs and abortion. \\n\\nRegarding amendments.  Hunter opposed same-sex marriage, and proposed a constitutional amendment to ban same-sex marriage.   On March 29, 2004, the Massachusetts legislature passed by a five-vote margin a proposed constitutional amendment that would ban same-sex marriage and provide civil unions for same-sex couples.  In 2004, as chairman of the RNC, Gillespie opposed same-sex marriage and supported the Republican platform plank in support of constitutional amendment banning gay marriage. In 2004, many southern states were passing laws banning same-sex marriage. \\n\\nThe next issue is bans.  -sex marriage ban.   Same-sex marriage bans were constitutional.  The same-sex marriage ban was added to the Constitution in 2008.  In May 2008, the Michigan Supreme Court held that the amendment bans not only same-sex marriage and civil unions, but also public employee domestic partnership benefits such as health insurance.  \\n\\nNext, a few words about wrongs.  Same-sex marriage is wrong.   It is a sin.   Homosexual marriage is wrong, then that would seem to be pretty strong evidence that it is wrong.   Polygamy is wrong - which seems to be rather a neglected aspect of these discussions.  \\n\\nThe last issue mentioned was abortion.  Same-sex marriage and abortion are morally wrong.   He doesn't support gay marriage or abortion.   Schroeder opposes same-sex marriage and abortion because he believes they are \"morally lacking.  In 1993, as national secretary of Family Solidarity, he campaigned against the decriminalisation of homosexuality, calling it \"unnatural\", In 2015, in the lead up to the marriage equality referendum, he campaigned against it, and called for a no vote. \\n\\nFor all these reasons, the crowd is opposing the notion that We should legalise Gay Marriage. Thanks for tuning in.</td>\n",
       "    </tr>\n",
       "    <tr>\n",
       "      <th>1</th>\n",
       "      <td>user-0@morals.com</td>\n",
       "      <td>{'individual': 0.224, 'binding': 0.184}</td>\n",
       "      <td>Capitalism is a good system</td>\n",
       "      <td></td>\n",
       "      <td></td>\n",
       "      <td>Hello and welcome everyone. The following speech is based on 511 arguments contributed by the crowd, supporting the idea that Capitalism is a good system. \\n\\nProcesses, customers, abuse and labor productivity are the four issues the crowd elaborated on. \\n\\nLet's explore the issue of processes.  This is a good start for expansion.   It is a good outcome.   It was a good process, and it's a good result.   It was a good offer with good money and brought in good people.   It is a good exchange.  \\n\\nMoving on to customers.  That might indeed be a good way to proceed.   It might be a good way to reduce costs without adversely affecting most customers.   It could be a good way to reach people with technical specialized knowledge.   It would be a good way to categorize members.  \\n\\nAbuse was also mentioned.  This is a good way to beat the system and avoid unnecessary abuse.   Such a system would have benefits to industry, regulators and taxpayers.   Capitalism produces more wealth than it can absorb.  \\n\\nLastly, labor productivity.  This is a good and necessary focus.   It is a good method to decrease work accidents and to increase the labour productivity.   It is a good cause-it shall ultimately prevail-it shall finally triumph.   It is a good method to collect information from others.  \\n\\nFor all these reasons, the crowd is supporting the notion that Capitalism is a good system. Thanks for tuning in.</td>\n",
       "      <td>Hello everybody. The crowd posted 209 arguments, opposing the claim that Capitalism is a good system. Here is a summary. \\n\\nThe exploitation of natural resources, innovation and productivity are the three issues the crowd elaborated on. \\n\\nLet's explore the issue of the exploitation of natural resources.  Critics of capitalism view the system as inherently exploitative.   The system lags behind and shows weaknesses compared to the systems of other European countries.  \\n\\nMoving on to innovation.  Global Positioning System is a good start.   They're good because they promote diversity and innovation.   It is a good source of vitamin K.  \\n\\nLastly, productivity.  This system does not seem to be productive.   The system appears to have failed here.   In terms of its pretensions, the capitalist system has failed.  \\n\\nFor all these reasons, the crowd is opposing the notion that Capitalism is a good system. Thanks for tuning in.</td>\n",
       "      <td>Hello everybody. The crowd posted 197 arguments, opposing the claim that Capitalism is a good system. Here is a summary. \\n\\nMedicine, investments, \"according to the menu\" and wikipedia are the four issues the crowd elaborated on. \\n\\nLet's explore the issue of medicine.  America's current system causes even many middle class Americans serious financial or medical hardship.   Such a system could result in a wealth disparity or racial discrimination.   The system resulted in unpredictable and often insufficient rates of pay.   It failed because of engagement issues.   Preserve, protect and promote the American free enterprise system.  \\n\\nMoving on to investments.  The investment is a good way to modernise and will dramatically reduce our emissions.   A good system produces benefits that are disproportionately high in comparison to the initial investment.   Comic books were good financial investments and soon collectors were buying massive amounts of comics they thought would be valuable in the future.   Swimming is a good way to relax, with many swimming styles suitable for recreational swimming.  \\n\\n\"according to the menu\" was also mentioned.  An a la carte system would not benefit customers.   The system leads to millions of lost labor-hours.   An October 2015 poll found that 49% of Democrats had a favorable view of socialism compared to 37% for capitalism.   Capitalism\" leads to inequality, that it creates inequality outright, although he certainly did not advocate dreary sameness.  \\n\\nLastly, wikipedia.  Wikipedia is a good source to start research.   It is a good source of knowledge.   Conservation of energy is a good approach.   Having good schools is essential for good property values.  \\n\\nFor all these reasons, the crowd is opposing the notion that Capitalism is a good system. Thanks for tuning in.</td>\n",
       "      <td>Hello everybody. The crowd posted 511 arguments, opposing the claim that Capitalism is a good system. Here is a summary. \\n\\nThe exploitation of natural resources, wikipedia, investments and medicine are the four issues the crowd elaborated on. \\n\\nLet's explore the issue of the exploitation of natural resources.  Critics of capitalism view the system as inherently exploitative.   An October 2015 poll found that 49% of Democrats had a favorable view of socialism compared to 37% for capitalism.   This can lead to inefficient and costly systems.   An a la carte system would not benefit customers.  \\n\\nMoving on to wikipedia.  Wikipedia is a good source to start research.   It is a good source of knowledge.   Emerging technologies is a good starting point.   They're good because they promote diversity and innovation.   Global Positioning System is a good start.  \\n\\nInvestments was also mentioned.  The investment is a good way to modernise and will dramatically reduce our emissions.   A good system produces benefits that are disproportionately high in comparison to the initial investment.   Comic books were good financial investments and soon collectors were buying massive amounts of comics they thought would be valuable in the future.   Ratcliffe personally felt encouraged by it; he thought it was a good way to ease them back into songwriting process.  \\n\\nLastly, medicine.  America's current system causes even many middle class Americans serious financial or medical hardship.   Such a system could result in a wealth disparity or racial discrimination.   The system resulted in unpredictable and often insufficient rates of pay.   It appears to have failed here.   The system failed because of engagement issues.  \\n\\nFor all these reasons, the crowd is opposing the notion that Capitalism is a good system. Thanks for tuning in.</td>\n",
       "    </tr>\n",
       "    <tr>\n",
       "      <th>2</th>\n",
       "      <td>user-0@morals.com</td>\n",
       "      <td>{'individual': 0.224, 'binding': 0.184}</td>\n",
       "      <td>National Health Care should be legalized</td>\n",
       "      <td>Hello and welcome everyone. The following speech is based on 37 arguments contributed by the crowd, supporting the idea that National Health Care should be legalized. \\n\\nSystems, the afl-cio, welfare states and intrinsic value are the four issues the crowd elaborated on. \\n\\nLet's talk about systems.  China is also planning to introduce a national health care system.   The current government is working to establish a national health insurance system out of concerns for discrepancies within the national health care system, such as unequal access to healthcare amongst different socio-economic groups.   From 1975 onward, the Algerian government introduced a free national health care system.   In 1995, a national health insurance policy was implemented, making access to health care a right for all Israelis.  \\n\\nTurning to the afl-cio.  In January, representatives Martha Griffiths and James C. Corman introduced the Health Security Act, a universal national health insurance program providing comprehensive benefits without any cost sharing backed by the AFL-CIO and UAW.   During the 1960 presidential election, the AFL-CIO worked to build a coalition in favor of national health insurance for the aged.   The University of Iowa's biography states: \"A supporter of the New Deal's most radical programs, C.B. Baldwin favored national health insurance, guaranteed jobs for the poor, and expanded federal housing.\".  \\n\\nWelfare states was also mentioned.  After the second world war the government of Norway decided to include national health care as one of their main focuses in the development of the welfare state.   Many other polls show support for various levels of government involvement in health care, including polls from New York Times/CBS News and Washington Post/ABC News, showing favorability for a form of national health insurance.  In 2008, the conference unanimously both supported single-payer national health insurance and City-coordinated drug overdose prevention efforts. \\n\\nLastly, intrinsic value.  Universal access to publicly funded health services \"is often considered by Canadians as a fundamental value that ensures national health care insurance for everyone wherever they live in the country.   Newsholme strongly advocated improvement of public health by state intervention, such as national health insurance, sanitary measurement, hospitals and sanatoriums for the isolation of persons with contagious disease.  \\n\\nFor all these reasons, the crowd is supporting the notion that National Health Care should be legalized. Thanks for tuning in.</td>\n",
       "      <td></td>\n",
       "      <td>Hello and welcome everyone. The following speech is based on 46 arguments contributed by the crowd, supporting the idea that National Health Care should be legalized. \\n\\nSystems, citizenship, tenure and the death penalty are the four issues the crowd elaborated on. \\n\\nLet's talk about systems.  China is also planning to introduce a national health care system.   The current government is working to establish a national health insurance system out of concerns for discrepancies within the national health care system, such as unequal access to healthcare amongst different socio-economic groups.   From 1975 onward, the Algerian government introduced a free national health care system.   In 1995, a national health insurance policy was implemented, making access to health care a right for all Israelis.  \\n\\nTurning to citizenship.  Every Korean citizens are guaranteed for national health insurance under the National Health Insurance Act.  Citizens are protected under the National Health Insurance, a scheme to implement universal health care launched in 2014.  The National Health Insurance Institute is bound by law to give compulsory health insurance to all of its citizens.   He was a member of the Truman Commission on the Health Care Needs of the Nation, which, as early as 1952, had supported national health insurance and the regionalization of health care delivery.  \\n\\nTenure was also mentioned.  Doggett has stressed his long tenure as a progressive Democrat, saying he wants to \"stoutly defend Social Security, Medicare, and national health care, and also notes his strong support for both higher education programs and public education.\".   Given his tenure during this period, it may not come as a surprise that Blue advocated enacting national health insurance, then known as universal sickness insurance, as part of an overall Federal public health strategy.  \\n\\nLastly, the death penalty.  The British Conservative Party officially favours nationalised health care, rights to abortion, gun control, and is against the reintroduction of the death penalty.   Many other polls show support for various levels of government involvement in health care, including polls from New York Times/CBS News and Washington Post/ABC News, showing favorability for a form of national health insurance.  \\n\\nFor all these reasons, the crowd is supporting the notion that National Health Care should be legalized. Thanks for tuning in.</td>\n",
       "      <td></td>\n",
       "      <td></td>\n",
       "      <td></td>\n",
       "    </tr>\n",
       "    <tr>\n",
       "      <th>3</th>\n",
       "      <td>user-0@morals.com</td>\n",
       "      <td>{'individual': 0.224, 'binding': 0.184}</td>\n",
       "      <td>Homeschooling is a good thing</td>\n",
       "      <td>Hello and welcome everyone. The following speech is based on 91 arguments contributed by the crowd, supporting the idea that Homeschooling is a good thing. \\n\\nThere are four issues that will be addressed. The first claim is that homeschooling is a legal alternative. Another issue is that Homeschooling is a legal option in many areas. In addition, private schools and education will be discussed. \\n\\nAlternative schools first.  Home schooling\" as a legitimate alternative to public school education to the Platform.   In many developed countries, homeschooling is a legal alternative to public and private schools.  \\n\\nThe area was also mentioned.  Homeschooling is a legal option in many areas.  It is important in Frazier Park and surrounding areas, according to a March 2008 report in the Mountain Enterprise, which added: Per capita, the Mountain Communities may have one of the highest rates of homeschooling in the state, far above the national average of 2 to 4 percent, Holly Van Houten.  Homeschooling is important in Frazier Park and surrounding areas.   It is legal.  \\n\\nMoving on to private schools.  Homeschooling was legal as a form of private schooling in Texas and should be allowed to continue.   The data indicates that homeschooling can also prepare students for success in higher education.  \\n\\nLastly, education.  To combat this phenomenon hooks argues in favor of mass literacy campaigns, homeschooling, private schooling and progressive education as tools to encourage education among black men and to subvert patriarchal notions of black masculinity.   While official studies of the New Zealand population appear to be lacking, anecdotal evidence abounds of the quality of education attained by homeschoolers in our country, with many going on to be valuable contributors to society, easily obtaining entrance to institutions of tertiary education and receiving tertiary qualifications if they so desire.   Homeschooling is increasingly becoming recognized as a viable alternative to institutional education, and fewer families are targeted for prosecution.   These goals are achieved through a coordinated curriculum that combines intensive home schooling, integrated mental, social, and recreational therapies, community involvement, and daily household responsibilities.  \\n\\nTo conclude, with examples from the fields of alternative schools, the area, private schools and education, these were the crowd's views supporting the claim that Homeschooling is a good thing. Thank you for joining.</td>\n",
       "      <td>Hello and welcome everyone. The following speech is based on 29 arguments contributed by the crowd, supporting the idea that Homeschooling is a good thing. \\n\\nThere are four issues the crowd has raised, supporting the perception that Homeschooling is a good thing: disability, fundamental rights, public schools and parents. \\n\\nDisability first.  Home schooling was also a popular alternative among highly educated parents with children with significant disabilities.   It is lawful in all 50 states.   Instead the constitution protected the rights of citizens to found and operate schools and to provide home education.   As elsewhere in the world, home education is considered something of an alternative lifestyle.  \\n\\nFundamental rights was also mentioned.  This combination of rights is the basis for calling homeschooling a fundamental right under the Supreme Court's concept of liberty protected by the Due Process clause.   In seventh grade, Melanie made the decision to homeschool, giving her more time on the practice courts and an opportunity to play more tournaments.   Snyder provided corroborating evidence that homeschoolers were outperforming their peers in the areas of standardized tests and overall GPAs.   Homeschool courses give students in-depth, personal attention in any subject with which they struggle or excel.  \\n\\nMoving on to public schools.  THSC continues to promote homeschooling as a safer alternative to public schools.   Nielson advocates for competitive choice and competitive curriculum in education, including charter schools and homeschooling as alternates to the public school model.   Like Holt, the Moores embraced homeschooling after the publication of their first work, Better Late Than Early, in 1975, and became important homeschool advocates and consultants with the publication of books such as Home Grown Kids, and Homeschool Burnout.  \\n\\nLastly, parents.  Many parents of children with handicaps choose to homeschool because they feel more prepared to meet the needs of their child.   While governor of Arkansas, he made conspicuous efforts to protect the rights of parents to homeschool their children, and was rewarded in the subsequent 2008 Republican presidential primaries with enthusiastic support from many homeschool families.  \\n\\nTo conclude, with examples from the fields of disability, fundamental rights, public schools and parents, these were the crowd's views supporting the claim that Homeschooling is a good thing. Thank you for joining.</td>\n",
       "      <td>Hello and welcome everyone. The following speech is based on 135 arguments contributed by the crowd, supporting the idea that Homeschooling is a good thing. \\n\\nThere are four issues that will be addressed. The first claim is that Homeschooling is a legal option in many areas. In addition, public schools, rights and students will be discussed. \\n\\nThe area first.  Homeschooling is a legal option in many areas.  It is important in Frazier Park and surrounding areas, according to a March 2008 report in the Mountain Enterprise, which added: Per capita, the Mountain Communities may have one of the highest rates of homeschooling in the state, far above the national average of 2 to 4 percent, Holly Van Houten.  Homeschooling is important in Frazier Park and surrounding areas.  \\n\\nPublic schools was also mentioned.  The Christian right promotes homeschooling and private schooling as a valid alternative to public education for parents who object to the content being taught at school.   In many developed countries, homeschooling is a legal alternative to public and private schools.   Many parents of children with handicaps choose to homeschool because they feel more prepared to meet the needs of their child.  \\n\\nMoving on to rights.  This combination of rights is the basis for calling homeschooling a fundamental right under the Supreme Court's concept of liberty protected by the Due Process clause.   While governor of Arkansas, he made conspicuous efforts to protect the rights of parents to homeschool their children, and was rewarded in the subsequent 2008 Republican presidential primaries with enthusiastic support from many homeschool families.   Instead the constitution protected the rights of citizens to found and operate schools and to provide home education.   Status: Legal Homeschooling is legal in Belgium and is considered a constitutional right.  \\n\\nLastly, students.  Education is compulsory in most places up to a certain age.   Homeschool courses give students in-depth, personal attention in any subject with which they struggle or excel.   Tennessee and nearby states offer government-sponsored virtual schools as a means to support homeschooling.  \\n\\nTo conclude, with examples from the fields of the area, public schools, rights and students, these were the crowd's views supporting the claim that Homeschooling is a good thing. Thank you for joining.</td>\n",
       "      <td>Greetings. The following speech is based on 91 arguments submitted by the crowd, contesting the notion that Homeschooling is a good thing. \\n\\nThere are two issues the crowd has raised, opposing the perception that Homeschooling is a good thing: credentials and teachers. \\n\\nCredentials first.  Homeschooling was illegal and that families could not form private schools themselves or teach their children without credentials.   Today, however, it remains illegal.   Homeschooling is illegal.  \\n\\nLastly, teachers.  Many teachers and school districts oppose the idea of homeschooling.   Homeschool is a bad idea for anybody-it's just one step closer to dropping out.  \\n\\nTo conclude, with examples from the fields of credentials and teachers, these were the crowd's views opposing the claim that Homeschooling is a good thing. Thank you for joining.</td>\n",
       "      <td></td>\n",
       "      <td>Greetings. The following speech is based on 135 arguments submitted by the crowd, contesting the notion that Homeschooling is a good thing. \\n\\nThere are four issues the crowd has raised, opposing the perception that Homeschooling is a good thing: teachers, child abuse, law and students. \\n\\nTeachers first.  In 1980, Holt said, \"I want to make it clear that I don't see homeschooling as some kind of answer to badness of schools.   Many teachers and school districts oppose the idea of homeschooling.   Home School \"is such a bad book on so many levels.   Homeschool is a bad idea for anybody-it's just one step closer to dropping out.  \\n\\nChild abuse was also mentioned.  A 2007 ruling of the German federal court argued that homeschooling was simply another form of child abuse.   Homeschooling was illegal and that families could not form private schools themselves or teach their children without credentials.   Today, however, it remains illegal.   Homeschooling is illegal.  \\n\\nMoving on to law.  Hor members to court on allegations that their homeschooling was not compliant with Quebec's education standards.   In other countries, while not restricted by law, homeschooling is not socially acceptable or considered desirable and is virtually non-existent.   It is not important and is not a major part of the education system.  \\n\\nLastly, students.  Stanford University political scientist Professor Rob Reich wrote in The Civic Perils of Homeschooling that homeschooling can probably result in biased students, as many homeschooling parents view the education of their children as a matter properly under their control and no one else's.   Critics of homeschooling claim that students lack necessary social skills.  \\n\\nTo conclude, with examples from the fields of teachers, child abuse, law and students, these were the crowd's views opposing the claim that Homeschooling is a good thing. Thank you for joining.</td>\n",
       "    </tr>\n",
       "    <tr>\n",
       "      <th>4</th>\n",
       "      <td>user-0@morals.com</td>\n",
       "      <td>{'individual': 0.224, 'binding': 0.184}</td>\n",
       "      <td>Globalization is a good thing</td>\n",
       "      <td>Greetings all. The crowd has contributed 389 arguments in support of the claim that Globalization is a good thing. Following is a summary of its thoughts. \\n\\nThere are four issues that will be addressed. The first will demonstrate how globalization has involved the entry of foreign culture. In addition, economic growth, opinion polls and partnerships will be discussed. \\n\\nLet's explore the issue of Culture.  Globalization has involved the entry of foreign culture, and would strengthen and preserve Indonesian culture.   It revolves around technological and social advances, which further leads to advances in trade and cultural relativism throughout the world.   The processes associated with globalization have created hitherto unimaginable opportunities for cultural forms and practices to travel far beyond the indigenous sites and spaces in which they were first conceived and produced.  \\n\\nEconomic growth was also mentioned.  Globalization would promote economic prosperity and democratization throughout the world, and he pursued several major trade agreements.   It has also provided easier means for IGO growth, as a result of increased international relations.   An International Monetary Fund analysis of growth determinants indicates that greater integration with international markets could provide a substantial boost to income and gross domestic product growth.  \\n\\nMoving on to opinion polls. In a Danish poll in 2007, 76% responded that globalization is a good thing.  Support for free trade is high among the Danish public; in a 2007 poll it responded that globalisation is a good thing.  According to a 1997 poll 58% of college graduates said globalization had been good for the US.  In Africa, a Gallup poll found that 70% of the population views globalization favorably.  \\n\\nThe final point is partnerships.  His leadership, the university has made globalisation a top priority, actively seeking partnerships with foreign universities to expand two-way student exchange.   Globalization has enabled businesses to expand outsourcing, thus attracting diverse business partnerships that have allowed businesses to continue to flourish by bringing diversity in production and service provision.   It leads to partnership, and valuable partnership expands the mission of organizations.  \\n\\nTo summarize, by discussing different topics such as Culture, economic growth, opinion polls and partnerships, these were the crowd's arguments supporting the perception that Globalization is a good thing. Thanks for the attention.</td>\n",
       "      <td>Greetings all. The crowd has contributed 133 arguments in support of the claim that Globalization is a good thing. Following is a summary of its thoughts. \\n\\nThere are four issues that will be addressed. The first will demonstrate how globalization fulfills the promises of peace, prosperity, and cooperation. In addition, the political agenda, free trade and developing countries will be discussed. \\n\\nLet's explore the issue of Peace.  As they see it, the combination of liberalization, privatization, and marketization ensure that globalization fulfills the promises of peace, prosperity, and cooperation that its liberal scholars and philosophers have promised.   Globalization makes the world more peaceful or freer.   It led to an increasing need to pursue paths for disarmament, peace and international cooperation.  \\n\\nThe political agenda was also mentioned.  As a synopsis of her works and her beliefs, Fukuda-Parr urges nations to redirect globalization so that it benefits all countries and all peoples, to promote democratization as a force for greater social justice and to address poverty as part of the agenda for collective security.  \\n\\nMoving on to free trade.  Griscom's primary significance was as an advocate for globalized free trade as a means to promote peaceful development in accordance with his Quaker faith.  In 2004, Philip Gordon stated that \"a clear majority of Europeans believe that globalization can enrich their lives, while believing the European Union can help them take advantage of globalization's benefits while shielding them from its negative effects.\".  Emphasising the benefits of globalisation, trade, and competition Creating an understanding of free market ideas and institutions.   Globalization has had many benefits, for example, new products to Europeans were discovered, such as tea, silk and sugar when Europeans developed new trade routes around Africa to India and the Spice Islands, Asia, and eventually running to the Americas.  \\n\\nThe final point is developing countries.  In recent years, developing countries have pursued the benefits of globalization by adopting measures to liberalize trade.   Globalisation originally symbolises a worldwide trend that helps to balance the economy between developed and developing countries.   Increasing globalization and investment opportunities have contributed significantly to the reduction of poverty in the country.  \\n\\nTo summarize, by discussing different topics such as Peace, the political agenda, free trade and developing countries, these were the crowd's arguments supporting the perception that Globalization is a good thing. Thanks for the attention.</td>\n",
       "      <td>Greetings all. The crowd has contributed 550 arguments in support of the claim that Globalization is a good thing. Following is a summary of its thoughts. \\n\\nThese are the four issues the crowd addressed: regions, free trade, universities and role. \\n\\nLet's explore the issue of regions.  The region's national and international markets for produce have greatly increased, and families have benefited from the growing job market.   The United States seeks to facilitate Burundi's deeper integration into regional and international markets, as a means to promote sustainable economic development.  The economic success of globalization has allowed San Diego-Tijuana to grow to the third richest region in the former Californias region, with a GDP of $136.3 billion in 2002. \\n\\nFree trade was also mentioned.  Support for business globalization, free trade, and offshoring.   The effects of globalised trade and investment flows are beneficial to forests and the communities that depend on forests for their livelihoods.   Free markets, free trade, and capitalist globalisation are the best or the only way for modern societies to develop.   Globalization has enabled businesses to expand outsourcing, thus attracting diverse business partnerships that have allowed businesses to continue to flourish by bringing diversity in production and service provision.   It had been good for the US.  \\n\\nMoving on to universities.  His leadership, the university has made globalisation a top priority, actively seeking partnerships with foreign universities to expand two-way student exchange.   Collaboration on university, local, regional, national, and global levels is necessary for reaching universal solutions in our globalized world.   Globalization and migrations of peoples to the United States have increasingly led to a multicultural American population, which has in turn increased classroom diversity.  \\n\\nThe final point is role.  Development and growth of international transport and telecommunication played a decisive role in modern globalization.   Globalization also plays a key role in the adoption of new environmental strategies as a multi-faceted process influencing modern societies, and creating interconnected and multidimensional environments.   It has played an important role in the life's of human beings since 21st century.  \\n\\nTo summarize, by discussing different topics such as regions, free trade, universities and role, these were the crowd's arguments supporting the perception that Globalization is a good thing. Thanks for the attention.</td>\n",
       "      <td>Hello everybody. The crowd posted 389 arguments, opposing the claim that Globalization is a good thing. Here is a summary. \\n\\nThere are four issues that will be addressed. The first will demonstrate how globalisation is in many ways a new form of imperialism. The next issue will show how Globalization reduces the autonomy of the nation state. In addition, capitalism and transmission will be discussed. \\n\\nLet's explore the issue of imperialism.  Some scholars have argued that increasing globalization has actually led to a contemporary form of imperialism, in which economic and cultural norms and discourses are imposed by dominant nations on weaker nations.   He also warns about the dangers of the Second Scramble for Africa by the industrialised nations which are busy exploiting Africa's resources for their own benefit and contends that globalisation is in many ways a new form of imperialism.   Globalisation is in many ways a new form of imperialism.   Although globalization takes similar steps in most countries, scholars such as Hodge claim that it might not be effective to certain countries and that globalization has actually moved some countries backward instead of developing them.  \\n\\nNation states was also mentioned. According to Ramonet, globalization and ultra-liberalism threaten the sovereignty of national states.  Globalization reduces the autonomy of the nation state.   In general, it may ultimately reduce the importance of nation states.   Globalization is especially threatening to Arab nations because Islam is not simply a religious practice, but it dominates laws and social norms such as marriages and spending habits.   It made it increasingly impractical to enforce design nationality rules.  \\n\\nMoving on to capitalism.  Some social critics and environmentalists believe that globalization, overpopulation and the economic practices of modern capitalist states over-stress the planet's ecological equilibrium.   Although Islam stands for globalization and universal brotherhood, modern globalization is a tool of exploitation and creates economic and social inequality.  \\n\\nThe final point is transmission.  Globalization has increased the spread of infectious diseases from South to North, but also the risk of non-communicable diseases by transmission of culture and behavior from North to South.   It facilitates the spread of disease and increases the number of travelers who will be exposed to a different health environment.  \\n\\nTo summarize, by discussing different topics such as imperialism, nation states, capitalism and transmission, these were the crowd's arguments opposing the perception that Globalization is a good thing. Thanks for the attention.</td>\n",
       "      <td>Hello everybody. The crowd posted 133 arguments, opposing the claim that Globalization is a good thing. Here is a summary. \\n\\nThere are four issues that will be addressed. The first will demonstrate how Globalization on its own cannot end gender inequality. In addition, income, fundamental rights and imperialism will be discussed. \\n\\nLet's explore the issue of gender inequality.  There are various studies available that depict globalization as a hindrance toward gender inequality.   Globalization on its own cannot end gender inequality.   Globalization is a threat to culture and religion, and it harms indigenous people groups while multinational corporations profit from it.  \\n\\nIncome was also mentioned.  Education, globalization, and market forces are the root causes of income and overall economic inequality.   Some economists claim that it is WTO-led globalization and competition from developing countries, especially China, that has resulted in the recent decline in labor's share of income and increased unemployment in the U.S.   Professor Conor Gearty, of the London School of Economics, has suggested that global freedom of movement, brought on by globalization, has increased the scope for prejudice within societies.   The Governor of the Bank of England, Mark Carney, put forward globalization as a factor of an increase in the inequality of outcomes in societies.  \\n\\nMoving on to fundamental rights.  The foregoing review in this paper reflects that effects of globalization are taking away from people in local communities even their basic rights to life and livelihood.   His supporters generally believed that globalization was a threat to constitutional rights and against Christian principles.   Globalization thus works to the detriment of the majority of humanity by destroying its ecological backbone.   It has led to higher income variability, which together with marginalization and social exclusion leaves major groups like women and ethnic minorities highly vulnerable.  \\n\\nThe final point is imperialism.  Eco-socialists generally believe that the expansion of the capitalist system is the cause of social exclusion, poverty, war and environmental degradation through globalization and imperialism, under the supervision of repressive states and transnational structures.   Globalization and free trade does contribute to social problems.  \\n\\nTo summarize, by discussing different topics such as gender inequality, income, fundamental rights and imperialism, these were the crowd's arguments opposing the perception that Globalization is a good thing. Thanks for the attention.</td>\n",
       "      <td>Hello everybody. The crowd posted 550 arguments, opposing the claim that Globalization is a good thing. Here is a summary. \\n\\nThere are four issues that will be addressed. The first will demonstrate how globalization is a threat. In addition, capitalism, nations and companies will be discussed. \\n\\nLet's explore the issue of threats.  Case studies of Thailand and the Arab nations' view of globalization show that globalization is a threat to culture and religion, and it harms indigenous people groups while multinational corporations profit from it.   As of recently, it has been argued that globalization poses a threat to the CHS way of thinking because it often leads to the dissolution of distinct states.  \\n\\nCapitalism was also mentioned.  Kovel was anti-capitalist and anti-globalization, seeing globalization as a force driven by capitalism - in turn, the rapid economic growth encouraged by globalization causes acute ecological crises.   The expansion of the capitalist system is the cause of social exclusion, poverty, war and environmental degradation through globalisation and imperialism.  \\n\\nMoving on to nations.  Globalization has been one of the main causes of the increase in inequality in many countries in the Organization of Economic Cooperation and Development.   It has created much global and internal unrest in many countries.   Although globalization takes similar steps in most countries, scholars such as Hodge claim that it might not be effective to certain countries and that globalization has actually moved some countries backward instead of developing them.   Some scholars have argued that increasing globalization has actually led to a contemporary form of imperialism, in which economic and cultural norms and discourses are imposed by dominant nations on weaker nations.  \\n\\nThe final point is companies.  Critics of globalization argue that globalization results in weak labor unions: the surplus in cheap labor coupled with an ever-growing number of companies in transition weakened labor unions in high-cost areas.   PAFTC believes that the North American Free Trade Agreement-World Trade Organization model of globalization has failed the US and trading partners when since 2000 Pennsylvania has lost over 200,000 manufacturing jobs.   Although Islam stands for globalization and universal brotherhood, modern globalization is a tool of exploitation and creates economic and social inequality.  \\n\\nTo summarize, by discussing different topics such as threats, capitalism, nations and companies, these were the crowd's arguments opposing the perception that Globalization is a good thing. Thanks for the attention.</td>\n",
       "    </tr>\n",
       "  </tbody>\n",
       "</table>\n",
       "</div>"
      ],
      "text/plain": [
       "                user                                   morals  \\\n",
       "0  user-0@morals.com  {'individual': 0.224, 'binding': 0.184}   \n",
       "1  user-0@morals.com  {'individual': 0.224, 'binding': 0.184}   \n",
       "2  user-0@morals.com  {'individual': 0.224, 'binding': 0.184}   \n",
       "3  user-0@morals.com  {'individual': 0.224, 'binding': 0.184}   \n",
       "4  user-0@morals.com  {'individual': 0.224, 'binding': 0.184}   \n",
       "\n",
       "                                      topic  \\\n",
       "0           We should legalise Gay Marriage   \n",
       "1               Capitalism is a good system   \n",
       "2  National Health Care should be legalized   \n",
       "3             Homeschooling is a good thing   \n",
       "4             Globalization is a good thing   \n",
       "\n",
       "                                                                                                                                                                                                                                                                                                                                                                                                                                                                                                                                                                                                                                                                                                                                                                                                                                                                                                                                                                                                                                                                                                                                                                                                                                                                                                                                                                                                                                                                                                                                                                                                                                                                                                                                                                                                                                                                                                                                                                                                                                                                                                                                                                                                                                                                                                                                                                                                                                                                                                                                                                                                                                                                       binding_pro_narrative  \\\n",
       "0                                                                                                                           Greetings all. The crowd has contributed 1361 arguments in support of the claim that We should legalise Gay Marriage. Following is a summary of its thoughts. \\n\\nThese are the four issues the crowd addressed: state, unconstitutional, sexual activity and majority. \\n\\nRegarding state.  State bans on same-sex marriage were unconstitutional.   California's Proposition 8 was specifically worded in order to amend the state Constitution, because same-sex marriage had been declared legal by the state Supreme Court, which had ruled that laws which outlawed same-sex marriage were unconstitutional under the state Constitution.  \\n\\nThe next issue is unconstitutional.  Arizona has recognized same-sex marriage since being forced to end enforcement of its statutory and constitutional bans on same-sex marriage by the decision of a U.S. district court on October 17, 2014.   The ban on same-sex marriages were de jure unconstitutional, which de facto legalized the same-sex marriage process.  His administration filed briefs that urged the Supreme Court to strike down same-sex marriage bans as unconstitutional ; same-sex marriage was fully legalized in 2015 after the Court ruled that a same-sex marriage ban was unconstitutional in Obergefell.  The United States Supreme Court declares state bans on same-sex marriage unconstitutional and effectively legalizes it across the United States.  \\n\\nNext, a few words about sexual activity.  Same-sex sexual activity is legal in Louisiana and same-sex marriage has been legal in the state since June 2015.   Same-sex marriage has been legal since 2006, and is equivalent to opposite-sex marriage for all purposes, including adoption.   It has been legal since 2 May 2017 in Guernsey, and since 14 June 2018 in its dependency, Alderney.  \\n\\nThe last issue mentioned was majority.  Recent polls have indicated that a majority of Californians support same-sex marriage.  They have indicated that a majority of British people support same-sex marriage, and 76% of the UK agreed that homosexuality should be accepted by society, according to a 2013 Pew Research Center poll.  A 2015 opinion poll found that a majority of Japanese support the legalisation of same-sex marriage.   A 2013 poll shows that the majority of the Irish public support same-sex marriage and adoption, 73% and 60% respectively.  \\n\\nFor all these reasons, the crowd is supporting the notion that We should legalise Gay Marriage. Thanks for tuning in.   \n",
       "1                                                                                                                                                                                                                                                                                                                                                                                                                                                                                                                                                                                                                                                                                                                                                                                                                                                                                                                                                                                                                                                                                                                                                                                                                                                                                                                                                                                                                                                                                                                                                                                                                                                                                                                                                                                                                                                                                                                                                                                                                                                                                                                                                                                                                                                                                                                                                                                                                                                                                                                                                                                                                                                                                              \n",
       "2  Hello and welcome everyone. The following speech is based on 37 arguments contributed by the crowd, supporting the idea that National Health Care should be legalized. \\n\\nSystems, the afl-cio, welfare states and intrinsic value are the four issues the crowd elaborated on. \\n\\nLet's talk about systems.  China is also planning to introduce a national health care system.   The current government is working to establish a national health insurance system out of concerns for discrepancies within the national health care system, such as unequal access to healthcare amongst different socio-economic groups.   From 1975 onward, the Algerian government introduced a free national health care system.   In 1995, a national health insurance policy was implemented, making access to health care a right for all Israelis.  \\n\\nTurning to the afl-cio.  In January, representatives Martha Griffiths and James C. Corman introduced the Health Security Act, a universal national health insurance program providing comprehensive benefits without any cost sharing backed by the AFL-CIO and UAW.   During the 1960 presidential election, the AFL-CIO worked to build a coalition in favor of national health insurance for the aged.   The University of Iowa's biography states: \"A supporter of the New Deal's most radical programs, C.B. Baldwin favored national health insurance, guaranteed jobs for the poor, and expanded federal housing.\".  \\n\\nWelfare states was also mentioned.  After the second world war the government of Norway decided to include national health care as one of their main focuses in the development of the welfare state.   Many other polls show support for various levels of government involvement in health care, including polls from New York Times/CBS News and Washington Post/ABC News, showing favorability for a form of national health insurance.  In 2008, the conference unanimously both supported single-payer national health insurance and City-coordinated drug overdose prevention efforts. \\n\\nLastly, intrinsic value.  Universal access to publicly funded health services \"is often considered by Canadians as a fundamental value that ensures national health care insurance for everyone wherever they live in the country.   Newsholme strongly advocated improvement of public health by state intervention, such as national health insurance, sanitary measurement, hospitals and sanatoriums for the isolation of persons with contagious disease.  \\n\\nFor all these reasons, the crowd is supporting the notion that National Health Care should be legalized. Thanks for tuning in.   \n",
       "3                                                              Hello and welcome everyone. The following speech is based on 91 arguments contributed by the crowd, supporting the idea that Homeschooling is a good thing. \\n\\nThere are four issues that will be addressed. The first claim is that homeschooling is a legal alternative. Another issue is that Homeschooling is a legal option in many areas. In addition, private schools and education will be discussed. \\n\\nAlternative schools first.  Home schooling\" as a legitimate alternative to public school education to the Platform.   In many developed countries, homeschooling is a legal alternative to public and private schools.  \\n\\nThe area was also mentioned.  Homeschooling is a legal option in many areas.  It is important in Frazier Park and surrounding areas, according to a March 2008 report in the Mountain Enterprise, which added: Per capita, the Mountain Communities may have one of the highest rates of homeschooling in the state, far above the national average of 2 to 4 percent, Holly Van Houten.  Homeschooling is important in Frazier Park and surrounding areas.   It is legal.  \\n\\nMoving on to private schools.  Homeschooling was legal as a form of private schooling in Texas and should be allowed to continue.   The data indicates that homeschooling can also prepare students for success in higher education.  \\n\\nLastly, education.  To combat this phenomenon hooks argues in favor of mass literacy campaigns, homeschooling, private schooling and progressive education as tools to encourage education among black men and to subvert patriarchal notions of black masculinity.   While official studies of the New Zealand population appear to be lacking, anecdotal evidence abounds of the quality of education attained by homeschoolers in our country, with many going on to be valuable contributors to society, easily obtaining entrance to institutions of tertiary education and receiving tertiary qualifications if they so desire.   Homeschooling is increasingly becoming recognized as a viable alternative to institutional education, and fewer families are targeted for prosecution.   These goals are achieved through a coordinated curriculum that combines intensive home schooling, integrated mental, social, and recreational therapies, community involvement, and daily household responsibilities.  \\n\\nTo conclude, with examples from the fields of alternative schools, the area, private schools and education, these were the crowd's views supporting the claim that Homeschooling is a good thing. Thank you for joining.   \n",
       "4                                       Greetings all. The crowd has contributed 389 arguments in support of the claim that Globalization is a good thing. Following is a summary of its thoughts. \\n\\nThere are four issues that will be addressed. The first will demonstrate how globalization has involved the entry of foreign culture. In addition, economic growth, opinion polls and partnerships will be discussed. \\n\\nLet's explore the issue of Culture.  Globalization has involved the entry of foreign culture, and would strengthen and preserve Indonesian culture.   It revolves around technological and social advances, which further leads to advances in trade and cultural relativism throughout the world.   The processes associated with globalization have created hitherto unimaginable opportunities for cultural forms and practices to travel far beyond the indigenous sites and spaces in which they were first conceived and produced.  \\n\\nEconomic growth was also mentioned.  Globalization would promote economic prosperity and democratization throughout the world, and he pursued several major trade agreements.   It has also provided easier means for IGO growth, as a result of increased international relations.   An International Monetary Fund analysis of growth determinants indicates that greater integration with international markets could provide a substantial boost to income and gross domestic product growth.  \\n\\nMoving on to opinion polls. In a Danish poll in 2007, 76% responded that globalization is a good thing.  Support for free trade is high among the Danish public; in a 2007 poll it responded that globalisation is a good thing.  According to a 1997 poll 58% of college graduates said globalization had been good for the US.  In Africa, a Gallup poll found that 70% of the population views globalization favorably.  \\n\\nThe final point is partnerships.  His leadership, the university has made globalisation a top priority, actively seeking partnerships with foreign universities to expand two-way student exchange.   Globalization has enabled businesses to expand outsourcing, thus attracting diverse business partnerships that have allowed businesses to continue to flourish by bringing diversity in production and service provision.   It leads to partnership, and valuable partnership expands the mission of organizations.  \\n\\nTo summarize, by discussing different topics such as Culture, economic growth, opinion polls and partnerships, these were the crowd's arguments supporting the perception that Globalization is a good thing. Thanks for the attention.   \n",
       "\n",
       "                                                                                                                                                                                                                                                                                                                                                                                                                                                                                                                                                                                                                                                                                                                                                                                                                                                                                                                                                                                                                                                                                                                                                                                                                                                                                                                                                                                                                                                                                                                                                                                                                                                                                                                                                                                                                                                                                                                                                                                                                                                                                                                                                                                                                                                                                                                                                                                                                                                                                                                                                                                                                                                                                                                                                        individual_pro_narrative  \\\n",
       "0                                                                                                                                                                                                Greetings all. The crowd has contributed 306 arguments in support of the claim that We should legalise Gay Marriage. Following is a summary of its thoughts. \\n\\nThese are the four issues the crowd addressed: bans, vote, civil and political rights and the supreme court. \\n\\nRegarding bans.  The state's constitutional ban on same-sex marriage violates the equal protection clause of the.  The case began in 2009 in the U.S. District Court for the Northern District of California, which found that banning same-sex marriage violates equal protection under the law.  Colorado's ban on gay marriage violates the equal protection and due process of the.  \\n\\nThe next issue is vote.  A plurality of voters in the state supported same-sex marriage.   Like its Scandinavian neighbours, Denmark has become one of the most socially liberal countries in the world, with recent polls indicating that a large majority of Danes support same-sex marriage and LGBT adoption.  In 2012, he joined the NAACP National Board in voting overwhelmingly in favor of supporting marriage equality. \\n\\nNext, a few words about civil and political rights.  The resolution also encouraged congregations to support legislation permitting civil same-sex marriage rights.   Same-sex marriage is a human right protected by the American Convention on Human Rights.   It is a constitutional right.   Repealing same-sex marriage rights was discriminatory and thus contrary to section 12 of the Bermuda Constitution.   The country's ban on same-sex marriage violated the International Covenant on Civil and Political Rights.  \\n\\nThe last issue mentioned was the supreme court.  Same-sex marriage in the Northern Mariana Islands was legalized by the United States Supreme Court's landmark Obergefell v. Hodges ruling on June 26, 2015, which found it unconstitutional to restrict same-sex marriage rights.   The court finds the prohibition of gay marriage unconstitutional because it denies dignity and equality of all individuals.   On 11 July 2017, the Supreme Court ruled that Chiapas' same-sex marriage ban was unconstitutional and discriminatory, legalizing same-sex marriage in the state.  Steve Bullock supports marriage equality, and praised a federal judge for striking down Montana's same-sex marriage ban in 2014, which made Montana the 34th U.S. state to legalize same-sex marriage. \\n\\nFor all these reasons, the crowd is supporting the notion that We should legalise Gay Marriage. Thanks for tuning in.   \n",
       "1                                                                                                                                                                                                                                                                                                                                                                                                                                                                                                                                                                                                                                                                                                                                                                                                                                                                                                                                                                                                                                                                                                                                                                                                                                                                                                                                                                                                                                                                                                                                                                                                                                                                                                                                                                                                                                                                                                                                                                                                                                                                                                                                                                                                                                                                                                                                                                                                                                                                                                                                                                                                                                                                                                                                                                                  \n",
       "2                                                                                                                                                                                                                                                                                                                                                                                                                                                                                                                                                                                                                                                                                                                                                                                                                                                                                                                                                                                                                                                                                                                                                                                                                                                                                                                                                                                                                                                                                                                                                                                                                                                                                                                                                                                                                                                                                                                                                                                                                                                                                                                                                                                                                                                                                                                                                                                                                                                                                                                                                                                                                                                                                                                                                                                  \n",
       "3                                                                                                                                                                  Hello and welcome everyone. The following speech is based on 29 arguments contributed by the crowd, supporting the idea that Homeschooling is a good thing. \\n\\nThere are four issues the crowd has raised, supporting the perception that Homeschooling is a good thing: disability, fundamental rights, public schools and parents. \\n\\nDisability first.  Home schooling was also a popular alternative among highly educated parents with children with significant disabilities.   It is lawful in all 50 states.   Instead the constitution protected the rights of citizens to found and operate schools and to provide home education.   As elsewhere in the world, home education is considered something of an alternative lifestyle.  \\n\\nFundamental rights was also mentioned.  This combination of rights is the basis for calling homeschooling a fundamental right under the Supreme Court's concept of liberty protected by the Due Process clause.   In seventh grade, Melanie made the decision to homeschool, giving her more time on the practice courts and an opportunity to play more tournaments.   Snyder provided corroborating evidence that homeschoolers were outperforming their peers in the areas of standardized tests and overall GPAs.   Homeschool courses give students in-depth, personal attention in any subject with which they struggle or excel.  \\n\\nMoving on to public schools.  THSC continues to promote homeschooling as a safer alternative to public schools.   Nielson advocates for competitive choice and competitive curriculum in education, including charter schools and homeschooling as alternates to the public school model.   Like Holt, the Moores embraced homeschooling after the publication of their first work, Better Late Than Early, in 1975, and became important homeschool advocates and consultants with the publication of books such as Home Grown Kids, and Homeschool Burnout.  \\n\\nLastly, parents.  Many parents of children with handicaps choose to homeschool because they feel more prepared to meet the needs of their child.   While governor of Arkansas, he made conspicuous efforts to protect the rights of parents to homeschool their children, and was rewarded in the subsequent 2008 Republican presidential primaries with enthusiastic support from many homeschool families.  \\n\\nTo conclude, with examples from the fields of disability, fundamental rights, public schools and parents, these were the crowd's views supporting the claim that Homeschooling is a good thing. Thank you for joining.   \n",
       "4  Greetings all. The crowd has contributed 133 arguments in support of the claim that Globalization is a good thing. Following is a summary of its thoughts. \\n\\nThere are four issues that will be addressed. The first will demonstrate how globalization fulfills the promises of peace, prosperity, and cooperation. In addition, the political agenda, free trade and developing countries will be discussed. \\n\\nLet's explore the issue of Peace.  As they see it, the combination of liberalization, privatization, and marketization ensure that globalization fulfills the promises of peace, prosperity, and cooperation that its liberal scholars and philosophers have promised.   Globalization makes the world more peaceful or freer.   It led to an increasing need to pursue paths for disarmament, peace and international cooperation.  \\n\\nThe political agenda was also mentioned.  As a synopsis of her works and her beliefs, Fukuda-Parr urges nations to redirect globalization so that it benefits all countries and all peoples, to promote democratization as a force for greater social justice and to address poverty as part of the agenda for collective security.  \\n\\nMoving on to free trade.  Griscom's primary significance was as an advocate for globalized free trade as a means to promote peaceful development in accordance with his Quaker faith.  In 2004, Philip Gordon stated that \"a clear majority of Europeans believe that globalization can enrich their lives, while believing the European Union can help them take advantage of globalization's benefits while shielding them from its negative effects.\".  Emphasising the benefits of globalisation, trade, and competition Creating an understanding of free market ideas and institutions.   Globalization has had many benefits, for example, new products to Europeans were discovered, such as tea, silk and sugar when Europeans developed new trade routes around Africa to India and the Spice Islands, Asia, and eventually running to the Americas.  \\n\\nThe final point is developing countries.  In recent years, developing countries have pursued the benefits of globalization by adopting measures to liberalize trade.   Globalisation originally symbolises a worldwide trend that helps to balance the economy between developed and developing countries.   Increasing globalization and investment opportunities have contributed significantly to the reduction of poverty in the country.  \\n\\nTo summarize, by discussing different topics such as Peace, the political agenda, free trade and developing countries, these were the crowd's arguments supporting the perception that Globalization is a good thing. Thanks for the attention.   \n",
       "\n",
       "                                                                                                                                                                                                                                                                                                                                                                                                                                                                                                                                                                                                                                                                                                                                                                                                                                                                                                                                                                                                                                                                                                                                                                                                                                                                                                                                                                                                                                                                                                                                                                                                                                                                                                                                                                                                                                                                                                                                                                                                                                                                                                                                                                                                                                                                                                                                                                                                                                                                                                                                                                                                                                                         general_pro_narrative  \\\n",
       "0              Greetings all. The crowd has contributed 1731 arguments in support of the claim that We should legalise Gay Marriage. Following is a summary of its thoughts. \\n\\nThese are the four issues the crowd addressed: constitutional court, effectiveness, majority and legalization. \\n\\nRegarding constitutional court.  The Court struck down the ban on same-sex marriage as unconstitutional.   Same-sex marriage will become legal in Austria on 1 January 2019, following a ruling issued by the country's Constitutional Court.   Sex marriage ban as unconstitutional, thus legalizing same-sex marriage in Utah.  Steve Bullock supports marriage equality, and praised a federal judge for striking down Montana's same-sex marriage ban in 2014, which made Montana the 34th U.S. state to legalize same-sex marriage. \\n\\nThe next issue is effectiveness.  -sex marriage became legally effective.   -sex it was officially legalized.   Vermont legalized same-sex marriage effective September 1, 2009.   It legalized same-sex marriage through legislation.  \\n\\nNext, a few words about majority.  More recent polls have found that a majority of Texans support same-sex marriage.   Opinion polls have found that a majority of Israelis support the legalization of same-sex marriage, as well as adoption and surrogacy rights for same-sex couples.  Recent polls have indicated that a majority of British people support same-sex marriage, and 76% of the UK agreed that homosexuality should be accepted by society, according to a 2013 Pew Research Center poll.  Like its Scandinavian neighbours, Denmark has become one of the most socially liberal countries in the world, with recent polls indicating that a large majority of Danes support same-sex marriage and LGBT adoption.  \\n\\nThe last issue mentioned was legalization. In 2012, Smith stated he supported legalizing same-sex marriage.  The Government was considering legalising same-sex marriage, stating that \"in order to protect individual freedoms, same-sex marriage should be allowed.   During his campaign, Carter reaffirmed his support for the legalization of same-sex marriage, stating, \"Marriage equality is something I believe in and have for a very, very, very long time since before I got into politics.\".   That month Attorney General Patrick Morrisey announced he would no longer fight a challenge to West Virginia's same-sex marriage ban, and thus same-sex marriage was legalized in West Virginia.  \\n\\nFor all these reasons, the crowd is supporting the notion that We should legalise Gay Marriage. Thanks for tuning in.   \n",
       "1                                                                                                                                                                                                                                                                                                                                                                                                                                                                                                                                                                                                                                                                                                                                                                                                                                                                                                                                                                                                                                                                                                                                                                                              Hello and welcome everyone. The following speech is based on 511 arguments contributed by the crowd, supporting the idea that Capitalism is a good system. \\n\\nProcesses, customers, abuse and labor productivity are the four issues the crowd elaborated on. \\n\\nLet's explore the issue of processes.  This is a good start for expansion.   It is a good outcome.   It was a good process, and it's a good result.   It was a good offer with good money and brought in good people.   It is a good exchange.  \\n\\nMoving on to customers.  That might indeed be a good way to proceed.   It might be a good way to reduce costs without adversely affecting most customers.   It could be a good way to reach people with technical specialized knowledge.   It would be a good way to categorize members.  \\n\\nAbuse was also mentioned.  This is a good way to beat the system and avoid unnecessary abuse.   Such a system would have benefits to industry, regulators and taxpayers.   Capitalism produces more wealth than it can absorb.  \\n\\nLastly, labor productivity.  This is a good and necessary focus.   It is a good method to decrease work accidents and to increase the labour productivity.   It is a good cause-it shall ultimately prevail-it shall finally triumph.   It is a good method to collect information from others.  \\n\\nFor all these reasons, the crowd is supporting the notion that Capitalism is a good system. Thanks for tuning in.   \n",
       "2                                                                                                                                Hello and welcome everyone. The following speech is based on 46 arguments contributed by the crowd, supporting the idea that National Health Care should be legalized. \\n\\nSystems, citizenship, tenure and the death penalty are the four issues the crowd elaborated on. \\n\\nLet's talk about systems.  China is also planning to introduce a national health care system.   The current government is working to establish a national health insurance system out of concerns for discrepancies within the national health care system, such as unequal access to healthcare amongst different socio-economic groups.   From 1975 onward, the Algerian government introduced a free national health care system.   In 1995, a national health insurance policy was implemented, making access to health care a right for all Israelis.  \\n\\nTurning to citizenship.  Every Korean citizens are guaranteed for national health insurance under the National Health Insurance Act.  Citizens are protected under the National Health Insurance, a scheme to implement universal health care launched in 2014.  The National Health Insurance Institute is bound by law to give compulsory health insurance to all of its citizens.   He was a member of the Truman Commission on the Health Care Needs of the Nation, which, as early as 1952, had supported national health insurance and the regionalization of health care delivery.  \\n\\nTenure was also mentioned.  Doggett has stressed his long tenure as a progressive Democrat, saying he wants to \"stoutly defend Social Security, Medicare, and national health care, and also notes his strong support for both higher education programs and public education.\".   Given his tenure during this period, it may not come as a surprise that Blue advocated enacting national health insurance, then known as universal sickness insurance, as part of an overall Federal public health strategy.  \\n\\nLastly, the death penalty.  The British Conservative Party officially favours nationalised health care, rights to abortion, gun control, and is against the reintroduction of the death penalty.   Many other polls show support for various levels of government involvement in health care, including polls from New York Times/CBS News and Washington Post/ABC News, showing favorability for a form of national health insurance.  \\n\\nFor all these reasons, the crowd is supporting the notion that National Health Care should be legalized. Thanks for tuning in.   \n",
       "3                                                                                                                                                                                    Hello and welcome everyone. The following speech is based on 135 arguments contributed by the crowd, supporting the idea that Homeschooling is a good thing. \\n\\nThere are four issues that will be addressed. The first claim is that Homeschooling is a legal option in many areas. In addition, public schools, rights and students will be discussed. \\n\\nThe area first.  Homeschooling is a legal option in many areas.  It is important in Frazier Park and surrounding areas, according to a March 2008 report in the Mountain Enterprise, which added: Per capita, the Mountain Communities may have one of the highest rates of homeschooling in the state, far above the national average of 2 to 4 percent, Holly Van Houten.  Homeschooling is important in Frazier Park and surrounding areas.  \\n\\nPublic schools was also mentioned.  The Christian right promotes homeschooling and private schooling as a valid alternative to public education for parents who object to the content being taught at school.   In many developed countries, homeschooling is a legal alternative to public and private schools.   Many parents of children with handicaps choose to homeschool because they feel more prepared to meet the needs of their child.  \\n\\nMoving on to rights.  This combination of rights is the basis for calling homeschooling a fundamental right under the Supreme Court's concept of liberty protected by the Due Process clause.   While governor of Arkansas, he made conspicuous efforts to protect the rights of parents to homeschool their children, and was rewarded in the subsequent 2008 Republican presidential primaries with enthusiastic support from many homeschool families.   Instead the constitution protected the rights of citizens to found and operate schools and to provide home education.   Status: Legal Homeschooling is legal in Belgium and is considered a constitutional right.  \\n\\nLastly, students.  Education is compulsory in most places up to a certain age.   Homeschool courses give students in-depth, personal attention in any subject with which they struggle or excel.   Tennessee and nearby states offer government-sponsored virtual schools as a means to support homeschooling.  \\n\\nTo conclude, with examples from the fields of the area, public schools, rights and students, these were the crowd's views supporting the claim that Homeschooling is a good thing. Thank you for joining.   \n",
       "4  Greetings all. The crowd has contributed 550 arguments in support of the claim that Globalization is a good thing. Following is a summary of its thoughts. \\n\\nThese are the four issues the crowd addressed: regions, free trade, universities and role. \\n\\nLet's explore the issue of regions.  The region's national and international markets for produce have greatly increased, and families have benefited from the growing job market.   The United States seeks to facilitate Burundi's deeper integration into regional and international markets, as a means to promote sustainable economic development.  The economic success of globalization has allowed San Diego-Tijuana to grow to the third richest region in the former Californias region, with a GDP of $136.3 billion in 2002. \\n\\nFree trade was also mentioned.  Support for business globalization, free trade, and offshoring.   The effects of globalised trade and investment flows are beneficial to forests and the communities that depend on forests for their livelihoods.   Free markets, free trade, and capitalist globalisation are the best or the only way for modern societies to develop.   Globalization has enabled businesses to expand outsourcing, thus attracting diverse business partnerships that have allowed businesses to continue to flourish by bringing diversity in production and service provision.   It had been good for the US.  \\n\\nMoving on to universities.  His leadership, the university has made globalisation a top priority, actively seeking partnerships with foreign universities to expand two-way student exchange.   Collaboration on university, local, regional, national, and global levels is necessary for reaching universal solutions in our globalized world.   Globalization and migrations of peoples to the United States have increasingly led to a multicultural American population, which has in turn increased classroom diversity.  \\n\\nThe final point is role.  Development and growth of international transport and telecommunication played a decisive role in modern globalization.   Globalization also plays a key role in the adoption of new environmental strategies as a multi-faceted process influencing modern societies, and creating interconnected and multidimensional environments.   It has played an important role in the life's of human beings since 21st century.  \\n\\nTo summarize, by discussing different topics such as regions, free trade, universities and role, these were the crowd's arguments supporting the perception that Globalization is a good thing. Thanks for the attention.   \n",
       "\n",
       "                                                                                                                                                                                                                                                                                                                                                                                                                                                                                                                                                                                                                                                                                                                                                                                                                                                                                                                                                                                                                                                                                                                                                                                                                                                                                                                                                                                                                                                                                                                                                                                                                                                                                                                                                                                                                                                                                                                                                                                                                                                                                                                                                                                                                                                                                                                                                                                                                                                                                                                                                                                                                                                                                                                                                                                                    binding_con_narrative  \\\n",
       "0                                                                                                                                                                                                                                                                                                                               Greetings. The following speech is based on 1361 arguments submitted by the crowd, contesting the notion that We should legalise Gay Marriage. \\n\\nThe crowd raised four issues, explaining its views. The first will demonstrate how Kentucky's ban on same-sex marriage does not violate the Constitution. In addition, we will hear about jindal, proposition 8 and civil unions. \\n\\nRegarding constitution.  A proposed Constitutional amendment that would prohibit same sex marriages.  The same-sex marriage ban was added to the Constitution in 2008.  38% of American voters support a constitutional amendment banning same-sex marriage.   Same-sex marriage bans were constitutional.  \\n\\nThe next issue is jindal.  Jindal opposes the legalization of same-sex marriage.   Same-sex marriage is not legal in Nepal.   It is a sin.   As of today, same-sex marriage is illegal and not mentioned by any political party.   It remains illegal in many countries, and in many parts of the United States (where much research on marriage and health has been conducted.  \\n\\nNext, a few words about proposition 8.  California Proposition 8 passes a ban on same-sex marriages.   As an Assemblywoman, Walters endorsed Proposition 8, which declared same-sex marriage illegal in the state of California.  In 2004, as chairman of the RNC, Gillespie opposed same-sex marriage and supported the Republican platform plank in support of constitutional amendment banning gay marriage.  Korean-Americans, due to their Republican and Christian leanings, overwhelmingly supported California's constitutional gay marriage ban, Proposition 8.  \\n\\nThe last issue mentioned was civil unions.  Amends its constitution to allow the legislature to ban same-sex marriage, in response to a court ruling which would otherwise have allowed such marriages.   During a constitutional convention, the predominantly Democratic legislature approved an amendment that would have banned gay marriage and established civil unions.  Additional legislation in 2003 forbade the recognition of any same-sex marriages or civil unions.  On March 29, 2004, the Massachusetts legislature passed by a five-vote margin a proposed constitutional amendment that would ban same-sex marriage and provide civil unions for same-sex couples.  \\n\\nFor all these reasons, the crowd is opposing the notion that We should legalise Gay Marriage. Thanks for tuning in.   \n",
       "1                                                                                                                                                                                                                                                                                                                                                                                                                                                                                                                                                                                                                                                                                                                                                                                                                                                                                                                                                                                                                                                                                                                                                                                                                                                                                                                                                                                                                                                                                                                                                                                                                                                                                                                                                                                                                                           Hello everybody. The crowd posted 209 arguments, opposing the claim that Capitalism is a good system. Here is a summary. \\n\\nThe exploitation of natural resources, innovation and productivity are the three issues the crowd elaborated on. \\n\\nLet's explore the issue of the exploitation of natural resources.  Critics of capitalism view the system as inherently exploitative.   The system lags behind and shows weaknesses compared to the systems of other European countries.  \\n\\nMoving on to innovation.  Global Positioning System is a good start.   They're good because they promote diversity and innovation.   It is a good source of vitamin K.  \\n\\nLastly, productivity.  This system does not seem to be productive.   The system appears to have failed here.   In terms of its pretensions, the capitalist system has failed.  \\n\\nFor all these reasons, the crowd is opposing the notion that Capitalism is a good system. Thanks for tuning in.   \n",
       "2                                                                                                                                                                                                                                                                                                                                                                                                                                                                                                                                                                                                                                                                                                                                                                                                                                                                                                                                                                                                                                                                                                                                                                                                                                                                                                                                                                                                                                                                                                                                                                                                                                                                                                                                                                                                                                                                                                                                                                                                                                                                                                                                                                                                                                                                                                                                                                                                                                                                                                                                                                                                                                                                                                                                                                                                                           \n",
       "3                                                                                                                                                                                                                                                                                                                                                                                                                                                                                                                                                                                                                                                                                                                                                                                                                                                                                                                                                                                                                                                                                                                                                                                                                                                                                                                                                                                                                                                                                                                                                                                                                                                                                                                                                                                                                                                                                                                                     Greetings. The following speech is based on 91 arguments submitted by the crowd, contesting the notion that Homeschooling is a good thing. \\n\\nThere are two issues the crowd has raised, opposing the perception that Homeschooling is a good thing: credentials and teachers. \\n\\nCredentials first.  Homeschooling was illegal and that families could not form private schools themselves or teach their children without credentials.   Today, however, it remains illegal.   Homeschooling is illegal.  \\n\\nLastly, teachers.  Many teachers and school districts oppose the idea of homeschooling.   Homeschool is a bad idea for anybody-it's just one step closer to dropping out.  \\n\\nTo conclude, with examples from the fields of credentials and teachers, these were the crowd's views opposing the claim that Homeschooling is a good thing. Thank you for joining.   \n",
       "4  Hello everybody. The crowd posted 389 arguments, opposing the claim that Globalization is a good thing. Here is a summary. \\n\\nThere are four issues that will be addressed. The first will demonstrate how globalisation is in many ways a new form of imperialism. The next issue will show how Globalization reduces the autonomy of the nation state. In addition, capitalism and transmission will be discussed. \\n\\nLet's explore the issue of imperialism.  Some scholars have argued that increasing globalization has actually led to a contemporary form of imperialism, in which economic and cultural norms and discourses are imposed by dominant nations on weaker nations.   He also warns about the dangers of the Second Scramble for Africa by the industrialised nations which are busy exploiting Africa's resources for their own benefit and contends that globalisation is in many ways a new form of imperialism.   Globalisation is in many ways a new form of imperialism.   Although globalization takes similar steps in most countries, scholars such as Hodge claim that it might not be effective to certain countries and that globalization has actually moved some countries backward instead of developing them.  \\n\\nNation states was also mentioned. According to Ramonet, globalization and ultra-liberalism threaten the sovereignty of national states.  Globalization reduces the autonomy of the nation state.   In general, it may ultimately reduce the importance of nation states.   Globalization is especially threatening to Arab nations because Islam is not simply a religious practice, but it dominates laws and social norms such as marriages and spending habits.   It made it increasingly impractical to enforce design nationality rules.  \\n\\nMoving on to capitalism.  Some social critics and environmentalists believe that globalization, overpopulation and the economic practices of modern capitalist states over-stress the planet's ecological equilibrium.   Although Islam stands for globalization and universal brotherhood, modern globalization is a tool of exploitation and creates economic and social inequality.  \\n\\nThe final point is transmission.  Globalization has increased the spread of infectious diseases from South to North, but also the risk of non-communicable diseases by transmission of culture and behavior from North to South.   It facilitates the spread of disease and increases the number of travelers who will be exposed to a different health environment.  \\n\\nTo summarize, by discussing different topics such as imperialism, nation states, capitalism and transmission, these were the crowd's arguments opposing the perception that Globalization is a good thing. Thanks for the attention.   \n",
       "\n",
       "                                                                                                                                                                                                                                                                                                                                                                                                                                                                                                                                                                                                                                                                                                                                                                                                                                                                                                                                                                                                                                                                                                                                                                                                                                                                                                                                                                                                                                                                                                                                                                                                                                                                                                                                                                                                                                                                                                                                                                                                                                                                                                                                                                                                                                                                                                                                                                                                                                                                                                                                                                                                                                                                                                        individual_con_narrative  \\\n",
       "0                                                                                                                                                                                                                                                                                                                                                                                                                                                                  Greetings. The following speech is based on 306 arguments submitted by the crowd, contesting the notion that We should legalise Gay Marriage. \\n\\nThese are the four issues the crowd addressed: legalization, domestic partnership, violence and bans. \\n\\nRegarding legalization.  Legalising same-sex marriage would threaten opposite-sex marriages.   Morrison was an opponent of legalising same-sex marriage.   Same-sex marriage would be unconstitutional.   It would harm society or the institution of marriage.  \\n\\nThe next issue is domestic partnership.  In May 2008, the Michigan Supreme Court held that the amendment bans not only same-sex marriage and civil unions, but also public employee domestic partnership benefits such as health insurance.   This referendum, designed to ban gay marriage and restrict domestic partner benefits.   Same-sex marriage remains banned in Fiji and reports of societal discrimination and bullying are not uncommon.   Prohibitions on same-sex marriage were not discriminatory against gay people.  \\n\\nNext, a few words about violence.  Smyth claimed that to introduce same-sex marriage, would result in \"violence to the mind and spirit\" of the religiously devout and would discriminate against them.   To introduce same-sex marriage, would result in \"violence.   Homosexual marriage is wrong.   Same-sex marriage infringes upon religious liberty.   It is against nature.  \\n\\nThe last issue mentioned was bans.  Missouri became the first state to ban marriage equality.  According to the SPLC, the ADF advocates in favor of the criminalization of homosexuality, opposes equal rights for LGBT people, including marriage equality, and makes false claims about the lives of LGBT people.  Republican South Carolina Attorney General Alan Wilson announced that same day, that he would continue to defend the state's same-sex marriage ban in Bradacs.   For example, someone who is staunchly opposed to gay marriage and holds to generally conservative Christian views may support indigenous rights and education/health equity.  \\n\\nFor all these reasons, the crowd is opposing the notion that We should legalise Gay Marriage. Thanks for tuning in.   \n",
       "1                                                                                                                                                                                                                                                                                                                                                                                                                                                                                                                                                                                                                                                                                                                                                                                                               Hello everybody. The crowd posted 197 arguments, opposing the claim that Capitalism is a good system. Here is a summary. \\n\\nMedicine, investments, \"according to the menu\" and wikipedia are the four issues the crowd elaborated on. \\n\\nLet's explore the issue of medicine.  America's current system causes even many middle class Americans serious financial or medical hardship.   Such a system could result in a wealth disparity or racial discrimination.   The system resulted in unpredictable and often insufficient rates of pay.   It failed because of engagement issues.   Preserve, protect and promote the American free enterprise system.  \\n\\nMoving on to investments.  The investment is a good way to modernise and will dramatically reduce our emissions.   A good system produces benefits that are disproportionately high in comparison to the initial investment.   Comic books were good financial investments and soon collectors were buying massive amounts of comics they thought would be valuable in the future.   Swimming is a good way to relax, with many swimming styles suitable for recreational swimming.  \\n\\n\"according to the menu\" was also mentioned.  An a la carte system would not benefit customers.   The system leads to millions of lost labor-hours.   An October 2015 poll found that 49% of Democrats had a favorable view of socialism compared to 37% for capitalism.   Capitalism\" leads to inequality, that it creates inequality outright, although he certainly did not advocate dreary sameness.  \\n\\nLastly, wikipedia.  Wikipedia is a good source to start research.   It is a good source of knowledge.   Conservation of energy is a good approach.   Having good schools is essential for good property values.  \\n\\nFor all these reasons, the crowd is opposing the notion that Capitalism is a good system. Thanks for tuning in.   \n",
       "2                                                                                                                                                                                                                                                                                                                                                                                                                                                                                                                                                                                                                                                                                                                                                                                                                                                                                                                                                                                                                                                                                                                                                                                                                                                                                                                                                                                                                                                                                                                                                                                                                                                                                                                                                                                                                                                                                                                                                                                                                                                                                                                                                                                                                                                                                                                                                                                                                                                                                                                                                                                                                                                                                                                                  \n",
       "3                                                                                                                                                                                                                                                                                                                                                                                                                                                                                                                                                                                                                                                                                                                                                                                                                                                                                                                                                                                                                                                                                                                                                                                                                                                                                                                                                                                                                                                                                                                                                                                                                                                                                                                                                                                                                                                                                                                                                                                                                                                                                                                                                                                                                                                                                                                                                                                                                                                                                                                                                                                                                                                                                                                                  \n",
       "4  Hello everybody. The crowd posted 133 arguments, opposing the claim that Globalization is a good thing. Here is a summary. \\n\\nThere are four issues that will be addressed. The first will demonstrate how Globalization on its own cannot end gender inequality. In addition, income, fundamental rights and imperialism will be discussed. \\n\\nLet's explore the issue of gender inequality.  There are various studies available that depict globalization as a hindrance toward gender inequality.   Globalization on its own cannot end gender inequality.   Globalization is a threat to culture and religion, and it harms indigenous people groups while multinational corporations profit from it.  \\n\\nIncome was also mentioned.  Education, globalization, and market forces are the root causes of income and overall economic inequality.   Some economists claim that it is WTO-led globalization and competition from developing countries, especially China, that has resulted in the recent decline in labor's share of income and increased unemployment in the U.S.   Professor Conor Gearty, of the London School of Economics, has suggested that global freedom of movement, brought on by globalization, has increased the scope for prejudice within societies.   The Governor of the Bank of England, Mark Carney, put forward globalization as a factor of an increase in the inequality of outcomes in societies.  \\n\\nMoving on to fundamental rights.  The foregoing review in this paper reflects that effects of globalization are taking away from people in local communities even their basic rights to life and livelihood.   His supporters generally believed that globalization was a threat to constitutional rights and against Christian principles.   Globalization thus works to the detriment of the majority of humanity by destroying its ecological backbone.   It has led to higher income variability, which together with marginalization and social exclusion leaves major groups like women and ethnic minorities highly vulnerable.  \\n\\nThe final point is imperialism.  Eco-socialists generally believe that the expansion of the capitalist system is the cause of social exclusion, poverty, war and environmental degradation through globalization and imperialism, under the supervision of repressive states and transnational structures.   Globalization and free trade does contribute to social problems.  \\n\\nTo summarize, by discussing different topics such as gender inequality, income, fundamental rights and imperialism, these were the crowd's arguments opposing the perception that Globalization is a good thing. Thanks for the attention.   \n",
       "\n",
       "                                                                                                                                                                                                                                                                                                                                                                                                                                                                                                                                                                                                                                                                                                                                                                                                                                                                                                                                                                                                                                                                                                                                                                                                                                                                                                                                                                                                                                                                                                                                                                                                                                                                                                                                                                                                                                                                                                                                                                                                                                                                                                                                                                                                                                                                                                                                                                                                                                                                                                                                                                                                                                                                                                                                                      general_con_narrative  \n",
       "0                                                                                                                                                                                                                                                                                                                                                                                                                                                                                                                                                                                                                                               Greetings. The following speech is based on 1731 arguments submitted by the crowd, contesting the notion that We should legalise Gay Marriage. \\n\\nThese are the four issues the crowd addressed: amendments, bans, wrongs and abortion. \\n\\nRegarding amendments.  Hunter opposed same-sex marriage, and proposed a constitutional amendment to ban same-sex marriage.   On March 29, 2004, the Massachusetts legislature passed by a five-vote margin a proposed constitutional amendment that would ban same-sex marriage and provide civil unions for same-sex couples.  In 2004, as chairman of the RNC, Gillespie opposed same-sex marriage and supported the Republican platform plank in support of constitutional amendment banning gay marriage. In 2004, many southern states were passing laws banning same-sex marriage. \\n\\nThe next issue is bans.  -sex marriage ban.   Same-sex marriage bans were constitutional.  The same-sex marriage ban was added to the Constitution in 2008.  In May 2008, the Michigan Supreme Court held that the amendment bans not only same-sex marriage and civil unions, but also public employee domestic partnership benefits such as health insurance.  \\n\\nNext, a few words about wrongs.  Same-sex marriage is wrong.   It is a sin.   Homosexual marriage is wrong, then that would seem to be pretty strong evidence that it is wrong.   Polygamy is wrong - which seems to be rather a neglected aspect of these discussions.  \\n\\nThe last issue mentioned was abortion.  Same-sex marriage and abortion are morally wrong.   He doesn't support gay marriage or abortion.   Schroeder opposes same-sex marriage and abortion because he believes they are \"morally lacking.  In 1993, as national secretary of Family Solidarity, he campaigned against the decriminalisation of homosexuality, calling it \"unnatural\", In 2015, in the lead up to the marriage equality referendum, he campaigned against it, and called for a no vote. \\n\\nFor all these reasons, the crowd is opposing the notion that We should legalise Gay Marriage. Thanks for tuning in.  \n",
       "1                                                                                                                                                                                                                                                                                                                                                                                                                                                                                                                                                                                                                                                                                                                                                                                                                                             Hello everybody. The crowd posted 511 arguments, opposing the claim that Capitalism is a good system. Here is a summary. \\n\\nThe exploitation of natural resources, wikipedia, investments and medicine are the four issues the crowd elaborated on. \\n\\nLet's explore the issue of the exploitation of natural resources.  Critics of capitalism view the system as inherently exploitative.   An October 2015 poll found that 49% of Democrats had a favorable view of socialism compared to 37% for capitalism.   This can lead to inefficient and costly systems.   An a la carte system would not benefit customers.  \\n\\nMoving on to wikipedia.  Wikipedia is a good source to start research.   It is a good source of knowledge.   Emerging technologies is a good starting point.   They're good because they promote diversity and innovation.   Global Positioning System is a good start.  \\n\\nInvestments was also mentioned.  The investment is a good way to modernise and will dramatically reduce our emissions.   A good system produces benefits that are disproportionately high in comparison to the initial investment.   Comic books were good financial investments and soon collectors were buying massive amounts of comics they thought would be valuable in the future.   Ratcliffe personally felt encouraged by it; he thought it was a good way to ease them back into songwriting process.  \\n\\nLastly, medicine.  America's current system causes even many middle class Americans serious financial or medical hardship.   Such a system could result in a wealth disparity or racial discrimination.   The system resulted in unpredictable and often insufficient rates of pay.   It appears to have failed here.   The system failed because of engagement issues.  \\n\\nFor all these reasons, the crowd is opposing the notion that Capitalism is a good system. Thanks for tuning in.  \n",
       "2                                                                                                                                                                                                                                                                                                                                                                                                                                                                                                                                                                                                                                                                                                                                                                                                                                                                                                                                                                                                                                                                                                                                                                                                                                                                                                                                                                                                                                                                                                                                                                                                                                                                                                                                                                                                                                                                                                                                                                                                                                                                                                                                                                                                                                                                                                                                                                                                                                                                                                                                                                                                                                                                                                                                                                            \n",
       "3                                                                                                                                                                                                                                                                                                                                                                                                                                                                                                                                                                                                                                                                                                                                                                   Greetings. The following speech is based on 135 arguments submitted by the crowd, contesting the notion that Homeschooling is a good thing. \\n\\nThere are four issues the crowd has raised, opposing the perception that Homeschooling is a good thing: teachers, child abuse, law and students. \\n\\nTeachers first.  In 1980, Holt said, \"I want to make it clear that I don't see homeschooling as some kind of answer to badness of schools.   Many teachers and school districts oppose the idea of homeschooling.   Home School \"is such a bad book on so many levels.   Homeschool is a bad idea for anybody-it's just one step closer to dropping out.  \\n\\nChild abuse was also mentioned.  A 2007 ruling of the German federal court argued that homeschooling was simply another form of child abuse.   Homeschooling was illegal and that families could not form private schools themselves or teach their children without credentials.   Today, however, it remains illegal.   Homeschooling is illegal.  \\n\\nMoving on to law.  Hor members to court on allegations that their homeschooling was not compliant with Quebec's education standards.   In other countries, while not restricted by law, homeschooling is not socially acceptable or considered desirable and is virtually non-existent.   It is not important and is not a major part of the education system.  \\n\\nLastly, students.  Stanford University political scientist Professor Rob Reich wrote in The Civic Perils of Homeschooling that homeschooling can probably result in biased students, as many homeschooling parents view the education of their children as a matter properly under their control and no one else's.   Critics of homeschooling claim that students lack necessary social skills.  \\n\\nTo conclude, with examples from the fields of teachers, child abuse, law and students, these were the crowd's views opposing the claim that Homeschooling is a good thing. Thank you for joining.  \n",
       "4  Hello everybody. The crowd posted 550 arguments, opposing the claim that Globalization is a good thing. Here is a summary. \\n\\nThere are four issues that will be addressed. The first will demonstrate how globalization is a threat. In addition, capitalism, nations and companies will be discussed. \\n\\nLet's explore the issue of threats.  Case studies of Thailand and the Arab nations' view of globalization show that globalization is a threat to culture and religion, and it harms indigenous people groups while multinational corporations profit from it.   As of recently, it has been argued that globalization poses a threat to the CHS way of thinking because it often leads to the dissolution of distinct states.  \\n\\nCapitalism was also mentioned.  Kovel was anti-capitalist and anti-globalization, seeing globalization as a force driven by capitalism - in turn, the rapid economic growth encouraged by globalization causes acute ecological crises.   The expansion of the capitalist system is the cause of social exclusion, poverty, war and environmental degradation through globalisation and imperialism.  \\n\\nMoving on to nations.  Globalization has been one of the main causes of the increase in inequality in many countries in the Organization of Economic Cooperation and Development.   It has created much global and internal unrest in many countries.   Although globalization takes similar steps in most countries, scholars such as Hodge claim that it might not be effective to certain countries and that globalization has actually moved some countries backward instead of developing them.   Some scholars have argued that increasing globalization has actually led to a contemporary form of imperialism, in which economic and cultural norms and discourses are imposed by dominant nations on weaker nations.  \\n\\nThe final point is companies.  Critics of globalization argue that globalization results in weak labor unions: the surplus in cheap labor coupled with an ever-growing number of companies in transition weakened labor unions in high-cost areas.   PAFTC believes that the North American Free Trade Agreement-World Trade Organization model of globalization has failed the US and trading partners when since 2000 Pennsylvania has lost over 200,000 manufacturing jobs.   Although Islam stands for globalization and universal brotherhood, modern globalization is a tool of exploitation and creates economic and social inequality.  \\n\\nTo summarize, by discussing different topics such as threats, capitalism, nations and companies, these were the crowd's arguments opposing the perception that Globalization is a good thing. Thanks for the attention.  "
      ]
     },
     "execution_count": 262,
     "metadata": {},
     "output_type": "execute_result"
    }
   ],
   "source": [
    "users_moral_narratives_df.head()"
   ]
  },
  {
   "cell_type": "code",
   "execution_count": 263,
   "id": "3597a9ba-4362-4e4b-85c4-dac13cf7964d",
   "metadata": {},
   "outputs": [],
   "source": [
    "users_moral_narratives_df.to_csv('../../data/debater_narratives_for_surveyed_users_binding_vs_individual.csv')"
   ]
  },
  {
   "cell_type": "code",
   "execution_count": null,
   "id": "99c464ed-3cf6-4268-a3ec-69bd2ead14eb",
   "metadata": {},
   "outputs": [],
   "source": []
  }
 ],
 "metadata": {
  "kernelspec": {
   "display_name": "Python 3",
   "language": "python",
   "name": "python3"
  },
  "language_info": {
   "codemirror_mode": {
    "name": "ipython",
    "version": 3
   },
   "file_extension": ".py",
   "mimetype": "text/x-python",
   "name": "python",
   "nbconvert_exporter": "python",
   "pygments_lexer": "ipython3",
   "version": "3.6.9"
  }
 },
 "nbformat": 4,
 "nbformat_minor": 5
}
