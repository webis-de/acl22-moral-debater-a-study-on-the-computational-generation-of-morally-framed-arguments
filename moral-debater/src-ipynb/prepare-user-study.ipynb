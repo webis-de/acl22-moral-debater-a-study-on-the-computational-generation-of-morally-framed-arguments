{
 "cells": [
  {
   "cell_type": "code",
   "execution_count": null,
   "id": "8bfee1ae-2a26-4588-8a15-6c4f62ba1519",
   "metadata": {},
   "outputs": [],
   "source": [
    "import json\n",
    "from matplotlib import pyplot as plt\n",
    "import pandas as pd\n",
    "\n",
    "pd.set_option('display.max_colwidth', None)"
   ]
  },
  {
   "cell_type": "code",
   "execution_count": null,
   "id": "26b0a085-ed0a-44f8-818a-23e1ebe3432e",
   "metadata": {},
   "outputs": [],
   "source": [
    "df = pd.read_csv('../../data/top_20_big_issues_narratives.csv')"
   ]
  },
  {
   "cell_type": "code",
   "execution_count": null,
   "id": "0434dc94-fffb-4bba-896a-34b0ab9f50c1",
   "metadata": {
    "scrolled": true,
    "tags": []
   },
   "outputs": [],
   "source": [
    "df.head()"
   ]
  },
  {
   "cell_type": "code",
   "execution_count": null,
   "id": "59ef73c9-59bb-447e-b0cb-e3f53636f5b6",
   "metadata": {},
   "outputs": [],
   "source": [
    "df['narrative'] = df.narrative.apply(lambda x: '\\n\\n'.join(x.split('\\n\\n')[1:-1]) if type(x) != float else '')"
   ]
  },
  {
   "cell_type": "code",
   "execution_count": null,
   "id": "cbafe6bb-9d49-4912-869a-eca0a4e4e900",
   "metadata": {},
   "outputs": [],
   "source": [
    "df[df['narrative'] == ''].head()"
   ]
  },
  {
   "cell_type": "code",
   "execution_count": 17,
   "id": "4145bd93-ad83-4d88-9ca7-3f5442a64d0d",
   "metadata": {},
   "outputs": [],
   "source": [
    "topic_stats = df.groupby(['topic']).agg({'narrative': lambda narratives: len([x for x in narratives if x != ''])}).reset_index()"
   ]
  },
  {
   "cell_type": "code",
   "execution_count": 20,
   "id": "7902cd37-cbb8-4739-b4c9-409d70946db6",
   "metadata": {},
   "outputs": [
    {
     "data": {
      "text/html": [
       "<div>\n",
       "<style scoped>\n",
       "    .dataframe tbody tr th:only-of-type {\n",
       "        vertical-align: middle;\n",
       "    }\n",
       "\n",
       "    .dataframe tbody tr th {\n",
       "        vertical-align: top;\n",
       "    }\n",
       "\n",
       "    .dataframe thead th {\n",
       "        text-align: right;\n",
       "    }\n",
       "</style>\n",
       "<table border=\"1\" class=\"dataframe\">\n",
       "  <thead>\n",
       "    <tr style=\"text-align: right;\">\n",
       "      <th></th>\n",
       "      <th>topic</th>\n",
       "      <th>narrative</th>\n",
       "    </tr>\n",
       "  </thead>\n",
       "  <tbody>\n",
       "    <tr>\n",
       "      <th>0</th>\n",
       "      <td>Affirmative Action</td>\n",
       "      <td>6</td>\n",
       "    </tr>\n",
       "    <tr>\n",
       "      <th>1</th>\n",
       "      <td>Animal Rights</td>\n",
       "      <td>6</td>\n",
       "    </tr>\n",
       "    <tr>\n",
       "      <th>5</th>\n",
       "      <td>Death Penalty</td>\n",
       "      <td>6</td>\n",
       "    </tr>\n",
       "    <tr>\n",
       "      <th>7</th>\n",
       "      <td>Euthanasia</td>\n",
       "      <td>6</td>\n",
       "    </tr>\n",
       "    <tr>\n",
       "      <th>8</th>\n",
       "      <td>Federal Reserve</td>\n",
       "      <td>6</td>\n",
       "    </tr>\n",
       "    <tr>\n",
       "      <th>9</th>\n",
       "      <td>Flat Tax</td>\n",
       "      <td>6</td>\n",
       "    </tr>\n",
       "    <tr>\n",
       "      <th>10</th>\n",
       "      <td>Free Trade</td>\n",
       "      <td>6</td>\n",
       "    </tr>\n",
       "    <tr>\n",
       "      <th>12</th>\n",
       "      <td>Global Warming</td>\n",
       "      <td>6</td>\n",
       "    </tr>\n",
       "    <tr>\n",
       "      <th>13</th>\n",
       "      <td>Legalized Prostitution</td>\n",
       "      <td>6</td>\n",
       "    </tr>\n",
       "    <tr>\n",
       "      <th>14</th>\n",
       "      <td>Medical Marijuana</td>\n",
       "      <td>6</td>\n",
       "    </tr>\n",
       "    <tr>\n",
       "      <th>16</th>\n",
       "      <td>Socialism</td>\n",
       "      <td>6</td>\n",
       "    </tr>\n",
       "  </tbody>\n",
       "</table>\n",
       "</div>"
      ],
      "text/plain": [
       "                     topic  narrative\n",
       "0       Affirmative Action          6\n",
       "1            Animal Rights          6\n",
       "5            Death Penalty          6\n",
       "7               Euthanasia          6\n",
       "8          Federal Reserve          6\n",
       "9                 Flat Tax          6\n",
       "10              Free Trade          6\n",
       "12          Global Warming          6\n",
       "13  Legalized Prostitution          6\n",
       "14       Medical Marijuana          6\n",
       "16               Socialism          6"
      ]
     },
     "execution_count": 20,
     "metadata": {},
     "output_type": "execute_result"
    }
   ],
   "source": [
    "topic_stats[topic_stats.narrative > 5].head(n=100)"
   ]
  },
  {
   "cell_type": "code",
   "execution_count": 21,
   "id": "2dbf26de-3c19-45b7-9026-4cd98c3b7544",
   "metadata": {},
   "outputs": [],
   "source": [
    "user_study_topics = topic_stats[topic_stats.narrative > 5]['topic'].tolist()"
   ]
  },
  {
   "cell_type": "code",
   "execution_count": 34,
   "id": "d61de04b-ff1e-4372-ac10-4b67e4aa442c",
   "metadata": {},
   "outputs": [
    {
     "data": {
      "text/html": [
       "<div>\n",
       "<style scoped>\n",
       "    .dataframe tbody tr th:only-of-type {\n",
       "        vertical-align: middle;\n",
       "    }\n",
       "\n",
       "    .dataframe tbody tr th {\n",
       "        vertical-align: top;\n",
       "    }\n",
       "\n",
       "    .dataframe thead th {\n",
       "        text-align: right;\n",
       "    }\n",
       "</style>\n",
       "<table border=\"1\" class=\"dataframe\">\n",
       "  <thead>\n",
       "    <tr style=\"text-align: right;\">\n",
       "      <th></th>\n",
       "      <th>Unnamed: 0</th>\n",
       "      <th>topic</th>\n",
       "      <th>stance</th>\n",
       "      <th>moral_class</th>\n",
       "      <th>narrative</th>\n",
       "      <th>narrative_paras</th>\n",
       "      <th>narrative_morals</th>\n",
       "    </tr>\n",
       "  </thead>\n",
       "  <tbody>\n",
       "    <tr>\n",
       "      <th>50</th>\n",
       "      <td>50</td>\n",
       "      <td>Free Trade</td>\n",
       "      <td>pro</td>\n",
       "      <td>binding</td>\n",
       "      <td>There are four issues the crowd has raised, supporting the perception that Free Trade: vote, policy, economy and treaties. \\n\\nAbout vote.  Cleland was strongly pro-free trade, voting to normalize trade relations with Vietnam, to make China's NTR status permanent, and to extend free trade to Andean nations.   Free trade Wyden supports free trade; while in the House, he voted for the North American Free Trade Agreement and has subsequently supported many trade deals in the Senate being one of the very few Democrats to vote in favor of the Central America Free Trade Agreement.  \\n\\nLet's move to policy.  Koch supports policies that promote individual liberty and free market principles, and supports reduced government spending.   Lower business taxes, tax incentives to encourage employers to hire, reduced red tape and government spending, business friendly labour laws and policies facilitating trade help create conducive business climate, thus creating jobs.   In the second half of the 19th century, free trade policies and technological advances such as the telephone and the telegraph, introduced a period of prosperity for the silk trade.  \\n\\nMoving on to economy.  Foreign trade played an important role in the Czechoslovak national economy.   Advances in telecommunications and transportation, the expansion of capitalism and democracy, and free trade agreements have resulted in unprecedented global economic and cultural integration.   Free trade would help America because it would allow the U.S. to boost its exports and grow the economy.   Trade can grow as a result of specialisation, division of labour, and most importantly via comparative advantage.  \\n\\nThe final point is treaties.  The treaty is aimed at promoting free trade between its members.   It allowed free trade by foreigners in Bangkok, as foreign trade had previously been subject to heavy royal taxes.   Fimian has advocated for ratification of new free trade agreements to spur economic growth.   The development of trade would improve domestic wealth and thus also the tax revenue and state finances.</td>\n",
       "      <td>[(\"About vote.  Cleland was strongly pro-free trade, voting to normalize trade relations with Vietnam, to make China's NTR status permanent, and to extend free trade to Andean nations.   Free trade Wyden supports free trade; while in the House, he voted for the North American Free Trade Agreement and has subsequently supported many trade deals in the Senate being one of the very few Democrats to vote in favor of the Central America Free Trade Agreement.  \", {'authority', 'care'}), (\"Let's move to policy.  Koch supports policies that promote individual liberty and free market principles, and supports reduced government spending.   Lower business taxes, tax incentives to encourage employers to hire, reduced red tape and government spending, business friendly labour laws and policies facilitating trade help create conducive business climate, thus creating jobs.   In the second half of the 19th century, free trade policies and technological advances such as the telephone and the telegraph, introduced a period of prosperity for the silk trade.  \", {'authority', 'care'}), ('Moving on to economy.  Foreign trade played an important role in the Czechoslovak national economy.   Advances in telecommunications and transportation, the expansion of capitalism and democracy, and free trade agreements have resulted in unprecedented global economic and cultural integration.   Free trade would help America because it would allow the U.S. to boost its exports and grow the economy.   Trade can grow as a result of specialisation, division of labour, and most importantly via comparative advantage.  ', {'authority', 'fairness'}), ('The final point is treaties.  The treaty is aimed at promoting free trade between its members.   It allowed free trade by foreigners in Bangkok, as foreign trade had previously been subject to heavy royal taxes.   Fimian has advocated for ratification of new free trade agreements to spur economic growth.   The development of trade would improve domestic wealth and thus also the tax revenue and state finances.  ', {'authority'})]</td>\n",
       "      <td>[{'authority', 'care'}, {'authority', 'care'}, {'authority', 'fairness'}, {'authority'}]</td>\n",
       "    </tr>\n",
       "    <tr>\n",
       "      <th>51</th>\n",
       "      <td>51</td>\n",
       "      <td>Free Trade</td>\n",
       "      <td>con</td>\n",
       "      <td>binding</td>\n",
       "      <td>There are four issues that will be elaborated on now. The first will explain that Nearly two decades of free trade have deepened the poverty. In addition, the slave trade, economy and the working class will be discussed. \\n\\nAbout poverty.  The two leaders described the US-supported Free Trade Area of the Americas as an \"expression of a hunger to dominate the region\" and said that the free trade area will result in increase in poverty and subordination in Latin America.   Nearly two decades of free trade have deepened the poverty and unemployment in Mexico's countryside.   Such trade agreements contributed to poverty within France and encouraged illicit economic activity.  \\n\\nLet's move to the slave trade.  Great Britain prohibited the African slave trade under the Slave Trade Act 1807.   To people of the diaspora the Trans-Atlantic slave trade is seen as barbaric, inhumane and heinous.   British missionaries sought the outright abolition of the slave trade because it would ease their evangelical work and would result in legitimate commerces.   William Wilberforce's Slave Trade Act 1807 abolished the slave trade in the British Empire.  \\n\\nMoving on to economy.  Canadian Tories were also strongly opposed to free trade with the U.S, fearing economic and cultural assimilation.   But contrary to British belief, free trade did not improve the economic situation and increased competition from foreign production eventually devastated Britain's old rural economy.   It also leads to costs associated with workers displaced by import competition and offshore outsourcing.   The statement reflected the Canadian public concern that the free trade agreement would lead to unprecedented American economic and cultural dominance.  \\n\\nThe final point is the working class.  Free trade agreements generally do not increase the economic freedom of the poor or the working class, and frequently make them poorer.   He criticised the UK's free trade policies for the negative impact they had on working-class people.   Trade restriction can be necessary for the economic development of a nation.</td>\n",
       "      <td>[('About poverty.  The two leaders described the US-supported Free Trade Area of the Americas as an \"expression of a hunger to dominate the region\" and said that the free trade area will result in increase in poverty and subordination in Latin America.   Nearly two decades of free trade have deepened the poverty and unemployment in Mexico\\'s countryside.   Such trade agreements contributed to poverty within France and encouraged illicit economic activity.  ', {'authority', 'fairness'}), (\"Let's move to the slave trade.  Great Britain prohibited the African slave trade under the Slave Trade Act 1807.   To people of the diaspora the Trans-Atlantic slave trade is seen as barbaric, inhumane and heinous.   British missionaries sought the outright abolition of the slave trade because it would ease their evangelical work and would result in legitimate commerces.   William Wilberforce's Slave Trade Act 1807 abolished the slave trade in the British Empire.  \", {'authority', 'fairness'}), (\"Moving on to economy.  Canadian Tories were also strongly opposed to free trade with the U.S, fearing economic and cultural assimilation.   But contrary to British belief, free trade did not improve the economic situation and increased competition from foreign production eventually devastated Britain's old rural economy.   It also leads to costs associated with workers displaced by import competition and offshore outsourcing.   The statement reflected the Canadian public concern that the free trade agreement would lead to unprecedented American economic and cultural dominance.  \", {'authority', 'purity'}), (\"The final point is the working class.  Free trade agreements generally do not increase the economic freedom of the poor or the working class, and frequently make them poorer.   He criticised the UK's free trade policies for the negative impact they had on working-class people.   Trade restriction can be necessary for the economic development of a nation.  \", {'care', 'fairness', 'authority'})]</td>\n",
       "      <td>[{'authority', 'fairness'}, {'authority', 'fairness'}, {'authority', 'purity'}, {'care', 'fairness', 'authority'}]</td>\n",
       "    </tr>\n",
       "    <tr>\n",
       "      <th>52</th>\n",
       "      <td>52</td>\n",
       "      <td>Free Trade</td>\n",
       "      <td>pro</td>\n",
       "      <td>individual</td>\n",
       "      <td>There are four issues that will be elaborated on now. The first will explain that free trade will ultimately benefit all of society. In addition, comparative advantage, role and regions will be discussed. \\n\\nAbout societies.  Free trade will ultimately benefit all of society.   It would lead to a more equitable society, making essential products available to all.  The organization, which was founded in 2011 under the name Association for American Innovation, is purposed to promote \"the benefits of free markets and a free society.\".  A free society is emerging, and a free society is necessary for our own security and peace.   Led by Richard Cobden and John Bright, it won a wide hearing for its argument that free trade would lead to a more equitable society, making essential products available to all.  \\n\\nLet's move to comparative advantage.  Economic theory, under the principle of comparative advantage, shows that the gains from free trade outweigh any losses as free trade creates more jobs than it destroys because it allows countries to specialize in the production of goods and services in which they have a comparative advantage.   Free trade would benefit the industrially weak as well as the strong, in the famous theory of comparative advantage.   In 1817, David Ricardo, James Mill and Robert Torrens showed that free trade would benefit the industrially weak as well as the strong, in the famous theory of comparative advantage.  \\n\\nMoving on to role.  Trade plays an important role in the economic development of the city.   It plays a major role in Serbian economic output.   Since Denmark's entry into the European Economic Community, border trade has played an important role in Flensburg's economic life.   A mutual trade plays an important role in the economy of both countries.  \\n\\nThe final point is regions.  The Djibouti International Free Trade Zone will transform trade in the region and provide a strategic base for global businesses to access the rapidly growing African market.</td>\n",
       "      <td>[('About societies.  Free trade will ultimately benefit all of society.   It would lead to a more equitable society, making essential products available to all.  The organization, which was founded in 2011 under the name Association for American Innovation, is purposed to promote \"the benefits of free markets and a free society.\".  A free society is emerging, and a free society is necessary for our own security and peace.   Led by Richard Cobden and John Bright, it won a wide hearing for its argument that free trade would lead to a more equitable society, making essential products available to all.  ', {'authority', 'fairness'}), (\"Let's move to comparative advantage.  Economic theory, under the principle of comparative advantage, shows that the gains from free trade outweigh any losses as free trade creates more jobs than it destroys because it allows countries to specialize in the production of goods and services in which they have a comparative advantage.   Free trade would benefit the industrially weak as well as the strong, in the famous theory of comparative advantage.   In 1817, David Ricardo, James Mill and Robert Torrens showed that free trade would benefit the industrially weak as well as the strong, in the famous theory of comparative advantage.  \", {'authority', 'fairness'}), (\"Moving on to role.  Trade plays an important role in the economic development of the city.   It plays a major role in Serbian economic output.   Since Denmark's entry into the European Economic Community, border trade has played an important role in Flensburg's economic life.   A mutual trade plays an important role in the economy of both countries.  \", {'authority'}), ('The final point is regions.  The Djibouti International Free Trade Zone will transform trade in the region and provide a strategic base for global businesses to access the rapidly growing African market.  ', {'authority', 'care'})]</td>\n",
       "      <td>[{'authority', 'fairness'}, {'authority', 'fairness'}, {'authority'}, {'authority', 'care'}]</td>\n",
       "    </tr>\n",
       "    <tr>\n",
       "      <th>53</th>\n",
       "      <td>53</td>\n",
       "      <td>Free Trade</td>\n",
       "      <td>con</td>\n",
       "      <td>individual</td>\n",
       "      <td>There are four issues the crowd has raised, opposing the perception that Free Trade: national security, conviction, globalization and farmers. \\n\\nAbout national security.  \"The international illegal drug trade not only peddles poison into our communities, but is also a significant threat to national security.\" said Knight.   PAFTC believes that the North American Free Trade Agreement-World Trade Organization model of globalization has failed the US and trading partners when since 2000 Pennsylvania has lost over 200,000 manufacturing jobs.   Free trade unionism compromised national security was always an unjustified slur against the trade union movement and GCHQ staff in particular.   Paul Krugman, one of America's leading economist acknowledges that free trade is not universally benefit in that there will be some winners and some losers.  \\n\\nLet's move to conviction.  The city voters-especially German Americans-overwhelmingly rejected the free-silver cause out of conviction that it would lead to economic disaster, unemployment, and higher prices.   The myth of free choice encourages immoral, unjust, prejudiced, and anti-intellectual behaviour.   The notion of free will leads to an infinite regress and is therefore senseless.  \\n\\nMoving on to globalization.  Globalization and free trade does contribute to social problems.   Free trade is bad because it exacerbates labor's inequality of bargaining power against global capital.   It had made it impossible for Britain to feed herself and had destroyed British agriculture.   Domestic monopolies generate inequality and poverty and global trade damages the industrial base and the global environment.   This trade helps to create inequality, as some families acquire more goods than others do.  \\n\\nThe final point is farmers.  In a 2014 article, The Economist stated that workers on fair trade farms have a lower standard of living than on similar farms outside the fair trade system.   Critics argue that fair trade harms all non-fair trade farmers.   Fair trade doesn't help the poorest growers.  According to PolitiFact, Sanders has \"consistently argued for protectionist trade policies as opposed to free trade.\".</td>\n",
       "      <td>[('About national security.  \"The international illegal drug trade not only peddles poison into our communities, but is also a significant threat to national security.\" said Knight.   PAFTC believes that the North American Free Trade Agreement-World Trade Organization model of globalization has failed the US and trading partners when since 2000 Pennsylvania has lost over 200,000 manufacturing jobs.   Free trade unionism compromised national security was always an unjustified slur against the trade union movement and GCHQ staff in particular.   Paul Krugman, one of America\\'s leading economist acknowledges that free trade is not universally benefit in that there will be some winners and some losers.  ', {'authority', 'care'}), (\"Let's move to conviction.  The city voters-especially German Americans-overwhelmingly rejected the free-silver cause out of conviction that it would lead to economic disaster, unemployment, and higher prices.   The myth of free choice encourages immoral, unjust, prejudiced, and anti-intellectual behaviour.   The notion of free will leads to an infinite regress and is therefore senseless.  \", {'authority', 'fairness'}), (\"Moving on to globalization.  Globalization and free trade does contribute to social problems.   Free trade is bad because it exacerbates labor's inequality of bargaining power against global capital.   It had made it impossible for Britain to feed herself and had destroyed British agriculture.   Domestic monopolies generate inequality and poverty and global trade damages the industrial base and the global environment.   This trade helps to create inequality, as some families acquire more goods than others do.  \", {'authority', 'fairness'}), ('The final point is farmers.  In a 2014 article, The Economist stated that workers on fair trade farms have a lower standard of living than on similar farms outside the fair trade system.   Critics argue that fair trade harms all non-fair trade farmers.   Fair trade doesn\\'t help the poorest growers.  According to PolitiFact, Sanders has \"consistently argued for protectionist trade policies as opposed to free trade.\". ', {'authority', 'fairness'})]</td>\n",
       "      <td>[{'authority', 'care'}, {'authority', 'fairness'}, {'authority', 'fairness'}, {'authority', 'fairness'}]</td>\n",
       "    </tr>\n",
       "    <tr>\n",
       "      <th>54</th>\n",
       "      <td>54</td>\n",
       "      <td>Free Trade</td>\n",
       "      <td>pro</td>\n",
       "      <td>general</td>\n",
       "      <td>There are four issues the crowd has raised, supporting the perception that Free Trade: principles, vote, investments and nations. \\n\\nAbout principles.  Classical liberals and libertarians support free markets on moral, ideological grounds: principles of individual liberty morally dictate support for free markets.   Koch supports policies that promote individual liberty and free market principles, and supports reduced government spending.  \\n\\nLet's move to vote.  Cleland was strongly pro-free trade, voting to normalize trade relations with Vietnam, to make China's NTR status permanent, and to extend free trade to Andean nations.   Free trade Wyden supports free trade; while in the House, he voted for the North American Free Trade Agreement and has subsequently supported many trade deals in the Senate being one of the very few Democrats to vote in favor of the Central America Free Trade Agreement.   Cantor was a supporter of free trade, voting to promote trade with Peru, Chile, Singapore, and Australia.   He was one of the few Congressional Democrats to vote in favor of CAFTA and mostly supported free trade deals.  \\n\\nMoving on to investments.  Finland is highly open to investment and free trade.   The introduction of free zones has played a large role in increasing the amount of investment into Nigeria.   Free trade zones have stimulated investment in garment assembly, light manufacturing, and data entry by foreign firms.  \\n\\nThe final point is nations.  Free trade could help move foreign nations to economic and political reform.   It would help keep prices low and therefore would assist laborers in receiving their \"natural wage.   In many globalization discussions, it is argued that environmental quality can be viewed as a good, therefore increasing free trade and foreign direct investment would lead to a cleaner environment.   Every nation should begin with free trade, stimulating and improving its agriculture by trade with richer and more cultivated nations, importing foreign manufactures and exporting raw products.   A free line of credit is essential to nation-building.</td>\n",
       "      <td>[('About principles.  Classical liberals and libertarians support free markets on moral, ideological grounds: principles of individual liberty morally dictate support for free markets.   Koch supports policies that promote individual liberty and free market principles, and supports reduced government spending.  ', {'authority', 'purity'}), (\"Let's move to vote.  Cleland was strongly pro-free trade, voting to normalize trade relations with Vietnam, to make China's NTR status permanent, and to extend free trade to Andean nations.   Free trade Wyden supports free trade; while in the House, he voted for the North American Free Trade Agreement and has subsequently supported many trade deals in the Senate being one of the very few Democrats to vote in favor of the Central America Free Trade Agreement.   Cantor was a supporter of free trade, voting to promote trade with Peru, Chile, Singapore, and Australia.   He was one of the few Congressional Democrats to vote in favor of CAFTA and mostly supported free trade deals.  \", {'authority', 'care'}), ('Moving on to investments.  Finland is highly open to investment and free trade.   The introduction of free zones has played a large role in increasing the amount of investment into Nigeria.   Free trade zones have stimulated investment in garment assembly, light manufacturing, and data entry by foreign firms.  ', {'authority', 'care'}), ('The final point is nations.  Free trade could help move foreign nations to economic and political reform.   It would help keep prices low and therefore would assist laborers in receiving their \"natural wage.   In many globalization discussions, it is argued that environmental quality can be viewed as a good, therefore increasing free trade and foreign direct investment would lead to a cleaner environment.   Every nation should begin with free trade, stimulating and improving its agriculture by trade with richer and more cultivated nations, importing foreign manufactures and exporting raw products.   A free line of credit is essential to nation-building.  ', {'authority', 'care', 'purity'})]</td>\n",
       "      <td>[{'authority', 'purity'}, {'authority', 'care'}, {'authority', 'care'}, {'authority', 'care', 'purity'}]</td>\n",
       "    </tr>\n",
       "    <tr>\n",
       "      <th>55</th>\n",
       "      <td>55</td>\n",
       "      <td>Free Trade</td>\n",
       "      <td>con</td>\n",
       "      <td>general</td>\n",
       "      <td>There are four issues that will be elaborated on now. The first will explain that free trade would undermine Canadian sovereignty. In addition, the slave trade, protectionism and result will be discussed. \\n\\nAbout canadian sovereignty.  Free trade would undermine Canadian sovereignty and lead.   Others were concerned that free trade would have negative effects, fearing capital flight and job insecurity because of international outsourcing, and also that closer economic ties with the Giant to the South might risk an erosion of Canadian sovereignty.   The statement reflected the Canadian public concern that the free trade agreement would lead to unprecedented American economic and cultural dominance.  \\n\\nLet's move to the slave trade.  Great Britain prohibited the African slave trade under the Slave Trade Act 1807.   The slave trade was one of the major causes of the devastating internecine strife in southern.   It is responsible for the current problems plaguing Africa.   British missionaries sought the outright abolition of the slave trade because it would ease their evangelical work and would result in legitimate commerces.   To people of the diaspora the Trans-Atlantic slave trade is seen as barbaric, inhumane and heinous.  \\n\\nMoving on to protectionism. According to PolitiFact, Sanders has \"consistently argued for protectionist trade policies as opposed to free trade.\".  Free trade had ruined the division of employments/diversiity of employments that protectionism gave the country.   Le Pen opposes free trade and autarky, and advocates protectionism as a middle way.   Lincoln, who called himself a \"Henry Clay tariff Whig\", strongly opposed free trade.  \\n\\nThe final point is result.  The two leaders described the US-supported Free Trade Area of the Americas as an \"expression of a hunger to dominate the region\" and said that the free trade area will result in increase in poverty and subordination in Latin America.   Democracy and the free market result in chaos and higher risk for ordinary Afghans while the already-powerful are provided with additional opportunities.</td>\n",
       "      <td>[('About canadian sovereignty.  Free trade would undermine Canadian sovereignty and lead.   Others were concerned that free trade would have negative effects, fearing capital flight and job insecurity because of international outsourcing, and also that closer economic ties with the Giant to the South might risk an erosion of Canadian sovereignty.   The statement reflected the Canadian public concern that the free trade agreement would lead to unprecedented American economic and cultural dominance.  ', {'authority', 'care'}), (\"Let's move to the slave trade.  Great Britain prohibited the African slave trade under the Slave Trade Act 1807.   The slave trade was one of the major causes of the devastating internecine strife in southern.   It is responsible for the current problems plaguing Africa.   British missionaries sought the outright abolition of the slave trade because it would ease their evangelical work and would result in legitimate commerces.   To people of the diaspora the Trans-Atlantic slave trade is seen as barbaric, inhumane and heinous.  \", {'authority', 'fairness'}), ('Moving on to protectionism. According to PolitiFact, Sanders has \"consistently argued for protectionist trade policies as opposed to free trade.\".  Free trade had ruined the division of employments/diversiity of employments that protectionism gave the country.   Le Pen opposes free trade and autarky, and advocates protectionism as a middle way.   Lincoln, who called himself a \"Henry Clay tariff Whig\", strongly opposed free trade.  ', {'care', 'fairness', 'authority'}), ('The final point is result.  The two leaders described the US-supported Free Trade Area of the Americas as an \"expression of a hunger to dominate the region\" and said that the free trade area will result in increase in poverty and subordination in Latin America.   Democracy and the free market result in chaos and higher risk for ordinary Afghans while the already-powerful are provided with additional opportunities.  ', {'authority', 'fairness'})]</td>\n",
       "      <td>[{'authority', 'care'}, {'authority', 'fairness'}, {'care', 'fairness', 'authority'}, {'authority', 'fairness'}]</td>\n",
       "    </tr>\n",
       "  </tbody>\n",
       "</table>\n",
       "</div>"
      ],
      "text/plain": [
       "    Unnamed: 0       topic stance moral_class  \\\n",
       "50          50  Free Trade    pro     binding   \n",
       "51          51  Free Trade    con     binding   \n",
       "52          52  Free Trade    pro  individual   \n",
       "53          53  Free Trade    con  individual   \n",
       "54          54  Free Trade    pro     general   \n",
       "55          55  Free Trade    con     general   \n",
       "\n",
       "                                                                                                                                                                                                                                                                                                                                                                                                                                                                                                                                                                                                                                                                                                                                                                                                                                                                                                                                                                                                                                                                                                                                                                                                                                                                                                                                                                                                                                                                                                                                                                                                                                                                                                                                                                                                                                                                                                                                                                                                                                                                                                                                                                                                                                                                           narrative  \\\n",
       "50                                                                                                  There are four issues the crowd has raised, supporting the perception that Free Trade: vote, policy, economy and treaties. \\n\\nAbout vote.  Cleland was strongly pro-free trade, voting to normalize trade relations with Vietnam, to make China's NTR status permanent, and to extend free trade to Andean nations.   Free trade Wyden supports free trade; while in the House, he voted for the North American Free Trade Agreement and has subsequently supported many trade deals in the Senate being one of the very few Democrats to vote in favor of the Central America Free Trade Agreement.  \\n\\nLet's move to policy.  Koch supports policies that promote individual liberty and free market principles, and supports reduced government spending.   Lower business taxes, tax incentives to encourage employers to hire, reduced red tape and government spending, business friendly labour laws and policies facilitating trade help create conducive business climate, thus creating jobs.   In the second half of the 19th century, free trade policies and technological advances such as the telephone and the telegraph, introduced a period of prosperity for the silk trade.  \\n\\nMoving on to economy.  Foreign trade played an important role in the Czechoslovak national economy.   Advances in telecommunications and transportation, the expansion of capitalism and democracy, and free trade agreements have resulted in unprecedented global economic and cultural integration.   Free trade would help America because it would allow the U.S. to boost its exports and grow the economy.   Trade can grow as a result of specialisation, division of labour, and most importantly via comparative advantage.  \\n\\nThe final point is treaties.  The treaty is aimed at promoting free trade between its members.   It allowed free trade by foreigners in Bangkok, as foreign trade had previously been subject to heavy royal taxes.   Fimian has advocated for ratification of new free trade agreements to spur economic growth.   The development of trade would improve domestic wealth and thus also the tax revenue and state finances.     \n",
       "51                                                                                        There are four issues that will be elaborated on now. The first will explain that Nearly two decades of free trade have deepened the poverty. In addition, the slave trade, economy and the working class will be discussed. \\n\\nAbout poverty.  The two leaders described the US-supported Free Trade Area of the Americas as an \"expression of a hunger to dominate the region\" and said that the free trade area will result in increase in poverty and subordination in Latin America.   Nearly two decades of free trade have deepened the poverty and unemployment in Mexico's countryside.   Such trade agreements contributed to poverty within France and encouraged illicit economic activity.  \\n\\nLet's move to the slave trade.  Great Britain prohibited the African slave trade under the Slave Trade Act 1807.   To people of the diaspora the Trans-Atlantic slave trade is seen as barbaric, inhumane and heinous.   British missionaries sought the outright abolition of the slave trade because it would ease their evangelical work and would result in legitimate commerces.   William Wilberforce's Slave Trade Act 1807 abolished the slave trade in the British Empire.  \\n\\nMoving on to economy.  Canadian Tories were also strongly opposed to free trade with the U.S, fearing economic and cultural assimilation.   But contrary to British belief, free trade did not improve the economic situation and increased competition from foreign production eventually devastated Britain's old rural economy.   It also leads to costs associated with workers displaced by import competition and offshore outsourcing.   The statement reflected the Canadian public concern that the free trade agreement would lead to unprecedented American economic and cultural dominance.  \\n\\nThe final point is the working class.  Free trade agreements generally do not increase the economic freedom of the poor or the working class, and frequently make them poorer.   He criticised the UK's free trade policies for the negative impact they had on working-class people.   Trade restriction can be necessary for the economic development of a nation.     \n",
       "52                                                                                                                                                                             There are four issues that will be elaborated on now. The first will explain that free trade will ultimately benefit all of society. In addition, comparative advantage, role and regions will be discussed. \\n\\nAbout societies.  Free trade will ultimately benefit all of society.   It would lead to a more equitable society, making essential products available to all.  The organization, which was founded in 2011 under the name Association for American Innovation, is purposed to promote \"the benefits of free markets and a free society.\".  A free society is emerging, and a free society is necessary for our own security and peace.   Led by Richard Cobden and John Bright, it won a wide hearing for its argument that free trade would lead to a more equitable society, making essential products available to all.  \\n\\nLet's move to comparative advantage.  Economic theory, under the principle of comparative advantage, shows that the gains from free trade outweigh any losses as free trade creates more jobs than it destroys because it allows countries to specialize in the production of goods and services in which they have a comparative advantage.   Free trade would benefit the industrially weak as well as the strong, in the famous theory of comparative advantage.   In 1817, David Ricardo, James Mill and Robert Torrens showed that free trade would benefit the industrially weak as well as the strong, in the famous theory of comparative advantage.  \\n\\nMoving on to role.  Trade plays an important role in the economic development of the city.   It plays a major role in Serbian economic output.   Since Denmark's entry into the European Economic Community, border trade has played an important role in Flensburg's economic life.   A mutual trade plays an important role in the economy of both countries.  \\n\\nThe final point is regions.  The Djibouti International Free Trade Zone will transform trade in the region and provide a strategic base for global businesses to access the rapidly growing African market.     \n",
       "53  There are four issues the crowd has raised, opposing the perception that Free Trade: national security, conviction, globalization and farmers. \\n\\nAbout national security.  \"The international illegal drug trade not only peddles poison into our communities, but is also a significant threat to national security.\" said Knight.   PAFTC believes that the North American Free Trade Agreement-World Trade Organization model of globalization has failed the US and trading partners when since 2000 Pennsylvania has lost over 200,000 manufacturing jobs.   Free trade unionism compromised national security was always an unjustified slur against the trade union movement and GCHQ staff in particular.   Paul Krugman, one of America's leading economist acknowledges that free trade is not universally benefit in that there will be some winners and some losers.  \\n\\nLet's move to conviction.  The city voters-especially German Americans-overwhelmingly rejected the free-silver cause out of conviction that it would lead to economic disaster, unemployment, and higher prices.   The myth of free choice encourages immoral, unjust, prejudiced, and anti-intellectual behaviour.   The notion of free will leads to an infinite regress and is therefore senseless.  \\n\\nMoving on to globalization.  Globalization and free trade does contribute to social problems.   Free trade is bad because it exacerbates labor's inequality of bargaining power against global capital.   It had made it impossible for Britain to feed herself and had destroyed British agriculture.   Domestic monopolies generate inequality and poverty and global trade damages the industrial base and the global environment.   This trade helps to create inequality, as some families acquire more goods than others do.  \\n\\nThe final point is farmers.  In a 2014 article, The Economist stated that workers on fair trade farms have a lower standard of living than on similar farms outside the fair trade system.   Critics argue that fair trade harms all non-fair trade farmers.   Fair trade doesn't help the poorest growers.  According to PolitiFact, Sanders has \"consistently argued for protectionist trade policies as opposed to free trade.\".    \n",
       "54                                                                              There are four issues the crowd has raised, supporting the perception that Free Trade: principles, vote, investments and nations. \\n\\nAbout principles.  Classical liberals and libertarians support free markets on moral, ideological grounds: principles of individual liberty morally dictate support for free markets.   Koch supports policies that promote individual liberty and free market principles, and supports reduced government spending.  \\n\\nLet's move to vote.  Cleland was strongly pro-free trade, voting to normalize trade relations with Vietnam, to make China's NTR status permanent, and to extend free trade to Andean nations.   Free trade Wyden supports free trade; while in the House, he voted for the North American Free Trade Agreement and has subsequently supported many trade deals in the Senate being one of the very few Democrats to vote in favor of the Central America Free Trade Agreement.   Cantor was a supporter of free trade, voting to promote trade with Peru, Chile, Singapore, and Australia.   He was one of the few Congressional Democrats to vote in favor of CAFTA and mostly supported free trade deals.  \\n\\nMoving on to investments.  Finland is highly open to investment and free trade.   The introduction of free zones has played a large role in increasing the amount of investment into Nigeria.   Free trade zones have stimulated investment in garment assembly, light manufacturing, and data entry by foreign firms.  \\n\\nThe final point is nations.  Free trade could help move foreign nations to economic and political reform.   It would help keep prices low and therefore would assist laborers in receiving their \"natural wage.   In many globalization discussions, it is argued that environmental quality can be viewed as a good, therefore increasing free trade and foreign direct investment would lead to a cleaner environment.   Every nation should begin with free trade, stimulating and improving its agriculture by trade with richer and more cultivated nations, importing foreign manufactures and exporting raw products.   A free line of credit is essential to nation-building.     \n",
       "55                                                                                    There are four issues that will be elaborated on now. The first will explain that free trade would undermine Canadian sovereignty. In addition, the slave trade, protectionism and result will be discussed. \\n\\nAbout canadian sovereignty.  Free trade would undermine Canadian sovereignty and lead.   Others were concerned that free trade would have negative effects, fearing capital flight and job insecurity because of international outsourcing, and also that closer economic ties with the Giant to the South might risk an erosion of Canadian sovereignty.   The statement reflected the Canadian public concern that the free trade agreement would lead to unprecedented American economic and cultural dominance.  \\n\\nLet's move to the slave trade.  Great Britain prohibited the African slave trade under the Slave Trade Act 1807.   The slave trade was one of the major causes of the devastating internecine strife in southern.   It is responsible for the current problems plaguing Africa.   British missionaries sought the outright abolition of the slave trade because it would ease their evangelical work and would result in legitimate commerces.   To people of the diaspora the Trans-Atlantic slave trade is seen as barbaric, inhumane and heinous.  \\n\\nMoving on to protectionism. According to PolitiFact, Sanders has \"consistently argued for protectionist trade policies as opposed to free trade.\".  Free trade had ruined the division of employments/diversiity of employments that protectionism gave the country.   Le Pen opposes free trade and autarky, and advocates protectionism as a middle way.   Lincoln, who called himself a \"Henry Clay tariff Whig\", strongly opposed free trade.  \\n\\nThe final point is result.  The two leaders described the US-supported Free Trade Area of the Americas as an \"expression of a hunger to dominate the region\" and said that the free trade area will result in increase in poverty and subordination in Latin America.   Democracy and the free market result in chaos and higher risk for ordinary Afghans while the already-powerful are provided with additional opportunities.     \n",
       "\n",
       "                                                                                                                                                                                                                                                                                                                                                                                                                                                                                                                                                                                                                                                                                                                                                                                                                                                                                                                                                                                                                                                                                                                                                                                                                                                                                                                                                                                                                                                                                                                                                                                                                                                                                                                                                                                                                                                                                                                                                                                                                                                                                                                                                                                                                                        narrative_paras  \\\n",
       "50                                                                                                [(\"About vote.  Cleland was strongly pro-free trade, voting to normalize trade relations with Vietnam, to make China's NTR status permanent, and to extend free trade to Andean nations.   Free trade Wyden supports free trade; while in the House, he voted for the North American Free Trade Agreement and has subsequently supported many trade deals in the Senate being one of the very few Democrats to vote in favor of the Central America Free Trade Agreement.  \", {'authority', 'care'}), (\"Let's move to policy.  Koch supports policies that promote individual liberty and free market principles, and supports reduced government spending.   Lower business taxes, tax incentives to encourage employers to hire, reduced red tape and government spending, business friendly labour laws and policies facilitating trade help create conducive business climate, thus creating jobs.   In the second half of the 19th century, free trade policies and technological advances such as the telephone and the telegraph, introduced a period of prosperity for the silk trade.  \", {'authority', 'care'}), ('Moving on to economy.  Foreign trade played an important role in the Czechoslovak national economy.   Advances in telecommunications and transportation, the expansion of capitalism and democracy, and free trade agreements have resulted in unprecedented global economic and cultural integration.   Free trade would help America because it would allow the U.S. to boost its exports and grow the economy.   Trade can grow as a result of specialisation, division of labour, and most importantly via comparative advantage.  ', {'authority', 'fairness'}), ('The final point is treaties.  The treaty is aimed at promoting free trade between its members.   It allowed free trade by foreigners in Bangkok, as foreign trade had previously been subject to heavy royal taxes.   Fimian has advocated for ratification of new free trade agreements to spur economic growth.   The development of trade would improve domestic wealth and thus also the tax revenue and state finances.  ', {'authority'})]   \n",
       "51                                                                                                                                                             [('About poverty.  The two leaders described the US-supported Free Trade Area of the Americas as an \"expression of a hunger to dominate the region\" and said that the free trade area will result in increase in poverty and subordination in Latin America.   Nearly two decades of free trade have deepened the poverty and unemployment in Mexico\\'s countryside.   Such trade agreements contributed to poverty within France and encouraged illicit economic activity.  ', {'authority', 'fairness'}), (\"Let's move to the slave trade.  Great Britain prohibited the African slave trade under the Slave Trade Act 1807.   To people of the diaspora the Trans-Atlantic slave trade is seen as barbaric, inhumane and heinous.   British missionaries sought the outright abolition of the slave trade because it would ease their evangelical work and would result in legitimate commerces.   William Wilberforce's Slave Trade Act 1807 abolished the slave trade in the British Empire.  \", {'authority', 'fairness'}), (\"Moving on to economy.  Canadian Tories were also strongly opposed to free trade with the U.S, fearing economic and cultural assimilation.   But contrary to British belief, free trade did not improve the economic situation and increased competition from foreign production eventually devastated Britain's old rural economy.   It also leads to costs associated with workers displaced by import competition and offshore outsourcing.   The statement reflected the Canadian public concern that the free trade agreement would lead to unprecedented American economic and cultural dominance.  \", {'authority', 'purity'}), (\"The final point is the working class.  Free trade agreements generally do not increase the economic freedom of the poor or the working class, and frequently make them poorer.   He criticised the UK's free trade policies for the negative impact they had on working-class people.   Trade restriction can be necessary for the economic development of a nation.  \", {'care', 'fairness', 'authority'})]   \n",
       "52                                                                                                                                                                                                                                                         [('About societies.  Free trade will ultimately benefit all of society.   It would lead to a more equitable society, making essential products available to all.  The organization, which was founded in 2011 under the name Association for American Innovation, is purposed to promote \"the benefits of free markets and a free society.\".  A free society is emerging, and a free society is necessary for our own security and peace.   Led by Richard Cobden and John Bright, it won a wide hearing for its argument that free trade would lead to a more equitable society, making essential products available to all.  ', {'authority', 'fairness'}), (\"Let's move to comparative advantage.  Economic theory, under the principle of comparative advantage, shows that the gains from free trade outweigh any losses as free trade creates more jobs than it destroys because it allows countries to specialize in the production of goods and services in which they have a comparative advantage.   Free trade would benefit the industrially weak as well as the strong, in the famous theory of comparative advantage.   In 1817, David Ricardo, James Mill and Robert Torrens showed that free trade would benefit the industrially weak as well as the strong, in the famous theory of comparative advantage.  \", {'authority', 'fairness'}), (\"Moving on to role.  Trade plays an important role in the economic development of the city.   It plays a major role in Serbian economic output.   Since Denmark's entry into the European Economic Community, border trade has played an important role in Flensburg's economic life.   A mutual trade plays an important role in the economy of both countries.  \", {'authority'}), ('The final point is regions.  The Djibouti International Free Trade Zone will transform trade in the region and provide a strategic base for global businesses to access the rapidly growing African market.  ', {'authority', 'care'})]   \n",
       "53  [('About national security.  \"The international illegal drug trade not only peddles poison into our communities, but is also a significant threat to national security.\" said Knight.   PAFTC believes that the North American Free Trade Agreement-World Trade Organization model of globalization has failed the US and trading partners when since 2000 Pennsylvania has lost over 200,000 manufacturing jobs.   Free trade unionism compromised national security was always an unjustified slur against the trade union movement and GCHQ staff in particular.   Paul Krugman, one of America\\'s leading economist acknowledges that free trade is not universally benefit in that there will be some winners and some losers.  ', {'authority', 'care'}), (\"Let's move to conviction.  The city voters-especially German Americans-overwhelmingly rejected the free-silver cause out of conviction that it would lead to economic disaster, unemployment, and higher prices.   The myth of free choice encourages immoral, unjust, prejudiced, and anti-intellectual behaviour.   The notion of free will leads to an infinite regress and is therefore senseless.  \", {'authority', 'fairness'}), (\"Moving on to globalization.  Globalization and free trade does contribute to social problems.   Free trade is bad because it exacerbates labor's inequality of bargaining power against global capital.   It had made it impossible for Britain to feed herself and had destroyed British agriculture.   Domestic monopolies generate inequality and poverty and global trade damages the industrial base and the global environment.   This trade helps to create inequality, as some families acquire more goods than others do.  \", {'authority', 'fairness'}), ('The final point is farmers.  In a 2014 article, The Economist stated that workers on fair trade farms have a lower standard of living than on similar farms outside the fair trade system.   Critics argue that fair trade harms all non-fair trade farmers.   Fair trade doesn\\'t help the poorest growers.  According to PolitiFact, Sanders has \"consistently argued for protectionist trade policies as opposed to free trade.\". ', {'authority', 'fairness'})]   \n",
       "54                                                                   [('About principles.  Classical liberals and libertarians support free markets on moral, ideological grounds: principles of individual liberty morally dictate support for free markets.   Koch supports policies that promote individual liberty and free market principles, and supports reduced government spending.  ', {'authority', 'purity'}), (\"Let's move to vote.  Cleland was strongly pro-free trade, voting to normalize trade relations with Vietnam, to make China's NTR status permanent, and to extend free trade to Andean nations.   Free trade Wyden supports free trade; while in the House, he voted for the North American Free Trade Agreement and has subsequently supported many trade deals in the Senate being one of the very few Democrats to vote in favor of the Central America Free Trade Agreement.   Cantor was a supporter of free trade, voting to promote trade with Peru, Chile, Singapore, and Australia.   He was one of the few Congressional Democrats to vote in favor of CAFTA and mostly supported free trade deals.  \", {'authority', 'care'}), ('Moving on to investments.  Finland is highly open to investment and free trade.   The introduction of free zones has played a large role in increasing the amount of investment into Nigeria.   Free trade zones have stimulated investment in garment assembly, light manufacturing, and data entry by foreign firms.  ', {'authority', 'care'}), ('The final point is nations.  Free trade could help move foreign nations to economic and political reform.   It would help keep prices low and therefore would assist laborers in receiving their \"natural wage.   In many globalization discussions, it is argued that environmental quality can be viewed as a good, therefore increasing free trade and foreign direct investment would lead to a cleaner environment.   Every nation should begin with free trade, stimulating and improving its agriculture by trade with richer and more cultivated nations, importing foreign manufactures and exporting raw products.   A free line of credit is essential to nation-building.  ', {'authority', 'care', 'purity'})]   \n",
       "55                                                                                                                                            [('About canadian sovereignty.  Free trade would undermine Canadian sovereignty and lead.   Others were concerned that free trade would have negative effects, fearing capital flight and job insecurity because of international outsourcing, and also that closer economic ties with the Giant to the South might risk an erosion of Canadian sovereignty.   The statement reflected the Canadian public concern that the free trade agreement would lead to unprecedented American economic and cultural dominance.  ', {'authority', 'care'}), (\"Let's move to the slave trade.  Great Britain prohibited the African slave trade under the Slave Trade Act 1807.   The slave trade was one of the major causes of the devastating internecine strife in southern.   It is responsible for the current problems plaguing Africa.   British missionaries sought the outright abolition of the slave trade because it would ease their evangelical work and would result in legitimate commerces.   To people of the diaspora the Trans-Atlantic slave trade is seen as barbaric, inhumane and heinous.  \", {'authority', 'fairness'}), ('Moving on to protectionism. According to PolitiFact, Sanders has \"consistently argued for protectionist trade policies as opposed to free trade.\".  Free trade had ruined the division of employments/diversiity of employments that protectionism gave the country.   Le Pen opposes free trade and autarky, and advocates protectionism as a middle way.   Lincoln, who called himself a \"Henry Clay tariff Whig\", strongly opposed free trade.  ', {'care', 'fairness', 'authority'}), ('The final point is result.  The two leaders described the US-supported Free Trade Area of the Americas as an \"expression of a hunger to dominate the region\" and said that the free trade area will result in increase in poverty and subordination in Latin America.   Democracy and the free market result in chaos and higher risk for ordinary Afghans while the already-powerful are provided with additional opportunities.  ', {'authority', 'fairness'})]   \n",
       "\n",
       "                                                                                                      narrative_morals  \n",
       "50                            [{'authority', 'care'}, {'authority', 'care'}, {'authority', 'fairness'}, {'authority'}]  \n",
       "51  [{'authority', 'fairness'}, {'authority', 'fairness'}, {'authority', 'purity'}, {'care', 'fairness', 'authority'}]  \n",
       "52                        [{'authority', 'fairness'}, {'authority', 'fairness'}, {'authority'}, {'authority', 'care'}]  \n",
       "53            [{'authority', 'care'}, {'authority', 'fairness'}, {'authority', 'fairness'}, {'authority', 'fairness'}]  \n",
       "54            [{'authority', 'purity'}, {'authority', 'care'}, {'authority', 'care'}, {'authority', 'care', 'purity'}]  \n",
       "55    [{'authority', 'care'}, {'authority', 'fairness'}, {'care', 'fairness', 'authority'}, {'authority', 'fairness'}]  "
      ]
     },
     "execution_count": 34,
     "metadata": {},
     "output_type": "execute_result"
    }
   ],
   "source": [
    "df[df.topic == 'Free Trade'].head(n=100)"
   ]
  },
  {
   "cell_type": "code",
   "execution_count": null,
   "id": "eeed4dd1-9eb3-42f6-8791-53ea8621cb63",
   "metadata": {},
   "outputs": [],
   "source": []
  }
 ],
 "metadata": {
  "kernelspec": {
   "display_name": "Python 3",
   "language": "python",
   "name": "python3"
  },
  "language_info": {
   "codemirror_mode": {
    "name": "ipython",
    "version": 3
   },
   "file_extension": ".py",
   "mimetype": "text/x-python",
   "name": "python",
   "nbconvert_exporter": "python",
   "pygments_lexer": "ipython3",
   "version": "3.6.9"
  }
 },
 "nbformat": 4,
 "nbformat_minor": 5
}
