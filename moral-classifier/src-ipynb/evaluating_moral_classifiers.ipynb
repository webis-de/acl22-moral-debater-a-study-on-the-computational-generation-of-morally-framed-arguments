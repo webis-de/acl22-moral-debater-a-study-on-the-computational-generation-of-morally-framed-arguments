{
 "cells": [
  {
   "cell_type": "code",
   "execution_count": 1,
   "id": "38a0f2e6",
   "metadata": {},
   "outputs": [],
   "source": [
    "import pandas as pd\n",
    "import json\n",
    "import glob\n",
    "import numpy as np\n",
    "\n",
    "pd.set_option('display.max_colwidth', None)\n",
    "\n",
    "import os\n",
    "os.environ['SPACY_WARNING_IGNORE']='W108'"
   ]
  },
  {
   "cell_type": "code",
   "execution_count": 2,
   "id": "dd56a0a6",
   "metadata": {},
   "outputs": [],
   "source": [
    "all_files = glob.glob('/workspace/ceph_data/moral-based-argumentation/dagstuhl_morality/dagstuhl-corpus-v2/dagstuhl-15512-argquality-corpus-unannotated/*.csv')\n",
    "li = []\n",
    "for filename in all_files:\n",
    "    df = pd.read_csv(filename, index_col=None, header=0, sep='\\t')\n",
    "    li.append(df)\n",
    "\n",
    "args_df = pd.concat(li, axis=0, ignore_index=True)"
   ]
  },
  {
   "cell_type": "code",
   "execution_count": 3,
   "id": "478ff394",
   "metadata": {},
   "outputs": [
    {
     "data": {
      "text/html": [
       "<div>\n",
       "<style scoped>\n",
       "    .dataframe tbody tr th:only-of-type {\n",
       "        vertical-align: middle;\n",
       "    }\n",
       "\n",
       "    .dataframe tbody tr th {\n",
       "        vertical-align: top;\n",
       "    }\n",
       "\n",
       "    .dataframe thead th {\n",
       "        text-align: right;\n",
       "    }\n",
       "</style>\n",
       "<table border=\"1\" class=\"dataframe\">\n",
       "  <thead>\n",
       "    <tr style=\"text-align: right;\">\n",
       "      <th></th>\n",
       "      <th>#id</th>\n",
       "      <th>rank</th>\n",
       "      <th>argument</th>\n",
       "    </tr>\n",
       "  </thead>\n",
       "  <tbody>\n",
       "    <tr>\n",
       "      <th>0</th>\n",
       "      <td>30529</td>\n",
       "      <td>0.00590</td>\n",
       "      <td>How can anyone say that Gay Marriage is Wrong. It is a personal choice that is made from personal beliefs so who are we to say that gay couples do not have the right to enjoy all of the benefits that straight couples do?</td>\n",
       "    </tr>\n",
       "    <tr>\n",
       "      <th>1</th>\n",
       "      <td>33506</td>\n",
       "      <td>0.00468</td>\n",
       "      <td>First of all, gays have the fundamental right of equal happiness. Second of all, they are still part of society. Third of all, the government would have a better image if we allow the third gender to have the equal right of marriage. Also, it only proves that racism, sexism and hatred is non existent.</td>\n",
       "    </tr>\n",
       "    <tr>\n",
       "      <th>2</th>\n",
       "      <td>46238</td>\n",
       "      <td>0.00429</td>\n",
       "      <td>Gay marriage bans, along with other laws, are only in place because of the religious right that seems to be infecting this country. The UNITED States of America can only remain united if laws are created with all men and women in mind. To have a law that favors one religion, or lack thereof, over another is the bane of freedom. Secular law is the only law that works. &lt;br/&gt; Leviticus 20:13: \"If a man lies with mankind as he does with womankind, they are both commiting an abomination, they shall be put to death, their blood is on their own hands.\" &lt;br/&gt; There's a loving god, eh?</td>\n",
       "    </tr>\n",
       "    <tr>\n",
       "      <th>3</th>\n",
       "      <td>530</td>\n",
       "      <td>0.00476</td>\n",
       "      <td>EVERYONE, regardless of sexual orientation, has the right to be miserable. I say let gay people know the joys of divorce, splitting of assets, custody, alimony, child support, the whole nine yards! In fact, make civil unions illegal; it makes it too easy to \"walk away\" from a relationship and encourages roomates to be \"couples\" to help a buddy out with benefits.Civil Unions, gone, Gay marraige, IN!</td>\n",
       "    </tr>\n",
       "    <tr>\n",
       "      <th>4</th>\n",
       "      <td>541</td>\n",
       "      <td>0.33118</td>\n",
       "      <td>The \"who gives a crap\" button was your browser's back button. No one said you had to read this or vote on this or post a comment. It always baffles me to see people take the time to post a comment to say they don't care and everyone should stop talking about it. And another thing... people who post comments like mine make me sick.</td>\n",
       "    </tr>\n",
       "  </tbody>\n",
       "</table>\n",
       "</div>"
      ],
      "text/plain": [
       "     #id     rank  \\\n",
       "0  30529  0.00590   \n",
       "1  33506  0.00468   \n",
       "2  46238  0.00429   \n",
       "3    530  0.00476   \n",
       "4    541  0.33118   \n",
       "\n",
       "                                                                                                                                                                                                                                                                                                                                                                                                                                                                                                                                                                                                  argument  \n",
       "0                                                                                                                                                                                                                                                                                                                                                                             How can anyone say that Gay Marriage is Wrong. It is a personal choice that is made from personal beliefs so who are we to say that gay couples do not have the right to enjoy all of the benefits that straight couples do?  \n",
       "1                                                                                                                                                                                                                                                                                           First of all, gays have the fundamental right of equal happiness. Second of all, they are still part of society. Third of all, the government would have a better image if we allow the third gender to have the equal right of marriage. Also, it only proves that racism, sexism and hatred is non existent.  \n",
       "2  Gay marriage bans, along with other laws, are only in place because of the religious right that seems to be infecting this country. The UNITED States of America can only remain united if laws are created with all men and women in mind. To have a law that favors one religion, or lack thereof, over another is the bane of freedom. Secular law is the only law that works. <br/> Leviticus 20:13: \"If a man lies with mankind as he does with womankind, they are both commiting an abomination, they shall be put to death, their blood is on their own hands.\" <br/> There's a loving god, eh?  \n",
       "3                                                                                                                                                                                        EVERYONE, regardless of sexual orientation, has the right to be miserable. I say let gay people know the joys of divorce, splitting of assets, custody, alimony, child support, the whole nine yards! In fact, make civil unions illegal; it makes it too easy to \"walk away\" from a relationship and encourages roomates to be \"couples\" to help a buddy out with benefits.Civil Unions, gone, Gay marraige, IN!  \n",
       "4                                                                                                                                                                                                                                                             The \"who gives a crap\" button was your browser's back button. No one said you had to read this or vote on this or post a comment. It always baffles me to see people take the time to post a comment to say they don't care and everyone should stop talking about it. And another thing... people who post comments like mine make me sick.  "
      ]
     },
     "execution_count": 3,
     "metadata": {},
     "output_type": "execute_result"
    }
   ],
   "source": [
    "args_df.head()"
   ]
  },
  {
   "cell_type": "code",
   "execution_count": 4,
   "id": "d83fd0a6",
   "metadata": {},
   "outputs": [],
   "source": [
    "moral_labels_1 = pd.read_csv('/workspace/ceph_data/moral-based-argumentation/dagstuhl_morality/dagstuhl_morality_1.csv', sep=';')\n",
    "moral_labels_2 = pd.read_csv('/workspace/ceph_data/moral-based-argumentation/dagstuhl_morality/dagstuhl_morality_2.csv', sep=';')"
   ]
  },
  {
   "cell_type": "code",
   "execution_count": 5,
   "id": "f0efb87a",
   "metadata": {},
   "outputs": [],
   "source": [
    "moral_labels = moral_labels_1.merge(moral_labels_2, left_on='#id', right_on='#id', suffixes=('', '_2'))\n",
    "moral_labels = moral_labels.merge(args_df, left_on='#id', right_on='#id')"
   ]
  },
  {
   "cell_type": "code",
   "execution_count": 6,
   "id": "cefde14e",
   "metadata": {},
   "outputs": [
    {
     "data": {
      "text/html": [
       "<div>\n",
       "<style scoped>\n",
       "    .dataframe tbody tr th:only-of-type {\n",
       "        vertical-align: middle;\n",
       "    }\n",
       "\n",
       "    .dataframe tbody tr th {\n",
       "        vertical-align: top;\n",
       "    }\n",
       "\n",
       "    .dataframe thead th {\n",
       "        text-align: right;\n",
       "    }\n",
       "</style>\n",
       "<table border=\"1\" class=\"dataframe\">\n",
       "  <thead>\n",
       "    <tr style=\"text-align: right;\">\n",
       "      <th></th>\n",
       "      <th>#id</th>\n",
       "      <th>moral</th>\n",
       "      <th>MF1</th>\n",
       "      <th>Confidence1</th>\n",
       "      <th>MF2</th>\n",
       "      <th>Confidence2</th>\n",
       "      <th>MF3</th>\n",
       "      <th>Confidence3</th>\n",
       "      <th>moral_2</th>\n",
       "      <th>MF1_2</th>\n",
       "      <th>Confidence1_2</th>\n",
       "      <th>MF2_2</th>\n",
       "      <th>Confidence2_2</th>\n",
       "      <th>rank</th>\n",
       "      <th>argument</th>\n",
       "    </tr>\n",
       "  </thead>\n",
       "  <tbody>\n",
       "    <tr>\n",
       "      <th>0</th>\n",
       "      <td>arg219206</td>\n",
       "      <td>y</td>\n",
       "      <td>care</td>\n",
       "      <td>6.0</td>\n",
       "      <td>purity</td>\n",
       "      <td>8.0</td>\n",
       "      <td>NaN</td>\n",
       "      <td>NaN</td>\n",
       "      <td>y</td>\n",
       "      <td>care</td>\n",
       "      <td>7.0</td>\n",
       "      <td>NaN</td>\n",
       "      <td>NaN</td>\n",
       "      <td>0.00558</td>\n",
       "      <td>Americans spend billions on bottled water every year. Banning their sale would greatly hurt an already struggling economy. In addition to the actual sale of water bottles, the plastics that they are made out of, and the advertising on both the bottles and packaging are also big business. In addition to this, compostable waters bottle are also coming onto the market, these can be used instead of plastics to eliminate that detriment. Moreover, bottled water not only has a cleaner safety record than municipal water, but it easier to trace when a potential health risk does occur. &lt;br/&gt; (http://www.friendsjournal.org/bottled-water) (http://www.cdc.gov/healthywater/drinking/bottled/)</td>\n",
       "    </tr>\n",
       "    <tr>\n",
       "      <th>1</th>\n",
       "      <td>arg219225</td>\n",
       "      <td>y</td>\n",
       "      <td>loyalty</td>\n",
       "      <td>6.0</td>\n",
       "      <td>NaN</td>\n",
       "      <td>NaN</td>\n",
       "      <td>NaN</td>\n",
       "      <td>NaN</td>\n",
       "      <td>y</td>\n",
       "      <td>purity</td>\n",
       "      <td>1.0</td>\n",
       "      <td>NaN</td>\n",
       "      <td>NaN</td>\n",
       "      <td>0.00536</td>\n",
       "      <td>Banning plastic bottled water would be a huge mistake in this very moment. More than a million people in the United States purchase bottled water every day which is helping the economy com out of this recession we are in. maybe not in a big way but every kid of help counts! Bottled water also only makes less then 1&amp;#xof; the worlds wastes and can be recycled! According to the National Association for PET Container resources, PET water bottles are no the most recycled container in curb side programs by weight and by number! &lt;br/&gt; http://www.nestlewaterscorporate.com/bottled_water_things_to_know/Video/index.html?@videoList.featured=31101711001</td>\n",
       "    </tr>\n",
       "    <tr>\n",
       "      <th>2</th>\n",
       "      <td>arg219242</td>\n",
       "      <td>y</td>\n",
       "      <td>loyalty</td>\n",
       "      <td>2.0</td>\n",
       "      <td>NaN</td>\n",
       "      <td>NaN</td>\n",
       "      <td>NaN</td>\n",
       "      <td>NaN</td>\n",
       "      <td>n</td>\n",
       "      <td>NaN</td>\n",
       "      <td>8.0</td>\n",
       "      <td>NaN</td>\n",
       "      <td>NaN</td>\n",
       "      <td>0.15209</td>\n",
       "      <td>We will be able to ban water bottles until we get out of this recession!</td>\n",
       "    </tr>\n",
       "    <tr>\n",
       "      <th>3</th>\n",
       "      <td>arg219244</td>\n",
       "      <td>y</td>\n",
       "      <td>care</td>\n",
       "      <td>3.0</td>\n",
       "      <td>NaN</td>\n",
       "      <td>NaN</td>\n",
       "      <td>NaN</td>\n",
       "      <td>NaN</td>\n",
       "      <td>y</td>\n",
       "      <td>purity</td>\n",
       "      <td>3.0</td>\n",
       "      <td>NaN</td>\n",
       "      <td>NaN</td>\n",
       "      <td>0.00740</td>\n",
       "      <td>Western Europe consumes almost 50% of the world's bottled water. Many claim that this is due to European culture, since the continent has had very polluted waters due to agriculture and industry dating back to the Industrial Revolution. The water bottles they buy help us.</td>\n",
       "    </tr>\n",
       "    <tr>\n",
       "      <th>4</th>\n",
       "      <td>arg219245</td>\n",
       "      <td>n</td>\n",
       "      <td>NaN</td>\n",
       "      <td>NaN</td>\n",
       "      <td>NaN</td>\n",
       "      <td>NaN</td>\n",
       "      <td>NaN</td>\n",
       "      <td>NaN</td>\n",
       "      <td>n</td>\n",
       "      <td>NaN</td>\n",
       "      <td>9.0</td>\n",
       "      <td>NaN</td>\n",
       "      <td>NaN</td>\n",
       "      <td>0.00577</td>\n",
       "      <td>U.S. alone grew by over 13%. According to research and consulting done by the Beverage Marketing Corporation, the global bottled water industry has exploded to over $35 billion. Americans alone paid $7.7 billion for bottled water in 2002. In 2001, for example globally bottled water companies produced over 130,000 million liters of water. This produced roughly 35,000 million dollars in revenue for the world's thousands of bottled water companies in 2001.</td>\n",
       "    </tr>\n",
       "  </tbody>\n",
       "</table>\n",
       "</div>"
      ],
      "text/plain": [
       "         #id moral      MF1  Confidence1     MF2  Confidence2  MF3  \\\n",
       "0  arg219206     y     care          6.0  purity          8.0  NaN   \n",
       "1  arg219225     y  loyalty          6.0     NaN          NaN  NaN   \n",
       "2  arg219242     y  loyalty          2.0     NaN          NaN  NaN   \n",
       "3  arg219244     y     care          3.0     NaN          NaN  NaN   \n",
       "4  arg219245     n      NaN          NaN     NaN          NaN  NaN   \n",
       "\n",
       "   Confidence3 moral_2   MF1_2  Confidence1_2 MF2_2  Confidence2_2     rank  \\\n",
       "0          NaN       y    care            7.0   NaN            NaN  0.00558   \n",
       "1          NaN       y  purity            1.0   NaN            NaN  0.00536   \n",
       "2          NaN       n     NaN            8.0   NaN            NaN  0.15209   \n",
       "3          NaN       y  purity            3.0   NaN            NaN  0.00740   \n",
       "4          NaN       n     NaN            9.0   NaN            NaN  0.00577   \n",
       "\n",
       "                                                                                                                                                                                                                                                                                                                                                                                                                                                                                                                                                                                                                                                                                                         argument  \n",
       "0  Americans spend billions on bottled water every year. Banning their sale would greatly hurt an already struggling economy. In addition to the actual sale of water bottles, the plastics that they are made out of, and the advertising on both the bottles and packaging are also big business. In addition to this, compostable waters bottle are also coming onto the market, these can be used instead of plastics to eliminate that detriment. Moreover, bottled water not only has a cleaner safety record than municipal water, but it easier to trace when a potential health risk does occur. <br/> (http://www.friendsjournal.org/bottled-water) (http://www.cdc.gov/healthywater/drinking/bottled/)  \n",
       "1                                       Banning plastic bottled water would be a huge mistake in this very moment. More than a million people in the United States purchase bottled water every day which is helping the economy com out of this recession we are in. maybe not in a big way but every kid of help counts! Bottled water also only makes less then 1&#xof; the worlds wastes and can be recycled! According to the National Association for PET Container resources, PET water bottles are no the most recycled container in curb side programs by weight and by number! <br/> http://www.nestlewaterscorporate.com/bottled_water_things_to_know/Video/index.html?@videoList.featured=31101711001  \n",
       "2                                                                                                                                                                                                                                                                                                                                                                                                                                                                                                                                                                                                                                        We will be able to ban water bottles until we get out of this recession!  \n",
       "3                                                                                                                                                                                                                                                                                                                                                                                                                                Western Europe consumes almost 50% of the world's bottled water. Many claim that this is due to European culture, since the continent has had very polluted waters due to agriculture and industry dating back to the Industrial Revolution. The water bottles they buy help us.  \n",
       "4                                                                                                                                                                                                                                       U.S. alone grew by over 13%. According to research and consulting done by the Beverage Marketing Corporation, the global bottled water industry has exploded to over $35 billion. Americans alone paid $7.7 billion for bottled water in 2002. In 2001, for example globally bottled water companies produced over 130,000 million liters of water. This produced roughly 35,000 million dollars in revenue for the world's thousands of bottled water companies in 2001.  "
      ]
     },
     "execution_count": 6,
     "metadata": {},
     "output_type": "execute_result"
    }
   ],
   "source": [
    "moral_labels.head()"
   ]
  },
  {
   "cell_type": "code",
   "execution_count": 7,
   "id": "94f81797",
   "metadata": {},
   "outputs": [],
   "source": [
    "argument_morals = []\n",
    "for row_id, row in moral_labels.iterrows():\n",
    "    morals = list(set([m for m in row if m in ['care', 'fairness', 'loyalty', 'authority', 'purity']]))\n",
    "    argument_morals.append((row['#id'], row['argument'], morals))"
   ]
  },
  {
   "cell_type": "code",
   "execution_count": 8,
   "id": "1491f2be",
   "metadata": {},
   "outputs": [],
   "source": [
    "final_df = pd.DataFrame(argument_morals, columns=['id', 'argument', 'morals'])"
   ]
  },
  {
   "cell_type": "code",
   "execution_count": 9,
   "id": "a8124175",
   "metadata": {},
   "outputs": [
    {
     "data": {
      "text/html": [
       "<div>\n",
       "<style scoped>\n",
       "    .dataframe tbody tr th:only-of-type {\n",
       "        vertical-align: middle;\n",
       "    }\n",
       "\n",
       "    .dataframe tbody tr th {\n",
       "        vertical-align: top;\n",
       "    }\n",
       "\n",
       "    .dataframe thead th {\n",
       "        text-align: right;\n",
       "    }\n",
       "</style>\n",
       "<table border=\"1\" class=\"dataframe\">\n",
       "  <thead>\n",
       "    <tr style=\"text-align: right;\">\n",
       "      <th></th>\n",
       "      <th>id</th>\n",
       "      <th>argument</th>\n",
       "      <th>morals</th>\n",
       "    </tr>\n",
       "  </thead>\n",
       "  <tbody>\n",
       "    <tr>\n",
       "      <th>0</th>\n",
       "      <td>arg219206</td>\n",
       "      <td>Americans spend billions on bottled water every year. Banning their sale would greatly hurt an already struggling economy. In addition to the actual sale of water bottles, the plastics that they are made out of, and the advertising on both the bottles and packaging are also big business. In addition to this, compostable waters bottle are also coming onto the market, these can be used instead of plastics to eliminate that detriment. Moreover, bottled water not only has a cleaner safety record than municipal water, but it easier to trace when a potential health risk does occur. &lt;br/&gt; (http://www.friendsjournal.org/bottled-water) (http://www.cdc.gov/healthywater/drinking/bottled/)</td>\n",
       "      <td>[purity, care]</td>\n",
       "    </tr>\n",
       "    <tr>\n",
       "      <th>1</th>\n",
       "      <td>arg219225</td>\n",
       "      <td>Banning plastic bottled water would be a huge mistake in this very moment. More than a million people in the United States purchase bottled water every day which is helping the economy com out of this recession we are in. maybe not in a big way but every kid of help counts! Bottled water also only makes less then 1&amp;#xof; the worlds wastes and can be recycled! According to the National Association for PET Container resources, PET water bottles are no the most recycled container in curb side programs by weight and by number! &lt;br/&gt; http://www.nestlewaterscorporate.com/bottled_water_things_to_know/Video/index.html?@videoList.featured=31101711001</td>\n",
       "      <td>[loyalty, purity]</td>\n",
       "    </tr>\n",
       "    <tr>\n",
       "      <th>2</th>\n",
       "      <td>arg219242</td>\n",
       "      <td>We will be able to ban water bottles until we get out of this recession!</td>\n",
       "      <td>[loyalty]</td>\n",
       "    </tr>\n",
       "    <tr>\n",
       "      <th>3</th>\n",
       "      <td>arg219244</td>\n",
       "      <td>Western Europe consumes almost 50% of the world's bottled water. Many claim that this is due to European culture, since the continent has had very polluted waters due to agriculture and industry dating back to the Industrial Revolution. The water bottles they buy help us.</td>\n",
       "      <td>[purity, care]</td>\n",
       "    </tr>\n",
       "    <tr>\n",
       "      <th>4</th>\n",
       "      <td>arg219245</td>\n",
       "      <td>U.S. alone grew by over 13%. According to research and consulting done by the Beverage Marketing Corporation, the global bottled water industry has exploded to over $35 billion. Americans alone paid $7.7 billion for bottled water in 2002. In 2001, for example globally bottled water companies produced over 130,000 million liters of water. This produced roughly 35,000 million dollars in revenue for the world's thousands of bottled water companies in 2001.</td>\n",
       "      <td>[]</td>\n",
       "    </tr>\n",
       "  </tbody>\n",
       "</table>\n",
       "</div>"
      ],
      "text/plain": [
       "          id  \\\n",
       "0  arg219206   \n",
       "1  arg219225   \n",
       "2  arg219242   \n",
       "3  arg219244   \n",
       "4  arg219245   \n",
       "\n",
       "                                                                                                                                                                                                                                                                                                                                                                                                                                                                                                                                                                                                                                                                                                         argument  \\\n",
       "0  Americans spend billions on bottled water every year. Banning their sale would greatly hurt an already struggling economy. In addition to the actual sale of water bottles, the plastics that they are made out of, and the advertising on both the bottles and packaging are also big business. In addition to this, compostable waters bottle are also coming onto the market, these can be used instead of plastics to eliminate that detriment. Moreover, bottled water not only has a cleaner safety record than municipal water, but it easier to trace when a potential health risk does occur. <br/> (http://www.friendsjournal.org/bottled-water) (http://www.cdc.gov/healthywater/drinking/bottled/)   \n",
       "1                                       Banning plastic bottled water would be a huge mistake in this very moment. More than a million people in the United States purchase bottled water every day which is helping the economy com out of this recession we are in. maybe not in a big way but every kid of help counts! Bottled water also only makes less then 1&#xof; the worlds wastes and can be recycled! According to the National Association for PET Container resources, PET water bottles are no the most recycled container in curb side programs by weight and by number! <br/> http://www.nestlewaterscorporate.com/bottled_water_things_to_know/Video/index.html?@videoList.featured=31101711001   \n",
       "2                                                                                                                                                                                                                                                                                                                                                                                                                                                                                                                                                                                                                                        We will be able to ban water bottles until we get out of this recession!   \n",
       "3                                                                                                                                                                                                                                                                                                                                                                                                                                Western Europe consumes almost 50% of the world's bottled water. Many claim that this is due to European culture, since the continent has had very polluted waters due to agriculture and industry dating back to the Industrial Revolution. The water bottles they buy help us.   \n",
       "4                                                                                                                                                                                                                                       U.S. alone grew by over 13%. According to research and consulting done by the Beverage Marketing Corporation, the global bottled water industry has exploded to over $35 billion. Americans alone paid $7.7 billion for bottled water in 2002. In 2001, for example globally bottled water companies produced over 130,000 million liters of water. This produced roughly 35,000 million dollars in revenue for the world's thousands of bottled water companies in 2001.   \n",
       "\n",
       "              morals  \n",
       "0     [purity, care]  \n",
       "1  [loyalty, purity]  \n",
       "2          [loyalty]  \n",
       "3     [purity, care]  \n",
       "4                 []  "
      ]
     },
     "execution_count": 9,
     "metadata": {},
     "output_type": "execute_result"
    }
   ],
   "source": [
    "final_df.head()"
   ]
  },
  {
   "cell_type": "code",
   "execution_count": 10,
   "id": "34e2de0d",
   "metadata": {},
   "outputs": [
    {
     "data": {
      "text/plain": [
       "220"
      ]
     },
     "execution_count": 10,
     "metadata": {},
     "output_type": "execute_result"
    }
   ],
   "source": [
    "len(final_df)"
   ]
  },
  {
   "cell_type": "code",
   "execution_count": 11,
   "id": "5cddc1ff",
   "metadata": {},
   "outputs": [
    {
     "data": {
      "text/plain": [
       "169"
      ]
     },
     "execution_count": 11,
     "metadata": {},
     "output_type": "execute_result"
    }
   ],
   "source": [
    "len(final_df[final_df.morals.str.len() > 0])"
   ]
  },
  {
   "cell_type": "code",
   "execution_count": 12,
   "id": "ed5738b1",
   "metadata": {},
   "outputs": [],
   "source": [
    "moral_df = final_df[final_df.morals.str.len() > 0]"
   ]
  },
  {
   "cell_type": "code",
   "execution_count": 13,
   "id": "359d0caa",
   "metadata": {},
   "outputs": [],
   "source": [
    "test_data = []\n",
    "for row_idx, row in moral_df.iterrows():\n",
    "    for moral in row['morals']:\n",
    "        test_data.append((moral, row['argument']))\n",
    "        \n",
    "test_df = pd.DataFrame(test_data, columns=['label', 'full_sentence'])\n",
    "test_df.to_csv('/workspace/ceph_data/moral-based-argumentation/dagstuhl_morality/test_data.csv', index=False)"
   ]
  },
  {
   "cell_type": "markdown",
   "id": "5e6c549f",
   "metadata": {},
   "source": [
    "### Moral Preds on dagsthul morality:"
   ]
  },
  {
   "cell_type": "code",
   "execution_count": 14,
   "id": "de4836a7",
   "metadata": {},
   "outputs": [],
   "source": [
    "%load_ext autoreload"
   ]
  },
  {
   "cell_type": "code",
   "execution_count": 15,
   "id": "ccc1014b",
   "metadata": {},
   "outputs": [
    {
     "name": "stderr",
     "output_type": "stream",
     "text": [
      "[nltk_data] Downloading package wordnet to /root/nltk_data...\n",
      "[nltk_data]   Package wordnet is already up-to-date!\n"
     ]
    }
   ],
   "source": [
    "%autoreload\n",
    "\n",
    "import os\n",
    "import sys\n",
    "import math\n",
    "\n",
    "sys.path.insert(0, \"/workspace/project_git/computational-moral-foundations/moral-based-argumentation/src-py\")\n",
    "sys.path.insert(0, \"/workspace/computational-moral-foundation/moral-based-argumentation/src-py\")\n",
    "\n",
    "import bert_moral_classification\n",
    "from evaluation import *\n",
    "from sklearn.metrics import f1_score\n",
    "from tabulate import tabulate"
   ]
  },
  {
   "cell_type": "code",
   "execution_count": 16,
   "id": "18cd6232",
   "metadata": {},
   "outputs": [],
   "source": [
    "def eval_f1score(moral_df, pred_clm, print_results=True):\n",
    "    avg_f1 = 0\n",
    "    f1_scores = []\n",
    "    for moral in ['authority', 'care', 'fairness', 'loyalty', 'purity']:\n",
    "        gt = [1 if moral in x else 0 for x in moral_df.morals]\n",
    "        pred = [1 if moral in x else 0 for x in moral_df[pred_clm]]\n",
    "        score = round(f1_score(gt, pred), 3)\n",
    "        avg_f1+=score\n",
    "        f1_scores.append(score)\n",
    "        if print_results:\n",
    "            print('F1 score for {} is {}'.format(moral, score))\n",
    "\n",
    "    if print_results:\n",
    "        print('Average F1 score {}'.format(round(avg_f1/5, 3)))\n",
    "    \n",
    "    f1_scores.append(round(avg_f1/5, 3))\n",
    "    \n",
    "    return f1_scores"
   ]
  },
  {
   "cell_type": "code",
   "execution_count": 17,
   "id": "9fee0be7",
   "metadata": {
    "scrolled": true,
    "tags": []
   },
   "outputs": [
    {
     "name": "stderr",
     "output_type": "stream",
     "text": [
      "/usr/local/lib/python3.6/dist-packages/ipykernel_launcher.py:1: SettingWithCopyWarning: \n",
      "A value is trying to be set on a copy of a slice from a DataFrame.\n",
      "Try using .loc[row_indexer,col_indexer] = value instead\n",
      "\n",
      "See the caveats in the documentation: https://pandas.pydata.org/pandas-docs/stable/user_guide/indexing.html#returning-a-view-versus-a-copy\n",
      "  \"\"\"Entry point for launching an IPython kernel.\n"
     ]
    }
   ],
   "source": [
    "moral_df['twitter_mbert_preds'] = bert_moral_classification.get_arg_morals_mbert(moral_df.argument, '/workspace/ceph_data/moral-based-argumentation/bert-multilabel-test/twitter_model')"
   ]
  },
  {
   "cell_type": "code",
   "execution_count": null,
   "id": "47ecec04",
   "metadata": {},
   "outputs": [],
   "source": [
    "moral_df['moral_freq_preds'] = bert_moral_classification.moralstrength_eval(moral_df.argument)"
   ]
  },
  {
   "cell_type": "code",
   "execution_count": null,
   "id": "82692d08",
   "metadata": {
    "scrolled": true,
    "tags": []
   },
   "outputs": [
    {
     "name": "stderr",
     "output_type": "stream",
     "text": [
      "/usr/local/lib/python3.6/dist-packages/ipykernel_launcher.py:2: SettingWithCopyWarning: \n",
      "A value is trying to be set on a copy of a slice from a DataFrame.\n",
      "Try using .loc[row_indexer,col_indexer] = value instead\n",
      "\n",
      "See the caveats in the documentation: https://pandas.pydata.org/pandas-docs/stable/user_guide/indexing.html#returning-a-view-versus-a-copy\n",
      "  \n",
      "/usr/local/lib/python3.6/dist-packages/ipykernel_launcher.py:4: SettingWithCopyWarning: \n",
      "A value is trying to be set on a copy of a slice from a DataFrame.\n",
      "Try using .loc[row_indexer,col_indexer] = value instead\n",
      "\n",
      "See the caveats in the documentation: https://pandas.pydata.org/pandas-docs/stable/user_guide/indexing.html#returning-a-view-versus-a-copy\n",
      "  after removing the cwd from sys.path.\n"
     ]
    }
   ],
   "source": [
    "for i in range(0,5):\n",
    "    moral_df['reddit_preds_{}'.format(i)] = bert_moral_classification.get_arg_morals(moral_df.argument, model_path='/workspace/ceph_data/moral-based-argumentation/bert-emfd-moral-frames/reddit_model_{}'.format(i))\n",
    "\n",
    "    moral_df['reddit_preds_5'] = bert_moral_classification.get_arg_morals(moral_df.argument, model_path='/workspace/ceph_data/moral-based-argumentation/bert-emfd-moral-frames/reddit_model/50k')"
   ]
  },
  {
   "cell_type": "code",
   "execution_count": 29,
   "id": "02ef1927-34a6-4230-94b9-7c0f06fcdb1a",
   "metadata": {},
   "outputs": [
    {
     "name": "stdout",
     "output_type": "stream",
     "text": [
      "\u001b[0m\u001b[01;34maspects_model\u001b[0m/                         \u001b[01;34mreddit_model_2\u001b[0m/\n",
      "\u001b[01;34maspects_model_without_emfd\u001b[0m/            \u001b[01;34mreddit_model_3\u001b[0m/\n",
      "\u001b[01;34mmasked_aspects_model\u001b[0m/                  \u001b[01;34mreddit_model_4\u001b[0m/\n",
      "\u001b[01;34mmasked_aspects_model_without_emfd\u001b[0m/     \u001b[01;34mreddit_model_big\u001b[0m/\n",
      "masked_train_aspects_without_emfd.csv  \u001b[01;34mtmp\u001b[0m/\n",
      "masked_val_aspects_without_emfd.csv    train_aspects.csv\n",
      "\u001b[01;34mmoral_concepts_model\u001b[0m/                  train_aspects_with_emfd.csv\n",
      "\u001b[01;34mmoral_concepts_model_balanced\u001b[0m/         train_aspects_without_emfd.csv\n",
      "\u001b[01;34mreddit_data\u001b[0m/                           train_moral_concetps.csv\n",
      "\u001b[01;34mreddit_model\u001b[0m/                          train_moral_concetps_balanced.csv\n",
      "\u001b[01;34mreddit_model_0\u001b[0m/                        val_aspects.csv\n",
      "\u001b[01;34mreddit_model_1\u001b[0m/                        val_aspects_with_emfd.csv\n",
      "\u001b[01;34mreddit_model_100k_0\u001b[0m/                   val_aspects_without_emfd.csv\n",
      "\u001b[01;34mreddit_model_100k_1\u001b[0m/                   val_moral_concept.csv\n",
      "\u001b[01;34mreddit_model_100k_2\u001b[0m/                   val_moral_concept_balanced.csv\n"
     ]
    }
   ],
   "source": [
    "ls /workspace/ceph_data/moral-based-argumentation/bert-emfd-moral-frames/"
   ]
  },
  {
   "cell_type": "code",
   "execution_count": 30,
   "id": "7a783878-ba4a-451b-be8f-50f4b806e4eb",
   "metadata": {},
   "outputs": [
    {
     "name": "stderr",
     "output_type": "stream",
     "text": [
      "/usr/local/lib/python3.6/dist-packages/ipykernel_launcher.py:2: SettingWithCopyWarning: \n",
      "A value is trying to be set on a copy of a slice from a DataFrame.\n",
      "Try using .loc[row_indexer,col_indexer] = value instead\n",
      "\n",
      "See the caveats in the documentation: https://pandas.pydata.org/pandas-docs/stable/user_guide/indexing.html#returning-a-view-versus-a-copy\n",
      "  \n"
     ]
    }
   ],
   "source": [
    "for i in range(0,3):\n",
    "    moral_df['reddit_preds_100k_{}'.format(i)] = bert_moral_classification.get_arg_morals(moral_df.argument, model_path='/workspace/ceph_data/moral-based-argumentation/bert-emfd-moral-frames/reddit_model_100k_{}'.format(i))"
   ]
  },
  {
   "cell_type": "code",
   "execution_count": 31,
   "id": "2bbdba7f",
   "metadata": {
    "scrolled": true,
    "tags": []
   },
   "outputs": [
    {
     "data": {
      "text/html": [
       "<div>\n",
       "<style scoped>\n",
       "    .dataframe tbody tr th:only-of-type {\n",
       "        vertical-align: middle;\n",
       "    }\n",
       "\n",
       "    .dataframe tbody tr th {\n",
       "        vertical-align: top;\n",
       "    }\n",
       "\n",
       "    .dataframe thead th {\n",
       "        text-align: right;\n",
       "    }\n",
       "</style>\n",
       "<table border=\"1\" class=\"dataframe\">\n",
       "  <thead>\n",
       "    <tr style=\"text-align: right;\">\n",
       "      <th></th>\n",
       "      <th>id</th>\n",
       "      <th>argument</th>\n",
       "      <th>morals</th>\n",
       "      <th>twitter_mbert_preds</th>\n",
       "      <th>reddit_preds_0</th>\n",
       "      <th>reddit_preds_5</th>\n",
       "      <th>reddit_preds_1</th>\n",
       "      <th>reddit_preds_2</th>\n",
       "      <th>reddit_preds_3</th>\n",
       "      <th>reddit_preds_4</th>\n",
       "      <th>moral_freq_preds</th>\n",
       "      <th>reddit_preds_100k_0</th>\n",
       "      <th>reddit_preds_100k_1</th>\n",
       "      <th>reddit_preds_100k_2</th>\n",
       "    </tr>\n",
       "  </thead>\n",
       "  <tbody>\n",
       "    <tr>\n",
       "      <th>0</th>\n",
       "      <td>arg219206</td>\n",
       "      <td>Americans spend billions on bottled water every year. Banning their sale would greatly hurt an already struggling economy. In addition to the actual sale of water bottles, the plastics that they are made out of, and the advertising on both the bottles and packaging are also big business. In addition to this, compostable waters bottle are also coming onto the market, these can be used instead of plastics to eliminate that detriment. Moreover, bottled water not only has a cleaner safety record than municipal water, but it easier to trace when a potential health risk does occur. &lt;br/&gt; (http://www.friendsjournal.org/bottled-water) (http://www.cdc.gov/healthywater/drinking/bottled/)</td>\n",
       "      <td>[purity, care]</td>\n",
       "      <td>[]</td>\n",
       "      <td>{fairness, purity, care, authority}</td>\n",
       "      <td>{care, authority}</td>\n",
       "      <td>{care}</td>\n",
       "      <td>{care}</td>\n",
       "      <td>{loyalty, care}</td>\n",
       "      <td>{care, authority}</td>\n",
       "      <td>[fairness, loyalty, authority]</td>\n",
       "      <td>{care, authority}</td>\n",
       "      <td>{care}</td>\n",
       "      <td>{loyalty, care}</td>\n",
       "    </tr>\n",
       "    <tr>\n",
       "      <th>1</th>\n",
       "      <td>arg219225</td>\n",
       "      <td>Banning plastic bottled water would be a huge mistake in this very moment. More than a million people in the United States purchase bottled water every day which is helping the economy com out of this recession we are in. maybe not in a big way but every kid of help counts! Bottled water also only makes less then 1&amp;#xof; the worlds wastes and can be recycled! According to the National Association for PET Container resources, PET water bottles are no the most recycled container in curb side programs by weight and by number! &lt;br/&gt; http://www.nestlewaterscorporate.com/bottled_water_things_to_know/Video/index.html?@videoList.featured=31101711001</td>\n",
       "      <td>[loyalty, purity]</td>\n",
       "      <td>[]</td>\n",
       "      <td>{purity, fairness, authority}</td>\n",
       "      <td>{care}</td>\n",
       "      <td>{fairness, purity, care, authority}</td>\n",
       "      <td>{care}</td>\n",
       "      <td>{loyalty, fairness}</td>\n",
       "      <td>{fairness, authority}</td>\n",
       "      <td>[care, fairness, authority, purity]</td>\n",
       "      <td>{fairness, care, authority}</td>\n",
       "      <td>{care, fairness}</td>\n",
       "      <td>{loyalty, care, fairness}</td>\n",
       "    </tr>\n",
       "    <tr>\n",
       "      <th>2</th>\n",
       "      <td>arg219242</td>\n",
       "      <td>We will be able to ban water bottles until we get out of this recession!</td>\n",
       "      <td>[loyalty]</td>\n",
       "      <td>[]</td>\n",
       "      <td>{authority}</td>\n",
       "      <td>{authority}</td>\n",
       "      <td>{authority}</td>\n",
       "      <td>{authority}</td>\n",
       "      <td>{authority}</td>\n",
       "      <td>{authority}</td>\n",
       "      <td>[care, fairness, loyalty, authority, purity]</td>\n",
       "      <td>{authority}</td>\n",
       "      <td>{authority}</td>\n",
       "      <td>{authority}</td>\n",
       "    </tr>\n",
       "    <tr>\n",
       "      <th>3</th>\n",
       "      <td>arg219244</td>\n",
       "      <td>Western Europe consumes almost 50% of the world's bottled water. Many claim that this is due to European culture, since the continent has had very polluted waters due to agriculture and industry dating back to the Industrial Revolution. The water bottles they buy help us.</td>\n",
       "      <td>[purity, care]</td>\n",
       "      <td>[]</td>\n",
       "      <td>{loyalty, purity}</td>\n",
       "      <td>{purity, care}</td>\n",
       "      <td>{purity}</td>\n",
       "      <td>{purity, care}</td>\n",
       "      <td>{loyalty, purity}</td>\n",
       "      <td>{purity}</td>\n",
       "      <td>[care, fairness, loyalty, authority, purity]</td>\n",
       "      <td>{purity, care}</td>\n",
       "      <td>{purity, care}</td>\n",
       "      <td>{loyalty, authority}</td>\n",
       "    </tr>\n",
       "    <tr>\n",
       "      <th>5</th>\n",
       "      <td>arg219250</td>\n",
       "      <td>it is true that bottled water is a waste, but bottles can be reused!</td>\n",
       "      <td>[purity]</td>\n",
       "      <td>[]</td>\n",
       "      <td>{fairness}</td>\n",
       "      <td>{care}</td>\n",
       "      <td>{purity}</td>\n",
       "      <td>{purity}</td>\n",
       "      <td>{fairness}</td>\n",
       "      <td>{authority}</td>\n",
       "      <td>[care, fairness, loyalty, authority, purity]</td>\n",
       "      <td>{purity}</td>\n",
       "      <td>{purity}</td>\n",
       "      <td>{purity}</td>\n",
       "    </tr>\n",
       "  </tbody>\n",
       "</table>\n",
       "</div>"
      ],
      "text/plain": [
       "          id  \\\n",
       "0  arg219206   \n",
       "1  arg219225   \n",
       "2  arg219242   \n",
       "3  arg219244   \n",
       "5  arg219250   \n",
       "\n",
       "                                                                                                                                                                                                                                                                                                                                                                                                                                                                                                                                                                                                                                                                                                         argument  \\\n",
       "0  Americans spend billions on bottled water every year. Banning their sale would greatly hurt an already struggling economy. In addition to the actual sale of water bottles, the plastics that they are made out of, and the advertising on both the bottles and packaging are also big business. In addition to this, compostable waters bottle are also coming onto the market, these can be used instead of plastics to eliminate that detriment. Moreover, bottled water not only has a cleaner safety record than municipal water, but it easier to trace when a potential health risk does occur. <br/> (http://www.friendsjournal.org/bottled-water) (http://www.cdc.gov/healthywater/drinking/bottled/)   \n",
       "1                                       Banning plastic bottled water would be a huge mistake in this very moment. More than a million people in the United States purchase bottled water every day which is helping the economy com out of this recession we are in. maybe not in a big way but every kid of help counts! Bottled water also only makes less then 1&#xof; the worlds wastes and can be recycled! According to the National Association for PET Container resources, PET water bottles are no the most recycled container in curb side programs by weight and by number! <br/> http://www.nestlewaterscorporate.com/bottled_water_things_to_know/Video/index.html?@videoList.featured=31101711001   \n",
       "2                                                                                                                                                                                                                                                                                                                                                                                                                                                                                                                                                                                                                                        We will be able to ban water bottles until we get out of this recession!   \n",
       "3                                                                                                                                                                                                                                                                                                                                                                                                                                Western Europe consumes almost 50% of the world's bottled water. Many claim that this is due to European culture, since the continent has had very polluted waters due to agriculture and industry dating back to the Industrial Revolution. The water bottles they buy help us.   \n",
       "5                                                                                                                                                                                                                                                                                                                                                                                                                                                                                                                                                                                                                                            it is true that bottled water is a waste, but bottles can be reused!   \n",
       "\n",
       "              morals twitter_mbert_preds                       reddit_preds_0  \\\n",
       "0     [purity, care]                  []  {fairness, purity, care, authority}   \n",
       "1  [loyalty, purity]                  []        {purity, fairness, authority}   \n",
       "2          [loyalty]                  []                          {authority}   \n",
       "3     [purity, care]                  []                    {loyalty, purity}   \n",
       "5           [purity]                  []                           {fairness}   \n",
       "\n",
       "      reddit_preds_5                       reddit_preds_1  reddit_preds_2  \\\n",
       "0  {care, authority}                               {care}          {care}   \n",
       "1             {care}  {fairness, purity, care, authority}          {care}   \n",
       "2        {authority}                          {authority}     {authority}   \n",
       "3     {purity, care}                             {purity}  {purity, care}   \n",
       "5             {care}                             {purity}        {purity}   \n",
       "\n",
       "        reddit_preds_3         reddit_preds_4  \\\n",
       "0      {loyalty, care}      {care, authority}   \n",
       "1  {loyalty, fairness}  {fairness, authority}   \n",
       "2          {authority}            {authority}   \n",
       "3    {loyalty, purity}               {purity}   \n",
       "5           {fairness}            {authority}   \n",
       "\n",
       "                               moral_freq_preds          reddit_preds_100k_0  \\\n",
       "0                [fairness, loyalty, authority]            {care, authority}   \n",
       "1           [care, fairness, authority, purity]  {fairness, care, authority}   \n",
       "2  [care, fairness, loyalty, authority, purity]                  {authority}   \n",
       "3  [care, fairness, loyalty, authority, purity]               {purity, care}   \n",
       "5  [care, fairness, loyalty, authority, purity]                     {purity}   \n",
       "\n",
       "  reddit_preds_100k_1        reddit_preds_100k_2  \n",
       "0              {care}            {loyalty, care}  \n",
       "1    {care, fairness}  {loyalty, care, fairness}  \n",
       "2         {authority}                {authority}  \n",
       "3      {purity, care}       {loyalty, authority}  \n",
       "5            {purity}                   {purity}  "
      ]
     },
     "execution_count": 31,
     "metadata": {},
     "output_type": "execute_result"
    }
   ],
   "source": [
    "moral_df.head(n=5)"
   ]
  },
  {
   "cell_type": "code",
   "execution_count": 22,
   "id": "3cf39b30-8550-47d8-9a6a-7623e98e4f08",
   "metadata": {},
   "outputs": [],
   "source": [
    "moral_df.to_pickle('../data/moral_classifiers_preds.pkl')"
   ]
  },
  {
   "cell_type": "markdown",
   "id": "c6d297ab",
   "metadata": {},
   "source": [
    "### Evaluate Approaches:"
   ]
  },
  {
   "cell_type": "code",
   "execution_count": 23,
   "id": "654f44e7-1600-4653-a46d-62f0e1b41f37",
   "metadata": {},
   "outputs": [
    {
     "name": "stdout",
     "output_type": "stream",
     "text": [
      "F1 score for authority is 0.146\n",
      "F1 score for care is 0.5\n",
      "F1 score for fairness is 0.412\n",
      "F1 score for loyalty is 0.16\n",
      "F1 score for purity is 0.222\n",
      "Average F1 score 0.288\n"
     ]
    }
   ],
   "source": [
    "twitter_scores = eval_f1score(moral_df, pred_clm='twitter_mbert_preds')"
   ]
  },
  {
   "cell_type": "code",
   "execution_count": 24,
   "id": "0f133377",
   "metadata": {},
   "outputs": [
    {
     "name": "stdout",
     "output_type": "stream",
     "text": [
      "F1 score for authority is 0.295\n",
      "F1 score for care is 0.714\n",
      "F1 score for fairness is 0.159\n",
      "F1 score for loyalty is 0.204\n",
      "F1 score for purity is 0.343\n",
      "Average F1 score 0.343\n"
     ]
    }
   ],
   "source": [
    "freq_scores = eval_f1score(moral_df, pred_clm='moral_freq_preds')"
   ]
  },
  {
   "cell_type": "code",
   "execution_count": 32,
   "id": "32515d22",
   "metadata": {
    "scrolled": true,
    "tags": []
   },
   "outputs": [
    {
     "name": "stdout",
     "output_type": "stream",
     "text": [
      "------\n",
      "fold 0:\n",
      "F1 score for authority is 0.347\n",
      "F1 score for care is 0.416\n",
      "F1 score for fairness is 0.491\n",
      "F1 score for loyalty is 0.222\n",
      "F1 score for purity is 0.507\n",
      "Average F1 score 0.397\n",
      "------\n",
      "fold 1:\n",
      "F1 score for authority is 0.378\n",
      "F1 score for care is 0.543\n",
      "F1 score for fairness is 0.4\n",
      "F1 score for loyalty is 0.345\n",
      "F1 score for purity is 0.527\n",
      "Average F1 score 0.439\n",
      "------\n",
      "fold 2:\n",
      "F1 score for authority is 0.451\n",
      "F1 score for care is 0.699\n",
      "F1 score for fairness is 0.328\n",
      "F1 score for loyalty is 0.391\n",
      "F1 score for purity is 0.519\n",
      "Average F1 score 0.478\n",
      "------\n",
      "fold 3:\n",
      "F1 score for authority is 0.447\n",
      "F1 score for care is 0.632\n",
      "F1 score for fairness is 0.52\n",
      "F1 score for loyalty is 0.272\n",
      "F1 score for purity is 0.554\n",
      "Average F1 score 0.485\n",
      "------\n",
      "fold 4:\n",
      "F1 score for authority is 0.35\n",
      "F1 score for care is 0.494\n",
      "F1 score for fairness is 0.439\n",
      "F1 score for loyalty is 0.304\n",
      "F1 score for purity is 0.486\n",
      "Average F1 score 0.415\n",
      "------\n",
      "fold 5:\n",
      "F1 score for authority is 0.387\n",
      "F1 score for care is 0.718\n",
      "F1 score for fairness is 0.414\n",
      "F1 score for loyalty is 0.34\n",
      "F1 score for purity is 0.462\n",
      "Average F1 score 0.464\n",
      "------\n",
      "fold 100k 0:\n",
      "F1 score for authority is 0.403\n",
      "F1 score for care is 0.688\n",
      "F1 score for fairness is 0.294\n",
      "F1 score for loyalty is 0.314\n",
      "F1 score for purity is 0.533\n",
      "Average F1 score 0.446\n",
      "------\n",
      "fold 100k 1:\n",
      "F1 score for authority is 0.407\n",
      "F1 score for care is 0.733\n",
      "F1 score for fairness is 0.444\n",
      "F1 score for loyalty is 0.321\n",
      "F1 score for purity is 0.54\n",
      "Average F1 score 0.489\n",
      "------\n",
      "fold 100k 2:\n",
      "F1 score for authority is 0.463\n",
      "F1 score for care is 0.53\n",
      "F1 score for fairness is 0.31\n",
      "F1 score for loyalty is 0.28\n",
      "F1 score for purity is 0.4\n",
      "Average F1 score 0.397\n"
     ]
    }
   ],
   "source": [
    "folds_scores = [['twitter'] + twitter_scores, ['freq'] + freq_scores]\n",
    "for i in range(0,6):\n",
    "    print('------')\n",
    "    print('fold {}:'.format(i))\n",
    "    folds_scores.append([i] + eval_f1score(moral_df, pred_clm='reddit_preds_{}'.format(i)))\n",
    "    \n",
    "for i in range(0,3):\n",
    "    print('------')\n",
    "    print('fold 100k {}:'.format(i))\n",
    "    folds_scores.append([i] + eval_f1score(moral_df, pred_clm='reddit_preds_100k_{}'.format(i)))"
   ]
  },
  {
   "cell_type": "code",
   "execution_count": 33,
   "id": "39e14193-36e5-4674-9ff8-df670cf7bfa1",
   "metadata": {},
   "outputs": [],
   "source": [
    "scores = np.array(folds_scores)[2:, 1:].astype(float)\n",
    "mean_folds = [round(x,2) for x in np.mean(scores, axis=0)]"
   ]
  },
  {
   "cell_type": "code",
   "execution_count": 34,
   "id": "671027e5-a01c-45c4-97f2-75e5e8fbf538",
   "metadata": {},
   "outputs": [],
   "source": [
    "folds_scores.append(['avg'] + mean_folds)"
   ]
  },
  {
   "cell_type": "code",
   "execution_count": 35,
   "id": "75463a44-10c7-4f71-84a3-2b4a43d0d1c3",
   "metadata": {},
   "outputs": [
    {
     "name": "stdout",
     "output_type": "stream",
     "text": [
      "fold       authority    care    fairness    loyalty    purity    avg\n",
      "-------  -----------  ------  ----------  ---------  --------  -----\n",
      "twitter        0.146   0.5         0.412      0.16      0.222  0.288\n",
      "freq           0.295   0.714       0.159      0.204     0.343  0.343\n",
      "0              0.347   0.416       0.491      0.222     0.507  0.397\n",
      "1              0.378   0.543       0.4        0.345     0.527  0.439\n",
      "2              0.451   0.699       0.328      0.391     0.519  0.478\n",
      "3              0.447   0.632       0.52       0.272     0.554  0.485\n",
      "4              0.35    0.494       0.439      0.304     0.486  0.415\n",
      "5              0.387   0.718       0.414      0.34      0.462  0.464\n",
      "0              0.403   0.688       0.294      0.314     0.533  0.446\n",
      "1              0.407   0.733       0.444      0.321     0.54   0.489\n",
      "2              0.463   0.53        0.31       0.28      0.4    0.397\n",
      "avg            0.4     0.61        0.4        0.31      0.5    0.45\n"
     ]
    }
   ],
   "source": [
    "print(tabulate(folds_scores, headers=('fold', 'authority', 'care', 'fairness', 'loyalty', 'purity', 'avg')))"
   ]
  },
  {
   "cell_type": "markdown",
   "id": "0bcdedf3",
   "metadata": {},
   "source": [
    "#### Significance Testing:"
   ]
  },
  {
   "cell_type": "code",
   "execution_count": 108,
   "id": "f96133f6",
   "metadata": {},
   "outputs": [],
   "source": [
    "dfs = np.array_split(moral_df, 5)"
   ]
  },
  {
   "cell_type": "code",
   "execution_count": 109,
   "id": "b7d51ec1",
   "metadata": {
    "scrolled": true,
    "tags": []
   },
   "outputs": [],
   "source": [
    "twitter_mbert_scores = [eval_preds(df, 'twitter_mbert_preds', print_results = False) for df in dfs]\n",
    "mc_mbert_scores = [eval_preds(df, 'mc_mbert_preds', print_results = False) for df in dfs]\n",
    "mc_scores = [eval_preds(df, 'mc_preds', print_results = False) for df in dfs]\n",
    "emfd_scores = [eval_preds(df, 'emfd_preds', print_results = False) for df in dfs]"
   ]
  },
  {
   "cell_type": "code",
   "execution_count": 101,
   "id": "693f8966",
   "metadata": {},
   "outputs": [
    {
     "name": "stdout",
     "output_type": "stream",
     "text": [
      "authority significancy is True\n",
      "care significancy is False\n",
      "fairness significancy is False\n",
      "loyalty significancy is True\n",
      "purity significancy is True\n"
     ]
    }
   ],
   "source": [
    "for i, moral in enumerate(['authority', 'care', 'fairness', 'loyalty', 'purity']):\n",
    "    s1 = np.array(twitter_mbert_scores)[:,i]\n",
    "    s2 = np.array(mc_scores)[:,1]\n",
    "    #print(s1)\n",
    "    #print(s2)\n",
    "    print('{} significancy is {}'.format(moral, check_sig(s2, s1)))"
   ]
  },
  {
   "cell_type": "code",
   "execution_count": 102,
   "id": "e9596735",
   "metadata": {},
   "outputs": [
    {
     "name": "stdout",
     "output_type": "stream",
     "text": [
      "authority significancy is True\n",
      "care significancy is False\n",
      "fairness significancy is False\n",
      "loyalty significancy is True\n",
      "purity significancy is True\n"
     ]
    }
   ],
   "source": [
    "for i, moral in enumerate(['authority', 'care', 'fairness', 'loyalty', 'purity']):\n",
    "    s1 = np.array(twitter_mbert_scores)[:,i]\n",
    "    s2 = np.array(mc_mbert_scores)[:,1]\n",
    "    #print(s1)\n",
    "    #print(s2)\n",
    "    print('{} significancy is {}'.format(moral, check_sig(s2, s1)))"
   ]
  },
  {
   "cell_type": "code",
   "execution_count": 110,
   "id": "2203ed1a",
   "metadata": {},
   "outputs": [
    {
     "name": "stdout",
     "output_type": "stream",
     "text": [
      "authority significancy is True\n",
      "care significancy is False\n",
      "fairness significancy is True\n",
      "loyalty significancy is True\n",
      "purity significancy is True\n"
     ]
    }
   ],
   "source": [
    "for i, moral in enumerate(['authority', 'care', 'fairness', 'loyalty', 'purity']):\n",
    "    s1 = np.array(emfd_scores)[:,i]\n",
    "    s2 = np.array(mc_scores)[:,1]\n",
    "    #print(s1)\n",
    "    #print(s2)\n",
    "    print('{} significancy is {}'.format(moral, check_sig(s2, s1)))"
   ]
  },
  {
   "cell_type": "markdown",
   "id": "ec6ea00e",
   "metadata": {},
   "source": [
    "------------"
   ]
  }
 ],
 "metadata": {
  "kernelspec": {
   "display_name": "Python 3",
   "language": "python",
   "name": "python3"
  },
  "language_info": {
   "codemirror_mode": {
    "name": "ipython",
    "version": 3
   },
   "file_extension": ".py",
   "mimetype": "text/x-python",
   "name": "python",
   "nbconvert_exporter": "python",
   "pygments_lexer": "ipython3",
   "version": "3.6.9"
  }
 },
 "nbformat": 4,
 "nbformat_minor": 5
}
