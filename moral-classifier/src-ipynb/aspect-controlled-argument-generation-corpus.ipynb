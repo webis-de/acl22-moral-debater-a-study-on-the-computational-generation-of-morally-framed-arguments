{
 "cells": [
  {
   "cell_type": "code",
   "execution_count": 5,
   "id": "a749b49e-785a-4e81-8f0e-bbe7dc4ad595",
   "metadata": {},
   "outputs": [
    {
     "name": "stdout",
     "output_type": "stream",
     "text": [
      "The autoreload extension is already loaded. To reload it, use:\n",
      "  %reload_ext autoreload\n"
     ]
    }
   ],
   "source": [
    "%load_ext autoreload"
   ]
  },
  {
   "cell_type": "code",
   "execution_count": 13,
   "id": "7fa66aa1-31cb-495f-a244-4275f5151f0d",
   "metadata": {},
   "outputs": [],
   "source": [
    "%autoreload\n",
    "\n",
    "import sys\n",
    "import json\n",
    "import glob\n",
    "import pandas as pd\n",
    "from tqdm import tqdm\n",
    "import matplotlib.pyplot as plt\n",
    "\n",
    "pd.set_option('max_colwidth', None)\n",
    "\n",
    "sys.path.insert(0, '../../src-py/')"
   ]
  },
  {
   "cell_type": "code",
   "execution_count": 14,
   "id": "5c7638b8-3b75-4e42-98bd-16bc4c67537d",
   "metadata": {},
   "outputs": [],
   "source": [
    "import moral_utils"
   ]
  },
  {
   "cell_type": "code",
   "execution_count": 15,
   "id": "34f16fbe-56a3-4489-b803-618de7938421",
   "metadata": {},
   "outputs": [],
   "source": [
    "data_path = '/home/sile2804/data-tmp/moral-debater-data'"
   ]
  },
  {
   "cell_type": "code",
   "execution_count": 16,
   "id": "3656b96c-0b74-449a-ad9d-673b9b108871",
   "metadata": {},
   "outputs": [],
   "source": [
    "def is_moral_concept(aspect, moral_concepts):\n",
    "    aspect_words = aspect.split()\n",
    "    for concept, moral in moral_concepts.items():\n",
    "        concept_words = concept.split()\n",
    "        overlap = len(set(aspect_words).intersection(concept_words))/len(concept_words)\n",
    "        if overlap > 0.5:\n",
    "            return moral\n",
    "            \n",
    "    return 'None'"
   ]
  },
  {
   "cell_type": "code",
   "execution_count": 53,
   "id": "404bb2ed-d177-4a65-bba6-e5a65536aa8a",
   "metadata": {},
   "outputs": [
    {
     "name": "stdout",
     "output_type": "stream",
     "text": [
      "/workspace/ceph_data/data/aspect-controlled-argument-generation/reddit_data/abortion/processed/merged.jsonl\n",
      "/workspace/ceph_data/data/aspect-controlled-argument-generation/reddit_data/gun_control/processed/merged.jsonl\n",
      "/workspace/ceph_data/data/aspect-controlled-argument-generation/reddit_data/marijuana_legalization/processed/merged.jsonl\n",
      "/workspace/ceph_data/data/aspect-controlled-argument-generation/reddit_data/death_penalty/processed/merged.jsonl\n",
      "/workspace/ceph_data/data/aspect-controlled-argument-generation/reddit_data/nuclear_energy/processed/merged.jsonl\n",
      "/workspace/ceph_data/data/aspect-controlled-argument-generation/reddit_data/cloning/processed/merged.jsonl\n",
      "/workspace/ceph_data/data/aspect-controlled-argument-generation/reddit_data/minimum_wage/processed/merged.jsonl\n",
      "/workspace/ceph_data/data/aspect-controlled-argument-generation/reddit_data/school_uniforms/processed/merged.jsonl\n"
     ]
    }
   ],
   "source": [
    "data = []\n",
    "for file in glob.glob(data_path + '/aspect-controlled-argument-generation/reddit_data/*/processed/merged.jsonl'):\n",
    "    print(file)\n",
    "    for line in open(file).readlines():\n",
    "        json_obj = json.loads(line)\n",
    "        json_obj['topic'] = file.split('/')[-3]\n",
    "        data.append(json_obj)"
   ]
  },
  {
   "cell_type": "code",
   "execution_count": 59,
   "id": "d64ce4c1-a17f-45b8-8188-274e94d81da2",
   "metadata": {},
   "outputs": [],
   "source": [
    "df = pd.DataFrame(data)"
   ]
  },
  {
   "cell_type": "code",
   "execution_count": 60,
   "id": "3c6f6c10-55bc-44b5-8a34-77b75bec8f8e",
   "metadata": {
    "scrolled": true,
    "tags": []
   },
   "outputs": [
    {
     "data": {
      "text/html": [
       "<div>\n",
       "<style scoped>\n",
       "    .dataframe tbody tr th:only-of-type {\n",
       "        vertical-align: middle;\n",
       "    }\n",
       "\n",
       "    .dataframe tbody tr th {\n",
       "        vertical-align: top;\n",
       "    }\n",
       "\n",
       "    .dataframe thead th {\n",
       "        text-align: right;\n",
       "    }\n",
       "</style>\n",
       "<table border=\"1\" class=\"dataframe\">\n",
       "  <thead>\n",
       "    <tr style=\"text-align: right;\">\n",
       "      <th></th>\n",
       "      <th>id</th>\n",
       "      <th>doc_sent_id</th>\n",
       "      <th>stance</th>\n",
       "      <th>sent</th>\n",
       "      <th>doc_id</th>\n",
       "      <th>doc_metadata_id</th>\n",
       "      <th>doc_url</th>\n",
       "      <th>doc_score</th>\n",
       "      <th>index</th>\n",
       "      <th>aspect_string</th>\n",
       "      <th>aspect_pos</th>\n",
       "    </tr>\n",
       "  </thead>\n",
       "  <tbody>\n",
       "    <tr>\n",
       "      <th>0</th>\n",
       "      <td>0</td>\n",
       "      <td>1</td>\n",
       "      <td>Argument_against</td>\n",
       "      <td>However , I believe abortion is a health issue and abortion is part of the healthcare industry .</td>\n",
       "      <td>--1Tc2sBJVi6mb4YT3ns</td>\n",
       "      <td>c1p39fy</td>\n",
       "      <td>https://www.reddit.com//comments/go7wt//c1p39fy</td>\n",
       "      <td>11.047030</td>\n",
       "      <td>redditcomments-en</td>\n",
       "      <td>[health issue, healthcare industry]</td>\n",
       "      <td>[[7, 8], [15, 16]]</td>\n",
       "    </tr>\n",
       "    <tr>\n",
       "      <th>1</th>\n",
       "      <td>1</td>\n",
       "      <td>0</td>\n",
       "      <td>Argument_against</td>\n",
       "      <td>Because abortion forces everyone to have an abortion ! !</td>\n",
       "      <td>--6EhGsBJVi6mb4YCsro</td>\n",
       "      <td>c4hefg3</td>\n",
       "      <td>https://www.reddit.com//comments/suc58//c4hefg3</td>\n",
       "      <td>12.300539</td>\n",
       "      <td>redditcomments-en</td>\n",
       "      <td>[]</td>\n",
       "      <td>[]</td>\n",
       "    </tr>\n",
       "    <tr>\n",
       "      <th>2</th>\n",
       "      <td>2</td>\n",
       "      <td>1</td>\n",
       "      <td>Argument_against</td>\n",
       "      <td>Adoption is an *alternative* to abortion , not a solution .</td>\n",
       "      <td>--EB_GsBJVi6mb4Y_22f</td>\n",
       "      <td>czwafag</td>\n",
       "      <td>https://www.reddit.com//comments/459xmn//czwafag</td>\n",
       "      <td>10.695252</td>\n",
       "      <td>redditcomments-en</td>\n",
       "      <td>[Adoption, solution]</td>\n",
       "      <td>[[0, 0], [9, 9]]</td>\n",
       "    </tr>\n",
       "    <tr>\n",
       "      <th>3</th>\n",
       "      <td>3</td>\n",
       "      <td>0</td>\n",
       "      <td>Argument_for</td>\n",
       "      <td>And yet abortion is legal in this country .</td>\n",
       "      <td>--EXzWsBJVi6mb4Yx55U</td>\n",
       "      <td>d5utytm</td>\n",
       "      <td>https://www.reddit.com//comments/4v1he8//d5utytm</td>\n",
       "      <td>10.691054</td>\n",
       "      <td>redditcomments-en</td>\n",
       "      <td>[abortion, legal]</td>\n",
       "      <td>[[2, 2], [4, 4]]</td>\n",
       "    </tr>\n",
       "    <tr>\n",
       "      <th>4</th>\n",
       "      <td>4</td>\n",
       "      <td>2</td>\n",
       "      <td>Argument_against</td>\n",
       "      <td>Why ca n't she see the obvious , that abortion is a very private decision for the woman and the provider , no one else .</td>\n",
       "      <td>--HamGwBJVi6mb4Y4B64</td>\n",
       "      <td>e8r7j8p</td>\n",
       "      <td>https://www.reddit.com/r/politics/comments/9ssif9/antiabortion_conservative_running_for_texas/e8r7j8p/</td>\n",
       "      <td>10.326312</td>\n",
       "      <td>redditcomments-en</td>\n",
       "      <td>[private decision]</td>\n",
       "      <td>[[13, 14]]</td>\n",
       "    </tr>\n",
       "  </tbody>\n",
       "</table>\n",
       "</div>"
      ],
      "text/plain": [
       "   id  doc_sent_id            stance  \\\n",
       "0   0            1  Argument_against   \n",
       "1   1            0  Argument_against   \n",
       "2   2            1  Argument_against   \n",
       "3   3            0      Argument_for   \n",
       "4   4            2  Argument_against   \n",
       "\n",
       "                                                                                                                       sent  \\\n",
       "0                          However , I believe abortion is a health issue and abortion is part of the healthcare industry .   \n",
       "1                                                                  Because abortion forces everyone to have an abortion ! !   \n",
       "2                                                               Adoption is an *alternative* to abortion , not a solution .   \n",
       "3                                                                               And yet abortion is legal in this country .   \n",
       "4  Why ca n't she see the obvious , that abortion is a very private decision for the woman and the provider , no one else .   \n",
       "\n",
       "                 doc_id doc_metadata_id  \\\n",
       "0  --1Tc2sBJVi6mb4YT3ns         c1p39fy   \n",
       "1  --6EhGsBJVi6mb4YCsro         c4hefg3   \n",
       "2  --EB_GsBJVi6mb4Y_22f         czwafag   \n",
       "3  --EXzWsBJVi6mb4Yx55U         d5utytm   \n",
       "4  --HamGwBJVi6mb4Y4B64         e8r7j8p   \n",
       "\n",
       "                                                                                                  doc_url  \\\n",
       "0                                                         https://www.reddit.com//comments/go7wt//c1p39fy   \n",
       "1                                                         https://www.reddit.com//comments/suc58//c4hefg3   \n",
       "2                                                        https://www.reddit.com//comments/459xmn//czwafag   \n",
       "3                                                        https://www.reddit.com//comments/4v1he8//d5utytm   \n",
       "4  https://www.reddit.com/r/politics/comments/9ssif9/antiabortion_conservative_running_for_texas/e8r7j8p/   \n",
       "\n",
       "   doc_score              index                        aspect_string  \\\n",
       "0  11.047030  redditcomments-en  [health issue, healthcare industry]   \n",
       "1  12.300539  redditcomments-en                                   []   \n",
       "2  10.695252  redditcomments-en                 [Adoption, solution]   \n",
       "3  10.691054  redditcomments-en                    [abortion, legal]   \n",
       "4  10.326312  redditcomments-en                   [private decision]   \n",
       "\n",
       "           aspect_pos  \n",
       "0  [[7, 8], [15, 16]]  \n",
       "1                  []  \n",
       "2    [[0, 0], [9, 9]]  \n",
       "3    [[2, 2], [4, 4]]  \n",
       "4          [[13, 14]]  "
      ]
     },
     "execution_count": 60,
     "metadata": {},
     "output_type": "execute_result"
    }
   ],
   "source": [
    "df.head()"
   ]
  },
  {
   "cell_type": "code",
   "execution_count": 61,
   "id": "eee6da78-d8e9-4ccf-b7b2-28779384b2ed",
   "metadata": {},
   "outputs": [],
   "source": [
    "moral_concepts = moral_utils.get_moral_concepts(preprocess=True)\n",
    "concept_to_morals = {c:moral for moral in moral_concepts for c in moral_concepts[moral]}"
   ]
  },
  {
   "cell_type": "code",
   "execution_count": 62,
   "id": "5c82f6fb-234f-48c4-aa3d-b229256d8fdf",
   "metadata": {},
   "outputs": [],
   "source": [
    "df['moral_frame'] = df['aspect_string'].apply(lambda aspects: [is_moral_concept(aspect, concept_to_morals) for aspect in aspects])"
   ]
  },
  {
   "cell_type": "code",
   "execution_count": 65,
   "id": "b6d34360-b780-4647-852f-11e11ab2cd51",
   "metadata": {},
   "outputs": [],
   "source": [
    "df['moral_frame'] = df['moral_frame'].apply(lambda aspects: set([a for a in aspects if a != 'None']))\n",
    "#adjust\n",
    "#df['moral_frame'] = df['moral_frame'].apply(lambda aspects: aspects.remove('care') if len(aspects) > 2 else aspects)"
   ]
  },
  {
   "cell_type": "code",
   "execution_count": 66,
   "id": "4f72c0f9-313d-43b7-9b49-7f77f3c269b9",
   "metadata": {},
   "outputs": [
    {
     "data": {
      "text/html": [
       "<div>\n",
       "<style scoped>\n",
       "    .dataframe tbody tr th:only-of-type {\n",
       "        vertical-align: middle;\n",
       "    }\n",
       "\n",
       "    .dataframe tbody tr th {\n",
       "        vertical-align: top;\n",
       "    }\n",
       "\n",
       "    .dataframe thead th {\n",
       "        text-align: right;\n",
       "    }\n",
       "</style>\n",
       "<table border=\"1\" class=\"dataframe\">\n",
       "  <thead>\n",
       "    <tr style=\"text-align: right;\">\n",
       "      <th></th>\n",
       "      <th>id</th>\n",
       "      <th>doc_sent_id</th>\n",
       "      <th>stance</th>\n",
       "      <th>sent</th>\n",
       "      <th>doc_id</th>\n",
       "      <th>doc_metadata_id</th>\n",
       "      <th>doc_url</th>\n",
       "      <th>doc_score</th>\n",
       "      <th>index</th>\n",
       "      <th>aspect_string</th>\n",
       "      <th>aspect_pos</th>\n",
       "      <th>moral_frame</th>\n",
       "    </tr>\n",
       "  </thead>\n",
       "  <tbody>\n",
       "    <tr>\n",
       "      <th>0</th>\n",
       "      <td>0</td>\n",
       "      <td>1</td>\n",
       "      <td>Argument_against</td>\n",
       "      <td>However , I believe abortion is a health issue and abortion is part of the healthcare industry .</td>\n",
       "      <td>--1Tc2sBJVi6mb4YT3ns</td>\n",
       "      <td>c1p39fy</td>\n",
       "      <td>https://www.reddit.com//comments/go7wt//c1p39fy</td>\n",
       "      <td>11.047030</td>\n",
       "      <td>redditcomments-en</td>\n",
       "      <td>[health issue, healthcare industry]</td>\n",
       "      <td>[[7, 8], [15, 16]]</td>\n",
       "      <td>{}</td>\n",
       "    </tr>\n",
       "    <tr>\n",
       "      <th>1</th>\n",
       "      <td>1</td>\n",
       "      <td>0</td>\n",
       "      <td>Argument_against</td>\n",
       "      <td>Because abortion forces everyone to have an abortion ! !</td>\n",
       "      <td>--6EhGsBJVi6mb4YCsro</td>\n",
       "      <td>c4hefg3</td>\n",
       "      <td>https://www.reddit.com//comments/suc58//c4hefg3</td>\n",
       "      <td>12.300539</td>\n",
       "      <td>redditcomments-en</td>\n",
       "      <td>[]</td>\n",
       "      <td>[]</td>\n",
       "      <td>{}</td>\n",
       "    </tr>\n",
       "    <tr>\n",
       "      <th>2</th>\n",
       "      <td>2</td>\n",
       "      <td>1</td>\n",
       "      <td>Argument_against</td>\n",
       "      <td>Adoption is an *alternative* to abortion , not a solution .</td>\n",
       "      <td>--EB_GsBJVi6mb4Y_22f</td>\n",
       "      <td>czwafag</td>\n",
       "      <td>https://www.reddit.com//comments/459xmn//czwafag</td>\n",
       "      <td>10.695252</td>\n",
       "      <td>redditcomments-en</td>\n",
       "      <td>[Adoption, solution]</td>\n",
       "      <td>[[0, 0], [9, 9]]</td>\n",
       "      <td>{}</td>\n",
       "    </tr>\n",
       "    <tr>\n",
       "      <th>3</th>\n",
       "      <td>3</td>\n",
       "      <td>0</td>\n",
       "      <td>Argument_for</td>\n",
       "      <td>And yet abortion is legal in this country .</td>\n",
       "      <td>--EXzWsBJVi6mb4Yx55U</td>\n",
       "      <td>d5utytm</td>\n",
       "      <td>https://www.reddit.com//comments/4v1he8//d5utytm</td>\n",
       "      <td>10.691054</td>\n",
       "      <td>redditcomments-en</td>\n",
       "      <td>[abortion, legal]</td>\n",
       "      <td>[[2, 2], [4, 4]]</td>\n",
       "      <td>{authority}</td>\n",
       "    </tr>\n",
       "    <tr>\n",
       "      <th>4</th>\n",
       "      <td>4</td>\n",
       "      <td>2</td>\n",
       "      <td>Argument_against</td>\n",
       "      <td>Why ca n't she see the obvious , that abortion is a very private decision for the woman and the provider , no one else .</td>\n",
       "      <td>--HamGwBJVi6mb4Y4B64</td>\n",
       "      <td>e8r7j8p</td>\n",
       "      <td>https://www.reddit.com/r/politics/comments/9ssif9/antiabortion_conservative_running_for_texas/e8r7j8p/</td>\n",
       "      <td>10.326312</td>\n",
       "      <td>redditcomments-en</td>\n",
       "      <td>[private decision]</td>\n",
       "      <td>[[13, 14]]</td>\n",
       "      <td>{}</td>\n",
       "    </tr>\n",
       "  </tbody>\n",
       "</table>\n",
       "</div>"
      ],
      "text/plain": [
       "   id  doc_sent_id            stance  \\\n",
       "0   0            1  Argument_against   \n",
       "1   1            0  Argument_against   \n",
       "2   2            1  Argument_against   \n",
       "3   3            0      Argument_for   \n",
       "4   4            2  Argument_against   \n",
       "\n",
       "                                                                                                                       sent  \\\n",
       "0                          However , I believe abortion is a health issue and abortion is part of the healthcare industry .   \n",
       "1                                                                  Because abortion forces everyone to have an abortion ! !   \n",
       "2                                                               Adoption is an *alternative* to abortion , not a solution .   \n",
       "3                                                                               And yet abortion is legal in this country .   \n",
       "4  Why ca n't she see the obvious , that abortion is a very private decision for the woman and the provider , no one else .   \n",
       "\n",
       "                 doc_id doc_metadata_id  \\\n",
       "0  --1Tc2sBJVi6mb4YT3ns         c1p39fy   \n",
       "1  --6EhGsBJVi6mb4YCsro         c4hefg3   \n",
       "2  --EB_GsBJVi6mb4Y_22f         czwafag   \n",
       "3  --EXzWsBJVi6mb4Yx55U         d5utytm   \n",
       "4  --HamGwBJVi6mb4Y4B64         e8r7j8p   \n",
       "\n",
       "                                                                                                  doc_url  \\\n",
       "0                                                         https://www.reddit.com//comments/go7wt//c1p39fy   \n",
       "1                                                         https://www.reddit.com//comments/suc58//c4hefg3   \n",
       "2                                                        https://www.reddit.com//comments/459xmn//czwafag   \n",
       "3                                                        https://www.reddit.com//comments/4v1he8//d5utytm   \n",
       "4  https://www.reddit.com/r/politics/comments/9ssif9/antiabortion_conservative_running_for_texas/e8r7j8p/   \n",
       "\n",
       "   doc_score              index                        aspect_string  \\\n",
       "0  11.047030  redditcomments-en  [health issue, healthcare industry]   \n",
       "1  12.300539  redditcomments-en                                   []   \n",
       "2  10.695252  redditcomments-en                 [Adoption, solution]   \n",
       "3  10.691054  redditcomments-en                    [abortion, legal]   \n",
       "4  10.326312  redditcomments-en                   [private decision]   \n",
       "\n",
       "           aspect_pos  moral_frame  \n",
       "0  [[7, 8], [15, 16]]           {}  \n",
       "1                  []           {}  \n",
       "2    [[0, 0], [9, 9]]           {}  \n",
       "3    [[2, 2], [4, 4]]  {authority}  \n",
       "4          [[13, 14]]           {}  "
      ]
     },
     "execution_count": 66,
     "metadata": {},
     "output_type": "execute_result"
    }
   ],
   "source": [
    "df.head()"
   ]
  },
  {
   "cell_type": "code",
   "execution_count": 56,
   "id": "abbc7384-2800-46f5-b949-b7b1754508f9",
   "metadata": {},
   "outputs": [],
   "source": [
    "df.to_pickle(data_path + '/aspect-controlled-argument-generation/reddit_data_with_morals.pkl')"
   ]
  },
  {
   "cell_type": "code",
   "execution_count": 13,
   "id": "03abc87a-f53a-473c-97b5-2cd29ed89d39",
   "metadata": {},
   "outputs": [],
   "source": [
    "df = pd.read_pickle(data_path + '/aspect-controlled-argument-generation/reddit_data_with_morals.pkl')"
   ]
  },
  {
   "cell_type": "code",
   "execution_count": 14,
   "id": "b259233a-b5e8-40a6-8236-f2c149971b22",
   "metadata": {
    "scrolled": true,
    "tags": []
   },
   "outputs": [
    {
     "data": {
      "text/html": [
       "<div>\n",
       "<style scoped>\n",
       "    .dataframe tbody tr th:only-of-type {\n",
       "        vertical-align: middle;\n",
       "    }\n",
       "\n",
       "    .dataframe tbody tr th {\n",
       "        vertical-align: top;\n",
       "    }\n",
       "\n",
       "    .dataframe thead th {\n",
       "        text-align: right;\n",
       "    }\n",
       "</style>\n",
       "<table border=\"1\" class=\"dataframe\">\n",
       "  <thead>\n",
       "    <tr style=\"text-align: right;\">\n",
       "      <th></th>\n",
       "      <th>id</th>\n",
       "      <th>doc_sent_id</th>\n",
       "      <th>stance</th>\n",
       "      <th>sent</th>\n",
       "      <th>doc_id</th>\n",
       "      <th>doc_metadata_id</th>\n",
       "      <th>doc_url</th>\n",
       "      <th>doc_score</th>\n",
       "      <th>index</th>\n",
       "      <th>aspect_string</th>\n",
       "      <th>aspect_pos</th>\n",
       "      <th>moral_frame</th>\n",
       "      <th>topic</th>\n",
       "    </tr>\n",
       "  </thead>\n",
       "  <tbody>\n",
       "    <tr>\n",
       "      <th>3</th>\n",
       "      <td>3</td>\n",
       "      <td>0</td>\n",
       "      <td>Argument_for</td>\n",
       "      <td>And yet abortion is legal in this country .</td>\n",
       "      <td>--EXzWsBJVi6mb4Yx55U</td>\n",
       "      <td>d5utytm</td>\n",
       "      <td>https://www.reddit.com//comments/4v1he8//d5utytm</td>\n",
       "      <td>10.691054</td>\n",
       "      <td>redditcomments-en</td>\n",
       "      <td>[abortion, legal]</td>\n",
       "      <td>[[2, 2], [4, 4]]</td>\n",
       "      <td>authority</td>\n",
       "      <td>abortion</td>\n",
       "    </tr>\n",
       "    <tr>\n",
       "      <th>5</th>\n",
       "      <td>5</td>\n",
       "      <td>0</td>\n",
       "      <td>Argument_against</td>\n",
       "      <td>My favorite is calling the restriction on abortions a human rights crisis .</td>\n",
       "      <td>--N-1GsBJVi6mb4YFmkU</td>\n",
       "      <td>c5yo16l</td>\n",
       "      <td>https://www.reddit.com//comments/ytay3//c5yo16l</td>\n",
       "      <td>9.626792</td>\n",
       "      <td>redditcomments-en</td>\n",
       "      <td>[human rights crisis]</td>\n",
       "      <td>[[9, 11]]</td>\n",
       "      <td>fairness</td>\n",
       "      <td>abortion</td>\n",
       "    </tr>\n",
       "    <tr>\n",
       "      <th>6</th>\n",
       "      <td>6</td>\n",
       "      <td>1</td>\n",
       "      <td>Argument_for</td>\n",
       "      <td>Also , I believe in England and Wales they have about 79 abortions performed per year to save the life of the mother .</td>\n",
       "      <td>--N-1GsBJVi6mb4YFmkU</td>\n",
       "      <td>c5yo16l</td>\n",
       "      <td>https://www.reddit.com//comments/ytay3//c5yo16l</td>\n",
       "      <td>9.626792</td>\n",
       "      <td>redditcomments-en</td>\n",
       "      <td>[save the life of the mother]</td>\n",
       "      <td>[[17, 22]]</td>\n",
       "      <td>authority</td>\n",
       "      <td>abortion</td>\n",
       "    </tr>\n",
       "    <tr>\n",
       "      <th>7</th>\n",
       "      <td>7</td>\n",
       "      <td>3</td>\n",
       "      <td>Argument_for</td>\n",
       "      <td>( Besides , life of the mother is almost always an acceptable reason for abortion , as long as aborting the baby is a secondary effect . )</td>\n",
       "      <td>--N-1GsBJVi6mb4YFmkU</td>\n",
       "      <td>c5yo16l</td>\n",
       "      <td>https://www.reddit.com//comments/ytay3//c5yo16l</td>\n",
       "      <td>9.626792</td>\n",
       "      <td>redditcomments-en</td>\n",
       "      <td>[life of the mother, acceptable reason, secondary]</td>\n",
       "      <td>[[3, 6], [11, 12], [24, 24]]</td>\n",
       "      <td>authority</td>\n",
       "      <td>abortion</td>\n",
       "    </tr>\n",
       "    <tr>\n",
       "      <th>14</th>\n",
       "      <td>14</td>\n",
       "      <td>0</td>\n",
       "      <td>Argument_against</td>\n",
       "      <td>&amp; gt ; But abortion is a sin ... but this story is made up ... .</td>\n",
       "      <td>--VSEGwBJVi6mb4YmjP2</td>\n",
       "      <td>cy9cylr</td>\n",
       "      <td>https://www.reddit.com//comments/3xz757//cy9cylr</td>\n",
       "      <td>10.120193</td>\n",
       "      <td>redditcomments-en</td>\n",
       "      <td>[abortion, sin]</td>\n",
       "      <td>[[4, 4], [7, 7]]</td>\n",
       "      <td>purity</td>\n",
       "      <td>abortion</td>\n",
       "    </tr>\n",
       "  </tbody>\n",
       "</table>\n",
       "</div>"
      ],
      "text/plain": [
       "    id  doc_sent_id            stance  \\\n",
       "3    3            0      Argument_for   \n",
       "5    5            0  Argument_against   \n",
       "6    6            1      Argument_for   \n",
       "7    7            3      Argument_for   \n",
       "14  14            0  Argument_against   \n",
       "\n",
       "                                                                                                                                          sent  \\\n",
       "3                                                                                                  And yet abortion is legal in this country .   \n",
       "5                                                                  My favorite is calling the restriction on abortions a human rights crisis .   \n",
       "6                       Also , I believe in England and Wales they have about 79 abortions performed per year to save the life of the mother .   \n",
       "7   ( Besides , life of the mother is almost always an acceptable reason for abortion , as long as aborting the baby is a secondary effect . )   \n",
       "14                                                                            & gt ; But abortion is a sin ... but this story is made up ... .   \n",
       "\n",
       "                  doc_id doc_metadata_id  \\\n",
       "3   --EXzWsBJVi6mb4Yx55U         d5utytm   \n",
       "5   --N-1GsBJVi6mb4YFmkU         c5yo16l   \n",
       "6   --N-1GsBJVi6mb4YFmkU         c5yo16l   \n",
       "7   --N-1GsBJVi6mb4YFmkU         c5yo16l   \n",
       "14  --VSEGwBJVi6mb4YmjP2         cy9cylr   \n",
       "\n",
       "                                             doc_url  doc_score  \\\n",
       "3   https://www.reddit.com//comments/4v1he8//d5utytm  10.691054   \n",
       "5    https://www.reddit.com//comments/ytay3//c5yo16l   9.626792   \n",
       "6    https://www.reddit.com//comments/ytay3//c5yo16l   9.626792   \n",
       "7    https://www.reddit.com//comments/ytay3//c5yo16l   9.626792   \n",
       "14  https://www.reddit.com//comments/3xz757//cy9cylr  10.120193   \n",
       "\n",
       "                index                                       aspect_string  \\\n",
       "3   redditcomments-en                                   [abortion, legal]   \n",
       "5   redditcomments-en                               [human rights crisis]   \n",
       "6   redditcomments-en                       [save the life of the mother]   \n",
       "7   redditcomments-en  [life of the mother, acceptable reason, secondary]   \n",
       "14  redditcomments-en                                     [abortion, sin]   \n",
       "\n",
       "                      aspect_pos moral_frame     topic  \n",
       "3               [[2, 2], [4, 4]]   authority  abortion  \n",
       "5                      [[9, 11]]    fairness  abortion  \n",
       "6                     [[17, 22]]   authority  abortion  \n",
       "7   [[3, 6], [11, 12], [24, 24]]   authority  abortion  \n",
       "14              [[4, 4], [7, 7]]      purity  abortion  "
      ]
     },
     "execution_count": 14,
     "metadata": {},
     "output_type": "execute_result"
    }
   ],
   "source": [
    "df.head()"
   ]
  },
  {
   "cell_type": "code",
   "execution_count": 15,
   "id": "2cb23fec-7425-4b6b-ab75-08c7a27e6374",
   "metadata": {},
   "outputs": [
    {
     "data": {
      "text/plain": [
       "id                 910279\n",
       "doc_sent_id        910279\n",
       "stance             910279\n",
       "sent               910279\n",
       "doc_id             910279\n",
       "doc_metadata_id    910279\n",
       "doc_url            910279\n",
       "doc_score          910279\n",
       "index              910279\n",
       "aspect_string      910279\n",
       "aspect_pos         910279\n",
       "moral_frame        910279\n",
       "topic              910279\n",
       "dtype: int64"
      ]
     },
     "execution_count": 15,
     "metadata": {},
     "output_type": "execute_result"
    }
   ],
   "source": [
    "df[df.moral_frame.str.len() > 0].count()"
   ]
  },
  {
   "cell_type": "code",
   "execution_count": 19,
   "id": "bb9001d4-57e9-4699-9d65-2055fa407236",
   "metadata": {
    "scrolled": true,
    "tags": []
   },
   "outputs": [
    {
     "ename": "TypeError",
     "evalue": "unhashable type: 'set'",
     "output_type": "error",
     "traceback": [
      "\u001b[0;31m---------------------------------------------------------------------\u001b[0m",
      "\u001b[0;31mTypeError\u001b[0m                           Traceback (most recent call last)",
      "\u001b[0;32mpandas/_libs/hashtable_class_helper.pxi\u001b[0m in \u001b[0;36mpandas._libs.hashtable.PyObjectHashTable.map_locations\u001b[0;34m()\u001b[0m\n",
      "\u001b[0;31mTypeError\u001b[0m: unhashable type: 'set'"
     ]
    },
    {
     "name": "stderr",
     "output_type": "stream",
     "text": [
      "Exception ignored in: 'pandas._libs.index.IndexEngine._call_map_locations'\n",
      "Traceback (most recent call last):\n",
      "  File \"pandas/_libs/hashtable_class_helper.pxi\", line 1709, in pandas._libs.hashtable.PyObjectHashTable.map_locations\n",
      "TypeError: unhashable type: 'set'\n"
     ]
    },
    {
     "data": {
      "text/plain": [
       "{care}         368604\n",
       "{authority}    350808\n",
       "{purity}        78311\n",
       "{fairness}      66161\n",
       "{loyalty}       46395\n",
       "Name: moral_frame, dtype: int64"
      ]
     },
     "execution_count": 19,
     "metadata": {},
     "output_type": "execute_result"
    }
   ],
   "source": [
    "df[df.moral_frame.str.len() == 1].moral_frame.value_counts()"
   ]
  },
  {
   "cell_type": "code",
   "execution_count": 10,
   "id": "1c1ede76-ce2b-4c51-900e-00d69d46eaba",
   "metadata": {},
   "outputs": [],
   "source": [
    "df = df[df.moral_frame.str.len() == 1]\n",
    "df.moral_frame = df.moral_frame.apply(lambda x: x.pop())"
   ]
  },
  {
   "cell_type": "code",
   "execution_count": 16,
   "id": "87a09728-a0bd-4e3e-bcba-ef0a8d271bbe",
   "metadata": {},
   "outputs": [
    {
     "data": {
      "text/plain": [
       "care         368604\n",
       "authority    350808\n",
       "purity        78311\n",
       "fairness      66161\n",
       "loyalty       46395\n",
       "Name: moral_frame, dtype: int64"
      ]
     },
     "execution_count": 16,
     "metadata": {},
     "output_type": "execute_result"
    }
   ],
   "source": [
    "df.moral_frame.value_counts()"
   ]
  },
  {
   "cell_type": "code",
   "execution_count": 63,
   "id": "13fb9916-2ca4-4e0d-865e-5c8c9cb19b98",
   "metadata": {},
   "outputs": [],
   "source": [
    "def sampling_k_elements(group, k=46395):\n",
    "    if len(group) < k:\n",
    "        return group\n",
    "    return group.sample(k)\n",
    "\n",
    "balance_df = df.groupby('moral_frame').apply(sampling_k_elements).reset_index(drop=True)"
   ]
  },
  {
   "cell_type": "code",
   "execution_count": 64,
   "id": "3316d9f2-0e15-4211-9346-d99d57e3be01",
   "metadata": {
    "scrolled": true,
    "tags": []
   },
   "outputs": [
    {
     "data": {
      "text/html": [
       "<div>\n",
       "<style scoped>\n",
       "    .dataframe tbody tr th:only-of-type {\n",
       "        vertical-align: middle;\n",
       "    }\n",
       "\n",
       "    .dataframe tbody tr th {\n",
       "        vertical-align: top;\n",
       "    }\n",
       "\n",
       "    .dataframe thead th {\n",
       "        text-align: right;\n",
       "    }\n",
       "</style>\n",
       "<table border=\"1\" class=\"dataframe\">\n",
       "  <thead>\n",
       "    <tr style=\"text-align: right;\">\n",
       "      <th></th>\n",
       "      <th>id</th>\n",
       "      <th>doc_sent_id</th>\n",
       "      <th>stance</th>\n",
       "      <th>sent</th>\n",
       "      <th>doc_id</th>\n",
       "      <th>doc_metadata_id</th>\n",
       "      <th>doc_url</th>\n",
       "      <th>doc_score</th>\n",
       "      <th>index</th>\n",
       "      <th>aspect_string</th>\n",
       "      <th>aspect_pos</th>\n",
       "      <th>moral_frame</th>\n",
       "      <th>topic</th>\n",
       "    </tr>\n",
       "  </thead>\n",
       "  <tbody>\n",
       "    <tr>\n",
       "      <th>0</th>\n",
       "      <td>65266</td>\n",
       "      <td>2</td>\n",
       "      <td>Argument_against</td>\n",
       "      <td>It does n't help that you ca n't advocate legalization to the people who need to understand about it without sounding like a huge stoner , either .</td>\n",
       "      <td>8PjpJGwBJVi6mb4Y-VX7</td>\n",
       "      <td>c06v3xf</td>\n",
       "      <td>https://www.reddit.com//comments/7jqbd//c06v3xf</td>\n",
       "      <td>34.614014</td>\n",
       "      <td>redditcomments-en</td>\n",
       "      <td>[advocate legalization]</td>\n",
       "      <td>[[8, 9]]</td>\n",
       "      <td>authority</td>\n",
       "      <td>marijuana_legalization</td>\n",
       "    </tr>\n",
       "    <tr>\n",
       "      <th>1</th>\n",
       "      <td>145785</td>\n",
       "      <td>1</td>\n",
       "      <td>Argument_against</td>\n",
       "      <td>I 'm mocking the American gun nuts who point to the UK and say that gun control laws have no effect .</td>\n",
       "      <td>EsY3EmwBJVi6mb4YMyiK</td>\n",
       "      <td>ch0y705</td>\n",
       "      <td>https://www.reddit.com//comments/23vcf7//ch0y705</td>\n",
       "      <td>28.958755</td>\n",
       "      <td>redditcomments-en</td>\n",
       "      <td>[gun control laws]</td>\n",
       "      <td>[[15, 17]]</td>\n",
       "      <td>authority</td>\n",
       "      <td>gun_control</td>\n",
       "    </tr>\n",
       "    <tr>\n",
       "      <th>2</th>\n",
       "      <td>122467</td>\n",
       "      <td>0</td>\n",
       "      <td>Argument_against</td>\n",
       "      <td>Seems a little silly when you could probably just order hundreds of them or clones thereof from China .</td>\n",
       "      <td>soePDWwBJVi6mb4Y9_TP</td>\n",
       "      <td>d9ttl52</td>\n",
       "      <td>https://www.reddit.com//comments/5c2f6d//d9ttl52</td>\n",
       "      <td>8.481560</td>\n",
       "      <td>redditcomments-en</td>\n",
       "      <td>[order, clones]</td>\n",
       "      <td>[[9, 9], [14, 14]]</td>\n",
       "      <td>authority</td>\n",
       "      <td>cloning</td>\n",
       "    </tr>\n",
       "    <tr>\n",
       "      <th>3</th>\n",
       "      <td>165829</td>\n",
       "      <td>0</td>\n",
       "      <td>Argument_against</td>\n",
       "      <td>I think it 's insane that religion still has so much control in the way we view things , especially when it comes to abortion and marriage ( the gay marriage debate for example ) I 've never read the Bible but I 'm sure it does n't say anywhere that you ca n't abort a child ( correct me if I 'm wrong ) and if it did , in the 21st century we should n't be letting that book dictate personal choice ...</td>\n",
       "      <td>BSsy8GsBJVi6mb4YYSI_</td>\n",
       "      <td>dr17riu</td>\n",
       "      <td>https://www.reddit.com/r/worldnews/comments/7iqscd/salvadoran_woman_has_been_jailed_for_decade_since/dr17riu/</td>\n",
       "      <td>7.323644</td>\n",
       "      <td>redditcomments-en</td>\n",
       "      <td>[religion, control, dictate, personal choice]</td>\n",
       "      <td>[[6, 6], [11, 11], [81, 81], [82, 83]]</td>\n",
       "      <td>authority</td>\n",
       "      <td>abortion</td>\n",
       "    </tr>\n",
       "    <tr>\n",
       "      <th>4</th>\n",
       "      <td>261204</td>\n",
       "      <td>1</td>\n",
       "      <td>Argument_against</td>\n",
       "      <td>Not only are they making it a crime to cross state lines for an abortion - which is a fundamental infringement on a person 's right to travel - it 's also a crime to help a person cross state lines .</td>\n",
       "      <td>Ud3WUG0BJVi6mb4YDjaF</td>\n",
       "      <td>eonaxsd</td>\n",
       "      <td>https://www.reddit.com/r/Feminism/comments/bshhyb/interesting_how_some_constitutional_rights_are/eonaxsd/</td>\n",
       "      <td>7.329508</td>\n",
       "      <td>redditcomments-en</td>\n",
       "      <td>[crime, cross state lines, fundamental infringement, right to travel, crime, state lines]</td>\n",
       "      <td>[[7, 7], [9, 11], [19, 20], [25, 27], [33, 33], [39, 40]]</td>\n",
       "      <td>authority</td>\n",
       "      <td>abortion</td>\n",
       "    </tr>\n",
       "  </tbody>\n",
       "</table>\n",
       "</div>"
      ],
      "text/plain": [
       "       id  doc_sent_id            stance  \\\n",
       "0   65266            2  Argument_against   \n",
       "1  145785            1  Argument_against   \n",
       "2  122467            0  Argument_against   \n",
       "3  165829            0  Argument_against   \n",
       "4  261204            1  Argument_against   \n",
       "\n",
       "                                                                                                                                                                                                                                                                                                                                                                                                                 sent  \\\n",
       "0                                                                                                                                                                                                                                                                 It does n't help that you ca n't advocate legalization to the people who need to understand about it without sounding like a huge stoner , either .   \n",
       "1                                                                                                                                                                                                                                                                                                               I 'm mocking the American gun nuts who point to the UK and say that gun control laws have no effect .   \n",
       "2                                                                                                                                                                                                                                                                                                             Seems a little silly when you could probably just order hundreds of them or clones thereof from China .   \n",
       "3  I think it 's insane that religion still has so much control in the way we view things , especially when it comes to abortion and marriage ( the gay marriage debate for example ) I 've never read the Bible but I 'm sure it does n't say anywhere that you ca n't abort a child ( correct me if I 'm wrong ) and if it did , in the 21st century we should n't be letting that book dictate personal choice ...   \n",
       "4                                                                                                                                                                                                             Not only are they making it a crime to cross state lines for an abortion - which is a fundamental infringement on a person 's right to travel - it 's also a crime to help a person cross state lines .   \n",
       "\n",
       "                 doc_id doc_metadata_id  \\\n",
       "0  8PjpJGwBJVi6mb4Y-VX7         c06v3xf   \n",
       "1  EsY3EmwBJVi6mb4YMyiK         ch0y705   \n",
       "2  soePDWwBJVi6mb4Y9_TP         d9ttl52   \n",
       "3  BSsy8GsBJVi6mb4YYSI_         dr17riu   \n",
       "4  Ud3WUG0BJVi6mb4YDjaF         eonaxsd   \n",
       "\n",
       "                                                                                                         doc_url  \\\n",
       "0                                                                https://www.reddit.com//comments/7jqbd//c06v3xf   \n",
       "1                                                               https://www.reddit.com//comments/23vcf7//ch0y705   \n",
       "2                                                               https://www.reddit.com//comments/5c2f6d//d9ttl52   \n",
       "3  https://www.reddit.com/r/worldnews/comments/7iqscd/salvadoran_woman_has_been_jailed_for_decade_since/dr17riu/   \n",
       "4      https://www.reddit.com/r/Feminism/comments/bshhyb/interesting_how_some_constitutional_rights_are/eonaxsd/   \n",
       "\n",
       "   doc_score              index  \\\n",
       "0  34.614014  redditcomments-en   \n",
       "1  28.958755  redditcomments-en   \n",
       "2   8.481560  redditcomments-en   \n",
       "3   7.323644  redditcomments-en   \n",
       "4   7.329508  redditcomments-en   \n",
       "\n",
       "                                                                               aspect_string  \\\n",
       "0                                                                    [advocate legalization]   \n",
       "1                                                                         [gun control laws]   \n",
       "2                                                                            [order, clones]   \n",
       "3                                              [religion, control, dictate, personal choice]   \n",
       "4  [crime, cross state lines, fundamental infringement, right to travel, crime, state lines]   \n",
       "\n",
       "                                                  aspect_pos moral_frame  \\\n",
       "0                                                   [[8, 9]]   authority   \n",
       "1                                                 [[15, 17]]   authority   \n",
       "2                                         [[9, 9], [14, 14]]   authority   \n",
       "3                     [[6, 6], [11, 11], [81, 81], [82, 83]]   authority   \n",
       "4  [[7, 7], [9, 11], [19, 20], [25, 27], [33, 33], [39, 40]]   authority   \n",
       "\n",
       "                    topic  \n",
       "0  marijuana_legalization  \n",
       "1             gun_control  \n",
       "2                 cloning  \n",
       "3                abortion  \n",
       "4                abortion  "
      ]
     },
     "execution_count": 64,
     "metadata": {},
     "output_type": "execute_result"
    }
   ],
   "source": [
    "balance_df.head()"
   ]
  },
  {
   "cell_type": "code",
   "execution_count": 67,
   "id": "b96e5b1a-846c-4229-87ba-7d8293f42088",
   "metadata": {},
   "outputs": [
    {
     "data": {
      "text/plain": [
       "fairness     46395\n",
       "purity       46395\n",
       "care         46395\n",
       "loyalty      46395\n",
       "authority    46395\n",
       "Name: moral_frame, dtype: int64"
      ]
     },
     "execution_count": 67,
     "metadata": {},
     "output_type": "execute_result"
    }
   ],
   "source": [
    "balance_df.moral_frame.value_counts()"
   ]
  },
  {
   "cell_type": "code",
   "execution_count": 2,
   "id": "adda2c91-3ae6-493c-99ee-691f07ef17a5",
   "metadata": {},
   "outputs": [
    {
     "ename": "NameError",
     "evalue": "name 'balance_df' is not defined",
     "output_type": "error",
     "traceback": [
      "\u001b[0;31m---------------------------------------------------------------------\u001b[0m",
      "\u001b[0;31mNameError\u001b[0m                           Traceback (most recent call last)",
      "\u001b[0;32m<ipython-input-2-48d5da1274bf>\u001b[0m in \u001b[0;36m<module>\u001b[0;34m\u001b[0m\n\u001b[0;32m----> 1\u001b[0;31m \u001b[0mlen\u001b[0m\u001b[0;34m(\u001b[0m\u001b[0mbalance_df\u001b[0m\u001b[0;34m)\u001b[0m\u001b[0;34m\u001b[0m\u001b[0;34m\u001b[0m\u001b[0m\n\u001b[0m",
      "\u001b[0;31mNameError\u001b[0m: name 'balance_df' is not defined"
     ]
    }
   ],
   "source": [
    "len(balance_df)"
   ]
  },
  {
   "cell_type": "code",
   "execution_count": 68,
   "id": "f7465dbc-0335-4593-b63a-ebe872808a06",
   "metadata": {},
   "outputs": [
    {
     "data": {
      "text/plain": [
       "gun_control               44953\n",
       "death_penalty             35502\n",
       "marijuana_legalization    33254\n",
       "minimum_wage              32238\n",
       "abortion                  27411\n",
       "nuclear_energy            26274\n",
       "cloning                   16520\n",
       "school_uniforms           15823\n",
       "Name: topic, dtype: int64"
      ]
     },
     "execution_count": 68,
     "metadata": {},
     "output_type": "execute_result"
    }
   ],
   "source": [
    "balance_df.topic.value_counts()"
   ]
  },
  {
   "cell_type": "code",
   "execution_count": 69,
   "id": "e3661513-9187-498e-b1ad-0ebeac596fd8",
   "metadata": {},
   "outputs": [],
   "source": [
    "train_df = balance_df[balance_df.topic.isin(['gun_control', 'marijuana_legalization', 'abortion', 'nuclear_energy', 'death_penalty', 'minimum_wage'])]\n",
    "test_df  = balance_df[balance_df.topic.isin(['cloning', 'school_uniforms'])]"
   ]
  },
  {
   "cell_type": "code",
   "execution_count": 70,
   "id": "acebd219-7d55-4af5-842d-4b4b752608a4",
   "metadata": {},
   "outputs": [],
   "source": [
    "train_df.to_pickle(data_path + '/aspect-controlled-argument-generation/reddit_data_with_morals_train.pkl')\n",
    "test_df.to_pickle(data_path + '/aspect-controlled-argument-generation/reddit_data_with_morals_test.pkl')"
   ]
  }
 ],
 "metadata": {
  "kernelspec": {
   "display_name": "Python 3",
   "language": "python",
   "name": "python3"
  },
  "language_info": {
   "codemirror_mode": {
    "name": "ipython",
    "version": 3
   },
   "file_extension": ".py",
   "mimetype": "text/x-python",
   "name": "python",
   "nbconvert_exporter": "python",
   "pygments_lexer": "ipython3",
   "version": "3.6.9"
  }
 },
 "nbformat": 4,
 "nbformat_minor": 5
}
