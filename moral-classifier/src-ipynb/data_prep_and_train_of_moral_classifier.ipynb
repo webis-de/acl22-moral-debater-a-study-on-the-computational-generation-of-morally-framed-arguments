{
 "cells": [
  {
   "cell_type": "code",
   "execution_count": 1,
   "metadata": {},
   "outputs": [],
   "source": [
    "import pandas as pd\n",
    "from datasets import Dataset\n",
    "from sklearn.model_selection import GroupShuffleSplit, train_test_split\n",
    "pd.set_option('display.max_colwidth', None)"
   ]
  },
  {
   "cell_type": "code",
   "execution_count": 2,
   "metadata": {},
   "outputs": [],
   "source": [
    "moral_aspects_df = pd.read_csv('/workspace/ceph_data/moral-based-argumentation/moral-frames/top_aspects.csv')\n",
    "moral_aspects_df = moral_aspects_df[moral_aspects_df.moral != '-']"
   ]
  },
  {
   "cell_type": "code",
   "execution_count": 3,
   "metadata": {},
   "outputs": [
    {
     "data": {
      "text/html": [
       "<div>\n",
       "<style scoped>\n",
       "    .dataframe tbody tr th:only-of-type {\n",
       "        vertical-align: middle;\n",
       "    }\n",
       "\n",
       "    .dataframe tbody tr th {\n",
       "        vertical-align: top;\n",
       "    }\n",
       "\n",
       "    .dataframe thead th {\n",
       "        text-align: right;\n",
       "    }\n",
       "</style>\n",
       "<table border=\"1\" class=\"dataframe\">\n",
       "  <thead>\n",
       "    <tr style=\"text-align: right;\">\n",
       "      <th></th>\n",
       "      <th>aspect</th>\n",
       "      <th>moral</th>\n",
       "    </tr>\n",
       "  </thead>\n",
       "  <tbody>\n",
       "    <tr>\n",
       "      <th>4</th>\n",
       "      <td>protect</td>\n",
       "      <td>care</td>\n",
       "    </tr>\n",
       "    <tr>\n",
       "      <th>5</th>\n",
       "      <td>control</td>\n",
       "      <td>authority</td>\n",
       "    </tr>\n",
       "    <tr>\n",
       "      <th>6</th>\n",
       "      <td>safe</td>\n",
       "      <td>care</td>\n",
       "    </tr>\n",
       "    <tr>\n",
       "      <th>8</th>\n",
       "      <td>justice</td>\n",
       "      <td>authority</td>\n",
       "    </tr>\n",
       "    <tr>\n",
       "      <th>9</th>\n",
       "      <td>safety</td>\n",
       "      <td>care</td>\n",
       "    </tr>\n",
       "  </tbody>\n",
       "</table>\n",
       "</div>"
      ],
      "text/plain": [
       "    aspect      moral\n",
       "4  protect       care\n",
       "5  control  authority\n",
       "6     safe       care\n",
       "8  justice  authority\n",
       "9   safety       care"
      ]
     },
     "execution_count": 3,
     "metadata": {},
     "output_type": "execute_result"
    }
   ],
   "source": [
    "moral_aspects_df.head()"
   ]
  },
  {
   "cell_type": "code",
   "execution_count": 4,
   "metadata": {},
   "outputs": [],
   "source": [
    "moral_aspects_dict = pd.Series(moral_aspects_df.moral.values,index=moral_aspects_df.aspect).to_dict()"
   ]
  },
  {
   "cell_type": "code",
   "execution_count": 5,
   "metadata": {},
   "outputs": [],
   "source": [
    "df = pd.read_csv('/workspace/ceph_data/moral-based-argumentation/moral-frames/argsme_moral_aspects_with_morals_top_500_aspects.csv')\n",
    "df['moral_frame'] = df.aspects.apply(lambda x: moral_aspects_dict[x] if x in moral_aspects_dict else 'None')\n",
    "df = df[df.moral_frame != 'None']\n",
    "df = df[['moral_frame', 'premise','aspects']]\n",
    "df = df.rename(columns={'moral_frame': 'label', 'premise': 'full_sentence'})"
   ]
  },
  {
   "cell_type": "code",
   "execution_count": 6,
   "metadata": {},
   "outputs": [
    {
     "data": {
      "text/html": [
       "<div>\n",
       "<style scoped>\n",
       "    .dataframe tbody tr th:only-of-type {\n",
       "        vertical-align: middle;\n",
       "    }\n",
       "\n",
       "    .dataframe tbody tr th {\n",
       "        vertical-align: top;\n",
       "    }\n",
       "\n",
       "    .dataframe thead th {\n",
       "        text-align: right;\n",
       "    }\n",
       "</style>\n",
       "<table border=\"1\" class=\"dataframe\">\n",
       "  <thead>\n",
       "    <tr style=\"text-align: right;\">\n",
       "      <th></th>\n",
       "      <th>label</th>\n",
       "      <th>full_sentence</th>\n",
       "      <th>aspects</th>\n",
       "    </tr>\n",
       "  </thead>\n",
       "  <tbody>\n",
       "    <tr>\n",
       "      <th>0</th>\n",
       "      <td>authority</td>\n",
       "      <td>Liszt was one of the first musicians to believe that a genius had the obligation to give back to nature what nature has given to him.</td>\n",
       "      <td>obligation</td>\n",
       "    </tr>\n",
       "    <tr>\n",
       "      <th>1</th>\n",
       "      <td>authority</td>\n",
       "      <td>Also I've said that Liszt believed that a genius had the obligation to give back to nature what nature has given to him, and that was not very accurate.</td>\n",
       "      <td>obligation</td>\n",
       "    </tr>\n",
       "    <tr>\n",
       "      <th>2</th>\n",
       "      <td>care</td>\n",
       "      <td>Things black people in our society are oppressed, taunted, and even killed over.</td>\n",
       "      <td>oppressed</td>\n",
       "    </tr>\n",
       "    <tr>\n",
       "      <th>3</th>\n",
       "      <td>care</td>\n",
       "      <td>But hate crimes are not their own specific category of crime, they're more of an identification to keep minorities and the people who could be attacked safe.</td>\n",
       "      <td>safe</td>\n",
       "    </tr>\n",
       "    <tr>\n",
       "      <th>5</th>\n",
       "      <td>care</td>\n",
       "      <td>For that information that is protected via copyright, the property owner of that information has every right not to have their intellectual property stolen from them via downloading.</td>\n",
       "      <td>protected</td>\n",
       "    </tr>\n",
       "  </tbody>\n",
       "</table>\n",
       "</div>"
      ],
      "text/plain": [
       "       label  \\\n",
       "0  authority   \n",
       "1  authority   \n",
       "2       care   \n",
       "3       care   \n",
       "5       care   \n",
       "\n",
       "                                                                                                                                                                            full_sentence  \\\n",
       "0                                                   Liszt was one of the first musicians to believe that a genius had the obligation to give back to nature what nature has given to him.   \n",
       "1                                Also I've said that Liszt believed that a genius had the obligation to give back to nature what nature has given to him, and that was not very accurate.   \n",
       "2                                                                                                        Things black people in our society are oppressed, taunted, and even killed over.   \n",
       "3                           But hate crimes are not their own specific category of crime, they're more of an identification to keep minorities and the people who could be attacked safe.   \n",
       "5  For that information that is protected via copyright, the property owner of that information has every right not to have their intellectual property stolen from them via downloading.   \n",
       "\n",
       "      aspects  \n",
       "0  obligation  \n",
       "1  obligation  \n",
       "2   oppressed  \n",
       "3        safe  \n",
       "5   protected  "
      ]
     },
     "execution_count": 6,
     "metadata": {},
     "output_type": "execute_result"
    }
   ],
   "source": [
    "df.head()"
   ]
  },
  {
   "cell_type": "code",
   "execution_count": 7,
   "metadata": {},
   "outputs": [
    {
     "data": {
      "text/plain": [
       "care         3391\n",
       "authority    2305\n",
       "fairness     1680\n",
       "loyalty      1371\n",
       "purity        765\n",
       "Name: label, dtype: int64"
      ]
     },
     "execution_count": 7,
     "metadata": {},
     "output_type": "execute_result"
    }
   ],
   "source": [
    "df.label.value_counts()"
   ]
  },
  {
   "cell_type": "code",
   "execution_count": 8,
   "metadata": {},
   "outputs": [],
   "source": [
    "df.to_csv('/workspace/ceph_data/moral-based-argumentation/moral-frames/argsme_moral_aspects_with_morals_top_500_aspects_processed.csv')"
   ]
  },
  {
   "cell_type": "code",
   "execution_count": 9,
   "metadata": {},
   "outputs": [],
   "source": [
    "gss = GroupShuffleSplit(n_splits=1, train_size=.9, random_state=42)\n",
    "\n",
    "for train_idx, test_idx in gss.split(df['full_sentence'], df['label'], df['aspects']):\n",
    "    df_train1 = df.iloc[train_idx]\n",
    "    df_val1 = df.iloc[test_idx]"
   ]
  },
  {
   "cell_type": "code",
   "execution_count": 10,
   "metadata": {},
   "outputs": [
    {
     "name": "stderr",
     "output_type": "stream",
     "text": [
      "/usr/local/lib/python3.6/dist-packages/ipykernel_launcher.py:1: SettingWithCopyWarning: \n",
      "A value is trying to be set on a copy of a slice from a DataFrame.\n",
      "Try using .loc[row_indexer,col_indexer] = value instead\n",
      "\n",
      "See the caveats in the documentation: https://pandas.pydata.org/pandas-docs/stable/user_guide/indexing.html#returning-a-view-versus-a-copy\n",
      "  \"\"\"Entry point for launching an IPython kernel.\n",
      "/usr/local/lib/python3.6/dist-packages/ipykernel_launcher.py:2: SettingWithCopyWarning: \n",
      "A value is trying to be set on a copy of a slice from a DataFrame.\n",
      "Try using .loc[row_indexer,col_indexer] = value instead\n",
      "\n",
      "See the caveats in the documentation: https://pandas.pydata.org/pandas-docs/stable/user_guide/indexing.html#returning-a-view-versus-a-copy\n",
      "  \n"
     ]
    }
   ],
   "source": [
    "df_train1['masked_full_sentence'] = df_train1.apply(lambda row: row['full_sentence'].replace(row['aspects'], 'UNK'), axis=1)\n",
    "df_val1['masked_full_sentence'] = df_val1.apply(lambda row: row['full_sentence'].replace(row['aspects'], 'UNK'), axis=1)\n",
    "\n",
    "df_train1[['label', 'full_sentence']].to_csv('/workspace/ceph_data/moral-based-argumentation/bert-emfd-moral-frames/train_aspects_without_emfd.csv', index=False)\n",
    "df_val1[['label', 'full_sentence']].to_csv('/workspace/ceph_data/moral-based-argumentation/bert-emfd-moral-frames/val_aspects_without_emfd.csv', index=False)\n",
    "\n",
    "df_train1[['label', 'masked_full_sentence']].rename(columns={'masked_full_sentence': 'full_sentence'}).to_csv('/workspace/ceph_data/moral-based-argumentation/bert-emfd-moral-frames/masked_train_aspects_without_emfd.csv', index=False)\n",
    "df_val1[['label', 'masked_full_sentence']].rename(columns={'masked_full_sentence': 'full_sentence'}).to_csv('/workspace/ceph_data/moral-based-argumentation/bert-emfd-moral-frames/masked_val_aspects_without_emfd.csv', index=False)"
   ]
  },
  {
   "cell_type": "markdown",
   "metadata": {},
   "source": [
    "---------"
   ]
  },
  {
   "cell_type": "markdown",
   "metadata": {},
   "source": [
    "### Data from Moral-Concepts:"
   ]
  },
  {
   "cell_type": "code",
   "execution_count": 17,
   "metadata": {},
   "outputs": [],
   "source": [
    "moral_concepts_df = pd.read_csv('/workspace/ceph_data/moral-based-argumentation/moral-frames/argsme_moral_aspects_with_morals_based_on_concepts_balanced.csv')"
   ]
  },
  {
   "cell_type": "code",
   "execution_count": 18,
   "metadata": {},
   "outputs": [
    {
     "data": {
      "text/plain": [
       "15655"
      ]
     },
     "execution_count": 18,
     "metadata": {},
     "output_type": "execute_result"
    }
   ],
   "source": [
    "len(moral_concepts_df)"
   ]
  },
  {
   "cell_type": "code",
   "execution_count": 19,
   "metadata": {},
   "outputs": [
    {
     "data": {
      "text/plain": [
       "688"
      ]
     },
     "execution_count": 19,
     "metadata": {},
     "output_type": "execute_result"
    }
   ],
   "source": [
    "moral_concepts_df.aspects.nunique()"
   ]
  },
  {
   "cell_type": "code",
   "execution_count": 20,
   "metadata": {},
   "outputs": [],
   "source": [
    "moral_concepts_df = moral_concepts_df.rename(columns={'moral_frame': 'label', 'premise': 'full_sentence'})"
   ]
  },
  {
   "cell_type": "code",
   "execution_count": 21,
   "metadata": {},
   "outputs": [
    {
     "data": {
      "text/plain": [
       "authority    3131\n",
       "fairness     3131\n",
       "purity       3131\n",
       "care         3131\n",
       "loyalty      3131\n",
       "Name: label, dtype: int64"
      ]
     },
     "execution_count": 21,
     "metadata": {},
     "output_type": "execute_result"
    }
   ],
   "source": [
    "moral_concepts_df.label.value_counts()"
   ]
  },
  {
   "cell_type": "code",
   "execution_count": 22,
   "metadata": {},
   "outputs": [],
   "source": [
    "training_aspects, test_aspects = train_test_split(moral_concepts_df.aspects.unique().tolist(), test_size=0.1)\n",
    "\n",
    "moral_concepts_df_train = moral_concepts_df[moral_concepts_df.aspects.isin(training_aspects)]\n",
    "moral_concepts_df_test = moral_concepts_df[moral_concepts_df.aspects.isin(test_aspects)]"
   ]
  },
  {
   "cell_type": "code",
   "execution_count": 23,
   "metadata": {},
   "outputs": [],
   "source": [
    "gss = GroupShuffleSplit(n_splits=1, train_size=.9, random_state=42)\n",
    "\n",
    "for train_idx, test_idx in gss.split(moral_concepts_df['full_sentence'], moral_concepts_df['label'], moral_concepts_df['aspects']):\n",
    "    moral_concepts_df_train = moral_concepts_df.iloc[train_idx]\n",
    "    moral_concepts_df_test = moral_concepts_df.iloc[test_idx]"
   ]
  },
  {
   "cell_type": "code",
   "execution_count": 24,
   "metadata": {},
   "outputs": [
    {
     "data": {
      "text/plain": [
       "fairness     3040\n",
       "loyalty      3034\n",
       "care         2871\n",
       "authority    2801\n",
       "purity       2651\n",
       "Name: label, dtype: int64"
      ]
     },
     "execution_count": 24,
     "metadata": {},
     "output_type": "execute_result"
    }
   ],
   "source": [
    "moral_concepts_df_train.label.value_counts()"
   ]
  },
  {
   "cell_type": "code",
   "execution_count": 25,
   "metadata": {},
   "outputs": [
    {
     "data": {
      "text/plain": [
       "purity       480\n",
       "authority    330\n",
       "care         260\n",
       "loyalty       97\n",
       "fairness      91\n",
       "Name: label, dtype: int64"
      ]
     },
     "execution_count": 25,
     "metadata": {},
     "output_type": "execute_result"
    }
   ],
   "source": [
    "moral_concepts_df_test.label.value_counts()"
   ]
  },
  {
   "cell_type": "code",
   "execution_count": 26,
   "metadata": {},
   "outputs": [],
   "source": [
    "moral_concepts_df_train[['label', 'full_sentence']].to_csv('/workspace/ceph_data/moral-based-argumentation/bert-emfd-moral-frames/train_moral_concetps_balanced.csv', index=False)\n",
    "moral_concepts_df_test[['label', 'full_sentence']].to_csv('/workspace/ceph_data/moral-based-argumentation/bert-emfd-moral-frames/val_moral_concept_balanced.csv', index=False)"
   ]
  },
  {
   "cell_type": "markdown",
   "metadata": {},
   "source": [
    "----------------"
   ]
  },
  {
   "cell_type": "markdown",
   "metadata": {},
   "source": [
    "### Data from Reddit:"
   ]
  },
  {
   "cell_type": "code",
   "execution_count": 12,
   "metadata": {},
   "outputs": [],
   "source": [
    "train_df = pd.read_pickle('/workspace/ceph_data/data/aspect-controlled-argument-generation/reddit_data_with_morals_train.pkl')\n",
    "test_df  = pd.read_pickle('/workspace/ceph_data/data/aspect-controlled-argument-generation/reddit_data_with_morals_test.pkl')"
   ]
  },
  {
   "cell_type": "code",
   "execution_count": 13,
   "metadata": {},
   "outputs": [
    {
     "data": {
      "text/html": [
       "<div>\n",
       "<style scoped>\n",
       "    .dataframe tbody tr th:only-of-type {\n",
       "        vertical-align: middle;\n",
       "    }\n",
       "\n",
       "    .dataframe tbody tr th {\n",
       "        vertical-align: top;\n",
       "    }\n",
       "\n",
       "    .dataframe thead th {\n",
       "        text-align: right;\n",
       "    }\n",
       "</style>\n",
       "<table border=\"1\" class=\"dataframe\">\n",
       "  <thead>\n",
       "    <tr style=\"text-align: right;\">\n",
       "      <th></th>\n",
       "      <th>id</th>\n",
       "      <th>doc_sent_id</th>\n",
       "      <th>stance</th>\n",
       "      <th>sent</th>\n",
       "      <th>doc_id</th>\n",
       "      <th>doc_metadata_id</th>\n",
       "      <th>doc_url</th>\n",
       "      <th>doc_score</th>\n",
       "      <th>index</th>\n",
       "      <th>aspect_string</th>\n",
       "      <th>aspect_pos</th>\n",
       "      <th>moral_frame</th>\n",
       "      <th>topic</th>\n",
       "    </tr>\n",
       "  </thead>\n",
       "  <tbody>\n",
       "    <tr>\n",
       "      <th>2</th>\n",
       "      <td>122467</td>\n",
       "      <td>0</td>\n",
       "      <td>Argument_against</td>\n",
       "      <td>Seems a little silly when you could probably just order hundreds of them or clones thereof from China .</td>\n",
       "      <td>soePDWwBJVi6mb4Y9_TP</td>\n",
       "      <td>d9ttl52</td>\n",
       "      <td>https://www.reddit.com//comments/5c2f6d//d9ttl52</td>\n",
       "      <td>8.481560</td>\n",
       "      <td>redditcomments-en</td>\n",
       "      <td>[order, clones]</td>\n",
       "      <td>[[9, 9], [14, 14]]</td>\n",
       "      <td>authority</td>\n",
       "      <td>cloning</td>\n",
       "    </tr>\n",
       "    <tr>\n",
       "      <th>14</th>\n",
       "      <td>303294</td>\n",
       "      <td>3</td>\n",
       "      <td>Argument_for</td>\n",
       "      <td>No trading of hacked , cloned , or illegal Pokémon .</td>\n",
       "      <td>unHZI2wBJVi6mb4Y8TKS</td>\n",
       "      <td>dip0cgd</td>\n",
       "      <td>https://www.reddit.com//comments/6gboxd//dip0cgd</td>\n",
       "      <td>12.383832</td>\n",
       "      <td>redditcomments-en</td>\n",
       "      <td>[trading, hacked, illegal Pokémon]</td>\n",
       "      <td>[[1, 1], [3, 3], [8, 9]]</td>\n",
       "      <td>authority</td>\n",
       "      <td>cloning</td>\n",
       "    </tr>\n",
       "    <tr>\n",
       "      <th>16</th>\n",
       "      <td>207617</td>\n",
       "      <td>3</td>\n",
       "      <td>Argument_for</td>\n",
       "      <td>No trading of hacked , cloned , or illegal Pokémon .</td>\n",
       "      <td>Of3cHGwBJVi6mb4YTzOG</td>\n",
       "      <td>eanbvtt</td>\n",
       "      <td>https://www.reddit.com/r/pokemontrades/comments/a17i2o/ft_x1_hl_na_x1_na_zeraora_and_x2_gk_na_codes_lf/eanbvtt/</td>\n",
       "      <td>12.383832</td>\n",
       "      <td>redditcomments-en</td>\n",
       "      <td>[trading, hacked, illegal Pokémon]</td>\n",
       "      <td>[[1, 1], [3, 3], [8, 9]]</td>\n",
       "      <td>authority</td>\n",
       "      <td>cloning</td>\n",
       "    </tr>\n",
       "    <tr>\n",
       "      <th>21</th>\n",
       "      <td>255364</td>\n",
       "      <td>1</td>\n",
       "      <td>Argument_against</td>\n",
       "      <td>Codex-Clone/Bomb/Teleport prevention and if you flashbang the controller , it instantly breaks mind control .</td>\n",
       "      <td>eI73TGwBJVi6mb4Y85F5</td>\n",
       "      <td>d695uo3</td>\n",
       "      <td>https://www.reddit.com//comments/4wp5wa//d695uo3</td>\n",
       "      <td>16.523973</td>\n",
       "      <td>redditcomments-en</td>\n",
       "      <td>[breaks, mind control]</td>\n",
       "      <td>[[11, 11], [12, 13]]</td>\n",
       "      <td>authority</td>\n",
       "      <td>cloning</td>\n",
       "    </tr>\n",
       "    <tr>\n",
       "      <th>37</th>\n",
       "      <td>234685</td>\n",
       "      <td>2</td>\n",
       "      <td>Argument_for</td>\n",
       "      <td>No trading of hacked , cloned , or illegal Pokémon .</td>\n",
       "      <td>Y5jg92sBJVi6mb4YFQzG</td>\n",
       "      <td>d9713v5</td>\n",
       "      <td>https://www.reddit.com//comments/59b8yk//d9713v5</td>\n",
       "      <td>13.763745</td>\n",
       "      <td>redditcomments-en</td>\n",
       "      <td>[trading, hacked, illegal Pokémon]</td>\n",
       "      <td>[[1, 1], [3, 3], [8, 9]]</td>\n",
       "      <td>authority</td>\n",
       "      <td>cloning</td>\n",
       "    </tr>\n",
       "  </tbody>\n",
       "</table>\n",
       "</div>"
      ],
      "text/plain": [
       "        id  doc_sent_id            stance  \\\n",
       "2   122467            0  Argument_against   \n",
       "14  303294            3      Argument_for   \n",
       "16  207617            3      Argument_for   \n",
       "21  255364            1  Argument_against   \n",
       "37  234685            2      Argument_for   \n",
       "\n",
       "                                                                                                             sent  \\\n",
       "2         Seems a little silly when you could probably just order hundreds of them or clones thereof from China .   \n",
       "14                                                           No trading of hacked , cloned , or illegal Pokémon .   \n",
       "16                                                           No trading of hacked , cloned , or illegal Pokémon .   \n",
       "21  Codex-Clone/Bomb/Teleport prevention and if you flashbang the controller , it instantly breaks mind control .   \n",
       "37                                                           No trading of hacked , cloned , or illegal Pokémon .   \n",
       "\n",
       "                  doc_id doc_metadata_id  \\\n",
       "2   soePDWwBJVi6mb4Y9_TP         d9ttl52   \n",
       "14  unHZI2wBJVi6mb4Y8TKS         dip0cgd   \n",
       "16  Of3cHGwBJVi6mb4YTzOG         eanbvtt   \n",
       "21  eI73TGwBJVi6mb4Y85F5         d695uo3   \n",
       "37  Y5jg92sBJVi6mb4YFQzG         d9713v5   \n",
       "\n",
       "                                                                                                            doc_url  \\\n",
       "2                                                                  https://www.reddit.com//comments/5c2f6d//d9ttl52   \n",
       "14                                                                 https://www.reddit.com//comments/6gboxd//dip0cgd   \n",
       "16  https://www.reddit.com/r/pokemontrades/comments/a17i2o/ft_x1_hl_na_x1_na_zeraora_and_x2_gk_na_codes_lf/eanbvtt/   \n",
       "21                                                                 https://www.reddit.com//comments/4wp5wa//d695uo3   \n",
       "37                                                                 https://www.reddit.com//comments/59b8yk//d9713v5   \n",
       "\n",
       "    doc_score              index                       aspect_string  \\\n",
       "2    8.481560  redditcomments-en                     [order, clones]   \n",
       "14  12.383832  redditcomments-en  [trading, hacked, illegal Pokémon]   \n",
       "16  12.383832  redditcomments-en  [trading, hacked, illegal Pokémon]   \n",
       "21  16.523973  redditcomments-en              [breaks, mind control]   \n",
       "37  13.763745  redditcomments-en  [trading, hacked, illegal Pokémon]   \n",
       "\n",
       "                  aspect_pos moral_frame    topic  \n",
       "2         [[9, 9], [14, 14]]   authority  cloning  \n",
       "14  [[1, 1], [3, 3], [8, 9]]   authority  cloning  \n",
       "16  [[1, 1], [3, 3], [8, 9]]   authority  cloning  \n",
       "21      [[11, 11], [12, 13]]   authority  cloning  \n",
       "37  [[1, 1], [3, 3], [8, 9]]   authority  cloning  "
      ]
     },
     "execution_count": 13,
     "metadata": {},
     "output_type": "execute_result"
    }
   ],
   "source": [
    "test_df.head()"
   ]
  },
  {
   "cell_type": "code",
   "execution_count": null,
   "metadata": {},
   "outputs": [
    {
     "name": "stdout",
     "output_type": "stream",
     "text": [
      "marijuana_legalization\n",
      "& authority\\% & care\\% & fairness\\% & loyalty\\% & purity\\%\n",
      "& 54\\% & 14\\% & 13\\% & 9\\% & 10\\%\n",
      "gun_control\n",
      "& authority\\% & care\\% & fairness\\% & loyalty\\% & purity\\%\n",
      "& 25\\% & 31\\% & 26\\% & 13\\% & 5\\%\n",
      "abortion\n",
      "& authority\\% & care\\% & fairness\\% & loyalty\\% & purity\\%\n",
      "& 21\\% & 19\\% & 28\\% & 14\\% & 17\\%\n",
      "death_penalty\n",
      "& authority\\% & care\\% & fairness\\% & loyalty\\% & purity\\%\n",
      "& 7\\% & 13\\% & 22\\% & 21\\% & 36\\%\n",
      "minimum_wage\n",
      "& authority\\% & care\\% & fairness\\% & loyalty\\% & purity\\%\n",
      "& 8\\% & 16\\% & 23\\% & 34\\% & 19\\%\n",
      "nuclear_energy\n",
      "& authority\\% & care\\% & fairness\\% & loyalty\\% & purity\\%\n",
      "& 2\\% & 32\\% & 9\\% & 20\\% & 37\\%\n"
     ]
    }
   ],
   "source": [
    "for topic in train_df.topic.unique():\n",
    "    x = train_df[train_df.topic==topic].moral_frame.value_counts().to_dict()\n",
    "    total = sum(x.values())\n",
    "    print(topic)\n",
    "    r = [(k,round(v/total,2)) for k,v in x.items()]\n",
    "    \n",
    "    print('& {}\\% & {}\\% & {}\\% & {}\\% & {}\\%'.format(*[v[0] for v in sorted(r, key=lambda x: x[0])]))\n",
    "    print('& {}\\% & {}\\% & {}\\% & {}\\% & {}\\%'.format(*[int(v[1]*100) for v in sorted(r, key=lambda x: x[0])]))"
   ]
  },
  {
   "cell_type": "code",
   "execution_count": null,
   "metadata": {},
   "outputs": [
    {
     "name": "stdout",
     "output_type": "stream",
     "text": [
      "cloning\n",
      "& authority\\% & care\\% & fairness\\% & loyalty\\% & purity\\%\n",
      "& 25\\% & 20\\% & 13\\% & 24\\% & 17\\%\n",
      "school_uniforms\n",
      "& authority\\% & care\\% & fairness\\% & loyalty\\% & purity\\%\n",
      "& 8\\% & 10\\% & 16\\% & 38\\% & 28\\%\n"
     ]
    }
   ],
   "source": [
    "for topic in test_df.topic.unique():\n",
    "    x = test_df[test_df.topic==topic].moral_frame.value_counts().to_dict()\n",
    "    total = sum(x.values())\n",
    "    print(topic)\n",
    "    r = [(k,round(v/total,2)) for k,v in x.items()]\n",
    "    \n",
    "    print('& {}\\% & {}\\% & {}\\% & {}\\% & {}\\%'.format(*[v[0] for v in sorted(r, key=lambda x: x[0])]))\n",
    "    print('& {}\\% & {}\\% & {}\\% & {}\\% & {}\\%'.format(*[int(v[1]*100) for v in sorted(r, key=lambda x: x[0])]))"
   ]
  },
  {
   "cell_type": "code",
   "execution_count": 14,
   "metadata": {},
   "outputs": [],
   "source": [
    "train_df = train_df[['moral_frame', 'sent']]\n",
    "train_df = train_df.rename(columns={'moral_frame':'label', 'sent': 'full_sentence'})"
   ]
  },
  {
   "cell_type": "code",
   "execution_count": 15,
   "metadata": {},
   "outputs": [],
   "source": [
    "test_df = test_df[['moral_frame', 'sent']]\n",
    "test_df = test_df.rename(columns={'moral_frame':'label', 'sent': 'full_sentence'})"
   ]
  },
  {
   "cell_type": "code",
   "execution_count": 16,
   "metadata": {},
   "outputs": [],
   "source": [
    "import random"
   ]
  },
  {
   "cell_type": "code",
   "execution_count": 17,
   "metadata": {},
   "outputs": [
    {
     "data": {
      "text/plain": [
       "199632"
      ]
     },
     "execution_count": 17,
     "metadata": {},
     "output_type": "execute_result"
    }
   ],
   "source": [
    "len(train_df)"
   ]
  },
  {
   "cell_type": "code",
   "execution_count": null,
   "metadata": {},
   "outputs": [],
   "source": [
    "for i in range(0, 5):\n",
    "    tmp_train_df = train_df.sample(50000, random_state=random.randint(1, 100000))\n",
    "    tmp_train_df.to_csv('/workspace/ceph_data/moral-based-argumentation/bert-emfd-moral-frames/reddit_data/train_data_50k_{}.csv'.format(i), index=False)"
   ]
  },
  {
   "cell_type": "code",
   "execution_count": 18,
   "metadata": {},
   "outputs": [],
   "source": [
    "for i in range(0, 5):\n",
    "    tmp_train_df = train_df.sample(100000, random_state=random.randint(1, 100000))\n",
    "    tmp_train_df.to_csv('/workspace/ceph_data/moral-based-argumentation/bert-emfd-moral-frames/reddit_data/train_data_100k_{}.csv'.format(i), index=False)"
   ]
  },
  {
   "cell_type": "code",
   "execution_count": null,
   "metadata": {},
   "outputs": [
    {
     "data": {
      "text/plain": [
       "199632"
      ]
     },
     "execution_count": 6,
     "metadata": {},
     "output_type": "execute_result"
    }
   ],
   "source": [
    "len(train_df)"
   ]
  },
  {
   "cell_type": "code",
   "execution_count": null,
   "metadata": {},
   "outputs": [],
   "source": [
    "train_df = train_df.sample(50000)"
   ]
  },
  {
   "cell_type": "code",
   "execution_count": 27,
   "metadata": {},
   "outputs": [
    {
     "data": {
      "text/plain": [
       "fairness     41818\n",
       "care         41393\n",
       "authority    40952\n",
       "purity       39137\n",
       "loyalty      36332\n",
       "Name: label, dtype: int64"
      ]
     },
     "execution_count": 27,
     "metadata": {},
     "output_type": "execute_result"
    }
   ],
   "source": [
    "train_df.label.value_counts()"
   ]
  },
  {
   "cell_type": "code",
   "execution_count": 28,
   "metadata": {},
   "outputs": [],
   "source": [
    "train_df.to_csv('/workspace/ceph_data/moral-based-argumentation/bert-emfd-moral-frames/reddit_data/train_data_199k.csv', index=False)"
   ]
  },
  {
   "cell_type": "code",
   "execution_count": 8,
   "metadata": {},
   "outputs": [],
   "source": [
    "test_df = test_df[['moral_frame', 'sent']]\n",
    "test_df = test_df.rename(columns={'moral_frame':'label', 'sent': 'full_sentence'})"
   ]
  },
  {
   "cell_type": "code",
   "execution_count": 9,
   "metadata": {},
   "outputs": [],
   "source": [
    "test_df.sample(1000).to_csv('/workspace/ceph_data/moral-based-argumentation/bert-emfd-moral-frames/reddit_data/test_data.csv', index=False)"
   ]
  },
  {
   "cell_type": "markdown",
   "metadata": {},
   "source": [
    "### Create a sample to manually evaluate:"
   ]
  },
  {
   "cell_type": "code",
   "execution_count": 33,
   "metadata": {},
   "outputs": [],
   "source": [
    "moral_df = train_df.sample(100).copy()\n",
    "moral_df = moral_df.rename(columns={'label':'moral', 'full_sentence': 'claim'})\n",
    "moral_df.to_csv('../../data/sample-of-automatic-moral-tagging.csv')"
   ]
  },
  {
   "cell_type": "code",
   "execution_count": 68,
   "metadata": {},
   "outputs": [],
   "source": [
    "timon_results = pd.read_csv('../../data/manual-evaluations/sample-of-automatic-moral-tagging-timon.csv')\n",
    "milad_results = pd.read_csv('../../data/manual-evaluations/sample-of-automatic-moral-tagging-milad.csv')"
   ]
  },
  {
   "cell_type": "code",
   "execution_count": 69,
   "metadata": {},
   "outputs": [],
   "source": [
    "timon_results = timon_results.fillna('No')\n",
    "timon_results['correct moral'] = timon_results['correct moral'].apply(lambda x: 'Yes' if x=='x' or x=='X' else 'No')"
   ]
  },
  {
   "cell_type": "code",
   "execution_count": 70,
   "metadata": {},
   "outputs": [
    {
     "data": {
      "text/html": [
       "<div>\n",
       "<style scoped>\n",
       "    .dataframe tbody tr th:only-of-type {\n",
       "        vertical-align: middle;\n",
       "    }\n",
       "\n",
       "    .dataframe tbody tr th {\n",
       "        vertical-align: top;\n",
       "    }\n",
       "\n",
       "    .dataframe thead th {\n",
       "        text-align: right;\n",
       "    }\n",
       "</style>\n",
       "<table border=\"1\" class=\"dataframe\">\n",
       "  <thead>\n",
       "    <tr style=\"text-align: right;\">\n",
       "      <th></th>\n",
       "      <th>Unnamed: 0</th>\n",
       "      <th>moral</th>\n",
       "      <th>claim</th>\n",
       "      <th>correct moral</th>\n",
       "    </tr>\n",
       "  </thead>\n",
       "  <tbody>\n",
       "    <tr>\n",
       "      <th>0</th>\n",
       "      <td>7872</td>\n",
       "      <td>authority</td>\n",
       "      <td>Gun control , in the US does not work .</td>\n",
       "      <td>Yes</td>\n",
       "    </tr>\n",
       "    <tr>\n",
       "      <th>1</th>\n",
       "      <td>207273</td>\n",
       "      <td>purity</td>\n",
       "      <td>Which is why people working in the Maquiladoras make 1/6 US minimum wage and it 's a decent wage down there .</td>\n",
       "      <td>No</td>\n",
       "    </tr>\n",
       "    <tr>\n",
       "      <th>2</th>\n",
       "      <td>95624</td>\n",
       "      <td>fairness</td>\n",
       "      <td>Solar is absolutely , POSITIVELY a constant source of energy .</td>\n",
       "      <td>No</td>\n",
       "    </tr>\n",
       "    <tr>\n",
       "      <th>3</th>\n",
       "      <td>13776</td>\n",
       "      <td>authority</td>\n",
       "      <td>The laws against cannabis are bad for this country , not least because they inspire contempt for law enforcement and for the government in general .</td>\n",
       "      <td>Yes</td>\n",
       "    </tr>\n",
       "    <tr>\n",
       "      <th>4</th>\n",
       "      <td>114083</td>\n",
       "      <td>fairness</td>\n",
       "      <td>Geo thermal and nuclear hold our key at any chance of moving beyond earth at any reasonable scale .</td>\n",
       "      <td>No</td>\n",
       "    </tr>\n",
       "  </tbody>\n",
       "</table>\n",
       "</div>"
      ],
      "text/plain": [
       "   Unnamed: 0      moral  \\\n",
       "0        7872  authority   \n",
       "1      207273     purity   \n",
       "2       95624   fairness   \n",
       "3       13776  authority   \n",
       "4      114083   fairness   \n",
       "\n",
       "                                                                                                                                                  claim  \\\n",
       "0                                                                                                               Gun control , in the US does not work .   \n",
       "1                                         Which is why people working in the Maquiladoras make 1/6 US minimum wage and it 's a decent wage down there .   \n",
       "2                                                                                        Solar is absolutely , POSITIVELY a constant source of energy .   \n",
       "3  The laws against cannabis are bad for this country , not least because they inspire contempt for law enforcement and for the government in general .   \n",
       "4                                                   Geo thermal and nuclear hold our key at any chance of moving beyond earth at any reasonable scale .   \n",
       "\n",
       "  correct moral  \n",
       "0           Yes  \n",
       "1            No  \n",
       "2            No  \n",
       "3           Yes  \n",
       "4            No  "
      ]
     },
     "execution_count": 70,
     "metadata": {},
     "output_type": "execute_result"
    }
   ],
   "source": [
    "timon_results.head()"
   ]
  },
  {
   "cell_type": "code",
   "execution_count": 71,
   "metadata": {},
   "outputs": [
    {
     "data": {
      "text/html": [
       "<div>\n",
       "<style scoped>\n",
       "    .dataframe tbody tr th:only-of-type {\n",
       "        vertical-align: middle;\n",
       "    }\n",
       "\n",
       "    .dataframe tbody tr th {\n",
       "        vertical-align: top;\n",
       "    }\n",
       "\n",
       "    .dataframe thead th {\n",
       "        text-align: right;\n",
       "    }\n",
       "</style>\n",
       "<table border=\"1\" class=\"dataframe\">\n",
       "  <thead>\n",
       "    <tr style=\"text-align: right;\">\n",
       "      <th></th>\n",
       "      <th>Unnamed: 0</th>\n",
       "      <th>moral</th>\n",
       "      <th>claim</th>\n",
       "      <th>correct moral</th>\n",
       "    </tr>\n",
       "  </thead>\n",
       "  <tbody>\n",
       "    <tr>\n",
       "      <th>0</th>\n",
       "      <td>7872</td>\n",
       "      <td>authority</td>\n",
       "      <td>Gun control , in the US does not work .</td>\n",
       "      <td>Yes</td>\n",
       "    </tr>\n",
       "    <tr>\n",
       "      <th>1</th>\n",
       "      <td>207273</td>\n",
       "      <td>purity</td>\n",
       "      <td>Which is why people working in the Maquiladoras make 1/6 US minimum wage and it 's a decent wage down there .</td>\n",
       "      <td>Yes</td>\n",
       "    </tr>\n",
       "    <tr>\n",
       "      <th>2</th>\n",
       "      <td>95624</td>\n",
       "      <td>fairness</td>\n",
       "      <td>Solar is absolutely , POSITIVELY a constant source of energy .</td>\n",
       "      <td>No</td>\n",
       "    </tr>\n",
       "    <tr>\n",
       "      <th>3</th>\n",
       "      <td>13776</td>\n",
       "      <td>authority</td>\n",
       "      <td>The laws against cannabis are bad for this country , not least because they inspire contempt for law enforcement and for the government in general .</td>\n",
       "      <td>Yes</td>\n",
       "    </tr>\n",
       "    <tr>\n",
       "      <th>4</th>\n",
       "      <td>114083</td>\n",
       "      <td>fairness</td>\n",
       "      <td>Geo thermal and nuclear hold our key at any chance of moving beyond earth at any reasonable scale .</td>\n",
       "      <td>Yes</td>\n",
       "    </tr>\n",
       "  </tbody>\n",
       "</table>\n",
       "</div>"
      ],
      "text/plain": [
       "   Unnamed: 0      moral  \\\n",
       "0        7872  authority   \n",
       "1      207273     purity   \n",
       "2       95624   fairness   \n",
       "3       13776  authority   \n",
       "4      114083   fairness   \n",
       "\n",
       "                                                                                                                                                  claim  \\\n",
       "0                                                                                                               Gun control , in the US does not work .   \n",
       "1                                         Which is why people working in the Maquiladoras make 1/6 US minimum wage and it 's a decent wage down there .   \n",
       "2                                                                                        Solar is absolutely , POSITIVELY a constant source of energy .   \n",
       "3  The laws against cannabis are bad for this country , not least because they inspire contempt for law enforcement and for the government in general .   \n",
       "4                                                   Geo thermal and nuclear hold our key at any chance of moving beyond earth at any reasonable scale .   \n",
       "\n",
       "  correct moral  \n",
       "0           Yes  \n",
       "1           Yes  \n",
       "2            No  \n",
       "3           Yes  \n",
       "4           Yes  "
      ]
     },
     "execution_count": 71,
     "metadata": {},
     "output_type": "execute_result"
    }
   ],
   "source": [
    "milad_results.head()"
   ]
  },
  {
   "cell_type": "code",
   "execution_count": 72,
   "metadata": {},
   "outputs": [
    {
     "data": {
      "text/plain": [
       "Yes    73\n",
       "No     27\n",
       "Name: correct moral, dtype: int64"
      ]
     },
     "execution_count": 72,
     "metadata": {},
     "output_type": "execute_result"
    }
   ],
   "source": [
    "milad_results['correct moral'].value_counts()"
   ]
  },
  {
   "cell_type": "code",
   "execution_count": 73,
   "metadata": {},
   "outputs": [
    {
     "data": {
      "text/plain": [
       "No     54\n",
       "Yes    46\n",
       "Name: correct moral, dtype: int64"
      ]
     },
     "execution_count": 73,
     "metadata": {},
     "output_type": "execute_result"
    }
   ],
   "source": [
    "timon_results['correct moral'].value_counts()"
   ]
  },
  {
   "cell_type": "code",
   "execution_count": 74,
   "metadata": {},
   "outputs": [],
   "source": [
    "milad_results['timon_scores'] = timon_results['correct moral'].tolist()"
   ]
  },
  {
   "cell_type": "code",
   "execution_count": 75,
   "metadata": {},
   "outputs": [],
   "source": [
    "milad_results['and_scores'] = milad_results.apply(lambda row: 1 if row['timon_scores'] == 'Yes' and row['correct moral'] == 'Yes' else 0, axis=1)\n",
    "milad_results['or_scores'] = milad_results.apply(lambda row: 1 if row['timon_scores'] == 'Yes' or row['correct moral'] == 'Yes' else 0, axis=1)"
   ]
  },
  {
   "cell_type": "code",
   "execution_count": 78,
   "metadata": {},
   "outputs": [
    {
     "data": {
      "text/plain": [
       "0    58\n",
       "1    42\n",
       "Name: and_scores, dtype: int64"
      ]
     },
     "execution_count": 78,
     "metadata": {},
     "output_type": "execute_result"
    }
   ],
   "source": [
    "milad_results['and_scores'].value_counts()"
   ]
  },
  {
   "cell_type": "code",
   "execution_count": 77,
   "metadata": {},
   "outputs": [
    {
     "data": {
      "text/plain": [
       "1    77\n",
       "0    23\n",
       "Name: or_scores, dtype: int64"
      ]
     },
     "execution_count": 77,
     "metadata": {},
     "output_type": "execute_result"
    }
   ],
   "source": [
    "milad_results['or_scores'].value_counts()"
   ]
  },
  {
   "cell_type": "code",
   "execution_count": 57,
   "metadata": {},
   "outputs": [],
   "source": [
    "from sklearn.metrics import cohen_kappa_score"
   ]
  },
  {
   "cell_type": "code",
   "execution_count": 58,
   "metadata": {},
   "outputs": [
    {
     "data": {
      "text/plain": [
       "0.32484567901234573"
      ]
     },
     "execution_count": 58,
     "metadata": {},
     "output_type": "execute_result"
    }
   ],
   "source": [
    "cohen_kappa_score(timon_results['correct moral'].tolist(), milad_results['correct moral'].tolist())"
   ]
  },
  {
   "cell_type": "markdown",
   "metadata": {},
   "source": [
    "---------"
   ]
  },
  {
   "cell_type": "markdown",
   "metadata": {},
   "source": [
    "### Training:"
   ]
  },
  {
   "cell_type": "code",
   "execution_count": 24,
   "metadata": {},
   "outputs": [
    {
     "name": "stdout",
     "output_type": "stream",
     "text": [
      "Traceback (most recent call last):\n",
      "  File \"/workspace/ceph_data/moral-based-argumentation/repos/transformers/examples/text-classification/run_mfd.py\", line 26, in <module>\n",
      "    from transformers.trainer_utils import get_last_checkpoint, is_main_process\n",
      "ImportError: cannot import name 'get_last_checkpoint'\n"
     ]
    }
   ],
   "source": [
    "!export CUDA_VISIBLE_DEVICES=3\n",
    "!python3 /workspace/ceph_data/moral-based-argumentation/repos/transformers/examples/text-classification/run_mfd.py \\\n",
    "  --model_name_or_path bert-base-cased \\\n",
    "  --do_train \\\n",
    "  --do_eval \\\n",
    "  --max_seq_length 128 \\\n",
    "  --per_device_train_batch_size 16 \\\n",
    "  --learning_rate 3e-5 \\\n",
    "  --num_train_epochs 3 \\\n",
    "  --overwrite_output_dir \\\n",
    "  --output_dir /workspace/ceph_data/moral-based-argumentation/bert-emfd-moral-frames/aspects_model \\\n",
    "  --train_file /workspace/ceph_data/moral-based-argumentation/bert-emfd-moral-frames/train_aspects.csv \\\n",
    "  --validation_file /workspace/ceph_data/moral-based-argumentation/bert-emfd-moral-frames/val_aspects.csv\n",
    "  #--test_file /workspace/ceph_data/moral-based-argumentation/bert-emfd/test.csv\n",
    "  #--max_steps 5 \\"
   ]
  },
  {
   "cell_type": "code",
   "execution_count": null,
   "metadata": {},
   "outputs": [],
   "source": [
    "export CUDA_VISIBLE_DEVICES=7\n",
    "python /workspace/ceph_data/moral-based-argumentation/repos/transformers/examples/text-classification/run_mfd.py \\\n",
    "  --model_name_or_path /workspace/ceph_data/moral-based-argumentation/bert-emfd-moral-frames/aspects_model \\\n",
    "  --do_eval \\\n",
    "  --max_seq_length 128 \\\n",
    "  --per_device_train_batch_size 32 \\\n",
    "  --learning_rate 3e-5 \\\n",
    "  --num_train_epochs 3 \\\n",
    "  --overwrite_output_dir \\\n",
    "  --output_dir /workspace/ceph_data/moral-based-argumentation/bert-emfd-moral-frames/tmp \\\n",
    "  --train_file /workspace/ceph_data/moral-based-argumentation/dagstuhl_morality/test_data.csv \\\n",
    "  --validation_file /workspace/ceph_data/moral-based-argumentation/dagstuhl_morality/test_data.csv"
   ]
  },
  {
   "cell_type": "code",
   "execution_count": null,
   "metadata": {},
   "outputs": [],
   "source": []
  },
  {
   "cell_type": "code",
   "execution_count": null,
   "metadata": {},
   "outputs": [],
   "source": [
    "export CUDA_VISIBLE_DEVICES=3\n",
    "python3 /workspace/ceph_data/moral-based-argumentation/repos/transformers/examples/text-classification/run_mfd.py \\\n",
    "  --model_name_or_path bert-base-cased \\\n",
    "  --do_train \\\n",
    "  --do_eval \\\n",
    "  --max_seq_length 128 \\\n",
    "  --per_device_train_batch_size 16 \\\n",
    "  --learning_rate 3e-5 \\\n",
    "  --num_train_epochs 3 \\\n",
    "  --overwrite_output_dir \\\n",
    "  --output_dir /workspace/ceph_data/moral-based-argumentation/bert-emfd-moral-frames/reddit_model_0 \\\n",
    "  --train_file /workspace/ceph_data/moral-based-argumentation/bert-emfd-moral-frames/reddit_data/train_data_50k_0.csv \\\n",
    "  --validation_file /workspace/ceph_data/moral-based-argumentation/bert-emfd-moral-frames/reddit_data/test_data_1k_0.csv\n",
    "  #--test_file /workspace/ceph_data/moral-based-argumentation/bert-emfd/test.csv\n",
    "  #--max_steps 5 \\"
   ]
  },
  {
   "cell_type": "code",
   "execution_count": null,
   "metadata": {},
   "outputs": [],
   "source": [
    "export CUDA_VISIBLE_DEVICES=4\n",
    "python3 /workspace/ceph_data/moral-based-argumentation/repos/transformers/examples/text-classification/run_mfd.py \\\n",
    "  --model_name_or_path bert-base-cased \\\n",
    "  --do_train \\\n",
    "  --do_eval \\\n",
    "  --max_seq_length 128 \\\n",
    "  --per_device_train_batch_size 16 \\\n",
    "  --learning_rate 3e-5 \\\n",
    "  --num_train_epochs 3 \\\n",
    "  --overwrite_output_dir \\\n",
    "  --output_dir /workspace/ceph_data/moral-based-argumentation/bert-emfd-moral-frames/reddit_model_1 \\\n",
    "  --train_file /workspace/ceph_data/moral-based-argumentation/bert-emfd-moral-frames/reddit_data/train_data_50k_1.csv \\\n",
    "  --validation_file /workspace/ceph_data/moral-based-argumentation/bert-emfd-moral-frames/reddit_data/test_data_1k_1.csv\n",
    "  #--test_file /workspace/ceph_data/moral-based-argumentation/bert-emfd/test.csv\n",
    "  #--max_steps 5 \\"
   ]
  },
  {
   "cell_type": "code",
   "execution_count": null,
   "metadata": {},
   "outputs": [],
   "source": [
    "export CUDA_VISIBLE_DEVICES=5\n",
    "python3 /workspace/ceph_data/moral-based-argumentation/repos/transformers/examples/text-classification/run_mfd.py \\\n",
    "  --model_name_or_path bert-base-cased \\\n",
    "  --do_train \\\n",
    "  --do_eval \\\n",
    "  --max_seq_length 128 \\\n",
    "  --per_device_train_batch_size 16 \\\n",
    "  --learning_rate 3e-5 \\\n",
    "  --num_train_epochs 3 \\\n",
    "  --overwrite_output_dir \\\n",
    "  --output_dir /workspace/ceph_data/moral-based-argumentation/bert-emfd-moral-frames/reddit_model_2 \\\n",
    "  --train_file /workspace/ceph_data/moral-based-argumentation/bert-emfd-moral-frames/reddit_data/train_data_50k_2.csv \\\n",
    "  --validation_file /workspace/ceph_data/moral-based-argumentation/bert-emfd-moral-frames/reddit_data/test_data_1k_2.csv\n",
    "  #--test_file /workspace/ceph_data/moral-based-argumentation/bert-emfd/test.csv\n",
    "  #--max_steps 5 \\"
   ]
  },
  {
   "cell_type": "code",
   "execution_count": null,
   "metadata": {},
   "outputs": [],
   "source": [
    "export CUDA_VISIBLE_DEVICES=6\n",
    "python3 /workspace/ceph_data/moral-based-argumentation/repos/transformers/examples/text-classification/run_mfd.py \\\n",
    "  --model_name_or_path bert-base-cased \\\n",
    "  --do_train \\\n",
    "  --do_eval \\\n",
    "  --max_seq_length 128 \\\n",
    "  --per_device_train_batch_size 16 \\\n",
    "  --learning_rate 3e-5 \\\n",
    "  --num_train_epochs 3 \\\n",
    "  --overwrite_output_dir \\\n",
    "  --output_dir /workspace/ceph_data/moral-based-argumentation/bert-emfd-moral-frames/reddit_model_3 \\\n",
    "  --train_file /workspace/ceph_data/moral-based-argumentation/bert-emfd-moral-frames/reddit_data/train_data_50k_3.csv \\\n",
    "  --validation_file /workspace/ceph_data/moral-based-argumentation/bert-emfd-moral-frames/reddit_data/test_data_1k_3.csv\n",
    "  #--test_file /workspace/ceph_data/moral-based-argumentation/bert-emfd/test.csv\n",
    "  #--max_steps 5 \\"
   ]
  },
  {
   "cell_type": "code",
   "execution_count": null,
   "metadata": {},
   "outputs": [],
   "source": [
    "export CUDA_VISIBLE_DEVICES=0\n",
    "python3 /workspace/ceph_data/moral-based-argumentation/repos/transformers/examples/text-classification/run_mfd.py \\\n",
    "  --model_name_or_path bert-base-cased \\\n",
    "  --do_train \\\n",
    "  --do_eval \\\n",
    "  --max_seq_length 128 \\\n",
    "  --per_device_train_batch_size 16 \\\n",
    "  --learning_rate 3e-5 \\\n",
    "  --num_train_epochs 3 \\\n",
    "  --overwrite_output_dir \\\n",
    "  --output_dir /workspace/ceph_data/moral-based-argumentation/bert-emfd-moral-frames/reddit_model_4 \\\n",
    "  --train_file /workspace/ceph_data/moral-based-argumentation/bert-emfd-moral-frames/reddit_data/train_data_50k_4.csv \\\n",
    "  --validation_file /workspace/ceph_data/moral-based-argumentation/bert-emfd-moral-frames/reddit_data/test_data_1k_4.csv\n",
    "  #--test_file /workspace/ceph_data/moral-based-argumentation/bert-emfd/test.csv\n",
    "  #--max_steps 5 \\"
   ]
  }
 ],
 "metadata": {
  "kernelspec": {
   "display_name": "Python 3",
   "language": "python",
   "name": "python3"
  },
  "language_info": {
   "codemirror_mode": {
    "name": "ipython",
    "version": 3
   },
   "file_extension": ".py",
   "mimetype": "text/x-python",
   "name": "python",
   "nbconvert_exporter": "python",
   "pygments_lexer": "ipython3",
   "version": "3.6.9"
  }
 },
 "nbformat": 4,
 "nbformat_minor": 4
}
